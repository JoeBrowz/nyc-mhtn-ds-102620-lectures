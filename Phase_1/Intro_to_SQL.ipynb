{
 "cells": [
  {
   "cell_type": "markdown",
   "metadata": {},
   "source": [
    "# Introduction to Database - SQL\n",
    "\n",
    "_November 2, 2020_\n",
    "\n",
    "Agenda today:\n",
    "- Overview of databases\n",
    "- Discuss Differences between SQL DBs\n",
    "- Explain the basic structures of a RDBMS\n",
    "- Instantiate SQLite DB instance on your computer & perform queries\n",
    "\n",
    "Learning Goals:\n",
    "- Explain the motivations and usage of different databases\n",
    "- Create a sqlite instance and perform different queries:\n",
    "    - Selecting\n",
    "    - Filtering & Ordering\n",
    "    - Grouping\n",
    "    - Join"
   ]
  },
  {
   "cell_type": "markdown",
   "metadata": {},
   "source": [
    "<img src=\"https://media.giphy.com/media/vzO0Vc8b2VBLi/giphy.gif\" width = 300;>"
   ]
  },
  {
   "cell_type": "code",
   "execution_count": 1,
   "metadata": {},
   "outputs": [],
   "source": [
    "import pandas as pd\n",
    "import numpy as np\n",
    "import sqlite3"
   ]
  },
  {
   "cell_type": "markdown",
   "metadata": {},
   "source": [
    "## Part I. Overview of Database\n",
    "\n",
    "### What is a Database?\n",
    "- In general, databases store sets of data that can be queried for use in other applications. A database management system supports the development, administration and use of database platforms."
   ]
  },
  {
   "cell_type": "markdown",
   "metadata": {},
   "source": [
    "### What is a Relational Database? \n",
    "- An relational database management system (RDBMS) is a type of DBMS with a row-based table structure that connects related data elements and includes functions that maintain the security, accuracy, integrity and consistency of the data.\n",
    "- The most basic RDBMS functions are related to create, read, update and delete operations, collectively known as CRUD."
   ]
  },
  {
   "cell_type": "markdown",
   "metadata": {},
   "source": [
    "### What is SQL?\n",
    "\n",
    "- SQL (usually pronounced like the word “sequel”) stands for Structured Query Language.\n",
    "- A programming language used to communicate with data stored in a relational database management system.\n",
    "- SQL syntax is similar to the English language, which makes it relatively easy to write, read, and interpret."
   ]
  },
  {
   "cell_type": "markdown",
   "metadata": {},
   "source": [
    "## Part II. POPULAR RDBMS\n",
    "\n",
    "- SQLite\n",
    "- MySQL\n",
    "- PostgreSql\n",
    "- Oracle DB\n",
    "- SQL Server"
   ]
  },
  {
   "cell_type": "markdown",
   "metadata": {},
   "source": [
    "### SQLite\n",
    "\n",
    "- SQLite is a popular open source SQL database. \n",
    "- It can store an entire database in a single file.\n",
    "- It is 'lite' because it is not server based.\n",
    "- Does not have many features of server-based RDBMS like users and permissions.\n",
    "- Great to get up and running quick, not good for complex projects.\n",
    "\n",
    "### MySQL\n",
    "\n",
    "- MySQL is the most popular open source SQL database. \n",
    "- It is typically used for web application development, and often accessed using PHP. \n",
    "- It is easy to use, inexpensive, reliable and has a large community of developers who can help answer questions.\n",
    "- Open source development has lagged since Oracle has taken control of MySQL.\n",
    "- Has been known to suffer from poor performance when scaling, \n",
    "- Does not include some advanced features that developers may be used to.\n",
    "\n",
    "### PostgreSQL\n",
    "\n",
    "- PostgreSQL is an open-source SQL database that is not controlled by any corporation.\n",
    "- PostgreSQL shares many of the same advantages of MySQL.\n",
    "- It is slower in performance than other databases such as MySQL\n",
    "- Harder to come by hosts or service providers that offer managed PostgreSQL instances. \n",
    "\n",
    "### Oracle DB\n",
    "\n",
    "- Owned by Oracle Corporation, and the code is not open sourced. \n",
    "- Oracle DB is for large applications, particularly in the banking industry. \n",
    "- The main disadvantage of using Oracle is that it is not free.\n",
    "\n",
    "### SQL Server\n",
    "\n",
    "- Microsoft owns SQL Server. \n",
    "- Large enterprise applications mostly use SQL Server.\n",
    "- Microsoft offers a free entry-level version called Express but can become very expensive as you scale your application. "
   ]
  },
  {
   "cell_type": "markdown",
   "metadata": {},
   "source": [
    "## Part III. Structures of RDBMS\n",
    "- Tables\n",
    "- Indexes\n",
    "- Triggers\n",
    "\n",
    "#### Tables\n",
    "Tables are used to store data within the database.  They are its main component and without them, the database would serve little purpose. \n",
    "\n",
    "- Tables can have hundreds, thousands, sometimes even millions of rows of data. These rows are often called **records**.\n",
    "- The consists of **columns** of data that are labeled with a descriptive name (say, age for example) and have a specific data type.\n",
    "\n",
    "### Indexes\n",
    "Indexes are used to make data retrieval faster. Rather than having to scan an entire table for data, an index allows the database to, essentially, directly retrieve the data being asked of it.\n",
    "\n",
    "Indexes are primariy created using using a **Primary Key**.\n",
    "A primary key’s main features are:\n",
    "\n",
    "- It must contain a unique value for each row of data.\n",
    "- It cannot contain null values.\n",
    "\n",
    "A primary key is either an existing table column or a column that is specifically generated by the database according to a defined sequence.\n",
    "\n",
    "**Question for You**\n",
    "\n",
    "If you were a tax accountant and you wanted to create a database of your clients, which of the following columns who be a good choice for your primary key?\n",
    "\n",
    "- First Name\n",
    "- Last Name\n",
    "- Email Address\n",
    "- SSN\n",
    "- Phone Number\n",
    "\n",
    "### Triggers\n",
    "\n",
    "Triggers are special instructions that are executed when important events, such as inserting or updating records in a table happen. The most common triggers are Insert, Update, and Delete triggers.  \n",
    "\n",
    "Two items define a trigger on a table: a stored procedure and an event, such as inserting a record that invokes its execution."
   ]
  },
  {
   "cell_type": "markdown",
   "metadata": {},
   "source": [
    "## Part IV. Working with SQLite in Python\n",
    "\n",
    "SQLite comes standard with Python so all you need to do to get it set up is write:\n",
    "\n",
    "`import sqlite3`\n",
    "\n",
    "### Creating a Connection\n",
    "\n",
    "Before you can do anything with your DB, you must first create a connection with it. For DBs that are server based, this can be more coplicated requiring you to know the server ip, a username, password database name, and port. \n",
    "``` python \n",
    "import sqlite3\n",
    "conn = sqlite3.connect(host=host, user=user, passwd=passwd, db=db)\n",
    "```"
   ]
  },
  {
   "cell_type": "code",
   "execution_count": 2,
   "metadata": {},
   "outputs": [],
   "source": [
    "## instantiate a sql instance on your local computer \n",
    "import sqlite3\n",
    "\n",
    "# we then need to establish a connection object that represent the database\n",
    "conn = sqlite3.connect('aggregate.db')\n",
    "\n",
    "# we then create a cursor that allow us to interact with, and create sql commands\n",
    "c = conn.cursor()"
   ]
  },
  {
   "source": [],
   "cell_type": "code",
   "metadata": {},
   "execution_count": null,
   "outputs": []
  },
  {
   "cell_type": "markdown",
   "metadata": {},
   "source": [
    "#### Selecting \n",
    "\n",
    "Syntax:\n",
    "\n",
    "`SELECT * From table`"
   ]
  },
  {
   "cell_type": "code",
   "execution_count": 3,
   "metadata": {},
   "outputs": [
    {
<<<<<<< HEAD
     "output_type": "error",
     "ename": "OperationalError",
     "evalue": "table students already exists",
     "traceback": [
      "\u001b[0;31m---------------------------------------------------------------------------\u001b[0m",
      "\u001b[0;31mOperationalError\u001b[0m                          Traceback (most recent call last)",
      "\u001b[0;32m<ipython-input-3-3a0c882bebf9>\u001b[0m in \u001b[0;36m<module>\u001b[0;34m()\u001b[0m\n\u001b[1;32m      5\u001b[0m             \u001b[0mnum_siblings\u001b[0m \u001b[0minteger\u001b[0m\u001b[0;34m\u001b[0m\u001b[0;34m\u001b[0m\u001b[0m\n\u001b[1;32m      6\u001b[0m             )\"\"\"\n\u001b[0;32m----> 7\u001b[0;31m \u001b[0mc\u001b[0m\u001b[0;34m.\u001b[0m\u001b[0mexecute\u001b[0m\u001b[0;34m(\u001b[0m\u001b[0mquery\u001b[0m\u001b[0;34m)\u001b[0m\u001b[0;34m\u001b[0m\u001b[0;34m\u001b[0m\u001b[0m\n\u001b[0m",
      "\u001b[0;31mOperationalError\u001b[0m: table students already exists"
     ]
=======
     "data": {
      "text/plain": [
       "<sqlite3.Cursor at 0x121644180>"
      ]
     },
     "execution_count": 3,
     "metadata": {},
     "output_type": "execute_result"
>>>>>>> 2f18721ecc239a4bc4f0fa19679e20778171bf98
    }
   ],
   "source": [
    "# to execute a command use c.execute(query)\n",
    "query = \"\"\"CREATE TABLE students (\n",
    "            first_name text,\n",
    "            birth_date text,\n",
    "            num_siblings integer\n",
    "            )\"\"\"\n",
    "c.execute(query)"
   ]
  },
  {
   "cell_type": "code",
   "execution_count": 4,
   "metadata": {},
   "outputs": [],
   "source": [
    "# insert some values into it \n",
    "query = \"\"\"INSERT INTO students VALUES('Justin','02-21',2)\"\"\"\n",
    "c.execute(query)\n",
    "conn.commit()\n"
   ]
  },
  {
   "cell_type": "code",
   "execution_count": 5,
   "metadata": {},
   "outputs": [],
   "source": [
    "# write a query that insert your information into it - student 1\n",
    "query = \"\"\"INSERT INTO students VALUES('Joe','10-31',2)\"\"\"\n",
    "c.execute(query)\n",
    "conn.commit()"
   ]
  },
  {
   "cell_type": "code",
   "execution_count": 6,
   "metadata": {},
   "outputs": [],
   "source": [
    "# write a query that insert your information into it - student 2\n",
    "query = \"\"\"INSERT INTO students VALUES('Alan','11-18',1)\"\"\"\n",
    "c.execute(query)\n",
    "conn.commit()"
   ]
  },
  {
   "cell_type": "code",
   "execution_count": 7,
   "metadata": {},
   "outputs": [
    {
     "output_type": "error",
     "ename": "OperationalError",
     "evalue": "near \")\": syntax error",
     "traceback": [
      "\u001b[0;31m---------------------------------------------------------------------------\u001b[0m",
      "\u001b[0;31mOperationalError\u001b[0m                          Traceback (most recent call last)",
      "\u001b[0;32m<ipython-input-7-5b721c204ffc>\u001b[0m in \u001b[0;36m<module>\u001b[0;34m()\u001b[0m\n\u001b[1;32m      1\u001b[0m \u001b[0;31m# write a query that insert your information into it - student 3\u001b[0m\u001b[0;34m\u001b[0m\u001b[0;34m\u001b[0m\u001b[0;34m\u001b[0m\u001b[0m\n\u001b[1;32m      2\u001b[0m \u001b[0mquery\u001b[0m \u001b[0;34m=\u001b[0m \u001b[0;34m\"\"\"INSERT INTO students VALUES('','',)\"\"\"\u001b[0m\u001b[0;34m\u001b[0m\u001b[0;34m\u001b[0m\u001b[0m\n\u001b[0;32m----> 3\u001b[0;31m \u001b[0mc\u001b[0m\u001b[0;34m.\u001b[0m\u001b[0mexecute\u001b[0m\u001b[0;34m(\u001b[0m\u001b[0mquery\u001b[0m\u001b[0;34m)\u001b[0m\u001b[0;34m\u001b[0m\u001b[0;34m\u001b[0m\u001b[0m\n\u001b[0m\u001b[1;32m      4\u001b[0m \u001b[0mconn\u001b[0m\u001b[0;34m.\u001b[0m\u001b[0mcommit\u001b[0m\u001b[0;34m(\u001b[0m\u001b[0;34m)\u001b[0m\u001b[0;34m\u001b[0m\u001b[0;34m\u001b[0m\u001b[0m\n",
      "\u001b[0;31mOperationalError\u001b[0m: near \")\": syntax error"
     ]
    }
   ],
   "source": [
    "# write a query that insert your information into it - student 3\n",
    "query = \"\"\"INSERT INTO students VALUES('','',)\"\"\"\n",
    "c.execute(query)\n",
    "conn.commit()"
   ]
  },
  {
   "cell_type": "code",
   "execution_count": 8,
   "metadata": {},
   "outputs": [
    {
     "output_type": "execute_result",
     "data": {
      "text/plain": [
       "'\\nfor student in student_info:\\n c.execute(\"\"\"insert into __ Values())\\n conn.commit()\\n'"
      ]
     },
     "metadata": {},
     "execution_count": 8
    }
   ],
   "source": [
    "### optional level up - write a loop that dynamically put a dictionary or a list into the table in db\n",
    "student_info = {\"first_name\":['','','',''],\n",
    "               \"birth_date\":[],\n",
    "               \"num_siblings\":[]}\n",
    "\n",
    "# pseudocode - \n",
    "'''\n",
    "for student in student_info:\n",
    " c.execute(\"\"\"insert into __ Values())\n",
    " conn.commit()\n",
    "'''"
   ]
  },
  {
   "cell_type": "code",
<<<<<<< HEAD
   "execution_count": 3,
=======
   "execution_count": 7,
>>>>>>> 2f18721ecc239a4bc4f0fa19679e20778171bf98
   "metadata": {
    "scrolled": true
   },
   "outputs": [
    {
<<<<<<< HEAD
     "output_type": "execute_result",
=======
>>>>>>> 2f18721ecc239a4bc4f0fa19679e20778171bf98
     "data": {
      "text/plain": [
       "[('Justin', '02-21', 2), ('Joe', '10-31', 2), ('Alan', '11-18', 1)]"
      ]
     },
<<<<<<< HEAD
     "metadata": {},
     "execution_count": 3
=======
     "execution_count": 7,
     "metadata": {},
     "output_type": "execute_result"
>>>>>>> 2f18721ecc239a4bc4f0fa19679e20778171bf98
    }
   ],
   "source": [
    "# selecting all students info from student table\n",
    "query = \"\"\"SELECT * FROM students\"\"\"\n",
    "\n",
    "c.execute(query).fetchall()\n",
    "\n",
    "# fetchall"
   ]
  },
  {
   "cell_type": "code",
<<<<<<< HEAD
   "execution_count": 4,
=======
   "execution_count": 8,
>>>>>>> 2f18721ecc239a4bc4f0fa19679e20778171bf98
   "metadata": {
    "scrolled": true
   },
   "outputs": [
    {
<<<<<<< HEAD
     "output_type": "execute_result",
     "data": {
=======
     "data": {
      "text/html": [
       "<div>\n",
       "<style scoped>\n",
       "    .dataframe tbody tr th:only-of-type {\n",
       "        vertical-align: middle;\n",
       "    }\n",
       "\n",
       "    .dataframe tbody tr th {\n",
       "        vertical-align: top;\n",
       "    }\n",
       "\n",
       "    .dataframe thead th {\n",
       "        text-align: right;\n",
       "    }\n",
       "</style>\n",
       "<table border=\"1\" class=\"dataframe\">\n",
       "  <thead>\n",
       "    <tr style=\"text-align: right;\">\n",
       "      <th></th>\n",
       "      <th>mpg</th>\n",
       "      <th>cylinders</th>\n",
       "      <th>displacement</th>\n",
       "      <th>horsepower</th>\n",
       "      <th>weight</th>\n",
       "      <th>acceleration</th>\n",
       "      <th>model year</th>\n",
       "      <th>origin</th>\n",
       "      <th>car name</th>\n",
       "    </tr>\n",
       "  </thead>\n",
       "  <tbody>\n",
       "    <tr>\n",
       "      <th>0</th>\n",
       "      <td>18.0</td>\n",
       "      <td>8</td>\n",
       "      <td>307.0</td>\n",
       "      <td>130</td>\n",
       "      <td>3504</td>\n",
       "      <td>12.0</td>\n",
       "      <td>70</td>\n",
       "      <td>1</td>\n",
       "      <td>chevrolet chevelle malibu</td>\n",
       "    </tr>\n",
       "    <tr>\n",
       "      <th>1</th>\n",
       "      <td>15.0</td>\n",
       "      <td>8</td>\n",
       "      <td>350.0</td>\n",
       "      <td>165</td>\n",
       "      <td>3693</td>\n",
       "      <td>11.5</td>\n",
       "      <td>70</td>\n",
       "      <td>1</td>\n",
       "      <td>buick skylark 320</td>\n",
       "    </tr>\n",
       "    <tr>\n",
       "      <th>2</th>\n",
       "      <td>18.0</td>\n",
       "      <td>8</td>\n",
       "      <td>318.0</td>\n",
       "      <td>150</td>\n",
       "      <td>3436</td>\n",
       "      <td>11.0</td>\n",
       "      <td>70</td>\n",
       "      <td>1</td>\n",
       "      <td>plymouth satellite</td>\n",
       "    </tr>\n",
       "    <tr>\n",
       "      <th>3</th>\n",
       "      <td>16.0</td>\n",
       "      <td>8</td>\n",
       "      <td>304.0</td>\n",
       "      <td>150</td>\n",
       "      <td>3433</td>\n",
       "      <td>12.0</td>\n",
       "      <td>70</td>\n",
       "      <td>1</td>\n",
       "      <td>amc rebel sst</td>\n",
       "    </tr>\n",
       "    <tr>\n",
       "      <th>4</th>\n",
       "      <td>17.0</td>\n",
       "      <td>8</td>\n",
       "      <td>302.0</td>\n",
       "      <td>140</td>\n",
       "      <td>3449</td>\n",
       "      <td>10.5</td>\n",
       "      <td>70</td>\n",
       "      <td>1</td>\n",
       "      <td>ford torino</td>\n",
       "    </tr>\n",
       "  </tbody>\n",
       "</table>\n",
       "</div>"
      ],
>>>>>>> 2f18721ecc239a4bc4f0fa19679e20778171bf98
      "text/plain": [
       "    mpg  cylinders  displacement horsepower  weight  acceleration  model year  \\\n",
       "0  18.0          8         307.0        130    3504          12.0          70   \n",
       "1  15.0          8         350.0        165    3693          11.5          70   \n",
       "2  18.0          8         318.0        150    3436          11.0          70   \n",
       "3  16.0          8         304.0        150    3433          12.0          70   \n",
       "4  17.0          8         302.0        140    3449          10.5          70   \n",
       "\n",
       "   origin                   car name  \n",
       "0       1  chevrolet chevelle malibu  \n",
       "1       1          buick skylark 320  \n",
       "2       1         plymouth satellite  \n",
       "3       1              amc rebel sst  \n",
       "4       1                ford torino  "
<<<<<<< HEAD
      ],
      "text/html": "<div>\n<style scoped>\n    .dataframe tbody tr th:only-of-type {\n        vertical-align: middle;\n    }\n\n    .dataframe tbody tr th {\n        vertical-align: top;\n    }\n\n    .dataframe thead th {\n        text-align: right;\n    }\n</style>\n<table border=\"1\" class=\"dataframe\">\n  <thead>\n    <tr style=\"text-align: right;\">\n      <th></th>\n      <th>mpg</th>\n      <th>cylinders</th>\n      <th>displacement</th>\n      <th>horsepower</th>\n      <th>weight</th>\n      <th>acceleration</th>\n      <th>model year</th>\n      <th>origin</th>\n      <th>car name</th>\n    </tr>\n  </thead>\n  <tbody>\n    <tr>\n      <th>0</th>\n      <td>18.0</td>\n      <td>8</td>\n      <td>307.0</td>\n      <td>130</td>\n      <td>3504</td>\n      <td>12.0</td>\n      <td>70</td>\n      <td>1</td>\n      <td>chevrolet chevelle malibu</td>\n    </tr>\n    <tr>\n      <th>1</th>\n      <td>15.0</td>\n      <td>8</td>\n      <td>350.0</td>\n      <td>165</td>\n      <td>3693</td>\n      <td>11.5</td>\n      <td>70</td>\n      <td>1</td>\n      <td>buick skylark 320</td>\n    </tr>\n    <tr>\n      <th>2</th>\n      <td>18.0</td>\n      <td>8</td>\n      <td>318.0</td>\n      <td>150</td>\n      <td>3436</td>\n      <td>11.0</td>\n      <td>70</td>\n      <td>1</td>\n      <td>plymouth satellite</td>\n    </tr>\n    <tr>\n      <th>3</th>\n      <td>16.0</td>\n      <td>8</td>\n      <td>304.0</td>\n      <td>150</td>\n      <td>3433</td>\n      <td>12.0</td>\n      <td>70</td>\n      <td>1</td>\n      <td>amc rebel sst</td>\n    </tr>\n    <tr>\n      <th>4</th>\n      <td>17.0</td>\n      <td>8</td>\n      <td>302.0</td>\n      <td>140</td>\n      <td>3449</td>\n      <td>10.5</td>\n      <td>70</td>\n      <td>1</td>\n      <td>ford torino</td>\n    </tr>\n  </tbody>\n</table>\n</div>"
     },
     "metadata": {},
     "execution_count": 4
=======
      ]
     },
     "execution_count": 8,
     "metadata": {},
     "output_type": "execute_result"
>>>>>>> 2f18721ecc239a4bc4f0fa19679e20778171bf98
    }
   ],
   "source": [
    "# let's insert some tables into sql and perform some queries!\n",
    "auto = pd.read_csv('auto-mpg.csv')\n",
    "auto.head()"
   ]
  },
  {
   "cell_type": "code",
   "execution_count": null,
   "metadata": {},
   "outputs": [],
   "source": []
  },
  {
   "cell_type": "code",
<<<<<<< HEAD
   "execution_count": 5,
   "metadata": {},
   "outputs": [
    {
     "output_type": "error",
     "ename": "ValueError",
     "evalue": "Table 'auto' already exists.",
     "traceback": [
      "\u001b[0;31m---------------------------------------------------------------------------\u001b[0m",
      "\u001b[0;31mValueError\u001b[0m                                Traceback (most recent call last)",
      "\u001b[0;32m<ipython-input-5-3b13eef9045b>\u001b[0m in \u001b[0;36m<module>\u001b[0;34m()\u001b[0m\n\u001b[1;32m      1\u001b[0m \u001b[0;31m# store auto into our existing database\u001b[0m\u001b[0;34m\u001b[0m\u001b[0;34m\u001b[0m\u001b[0;34m\u001b[0m\u001b[0m\n\u001b[1;32m      2\u001b[0m \u001b[0;34m\u001b[0m\u001b[0m\n\u001b[0;32m----> 3\u001b[0;31m \u001b[0mauto\u001b[0m\u001b[0;34m.\u001b[0m\u001b[0mto_sql\u001b[0m\u001b[0;34m(\u001b[0m\u001b[0;34m'auto'\u001b[0m\u001b[0;34m,\u001b[0m \u001b[0mcon\u001b[0m \u001b[0;34m=\u001b[0m \u001b[0mconn\u001b[0m\u001b[0;34m)\u001b[0m\u001b[0;34m\u001b[0m\u001b[0;34m\u001b[0m\u001b[0m\n\u001b[0m",
      "\u001b[0;32m/Users/browz/opt/anaconda3/envs/learn-env/lib/python3.6/site-packages/pandas/core/generic.py\u001b[0m in \u001b[0;36mto_sql\u001b[0;34m(self, name, con, schema, if_exists, index, index_label, chunksize, dtype, method)\u001b[0m\n\u001b[1;32m   2710\u001b[0m             \u001b[0mchunksize\u001b[0m\u001b[0;34m=\u001b[0m\u001b[0mchunksize\u001b[0m\u001b[0;34m,\u001b[0m\u001b[0;34m\u001b[0m\u001b[0;34m\u001b[0m\u001b[0m\n\u001b[1;32m   2711\u001b[0m             \u001b[0mdtype\u001b[0m\u001b[0;34m=\u001b[0m\u001b[0mdtype\u001b[0m\u001b[0;34m,\u001b[0m\u001b[0;34m\u001b[0m\u001b[0;34m\u001b[0m\u001b[0m\n\u001b[0;32m-> 2712\u001b[0;31m             \u001b[0mmethod\u001b[0m\u001b[0;34m=\u001b[0m\u001b[0mmethod\u001b[0m\u001b[0;34m,\u001b[0m\u001b[0;34m\u001b[0m\u001b[0;34m\u001b[0m\u001b[0m\n\u001b[0m\u001b[1;32m   2713\u001b[0m         )\n\u001b[1;32m   2714\u001b[0m \u001b[0;34m\u001b[0m\u001b[0m\n",
      "\u001b[0;32m/Users/browz/opt/anaconda3/envs/learn-env/lib/python3.6/site-packages/pandas/io/sql.py\u001b[0m in \u001b[0;36mto_sql\u001b[0;34m(frame, name, con, schema, if_exists, index, index_label, chunksize, dtype, method)\u001b[0m\n\u001b[1;32m    516\u001b[0m         \u001b[0mchunksize\u001b[0m\u001b[0;34m=\u001b[0m\u001b[0mchunksize\u001b[0m\u001b[0;34m,\u001b[0m\u001b[0;34m\u001b[0m\u001b[0;34m\u001b[0m\u001b[0m\n\u001b[1;32m    517\u001b[0m         \u001b[0mdtype\u001b[0m\u001b[0;34m=\u001b[0m\u001b[0mdtype\u001b[0m\u001b[0;34m,\u001b[0m\u001b[0;34m\u001b[0m\u001b[0;34m\u001b[0m\u001b[0m\n\u001b[0;32m--> 518\u001b[0;31m         \u001b[0mmethod\u001b[0m\u001b[0;34m=\u001b[0m\u001b[0mmethod\u001b[0m\u001b[0;34m,\u001b[0m\u001b[0;34m\u001b[0m\u001b[0;34m\u001b[0m\u001b[0m\n\u001b[0m\u001b[1;32m    519\u001b[0m     )\n\u001b[1;32m    520\u001b[0m \u001b[0;34m\u001b[0m\u001b[0m\n",
      "\u001b[0;32m/Users/browz/opt/anaconda3/envs/learn-env/lib/python3.6/site-packages/pandas/io/sql.py\u001b[0m in \u001b[0;36mto_sql\u001b[0;34m(self, frame, name, if_exists, index, index_label, schema, chunksize, dtype, method)\u001b[0m\n\u001b[1;32m   1747\u001b[0m             \u001b[0mdtype\u001b[0m\u001b[0;34m=\u001b[0m\u001b[0mdtype\u001b[0m\u001b[0;34m,\u001b[0m\u001b[0;34m\u001b[0m\u001b[0;34m\u001b[0m\u001b[0m\n\u001b[1;32m   1748\u001b[0m         )\n\u001b[0;32m-> 1749\u001b[0;31m         \u001b[0mtable\u001b[0m\u001b[0;34m.\u001b[0m\u001b[0mcreate\u001b[0m\u001b[0;34m(\u001b[0m\u001b[0;34m)\u001b[0m\u001b[0;34m\u001b[0m\u001b[0;34m\u001b[0m\u001b[0m\n\u001b[0m\u001b[1;32m   1750\u001b[0m         \u001b[0mtable\u001b[0m\u001b[0;34m.\u001b[0m\u001b[0minsert\u001b[0m\u001b[0;34m(\u001b[0m\u001b[0mchunksize\u001b[0m\u001b[0;34m,\u001b[0m \u001b[0mmethod\u001b[0m\u001b[0;34m)\u001b[0m\u001b[0;34m\u001b[0m\u001b[0;34m\u001b[0m\u001b[0m\n\u001b[1;32m   1751\u001b[0m \u001b[0;34m\u001b[0m\u001b[0m\n",
      "\u001b[0;32m/Users/browz/opt/anaconda3/envs/learn-env/lib/python3.6/site-packages/pandas/io/sql.py\u001b[0m in \u001b[0;36mcreate\u001b[0;34m(self)\u001b[0m\n\u001b[1;32m    642\u001b[0m             \u001b[0;32mif\u001b[0m \u001b[0mself\u001b[0m\u001b[0;34m.\u001b[0m\u001b[0mif_exists\u001b[0m \u001b[0;34m==\u001b[0m \u001b[0;34m\"fail\"\u001b[0m\u001b[0;34m:\u001b[0m\u001b[0;34m\u001b[0m\u001b[0;34m\u001b[0m\u001b[0m\n\u001b[1;32m    643\u001b[0m                 raise ValueError(\n\u001b[0;32m--> 644\u001b[0;31m                     \u001b[0;34m\"Table '{name}' already exists.\"\u001b[0m\u001b[0;34m.\u001b[0m\u001b[0mformat\u001b[0m\u001b[0;34m(\u001b[0m\u001b[0mname\u001b[0m\u001b[0;34m=\u001b[0m\u001b[0mself\u001b[0m\u001b[0;34m.\u001b[0m\u001b[0mname\u001b[0m\u001b[0;34m)\u001b[0m\u001b[0;34m\u001b[0m\u001b[0;34m\u001b[0m\u001b[0m\n\u001b[0m\u001b[1;32m    645\u001b[0m                 )\n\u001b[1;32m    646\u001b[0m             \u001b[0;32melif\u001b[0m \u001b[0mself\u001b[0m\u001b[0;34m.\u001b[0m\u001b[0mif_exists\u001b[0m \u001b[0;34m==\u001b[0m \u001b[0;34m\"replace\"\u001b[0m\u001b[0;34m:\u001b[0m\u001b[0;34m\u001b[0m\u001b[0;34m\u001b[0m\u001b[0m\n",
      "\u001b[0;31mValueError\u001b[0m: Table 'auto' already exists."
=======
   "execution_count": 9,
   "metadata": {},
   "outputs": [
    {
     "name": "stderr",
     "output_type": "stream",
     "text": [
      "/opt/anaconda3/envs/learn-env/lib/python3.6/site-packages/pandas/core/generic.py:2712: UserWarning: The spaces in these column names will not be changed. In pandas versions < 0.14, spaces were converted to underscores.\n",
      "  method=method,\n"
>>>>>>> 2f18721ecc239a4bc4f0fa19679e20778171bf98
     ]
    }
   ],
   "source": [
    "# store auto into our existing database\n",
<<<<<<< HEAD
    "\n",
    "auto.to_sql('auto', con = conn)\n"
=======
    "auto.to_sql('auto', con = conn)"
>>>>>>> 2f18721ecc239a4bc4f0fa19679e20778171bf98
   ]
  },
  {
   "cell_type": "code",
<<<<<<< HEAD
   "execution_count": 6,
=======
   "execution_count": 14,
>>>>>>> 2f18721ecc239a4bc4f0fa19679e20778171bf98
   "metadata": {},
   "outputs": [
    {
     "data": {
      "text/html": [
       "<div>\n",
       "<style scoped>\n",
       "    .dataframe tbody tr th:only-of-type {\n",
       "        vertical-align: middle;\n",
       "    }\n",
       "\n",
       "    .dataframe tbody tr th {\n",
       "        vertical-align: top;\n",
       "    }\n",
       "\n",
       "    .dataframe thead th {\n",
       "        text-align: right;\n",
       "    }\n",
       "</style>\n",
       "<table border=\"1\" class=\"dataframe\">\n",
       "  <thead>\n",
       "    <tr style=\"text-align: right;\">\n",
       "      <th></th>\n",
       "      <th>index</th>\n",
       "      <th>mpg</th>\n",
       "      <th>cylinders</th>\n",
       "      <th>displacement</th>\n",
       "      <th>horsepower</th>\n",
       "      <th>weight</th>\n",
       "      <th>acceleration</th>\n",
       "      <th>model year</th>\n",
       "      <th>origin</th>\n",
       "      <th>car name</th>\n",
       "    </tr>\n",
       "  </thead>\n",
       "  <tbody>\n",
       "    <tr>\n",
       "      <th>0</th>\n",
       "      <td>0</td>\n",
       "      <td>18.0</td>\n",
       "      <td>8</td>\n",
       "      <td>307.0</td>\n",
       "      <td>130</td>\n",
       "      <td>3504</td>\n",
       "      <td>12.0</td>\n",
       "      <td>70</td>\n",
       "      <td>1</td>\n",
       "      <td>chevrolet chevelle malibu</td>\n",
       "    </tr>\n",
       "    <tr>\n",
       "      <th>1</th>\n",
       "      <td>1</td>\n",
       "      <td>15.0</td>\n",
       "      <td>8</td>\n",
       "      <td>350.0</td>\n",
       "      <td>165</td>\n",
       "      <td>3693</td>\n",
       "      <td>11.5</td>\n",
       "      <td>70</td>\n",
       "      <td>1</td>\n",
       "      <td>buick skylark 320</td>\n",
       "    </tr>\n",
       "    <tr>\n",
       "      <th>2</th>\n",
       "      <td>2</td>\n",
       "      <td>18.0</td>\n",
       "      <td>8</td>\n",
       "      <td>318.0</td>\n",
       "      <td>150</td>\n",
       "      <td>3436</td>\n",
       "      <td>11.0</td>\n",
       "      <td>70</td>\n",
       "      <td>1</td>\n",
       "      <td>plymouth satellite</td>\n",
       "    </tr>\n",
       "    <tr>\n",
       "      <th>3</th>\n",
       "      <td>3</td>\n",
       "      <td>16.0</td>\n",
       "      <td>8</td>\n",
       "      <td>304.0</td>\n",
       "      <td>150</td>\n",
       "      <td>3433</td>\n",
       "      <td>12.0</td>\n",
       "      <td>70</td>\n",
       "      <td>1</td>\n",
       "      <td>amc rebel sst</td>\n",
       "    </tr>\n",
       "    <tr>\n",
       "      <th>4</th>\n",
       "      <td>4</td>\n",
       "      <td>17.0</td>\n",
       "      <td>8</td>\n",
       "      <td>302.0</td>\n",
       "      <td>140</td>\n",
       "      <td>3449</td>\n",
       "      <td>10.5</td>\n",
       "      <td>70</td>\n",
       "      <td>1</td>\n",
       "      <td>ford torino</td>\n",
       "    </tr>\n",
       "  </tbody>\n",
       "</table>\n",
       "</div>"
      ],
      "text/plain": [
       "   index   mpg  cylinders  displacement horsepower  weight  acceleration  \\\n",
       "0      0  18.0          8         307.0        130    3504          12.0   \n",
       "1      1  15.0          8         350.0        165    3693          11.5   \n",
       "2      2  18.0          8         318.0        150    3436          11.0   \n",
       "3      3  16.0          8         304.0        150    3433          12.0   \n",
       "4      4  17.0          8         302.0        140    3449          10.5   \n",
       "\n",
       "   model year  origin                   car name  \n",
       "0          70       1  chevrolet chevelle malibu  \n",
       "1          70       1          buick skylark 320  \n",
       "2          70       1         plymouth satellite  \n",
       "3          70       1              amc rebel sst  \n",
       "4          70       1                ford torino  "
      ]
     },
     "execution_count": 14,
     "metadata": {},
     "output_type": "execute_result"
    }
   ],
   "source": [
    "# select cylinders and displacement cols from table\n",
<<<<<<< HEAD
    "query = \"\"\"SELECT cylinders, displacement FROM auto\"\"\"\n",
    "# c.execute(query).fetchall()"
=======
    "query = \"\"\"SELECT * FROM auto\"\"\"\n",
    "df = pd.DataFrame(c.execute(query).fetchall())\n",
    "df.columns = [x[0] for x in c.description]\n",
    "df.head()"
>>>>>>> 2f18721ecc239a4bc4f0fa19679e20778171bf98
   ]
  },
  {
   "cell_type": "markdown",
   "metadata": {},
   "source": [
    "#### Filtering\n",
    "Just like querying with Pandas, sometimes we want to select data that fit certain criteria. Sql queries also allow us to filter! We need to utilize the `WHERE` clause. \n",
    "`SELECT * from Table WHERE conditions (ORDER BY conditions DESC/ASC)`"
   ]
  },
  {
   "cell_type": "code",
<<<<<<< HEAD
   "execution_count": 7,
   "metadata": {},
   "outputs": [
    {
     "output_type": "execute_result",
     "data": {
      "text/plain": [
       "      mpg  cylinders  displacement horsepower  weight  acceleration  \\\n",
       "0    18.0          8         307.0        130    3504          12.0   \n",
       "1    15.0          8         350.0        165    3693          11.5   \n",
       "2    18.0          8         318.0        150    3436          11.0   \n",
       "3    16.0          8         304.0        150    3433          12.0   \n",
       "4    17.0          8         302.0        140    3449          10.5   \n",
       "..    ...        ...           ...        ...     ...           ...   \n",
       "364  26.6          8         350.0        105    3725          19.0   \n",
       "365  20.2          6         200.0         88    3060          17.1   \n",
       "366  17.6          6         225.0         85    3465          16.6   \n",
       "374  23.0          4         151.0          ?    3035          20.5   \n",
       "387  38.0          6         262.0         85    3015          17.0   \n",
       "\n",
       "     model year  origin                           car name  \n",
       "0            70       1          chevrolet chevelle malibu  \n",
       "1            70       1                  buick skylark 320  \n",
       "2            70       1                 plymouth satellite  \n",
       "3            70       1                      amc rebel sst  \n",
       "4            70       1                        ford torino  \n",
       "..          ...     ...                                ...  \n",
       "364          81       1              oldsmobile cutlass ls  \n",
       "365          81       1                    ford granada gl  \n",
       "366          81       1             chrysler lebaron salon  \n",
       "374          82       1                     amc concord dl  \n",
       "387          82       1  oldsmobile cutlass ciera (diesel)  \n",
       "\n",
       "[168 rows x 9 columns]"
      ],
      "text/html": "<div>\n<style scoped>\n    .dataframe tbody tr th:only-of-type {\n        vertical-align: middle;\n    }\n\n    .dataframe tbody tr th {\n        vertical-align: top;\n    }\n\n    .dataframe thead th {\n        text-align: right;\n    }\n</style>\n<table border=\"1\" class=\"dataframe\">\n  <thead>\n    <tr style=\"text-align: right;\">\n      <th></th>\n      <th>mpg</th>\n      <th>cylinders</th>\n      <th>displacement</th>\n      <th>horsepower</th>\n      <th>weight</th>\n      <th>acceleration</th>\n      <th>model year</th>\n      <th>origin</th>\n      <th>car name</th>\n    </tr>\n  </thead>\n  <tbody>\n    <tr>\n      <th>0</th>\n      <td>18.0</td>\n      <td>8</td>\n      <td>307.0</td>\n      <td>130</td>\n      <td>3504</td>\n      <td>12.0</td>\n      <td>70</td>\n      <td>1</td>\n      <td>chevrolet chevelle malibu</td>\n    </tr>\n    <tr>\n      <th>1</th>\n      <td>15.0</td>\n      <td>8</td>\n      <td>350.0</td>\n      <td>165</td>\n      <td>3693</td>\n      <td>11.5</td>\n      <td>70</td>\n      <td>1</td>\n      <td>buick skylark 320</td>\n    </tr>\n    <tr>\n      <th>2</th>\n      <td>18.0</td>\n      <td>8</td>\n      <td>318.0</td>\n      <td>150</td>\n      <td>3436</td>\n      <td>11.0</td>\n      <td>70</td>\n      <td>1</td>\n      <td>plymouth satellite</td>\n    </tr>\n    <tr>\n      <th>3</th>\n      <td>16.0</td>\n      <td>8</td>\n      <td>304.0</td>\n      <td>150</td>\n      <td>3433</td>\n      <td>12.0</td>\n      <td>70</td>\n      <td>1</td>\n      <td>amc rebel sst</td>\n    </tr>\n    <tr>\n      <th>4</th>\n      <td>17.0</td>\n      <td>8</td>\n      <td>302.0</td>\n      <td>140</td>\n      <td>3449</td>\n      <td>10.5</td>\n      <td>70</td>\n      <td>1</td>\n      <td>ford torino</td>\n    </tr>\n    <tr>\n      <th>...</th>\n      <td>...</td>\n      <td>...</td>\n      <td>...</td>\n      <td>...</td>\n      <td>...</td>\n      <td>...</td>\n      <td>...</td>\n      <td>...</td>\n      <td>...</td>\n    </tr>\n    <tr>\n      <th>364</th>\n      <td>26.6</td>\n      <td>8</td>\n      <td>350.0</td>\n      <td>105</td>\n      <td>3725</td>\n      <td>19.0</td>\n      <td>81</td>\n      <td>1</td>\n      <td>oldsmobile cutlass ls</td>\n    </tr>\n    <tr>\n      <th>365</th>\n      <td>20.2</td>\n      <td>6</td>\n      <td>200.0</td>\n      <td>88</td>\n      <td>3060</td>\n      <td>17.1</td>\n      <td>81</td>\n      <td>1</td>\n      <td>ford granada gl</td>\n    </tr>\n    <tr>\n      <th>366</th>\n      <td>17.6</td>\n      <td>6</td>\n      <td>225.0</td>\n      <td>85</td>\n      <td>3465</td>\n      <td>16.6</td>\n      <td>81</td>\n      <td>1</td>\n      <td>chrysler lebaron salon</td>\n    </tr>\n    <tr>\n      <th>374</th>\n      <td>23.0</td>\n      <td>4</td>\n      <td>151.0</td>\n      <td>?</td>\n      <td>3035</td>\n      <td>20.5</td>\n      <td>82</td>\n      <td>1</td>\n      <td>amc concord dl</td>\n    </tr>\n    <tr>\n      <th>387</th>\n      <td>38.0</td>\n      <td>6</td>\n      <td>262.0</td>\n      <td>85</td>\n      <td>3015</td>\n      <td>17.0</td>\n      <td>82</td>\n      <td>1</td>\n      <td>oldsmobile cutlass ciera (diesel)</td>\n    </tr>\n  </tbody>\n</table>\n<p>168 rows × 9 columns</p>\n</div>"
     },
     "metadata": {},
     "execution_count": 7
=======
   "execution_count": 19,
   "metadata": {},
   "outputs": [
    {
     "data": {
      "text/plain": [
       "(168, 10)"
      ]
     },
     "execution_count": 19,
     "metadata": {},
     "output_type": "execute_result"
>>>>>>> 2f18721ecc239a4bc4f0fa19679e20778171bf98
    }
   ],
   "source": [
    "# use pandas to select cars that weigh more than 3000 lbs\n",
<<<<<<< HEAD
    "query_1_pd = auto[auto['weight'] > 3000]\n",
    "query_1_pd"
=======
    "query_1_pd = df[df.weight > 3000]\n",
    "query_1_pd.shape"
>>>>>>> 2f18721ecc239a4bc4f0fa19679e20778171bf98
   ]
  },
  {
   "cell_type": "code",
<<<<<<< HEAD
   "execution_count": 8,
   "metadata": {},
   "outputs": [
    {
     "output_type": "execute_result",
=======
   "execution_count": 15,
   "metadata": {},
   "outputs": [
    {
>>>>>>> 2f18721ecc239a4bc4f0fa19679e20778171bf98
     "data": {
      "text/plain": [
       "168"
      ]
     },
<<<<<<< HEAD
     "metadata": {},
     "execution_count": 8
=======
     "execution_count": 15,
     "metadata": {},
     "output_type": "execute_result"
>>>>>>> 2f18721ecc239a4bc4f0fa19679e20778171bf98
    }
   ],
   "source": [
    "# use sql \n",
<<<<<<< HEAD
    "query_1_sql = \"\"\"SELECT * FROM auto WHERE weight > 3000\"\"\"\n",
=======
    "query_1_sql = '''SELECT * from auto WHERE weight > 3000'''\n",
>>>>>>> 2f18721ecc239a4bc4f0fa19679e20778171bf98
    "len(c.execute(query_1_sql).fetchall())\n"
   ]
  },
  {
   "cell_type": "code",
   "execution_count": 31,
   "metadata": {},
   "outputs": [
    {
     "output_type": "execute_result",
     "data": {
      "text/plain": [
       "(187,)"
      ]
     },
     "metadata": {},
     "execution_count": 31
    }
   ],
   "source": [
    "# use pandas to select just the names of the cars where cylinders are greater than 5\n",
    "query_2_pd = auto[auto['cylinders'] > 5]['car name']\n",
    "# how many are there?\n",
    "query_2_pd.shape"
   ]
  },
  {
   "cell_type": "code",
<<<<<<< HEAD
   "execution_count": 26,
   "metadata": {},
   "outputs": [
    {
     "output_type": "execute_result",
=======
   "execution_count": 38,
   "metadata": {},
   "outputs": [
    {
>>>>>>> 2f18721ecc239a4bc4f0fa19679e20778171bf98
     "data": {
      "text/plain": [
       "187"
      ]
     },
<<<<<<< HEAD
     "metadata": {},
     "execution_count": 26
=======
     "execution_count": 38,
     "metadata": {},
     "output_type": "execute_result"
>>>>>>> 2f18721ecc239a4bc4f0fa19679e20778171bf98
    }
   ],
   "source": [
    "# write the sql equivalent \n",
<<<<<<< HEAD
    "query_2_sql = \"\"\"SELECT \"car names\" FROM auto WHERE cylinders > 5\"\"\"\n",
=======
    "query_2_sql = \"\"\"SELECT `car name` FROM auto WHERE cylinders > 5\"\"\"\n",
>>>>>>> 2f18721ecc239a4bc4f0fa19679e20778171bf98
    "len(c.execute(query_2_sql).fetchall())\n",
    "\n",
    "# what is happening here? Can we troubleshoot?"
   ]
  },
  {
   "cell_type": "code",
   "execution_count": 25,
   "metadata": {
    "scrolled": true
   },
   "outputs": [
    {
     "data": {
      "text/plain": [
       "398"
      ]
     },
     "execution_count": 25,
     "metadata": {},
     "output_type": "execute_result"
    }
   ],
   "source": [
    "c.execute(query_2_sql).fetchall()[0][0]"
   ]
  },
  {
   "cell_type": "code",
<<<<<<< HEAD
   "execution_count": 37,
=======
   "execution_count": 59,
>>>>>>> 2f18721ecc239a4bc4f0fa19679e20778171bf98
   "metadata": {
    "scrolled": true
   },
   "outputs": [
    {
<<<<<<< HEAD
     "output_type": "execute_result",
=======
>>>>>>> 2f18721ecc239a4bc4f0fa19679e20778171bf98
     "data": {
      "text/plain": [
       "397                   chevy s-10\n",
       "382               toyota corolla\n",
       "367           chevrolet cavalier\n",
       "368     chevrolet cavalier wagon\n",
       "369    chevrolet cavalier 2-door\n",
       "                 ...            \n",
       "21                   audi 100 ls\n",
       "22                      saab 99e\n",
       "23                      bmw 2002\n",
       "24                   amc gremlin\n",
       "14         toyota corona mark ii\n",
       "Name: car name, Length: 291, dtype: object"
      ]
     },
<<<<<<< HEAD
     "metadata": {},
     "execution_count": 37
=======
     "execution_count": 59,
     "metadata": {},
     "output_type": "execute_result"
>>>>>>> 2f18721ecc239a4bc4f0fa19679e20778171bf98
    }
   ],
   "source": [
    "# exercise - use pandas to select the names of the cars which have mpg > 15 and cynlinder less than 7 and show \n",
    "# descending order by model year\n",
<<<<<<< HEAD
    "query_3_pd = auto[(auto.mpg > 15) & (auto.cylinders < 7)].sort_values(by='model year', ascending=False)['car name']\n",
=======
    "query_3_pd = df[(df.mpg > 15) & (df.cylinders < 7)].sort_values('model year',ascending=False)['car name']\n",
>>>>>>> 2f18721ecc239a4bc4f0fa19679e20778171bf98
    "query_3_pd"
   ]
  },
  {
   "cell_type": "code",
<<<<<<< HEAD
   "execution_count": 39,
=======
   "execution_count": 63,
>>>>>>> 2f18721ecc239a4bc4f0fa19679e20778171bf98
   "metadata": {
    "scrolled": true
   },
   "outputs": [
    {
<<<<<<< HEAD
     "output_type": "execute_result",
=======
     "data": {
      "text/html": [
       "<div>\n",
       "<style scoped>\n",
       "    .dataframe tbody tr th:only-of-type {\n",
       "        vertical-align: middle;\n",
       "    }\n",
       "\n",
       "    .dataframe tbody tr th {\n",
       "        vertical-align: top;\n",
       "    }\n",
       "\n",
       "    .dataframe thead th {\n",
       "        text-align: right;\n",
       "    }\n",
       "</style>\n",
       "<table border=\"1\" class=\"dataframe\">\n",
       "  <thead>\n",
       "    <tr style=\"text-align: right;\">\n",
       "      <th></th>\n",
       "      <th>index</th>\n",
       "      <th>mpg</th>\n",
       "      <th>cylinders</th>\n",
       "      <th>displacement</th>\n",
       "      <th>horsepower</th>\n",
       "      <th>weight</th>\n",
       "      <th>acceleration</th>\n",
       "      <th>model year</th>\n",
       "      <th>origin</th>\n",
       "      <th>car name</th>\n",
       "    </tr>\n",
       "  </thead>\n",
       "  <tbody>\n",
       "    <tr>\n",
       "      <th>167</th>\n",
       "      <td>167</td>\n",
       "      <td>29.0</td>\n",
       "      <td>4</td>\n",
       "      <td>97.0</td>\n",
       "      <td>75</td>\n",
       "      <td>2171</td>\n",
       "      <td>16.0</td>\n",
       "      <td>75</td>\n",
       "      <td>3</td>\n",
       "      <td>toyota corolla</td>\n",
       "    </tr>\n",
       "    <tr>\n",
       "      <th>205</th>\n",
       "      <td>205</td>\n",
       "      <td>28.0</td>\n",
       "      <td>4</td>\n",
       "      <td>97.0</td>\n",
       "      <td>75</td>\n",
       "      <td>2155</td>\n",
       "      <td>16.4</td>\n",
       "      <td>76</td>\n",
       "      <td>3</td>\n",
       "      <td>toyota corolla</td>\n",
       "    </tr>\n",
       "    <tr>\n",
       "      <th>321</th>\n",
       "      <td>321</td>\n",
       "      <td>32.2</td>\n",
       "      <td>4</td>\n",
       "      <td>108.0</td>\n",
       "      <td>75</td>\n",
       "      <td>2265</td>\n",
       "      <td>15.2</td>\n",
       "      <td>80</td>\n",
       "      <td>3</td>\n",
       "      <td>toyota corolla</td>\n",
       "    </tr>\n",
       "    <tr>\n",
       "      <th>356</th>\n",
       "      <td>356</td>\n",
       "      <td>32.4</td>\n",
       "      <td>4</td>\n",
       "      <td>108.0</td>\n",
       "      <td>75</td>\n",
       "      <td>2350</td>\n",
       "      <td>16.8</td>\n",
       "      <td>81</td>\n",
       "      <td>3</td>\n",
       "      <td>toyota corolla</td>\n",
       "    </tr>\n",
       "    <tr>\n",
       "      <th>382</th>\n",
       "      <td>382</td>\n",
       "      <td>34.0</td>\n",
       "      <td>4</td>\n",
       "      <td>108.0</td>\n",
       "      <td>70</td>\n",
       "      <td>2245</td>\n",
       "      <td>16.9</td>\n",
       "      <td>82</td>\n",
       "      <td>3</td>\n",
       "      <td>toyota corolla</td>\n",
       "    </tr>\n",
       "  </tbody>\n",
       "</table>\n",
       "</div>"
      ],
      "text/plain": [
       "     index   mpg  cylinders  displacement horsepower  weight  acceleration  \\\n",
       "167    167  29.0          4          97.0         75    2171          16.0   \n",
       "205    205  28.0          4          97.0         75    2155          16.4   \n",
       "321    321  32.2          4         108.0         75    2265          15.2   \n",
       "356    356  32.4          4         108.0         75    2350          16.8   \n",
       "382    382  34.0          4         108.0         70    2245          16.9   \n",
       "\n",
       "     model year  origin        car name  \n",
       "167          75       3  toyota corolla  \n",
       "205          76       3  toyota corolla  \n",
       "321          80       3  toyota corolla  \n",
       "356          81       3  toyota corolla  \n",
       "382          82       3  toyota corolla  "
      ]
     },
     "execution_count": 63,
     "metadata": {},
     "output_type": "execute_result"
    }
   ],
   "source": [
    "df[df['car name'] == 'toyota corolla']"
   ]
  },
  {
   "cell_type": "code",
   "execution_count": null,
   "metadata": {},
   "outputs": [],
   "source": []
  },
  {
   "cell_type": "code",
   "execution_count": 66,
   "metadata": {
    "scrolled": true
   },
   "outputs": [
    {
>>>>>>> 2f18721ecc239a4bc4f0fa19679e20778171bf98
     "data": {
      "text/plain": [
       "[('chevrolet cavalier',),\n",
       " ('chevrolet cavalier wagon',),\n",
       " ('chevrolet cavalier 2-door',),\n",
       " ('pontiac j2000 se hatchback',),\n",
<<<<<<< HEAD
       " ('dodge aries se',)]"
      ]
     },
     "metadata": {},
     "execution_count": 39
=======
       " ('dodge aries se',),\n",
       " ('pontiac phoenix',),\n",
       " ('ford fairmont futura',),\n",
       " ('amc concord dl',),\n",
       " ('volkswagen rabbit l',),\n",
       " ('mazda glc custom l',),\n",
       " ('mazda glc custom',),\n",
       " ('plymouth horizon miser',),\n",
       " ('mercury lynx l',),\n",
       " ('nissan stanza xe',),\n",
       " ('honda accord',),\n",
       " ('toyota corolla',),\n",
       " ('honda civic',),\n",
       " ('honda civic (auto)',),\n",
       " ('datsun 310 gx',),\n",
       " ('buick century limited',),\n",
       " ('oldsmobile cutlass ciera (diesel)',),\n",
       " ('chrysler lebaron medallion',),\n",
       " ('ford granada l',),\n",
       " ('toyota celica gt',),\n",
       " ('dodge charger 2.2',),\n",
       " ('chevrolet camaro',),\n",
       " ('ford mustang gl',),\n",
       " ('vw pickup',),\n",
       " ('dodge rampage',),\n",
       " ('ford ranger',),\n",
       " ('chevy s-10',),\n",
       " ('plymouth reliant',),\n",
       " ('buick skylark',),\n",
       " ('dodge aries wagon (sw)',),\n",
       " ('chevrolet citation',),\n",
       " ('plymouth reliant',),\n",
       " ('toyota starlet',),\n",
       " ('plymouth champ',),\n",
       " ('honda civic 1300',),\n",
       " ('subaru',),\n",
       " ('datsun 210 mpg',),\n",
       " ('toyota tercel',),\n",
       " ('mazda glc 4',),\n",
       " ('plymouth horizon 4',),\n",
       " ('ford escort 4w',),\n",
       " ('ford escort 2h',),\n",
       " ('volkswagen jetta',),\n",
       " ('renault 18i',),\n",
       " ('honda prelude',),\n",
       " ('toyota corolla',),\n",
       " ('datsun 200sx',),\n",
       " ('mazda 626',),\n",
       " ('peugeot 505s turbo diesel',),\n",
       " ('volvo diesel',),\n",
       " ('toyota cressida',),\n",
       " ('datsun 810 maxima',),\n",
       " ('buick century',),\n",
       " ('ford granada gl',),\n",
       " ('chrysler lebaron salon',),\n",
       " ('vw rabbit',),\n",
       " ('toyota corolla tercel',),\n",
       " ('chevrolet chevette',),\n",
       " ('datsun 310',),\n",
       " ('chevrolet citation',),\n",
       " ('ford fairmont',),\n",
       " ('amc concord',),\n",
       " ('dodge aspen',),\n",
       " ('audi 4000',),\n",
       " ('toyota corona liftback',),\n",
       " ('mazda 626',),\n",
       " ('datsun 510 hatchback',),\n",
       " ('toyota corolla',),\n",
       " ('mazda glc',),\n",
       " ('dodge colt',),\n",
       " ('datsun 210',),\n",
       " ('vw rabbit c (diesel)',),\n",
       " ('vw dasher (diesel)',),\n",
       " ('audi 5000s (diesel)',),\n",
       " ('mercedes-benz 240d',),\n",
       " ('honda civic 1500 gl',),\n",
       " ('renault lecar deluxe',),\n",
       " ('subaru dl',),\n",
       " ('vokswagen rabbit',),\n",
       " ('datsun 280-zx',),\n",
       " ('mazda rx-7 gs',),\n",
       " ('triumph tr7 coupe',),\n",
       " ('ford mustang cobra',),\n",
       " ('honda accord',),\n",
       " ('pontiac lemans v6',),\n",
       " ('mercury zephyr 6',),\n",
       " ('ford fairmont 4',),\n",
       " ('amc concord dl 6',),\n",
       " ('dodge aspen 6',),\n",
       " ('vw rabbit custom',),\n",
       " ('maxda glc deluxe',),\n",
       " ('dodge colt hatchback custom',),\n",
       " ('amc spirit dl',),\n",
       " ('mercedes benz 300d',),\n",
       " ('peugeot 504',),\n",
       " ('plymouth horizon',),\n",
       " ('plymouth horizon tc3',),\n",
       " ('datsun 210',),\n",
       " ('fiat strada custom',),\n",
       " ('buick skylark limited',),\n",
       " ('chevrolet citation',),\n",
       " ('oldsmobile omega brougham',),\n",
       " ('pontiac phoenix',),\n",
       " ('volkswagen rabbit custom diesel',),\n",
       " ('ford fiesta',),\n",
       " ('mazda glc deluxe',),\n",
       " ('datsun b210 gx',),\n",
       " ('honda civic cvcc',),\n",
       " ('pontiac phoenix lj',),\n",
       " ('chevrolet malibu',),\n",
       " ('ford fairmont (auto)',),\n",
       " ('ford fairmont (man)',),\n",
       " ('plymouth volare',),\n",
       " ('amc concord',),\n",
       " ('buick century special',),\n",
       " ('mercury zephyr',),\n",
       " ('dodge aspen',),\n",
       " ('amc concord d/l',),\n",
       " ('buick regal sport coupe (turbo)',),\n",
       " ('chevrolet chevette',),\n",
       " ('toyota corona',),\n",
       " ('datsun 510',),\n",
       " ('dodge omni',),\n",
       " ('toyota celica gt liftback',),\n",
       " ('plymouth sapporo',),\n",
       " ('oldsmobile starfire sx',),\n",
       " ('datsun 200-sx',),\n",
       " ('audi 5000',),\n",
       " ('volvo 264gl',),\n",
       " ('saab 99gle',),\n",
       " ('peugeot 604sl',),\n",
       " ('volkswagen scirocco',),\n",
       " ('honda accord lx',),\n",
       " ('honda accord cvcc',),\n",
       " ('buick opel isuzu deluxe',),\n",
       " ('renault 5 gtl',),\n",
       " ('plymouth arrow gs',),\n",
       " ('datsun f-10 hatchback',),\n",
       " ('chevrolet concours',),\n",
       " ('buick skylark',),\n",
       " ('plymouth volare custom',),\n",
       " ('ford granada',),\n",
       " ('volkswagen rabbit custom',),\n",
       " ('pontiac sunbird coupe',),\n",
       " ('toyota corolla liftback',),\n",
       " ('ford mustang ii 2+2',),\n",
       " ('chevrolet chevette',),\n",
       " ('dodge colt m/m',),\n",
       " ('subaru dl',),\n",
       " ('volkswagen dasher',),\n",
       " ('datsun 810',),\n",
       " ('bmw 320i',),\n",
       " ('mazda rx-4',),\n",
       " ('fiat 131',),\n",
       " ('opel 1900',),\n",
       " ('capri ii',),\n",
       " ('dodge colt',),\n",
       " ('renault 12tl',),\n",
       " ('plymouth valiant',),\n",
       " ('chevrolet nova',),\n",
       " ('ford maverick',),\n",
       " ('amc hornet',),\n",
       " ('chevrolet chevette',),\n",
       " ('chevrolet woody',),\n",
       " ('vw rabbit',),\n",
       " ('honda civic',),\n",
       " ('dodge aspen se',),\n",
       " ('ford granada ghia',),\n",
       " ('pontiac ventura sj',),\n",
       " ('amc pacer d/l',),\n",
       " ('volkswagen rabbit',),\n",
       " ('datsun b-210',),\n",
       " ('toyota corolla',),\n",
       " ('ford pinto',),\n",
       " ('volvo 245',),\n",
       " ('peugeot 504',),\n",
       " ('toyota mark ii',),\n",
       " ('mercedes-benz 280s',),\n",
       " ('plymouth valiant custom',),\n",
       " ('chevrolet nova',),\n",
       " ('buick century',),\n",
       " ('chevroelt chevelle malibu',),\n",
       " ('plymouth fury',),\n",
       " ('buick skyhawk',),\n",
       " ('toyota corolla',),\n",
       " ('ford pinto',),\n",
       " ('amc gremlin',),\n",
       " ('pontiac astro',),\n",
       " ('toyota corona',),\n",
       " ('volkswagen dasher',),\n",
       " ('datsun 710',),\n",
       " ('ford pinto',),\n",
       " ('volkswagen rabbit',),\n",
       " ('amc pacer',),\n",
       " ('audi 100ls',),\n",
       " ('peugeot 504',),\n",
       " ('volvo 244dl',),\n",
       " ('saab 99le',),\n",
       " ('honda civic cvcc',),\n",
       " ('plymouth duster',),\n",
       " ('ford maverick',),\n",
       " ('amc hornet',),\n",
       " ('datsun b210',),\n",
       " ('ford pinto',),\n",
       " ('toyota corolla 1200',),\n",
       " ('chevrolet vega',),\n",
       " ('chevrolet chevelle malibu classic',),\n",
       " ('amc matador',),\n",
       " ('plymouth satellite sebring',),\n",
       " ('audi fox',),\n",
       " ('volkswagen dasher',),\n",
       " ('opel manta',),\n",
       " ('toyota corona',),\n",
       " ('datsun 710',),\n",
       " ('dodge colt',),\n",
       " ('fiat 128',),\n",
       " ('fiat 124 tc',),\n",
       " ('honda civic',),\n",
       " ('subaru',),\n",
       " ('fiat x1.9',),\n",
       " ('plymouth valiant',),\n",
       " ('chevrolet nova custom',),\n",
       " ('amc hornet',),\n",
       " ('ford maverick',),\n",
       " ('plymouth duster',),\n",
       " ('volkswagen super beetle',),\n",
       " ('amc gremlin',),\n",
       " ('toyota carina',),\n",
       " ('chevrolet vega',),\n",
       " ('datsun 610',),\n",
       " ('maxda rx3',),\n",
       " ('ford pinto',),\n",
       " ('mercury capri v6',),\n",
       " ('fiat 124 sport coupe',),\n",
       " ('fiat 128',),\n",
       " ('opel manta',),\n",
       " ('audi 100ls',),\n",
       " ('volvo 144ea',),\n",
       " ('saab 99le',),\n",
       " ('toyota mark ii',),\n",
       " ('toyota corona hardtop',),\n",
       " ('dodge colt hardtop',),\n",
       " ('volkswagen type 3',),\n",
       " ('chevrolet vega',),\n",
       " ('ford pinto runabout',),\n",
       " ('mazda rx2 coupe',),\n",
       " ('volvo 145e (sw)',),\n",
       " ('volkswagen 411 (sw)',),\n",
       " ('peugeot 504 (sw)',),\n",
       " ('renault 12 (sw)',),\n",
       " ('ford pinto (sw)',),\n",
       " ('datsun 510 (sw)',),\n",
       " ('toyouta corona mark ii (sw)',),\n",
       " ('dodge colt (sw)',),\n",
       " ('toyota corolla 1600 (sw)',),\n",
       " ('datsun pl510',),\n",
       " ('chevrolet vega 2300',),\n",
       " ('toyota corona',),\n",
       " ('ford pinto',),\n",
       " ('amc gremlin',),\n",
       " ('plymouth satellite custom',),\n",
       " ('chevrolet chevelle malibu',),\n",
       " ('ford torino 500',),\n",
       " ('amc matador',),\n",
       " ('amc hornet sportabout (sw)',),\n",
       " ('chevrolet vega (sw)',),\n",
       " ('pontiac firebird',),\n",
       " ('ford mustang',),\n",
       " ('mercury capri 2000',),\n",
       " ('opel 1900',),\n",
       " ('peugeot 304',),\n",
       " ('fiat 124b',),\n",
       " ('toyota corolla 1200',),\n",
       " ('datsun 1200',),\n",
       " ('volkswagen model 111',),\n",
       " ('plymouth cricket',),\n",
       " ('toyota corona mark ii',),\n",
       " ('plymouth duster',),\n",
       " ('amc hornet',),\n",
       " ('ford maverick',),\n",
       " ('datsun pl510',),\n",
       " ('volkswagen 1131 deluxe sedan',),\n",
       " ('peugeot 504',),\n",
       " ('audi 100 ls',),\n",
       " ('saab 99e',),\n",
       " ('bmw 2002',),\n",
       " ('amc gremlin',)]"
      ]
     },
     "execution_count": 66,
     "metadata": {},
     "output_type": "execute_result"
>>>>>>> 2f18721ecc239a4bc4f0fa19679e20778171bf98
    }
   ],
   "source": [
    "# write the sql equivalent\n",
<<<<<<< HEAD
    "query_3_sql = \"\"\"SELECT \"car name\" FROM auto \n",
    "                    WHERE mpg > 15 AND cylinders < 7\n",
    "                    ORDER BY [model year] DESC\n",
    "                    LIMIT 5\"\"\"\n",
=======
    "query_3_sql = \"\"\"SELECT `car name` FROM auto \n",
    "                WHERE (mpg > 15) AND (cylinders < 7)\n",
    "                ORDER BY `model year` DESC\"\"\"\n",
>>>>>>> 2f18721ecc239a4bc4f0fa19679e20778171bf98
    "c.execute(query_3_sql).fetchall()"
   ]
  },
  {
   "cell_type": "markdown",
   "metadata": {},
   "source": [
    "### This afternoon:\n",
    "- Grouping\n",
    "- Joining"
   ]
  },
  {
   "cell_type": "markdown",
   "metadata": {},
   "source": [
    "#### Joining\n",
    "<img src ='sql-joins-better.png' width = 400>"
   ]
  }
 ],
 "metadata": {
  "kernelspec": {
   "display_name": "Python 3",
   "language": "python",
   "name": "python3"
  },
  "language_info": {
   "codemirror_mode": {
    "name": "ipython",
    "version": 3
   },
   "file_extension": ".py",
   "mimetype": "text/x-python",
   "name": "python",
   "nbconvert_exporter": "python",
   "pygments_lexer": "ipython3",
<<<<<<< HEAD
   "version": "3.6.9-final"
=======
   "version": "3.6.9"
>>>>>>> 2f18721ecc239a4bc4f0fa19679e20778171bf98
  }
 },
 "nbformat": 4,
 "nbformat_minor": 2
}