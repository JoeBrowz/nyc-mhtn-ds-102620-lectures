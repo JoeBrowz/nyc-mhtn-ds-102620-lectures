{
 "cells": [
  {
   "cell_type": "markdown",
   "metadata": {},
   "source": [
    "# Statistics Fundamentals \n",
    "\n",
    "_October 27, 2020_\n",
    "\n",
    "Agenda today:\n",
    "- Measure of central tendency: mean, median, mode\n",
    "- Measure of dispersion: variance, standard deviation\n",
    "- Measure of relationship: covariance and correlation"
   ]
  },
  {
   "cell_type": "code",
   "execution_count": 19,
   "metadata": {},
   "outputs": [],
   "source": [
    "import numpy as np\n",
    "import matplotlib.pyplot as plt"
   ]
  },
  {
   "cell_type": "markdown",
   "metadata": {},
   "source": [
    "## Part I. Mean, Median, and Mode\n",
    "What are the definition of the three measurements?"
   ]
  },
  {
   "cell_type": "code",
   "execution_count": 20,
   "metadata": {
    "scrolled": true
   },
   "outputs": [],
   "source": [
    "array = [10,11,11,12,11,13,14,16,17,18,19,20,22,24,26,22,24]\n",
    "# plot it out and examine it \n",
    "plt.style.use('fivethirtyeight')"
   ]
  },
  {
   "cell_type": "markdown",
   "metadata": {},
   "source": [
    "What is the above plot called? What kind of values can it be used to represent?"
   ]
  },
  {
   "cell_type": "markdown",
   "metadata": {},
   "source": [
    "## Part II. Measure of Dispersion\n",
    "Two measurements of dispersion we will be concerned with is **variance** and **standard deviation**. They are both measurement of variability of dataset. Why might we need a measure of variability in addition to central tendency?"
   ]
  },
  {
   "cell_type": "markdown",
   "metadata": {},
   "source": [
    "#### Variance calculation:\n",
    "$$ \\large \\sigma^2 = \\dfrac{1}{n}\\displaystyle\\sum^n_{i=1}(x_i-\\mu)^2 $$\n",
    "\n",
    "#### Standard deviation calculation:\n",
    "$$ \\large \\sigma = \\sqrt{\\dfrac{1}{n}\\displaystyle\\sum^n_{i=1}(x_i-\\mu)^2} $$"
   ]
  },
  {
   "cell_type": "code",
   "execution_count": 52,
   "metadata": {},
   "outputs": [
    {
     "data": {
      "text/plain": [
       "27.662683823529413"
      ]
     },
     "execution_count": 52,
     "metadata": {},
     "output_type": "execute_result"
    }
   ],
   "source": [
    "# exercises\n",
    "\n",
    "# can you write a function that takes in an array, calculate the variance and standard deviation?\n",
    "def calculate_variance(array):\n",
    "    '''\n",
    "    calculate the variance of an array\n",
    "    '''\n",
    "    average = sum(array) / (len(array)-1)\n",
    "    sum_dev_about_mean_sqd = []\n",
    "    for num in array:\n",
    "        sum_dev_about_mean_sqd.append((num - average)**2)\n",
    "    return sum(sum_dev_about_mean_sqd)/len(array)\n",
    "calculate_variance(array)\n",
    "        "
   ]
  },
  {
   "cell_type": "code",
   "execution_count": 22,
   "metadata": {},
   "outputs": [
    {
     "data": {
      "text/plain": [
       "5.150335091728831"
      ]
     },
     "execution_count": 22,
     "metadata": {},
     "output_type": "execute_result"
    }
   ],
   "source": [
    "import math\n",
    "def calculate_std(array):\n",
    "    '''\n",
    "    calculate the standard deviation of an array\n",
    "    '''\n",
    "    return math.sqrt(calculate_variance(array))\n",
    "calculate_std(array)"
   ]
  },
  {
   "cell_type": "markdown",
   "metadata": {},
   "source": [
    "## Part III. Covariance and Correlation\n",
    "Covariance and correlation measures the degree of two variables' relationship. \n",
    "\n",
    "#### Covariance calculation:\n",
    "$$Cov_{X,Y} = \\dfrac{1}{n}\\displaystyle\\sum_{i=1}^{n}(x_i -\\mu_x)(y_i - \\mu_y)$$\n",
    "\n",
    "#### Correlation calculation:\n",
    "$$ r = \\frac{cov(X,Y)} {\\sigma_x  \\sigma_y}$$"
   ]
  },
  {
   "cell_type": "markdown",
   "metadata": {},
   "source": [
    "<img src= 'https://raw.githubusercontent.com/learn-co-curriculum/dsc-correlation-covariance/master/images/correx.svg'>"
   ]
  },
  {
   "cell_type": "code",
   "execution_count": 47,
   "metadata": {},
   "outputs": [],
   "source": [
    "## exercises\n",
    "\n",
    "# write a function that calculates the correlation and covariance of two arrays \n",
    "\n",
    "def calculate_covariance(array1, array2):\n",
    "    '''\n",
    "    calculate the covariance of two arrays\n",
    "    '''\n",
    "    if len(array1) != len(array2):\n",
    "        return print(\"There must be the same number \\n data points in both arrays. lol [shrug]\")\n",
    "    \n",
    "    x_average = sum(array1)/len(array1)\n",
    "    y_average = sum(array2)/len(array2)\n",
    "    x_dev_about_mean = [(x_i - x_average) for x_i in array1]\n",
    "    y_dev_about_mean = [(y_i - y_average) for y_i in array2] \n",
    "    x_y_dev_products = [x_dev_about_mean[i]* y_dev_about_mean[i] for i in range(len(x_dev_about_mean))]\n",
    "    return sum(x_y_dev_products)/(len(x_y_dev_products)-1)\n",
    "        "
   ]
  },
  {
   "cell_type": "code",
   "execution_count": 24,
   "metadata": {},
   "outputs": [],
   "source": [
    "def calculate_correlation(array1, array2):\n",
    "    '''\n",
    "    calculate the correlation of two arrays\n",
    "    '''\n",
    "    return calculate_covariance(array1, array2)/(calculate_std(array1)*calculate_std(array2))"
   ]
  },
  {
   "cell_type": "code",
   "execution_count": 25,
   "metadata": {},
   "outputs": [],
   "source": [
    "list1 = [2,3,4,12,12,43,13]\n",
    "list2 = [5,7,8,3,5,7,13]"
   ]
  },
  {
   "cell_type": "code",
   "execution_count": 48,
   "metadata": {},
   "outputs": [
    {
     "data": {
      "text/plain": [
       "3.119047619047619"
      ]
     },
     "execution_count": 48,
     "metadata": {},
     "output_type": "execute_result"
    }
   ],
   "source": [
    "calculate_covariance(list1, list2)"
   ]
  },
  {
   "cell_type": "code",
   "execution_count": 53,
   "metadata": {},
   "outputs": [
    {
     "data": {
      "text/plain": [
       "0.07426120095223739"
      ]
     },
     "execution_count": 53,
     "metadata": {},
     "output_type": "execute_result"
    }
   ],
   "source": [
    "calculate_correlation(list1, list2)"
   ]
  },
  {
   "cell_type": "code",
   "execution_count": 42,
   "metadata": {},
   "outputs": [
    {
     "data": {
      "text/html": [
       "<div>\n",
       "<style scoped>\n",
       "    .dataframe tbody tr th:only-of-type {\n",
       "        vertical-align: middle;\n",
       "    }\n",
       "\n",
       "    .dataframe tbody tr th {\n",
       "        vertical-align: top;\n",
       "    }\n",
       "\n",
       "    .dataframe thead th {\n",
       "        text-align: right;\n",
       "    }\n",
       "</style>\n",
       "<table border=\"1\" class=\"dataframe\">\n",
       "  <thead>\n",
       "    <tr style=\"text-align: right;\">\n",
       "      <th></th>\n",
       "      <th>x</th>\n",
       "      <th>y</th>\n",
       "    </tr>\n",
       "  </thead>\n",
       "  <tbody>\n",
       "    <tr>\n",
       "      <th>0</th>\n",
       "      <td>2</td>\n",
       "      <td>5</td>\n",
       "    </tr>\n",
       "    <tr>\n",
       "      <th>1</th>\n",
       "      <td>3</td>\n",
       "      <td>7</td>\n",
       "    </tr>\n",
       "    <tr>\n",
       "      <th>2</th>\n",
       "      <td>4</td>\n",
       "      <td>8</td>\n",
       "    </tr>\n",
       "    <tr>\n",
       "      <th>3</th>\n",
       "      <td>12</td>\n",
       "      <td>3</td>\n",
       "    </tr>\n",
       "    <tr>\n",
       "      <th>4</th>\n",
       "      <td>12</td>\n",
       "      <td>5</td>\n",
       "    </tr>\n",
       "  </tbody>\n",
       "</table>\n",
       "</div>"
      ],
      "text/plain": [
       "    x  y\n",
       "0   2  5\n",
       "1   3  7\n",
       "2   4  8\n",
       "3  12  3\n",
       "4  12  5"
      ]
     },
     "execution_count": 42,
     "metadata": {},
     "output_type": "execute_result"
    }
   ],
   "source": [
    "import pandas as pd\n",
    "data = {'x': list1, 'y': list2}\n",
    "df = pd.DataFrame(data)\n",
    "df.head()"
   ]
  },
  {
   "cell_type": "code",
   "execution_count": 43,
   "metadata": {},
   "outputs": [
    {
     "data": {
      "text/html": [
       "<div>\n",
       "<style scoped>\n",
       "    .dataframe tbody tr th:only-of-type {\n",
       "        vertical-align: middle;\n",
       "    }\n",
       "\n",
       "    .dataframe tbody tr th {\n",
       "        vertical-align: top;\n",
       "    }\n",
       "\n",
       "    .dataframe thead th {\n",
       "        text-align: right;\n",
       "    }\n",
       "</style>\n",
       "<table border=\"1\" class=\"dataframe\">\n",
       "  <thead>\n",
       "    <tr style=\"text-align: right;\">\n",
       "      <th></th>\n",
       "      <th>x</th>\n",
       "      <th>y</th>\n",
       "    </tr>\n",
       "  </thead>\n",
       "  <tbody>\n",
       "    <tr>\n",
       "      <th>x</th>\n",
       "      <td>200.571429</td>\n",
       "      <td>3.119048</td>\n",
       "    </tr>\n",
       "    <tr>\n",
       "      <th>y</th>\n",
       "      <td>3.119048</td>\n",
       "      <td>10.142857</td>\n",
       "    </tr>\n",
       "  </tbody>\n",
       "</table>\n",
       "</div>"
      ],
      "text/plain": [
       "            x          y\n",
       "x  200.571429   3.119048\n",
       "y    3.119048  10.142857"
      ]
     },
     "execution_count": 43,
     "metadata": {},
     "output_type": "execute_result"
    }
   ],
   "source": [
    "df.cov()"
   ]
  },
  {
   "cell_type": "code",
   "execution_count": 50,
   "metadata": {},
   "outputs": [
    {
     "data": {
      "text/html": [
       "<div>\n",
       "<style scoped>\n",
       "    .dataframe tbody tr th:only-of-type {\n",
       "        vertical-align: middle;\n",
       "    }\n",
       "\n",
       "    .dataframe tbody tr th {\n",
       "        vertical-align: top;\n",
       "    }\n",
       "\n",
       "    .dataframe thead th {\n",
       "        text-align: right;\n",
       "    }\n",
       "</style>\n",
       "<table border=\"1\" class=\"dataframe\">\n",
       "  <thead>\n",
       "    <tr style=\"text-align: right;\">\n",
       "      <th></th>\n",
       "      <th>x</th>\n",
       "      <th>y</th>\n",
       "    </tr>\n",
       "  </thead>\n",
       "  <tbody>\n",
       "    <tr>\n",
       "      <th>x</th>\n",
       "      <td>1.000000</td>\n",
       "      <td>0.069152</td>\n",
       "    </tr>\n",
       "    <tr>\n",
       "      <th>y</th>\n",
       "      <td>0.069152</td>\n",
       "      <td>1.000000</td>\n",
       "    </tr>\n",
       "  </tbody>\n",
       "</table>\n",
       "</div>"
      ],
      "text/plain": [
       "          x         y\n",
       "x  1.000000  0.069152\n",
       "y  0.069152  1.000000"
      ]
     },
     "execution_count": 50,
     "metadata": {},
     "output_type": "execute_result"
    }
   ],
   "source": [
    "df.corr()"
   ]
  },
  {
   "cell_type": "code",
   "execution_count": null,
   "metadata": {},
   "outputs": [],
   "source": []
  }
 ],
 "metadata": {
  "kernelspec": {
   "display_name": "Python 3",
   "language": "python",
   "name": "python3"
  },
  "language_info": {
   "codemirror_mode": {
    "name": "ipython",
    "version": 3
   },
   "file_extension": ".py",
   "mimetype": "text/x-python",
   "name": "python",
   "nbconvert_exporter": "python",
   "pygments_lexer": "ipython3",
   "version": "3.6.9"
  }
 },
 "nbformat": 4,
 "nbformat_minor": 2
}
