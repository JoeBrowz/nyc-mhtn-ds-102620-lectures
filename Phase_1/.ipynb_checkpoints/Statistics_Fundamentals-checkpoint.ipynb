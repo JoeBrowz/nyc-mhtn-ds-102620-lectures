{
 "cells": [
  {
   "cell_type": "markdown",
   "metadata": {},
   "source": [
    "# Statistics Fundamentals \n",
    "\n",
    "_October 27, 2020_\n",
    "\n",
    "Agenda today:\n",
    "- Measure of central tendency: mean, median, mode\n",
    "- Measure of dispersion: variance, standard deviation\n",
    "- Measure of relationship: covariance and correlation"
   ]
  },
  {
   "cell_type": "code",
   "execution_count": 19,
   "metadata": {},
   "outputs": [],
   "source": [
    "import numpy as np\n",
    "import matplotlib.pyplot as plt"
   ]
  },
  {
   "cell_type": "markdown",
   "metadata": {},
   "source": [
    "## Part I. Mean, Median, and Mode\n",
    "What are the definition of the three measurements?"
   ]
  },
  {
   "cell_type": "code",
   "execution_count": 20,
   "metadata": {
    "scrolled": true
   },
   "outputs": [],
   "source": [
    "array = [10,11,11,12,11,13,14,16,17,18,19,20,22,24,26,22,24]\n",
    "# plot it out and examine it \n",
    "plt.style.use('fivethirtyeight')"
   ]
  },
  {
   "cell_type": "markdown",
   "metadata": {},
   "source": [
    "What is the above plot called? What kind of values can it be used to represent?"
   ]
  },
  {
   "cell_type": "markdown",
   "metadata": {},
   "source": [
    "## Part II. Measure of Dispersion\n",
    "Two measurements of dispersion we will be concerned with is **variance** and **standard deviation**. They are both measurement of variability of dataset. Why might we need a measure of variability in addition to central tendency?"
   ]
  },
  {
   "cell_type": "markdown",
   "metadata": {},
   "source": [
    "#### Variance calculation:\n",
    "$$ \\large \\sigma^2 = \\dfrac{1}{n}\\displaystyle\\sum^n_{i=1}(x_i-\\mu)^2 $$\n",
    "\n",
    "#### Standard deviation calculation:\n",
    "$$ \\large \\sigma = \\sqrt{\\dfrac{1}{n}\\displaystyle\\sum^n_{i=1}(x_i-\\mu)^2} $$"
   ]
  },
  {
   "cell_type": "code",
   "execution_count": 21,
   "metadata": {},
   "outputs": [
    {
     "data": {
      "text/plain": [
       "26.52595155709342"
      ]
     },
     "execution_count": 21,
     "metadata": {},
     "output_type": "execute_result"
    }
   ],
   "source": [
    "# exercises\n",
    "\n",
    "# can you write a function that takes in an array, calculate the variance and standard deviation?\n",
    "def calculate_variance(array):\n",
    "    '''\n",
    "    calculate the variance of an array\n",
    "    '''\n",
    "    average = sum(array) / len(array)\n",
    "    sum_dev_about_mean_sqd = []\n",
    "    for num in array:\n",
    "        sum_dev_about_mean_sqd.append((num - average)**2)\n",
    "    return sum(sum_dev_about_mean_sqd)/len(array)\n",
    "calculate_variance(array)\n",
    "        "
   ]
  },
  {
   "cell_type": "code",
   "execution_count": 22,
   "metadata": {},
   "outputs": [
    {
     "data": {
      "text/plain": [
       "5.150335091728831"
      ]
     },
     "execution_count": 22,
     "metadata": {},
     "output_type": "execute_result"
    }
   ],
   "source": [
    "import math\n",
    "def calculate_std(array):\n",
    "    '''\n",
    "    calculate the standard deviation of an array\n",
    "    '''\n",
    "    return math.sqrt(calculate_variance(array))\n",
    "calculate_std(array)"
   ]
  },
  {
   "cell_type": "markdown",
   "metadata": {},
   "source": [
    "## Part III. Covariance and Correlation\n",
    "Covariance and correlation measures the degree of two variables' relationship. \n",
    "\n",
    "#### Covariance calculation:\n",
    "$$Cov_{X,Y} = \\dfrac{1}{n}\\displaystyle\\sum_{i=1}^{n}(x_i -\\mu_x)(y_i - \\mu_y)$$\n",
    "\n",
    "#### Correlation calculation:\n",
    "$$ r = \\frac{cov(X,Y)} {\\sigma_x  \\sigma_y}$$"
   ]
  },
  {
   "cell_type": "markdown",
   "metadata": {},
   "source": [
    "<img src= 'https://raw.githubusercontent.com/learn-co-curriculum/dsc-correlation-covariance/master/images/correx.svg'>"
   ]
  },
  {
   "cell_type": "code",
   "execution_count": 23,
   "metadata": {},
   "outputs": [],
   "source": [
    "## exercises\n",
    "\n",
    "# write a function that calculates the correlation and covariance of two arrays \n",
    "\n",
    "def calculate_covariance(array1, array2):\n",
    "    '''\n",
    "    calculate the covariance of two arrays\n",
    "    '''\n",
    "    if len(array1) != len(array2):\n",
    "        return print(\"There must be the same number \\n \n",
    "                     data points in both arrays. lol [shrug]\")\n",
    "    \n",
    "    x_average = sum(array1)/len(array1)\n",
    "    y_average = sum(array2)/len(array2)\n",
    "    x_dev_about_mean = [x_i - x_average for x_i in array1]\n",
    "    y_dev_about_mean = [y_i - y_average for y_i in array2] \n",
    "    x_y_dev_products = [x_dev_about_mean[i]* y_dev_about_mean[i] for i in range(len(x_dev_about_mean))]\n",
    "    return sum(x_y_dev_products)/len(x_y_dev_products)\n",
    "        "
   ]
  },
  {
   "cell_type": "code",
   "execution_count": 24,
   "metadata": {},
   "outputs": [],
   "source": [
    "def calculate_correlation(array1, array2):\n",
    "    '''\n",
    "    calculate the correlation of two arrays\n",
    "    '''\n",
    "    return calculate_covariance(array1, array2)/(calculate_std(array1)*calculate_std(array2))"
   ]
  },
  {
   "cell_type": "code",
   "execution_count": null,
   "metadata": {},
   "outputs": [],
   "source": [
    "list1 = [2,3,4,12, 12, 43]\n",
    "list2 = [5,7,8,3,5,7,13, 12]"
   ]
  }
 ],
 "metadata": {
  "kernelspec": {
   "display_name": "Python 3",
   "language": "python",
   "name": "python3"
  },
  "language_info": {
   "codemirror_mode": {
    "name": "ipython",
    "version": 3
   },
   "file_extension": ".py",
   "mimetype": "text/x-python",
   "name": "python",
   "nbconvert_exporter": "python",
   "pygments_lexer": "ipython3",
   "version": "3.6.9"
  }
 },
 "nbformat": 4,
 "nbformat_minor": 2
}
