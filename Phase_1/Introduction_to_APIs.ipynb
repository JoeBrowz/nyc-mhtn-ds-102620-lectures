{
 "cells": [
  {
   "cell_type": "markdown",
   "metadata": {},
   "source": [
    "# JSON and APIs\n",
    "\n",
    "_November 3, 2020_\n",
    "\n",
    "Agenda today:\n",
    "- Introduction to API and Remote Server Model \n",
    "- Getting data through an API: Case study with YELP API"
   ]
  },
  {
   "cell_type": "code",
<<<<<<< HEAD
   "execution_count": 27,
=======
   "execution_count": 14,
   "metadata": {},
   "outputs": [],
   "source": [
    "%%capture\n",
    "from tqdm import tqdm_notebook as tqdm\n",
    "tqdm().pandas()"
   ]
  },
  {
   "cell_type": "code",
   "execution_count": 15,
>>>>>>> 2f18721ecc239a4bc4f0fa19679e20778171bf98
   "metadata": {},
   "outputs": [],
   "source": [
    "import pandas as pd\n",
    "import numpy as np\n",
    "import requests\n",
    "import json\n",
    "from ipywidgets import interact, interactive, fixed, interact_manual\n",
    "#from yelp.client import Client\n",
    "import matplotlib.pyplot as plt\n",
    "plt.style.use('seaborn')"
   ]
  },
  {
   "cell_type": "markdown",
   "metadata": {
    "heading_collapsed": true
   },
   "source": [
    "## Part I. APIs and Remote Server Model\n",
    "API stands for Application Programming Interface. At some point or the other, large companies would build API for their products for their clients or internal use. It allows the company's application to communicate with another application. But what _exactly_ is an API?\n",
    "\n",
    "#### Remote server \n",
    "When we think about the world of Web, we can think of it as a collection of _servers_. And servers are nothing but huge computers that store a huge amount of data from users and are optimized to process requests. For example, when you type in www.facebook.com, your browser sends a _request_ to the Facebook server, and gets a response from the server, thus interpreting the code and displaying your homepage. \n",
    "\n",
    "In this case, your browser is the _client_, and Facebook’s server is an API. To put it broadly, whenever you visit a website, you are interacting with its API. However, an API isn’t the same as the remote server — rather it is the part of the server that receives __requests__ and sends __responses__.\n",
    "\n",
    "<img src='status-code.png' width = 500>"
   ]
  },
  {
   "cell_type": "markdown",
   "metadata": {},
   "source": [
    "## Part II. Getting Data Through APIs\n",
    "\n",
    "The `get()` method send a request to YELP's API, and stored information in a variable called `request`. Next, let's see if it's successful. "
   ]
  },
  {
   "cell_type": "markdown",
   "metadata": {},
   "source": [
    "#### YELP API\n",
    "Sometimes you need _authentication_ to get data from a service in additional to just sending a `GET()` request. Yelp API is a perfect example. \n",
    "\n",
    "You will need to go to the YELP's developer's [website](https://www.yelp.com/developers/v3/manage_app) and request for a client ID and API key, which function like a key into a house of data. \n",
    "\n",
    "<img src='yelp.png' width = 500>"
   ]
  },
  {
   "cell_type": "code",
<<<<<<< HEAD
   "execution_count": 28,
=======
   "execution_count": 11,
   "metadata": {},
   "outputs": [],
   "source": [
    "def f(x):\n",
    "    return x"
   ]
  },
  {
   "cell_type": "code",
   "execution_count": 14,
   "metadata": {},
   "outputs": [
    {
     "data": {
      "application/vnd.jupyter.widget-view+json": {
       "model_id": "f431d27c7837411f9406520deac380df",
       "version_major": 2,
       "version_minor": 0
      },
      "text/plain": [
       "interactive(children=(Dropdown(description='x', options=(1, 2, 3, 4, 5), value=1), Output()), _dom_classes=('w…"
      ]
     },
     "metadata": {},
     "output_type": "display_data"
    }
   ],
   "source": [
    "interact(f, x=[1,2,3,4,5]);"
   ]
  },
  {
   "cell_type": "code",
   "execution_count": 15,
   "metadata": {},
   "outputs": [
    {
     "data": {
      "application/vnd.jupyter.widget-view+json": {
       "model_id": "855f29801b68400d991d761492b9fc63",
       "version_major": 2,
       "version_minor": 0
      },
      "text/plain": [
       "interactive(children=(Checkbox(value=True, description='x'), FloatSlider(value=1.0, description='y', max=3.0, …"
      ]
     },
     "metadata": {},
     "output_type": "display_data"
    }
   ],
   "source": [
    "@interact(x=True, y=1.0)\n",
    "def g(x, y):\n",
    "    return (x, y)"
   ]
  },
  {
   "cell_type": "code",
   "execution_count": 2,
>>>>>>> 2f18721ecc239a4bc4f0fa19679e20778171bf98
   "metadata": {},
   "outputs": [],
   "source": [
    "# lets try to get some data from yelp!\n",
    "url = 'https://api.yelp.com/v3/businesses/search'\n",
    "response = requests.get(url)"
   ]
  },
  {
   "cell_type": "code",
<<<<<<< HEAD
   "execution_count": 29,
   "metadata": {},
   "outputs": [
    {
     "output_type": "execute_result",
=======
   "execution_count": 5,
   "metadata": {},
   "outputs": [
    {
>>>>>>> 2f18721ecc239a4bc4f0fa19679e20778171bf98
     "data": {
      "text/plain": [
       "400"
      ]
     },
<<<<<<< HEAD
     "metadata": {},
     "execution_count": 29
=======
     "execution_count": 5,
     "metadata": {},
     "output_type": "execute_result"
>>>>>>> 2f18721ecc239a4bc4f0fa19679e20778171bf98
    }
   ],
   "source": [
    "# check the status code\n",
    "response.status_code\n",
    "\n",
    "# what happened here?"
   ]
  },
  {
   "cell_type": "code",
<<<<<<< HEAD
   "execution_count": 30,
=======
   "execution_count": 4,
>>>>>>> 2f18721ecc239a4bc4f0fa19679e20778171bf98
   "metadata": {
    "scrolled": true
   },
   "outputs": [],
   "source": [
    "# now we are ready to get our data \n",
    "\n",
    "# usually, services would limit you to a certain amount of API calls. This varies from service\n",
    "# to service, so you have to watch out to it \n",
    "\n",
<<<<<<< HEAD
    "MY_API_KEY = \"o7VAVBZLPNWcsqgD7pXSgZVnFXq20wg5AWmSjAsfeH7cGEY1GaFDwbyu-IIbmhB06Kx4lCOm6Tx2C7B29F5tAfKLmRfcmPEe40AiarU6zHFBp6odIBY--aPhVJqhX3Yx\"\n",
=======
    "MY_API_KEY = \"\"\n",
>>>>>>> 2f18721ecc239a4bc4f0fa19679e20778171bf98
    "\n",
    "\n",
    "term = 'Axe Throwing'\n",
    "location = 'Brooklyn'\n",
    "SEARCH_LIMIT = 30\n",
    "\n",
    "url = 'https://api.yelp.com/v3/businesses/search'\n",
    "\n",
    "headers = {\n",
    "        'Authorization': 'Bearer {}'.format(MY_API_KEY),\n",
    "    }\n",
    "\n",
    "url_params = {\n",
    "                'term': term.replace(' ', '+'),\n",
    "                'location': location.replace(' ', '+'),\n",
    "                'limit': SEARCH_LIMIT\n",
    "            }\n",
    "response = requests.get(url, headers=headers, params=url_params)"
   ]
  },
  {
   "cell_type": "code",
<<<<<<< HEAD
   "execution_count": 31,
   "metadata": {},
   "outputs": [
    {
     "output_type": "execute_result",
     "data": {
      "text/plain": [
       "200"
      ]
     },
     "metadata": {},
     "execution_count": 31
=======
   "execution_count": 5,
   "metadata": {},
   "outputs": [
    {
     "data": {
      "text/plain": [
       "400"
      ]
     },
     "execution_count": 5,
     "metadata": {},
     "output_type": "execute_result"
>>>>>>> 2f18721ecc239a4bc4f0fa19679e20778171bf98
    }
   ],
   "source": [
    "response.status_code"
   ]
  },
  {
   "cell_type": "code",
<<<<<<< HEAD
   "execution_count": 32,
   "metadata": {},
   "outputs": [
    {
     "output_type": "stream",
     "name": "stdout",
=======
   "execution_count": 5,
   "metadata": {},
   "outputs": [
    {
     "name": "stdout",
     "output_type": "stream",
>>>>>>> 2f18721ecc239a4bc4f0fa19679e20778171bf98
     "text": [
      "<Response [200]>\n"
     ]
    }
   ],
   "source": [
    "# examine the response object\n",
    "\n",
    "print(response)\n"
   ]
  },
  {
   "cell_type": "code",
<<<<<<< HEAD
   "execution_count": 33,
=======
   "execution_count": 6,
>>>>>>> 2f18721ecc239a4bc4f0fa19679e20778171bf98
   "metadata": {
    "collapsed": true
   },
   "outputs": [
    {
<<<<<<< HEAD
     "output_type": "execute_result",
     "data": {
      "text/plain": [
       "16528"
      ]
     },
     "metadata": {},
     "execution_count": 33
=======
     "data": {
      "text/plain": [
       "'{\"businesses\": [{\"id\": \"X0DNGKUQPjf0AfaXfXU2Qg\", \"alias\": \"kick-axe-throwing-brooklyn-2\", \"name\": \"Kick Axe Throwing\", \"image_url\": \"https://s3-media1.fl.yelpcdn.com/bphoto/WjKylwrUBKnGIE_ldj142Q/o.jpg\", \"is_closed\": false, \"url\": \"https://www.yelp.com/biz/kick-axe-throwing-brooklyn-2?adjust_creative=_ers4aPp5J4lpyzx8rZXNQ&utm_campaign=yelp_api_v3&utm_medium=api_v3_business_search&utm_source=_ers4aPp5J4lpyzx8rZXNQ\", \"review_count\": 403, \"categories\": [{\"alias\": \"bars\", \"title\": \"Bars\"}, {\"alias\": \"axethrowing\", \"title\": \"Axe Throwing\"}, {\"alias\": \"tradamerican\", \"title\": \"American (Traditional)\"}], \"rating\": 4.5, \"coordinates\": {\"latitude\": 40.6790268, \"longitude\": -73.983077}, \"transactions\": [], \"location\": {\"address1\": \"622 Degraw St\", \"address2\": null, \"address3\": \"\", \"city\": \"Brooklyn\", \"zip_code\": \"11217\", \"country\": \"US\", \"state\": \"NY\", \"display_address\": [\"622 Degraw St\", \"Brooklyn, NY 11217\"]}, \"phone\": \"+18335425293\", \"display_phone\": \"(833) 542-5293\", \"distance\": 4733.616620254917}, {\"id\": \"4E6BkrEVf_0TjRVYE7gxeQ\", \"alias\": \"bury-the-hatchet-brooklyn-axe-throwing-brooklyn-2\", \"name\": \"Bury the Hatchet Brooklyn - Axe Throwing\", \"image_url\": \"https://s3-media3.fl.yelpcdn.com/bphoto/SH8_Nwmd13LkntwuzcEPeg/o.jpg\", \"is_closed\": false, \"url\": \"https://www.yelp.com/biz/bury-the-hatchet-brooklyn-axe-throwing-brooklyn-2?adjust_creative=_ers4aPp5J4lpyzx8rZXNQ&utm_campaign=yelp_api_v3&utm_medium=api_v3_business_search&utm_source=_ers4aPp5J4lpyzx8rZXNQ\", \"review_count\": 155, \"categories\": [{\"alias\": \"axethrowing\", \"title\": \"Axe Throwing\"}, {\"alias\": \"teambuilding\", \"title\": \"Team Building Activities\"}], \"rating\": 4.5, \"coordinates\": {\"latitude\": 40.7283195, \"longitude\": -73.9600679}, \"transactions\": [], \"location\": {\"address1\": \"25 Noble St\", \"address2\": null, \"address3\": \"\", \"city\": \"Brooklyn\", \"zip_code\": \"11222\", \"country\": \"US\", \"state\": \"NY\", \"display_address\": [\"25 Noble St\", \"Brooklyn, NY 11222\"]}, \"phone\": \"+19172439696\", \"display_phone\": \"(917) 243-9696\", \"distance\": 8652.979400045351}, {\"id\": \"PhEkSzYZHKYS7uyXePmkMw\", \"alias\": \"axes-and-arrows-long-island-city-2\", \"name\": \"Axes And Arrows\", \"image_url\": \"https://s3-media4.fl.yelpcdn.com/bphoto/Uinh_osn8ykDeLoigmgo0Q/o.jpg\", \"is_closed\": false, \"url\": \"https://www.yelp.com/biz/axes-and-arrows-long-island-city-2?adjust_creative=_ers4aPp5J4lpyzx8rZXNQ&utm_campaign=yelp_api_v3&utm_medium=api_v3_business_search&utm_source=_ers4aPp5J4lpyzx8rZXNQ\", \"review_count\": 49, \"categories\": [{\"alias\": \"axethrowing\", \"title\": \"Axe Throwing\"}, {\"alias\": \"archery\", \"title\": \"Archery\"}], \"rating\": 4.5, \"coordinates\": {\"latitude\": 40.7425127, \"longitude\": -73.933816}, \"transactions\": [], \"location\": {\"address1\": \"47- 11 Van Dam St\", \"address2\": null, \"address3\": \"\", \"city\": \"Long Island City\", \"zip_code\": \"11101\", \"country\": \"US\", \"state\": \"NY\", \"display_address\": [\"47- 11 Van Dam St\", \"Long Island City, NY 11101\"]}, \"phone\": \"+17183619152\", \"display_phone\": \"(718) 361-9152\", \"distance\": 9996.588059135383}, {\"id\": \"4sPiNeQGD8mzt9ess7xZrQ\", \"alias\": \"mad-axe-brooklyn\", \"name\": \"Mad Axe\", \"image_url\": \"https://s3-media4.fl.yelpcdn.com/bphoto/UOC-BswrAMfq9dX6MXxa8Q/o.jpg\", \"is_closed\": false, \"url\": \"https://www.yelp.com/biz/mad-axe-brooklyn?adjust_creative=_ers4aPp5J4lpyzx8rZXNQ&utm_campaign=yelp_api_v3&utm_medium=api_v3_business_search&utm_source=_ers4aPp5J4lpyzx8rZXNQ\", \"review_count\": 13, \"categories\": [{\"alias\": \"axethrowing\", \"title\": \"Axe Throwing\"}], \"rating\": 5.0, \"coordinates\": {\"latitude\": 40.707, \"longitude\": -73.93364}, \"transactions\": [], \"location\": {\"address1\": \"94 Bogart Street 2nd\", \"address2\": null, \"address3\": \"\", \"city\": \"Brooklyn\", \"zip_code\": \"11206\", \"country\": \"US\", \"state\": \"NY\", \"display_address\": [\"94 Bogart Street 2nd\", \"Brooklyn, NY 11206\"]}, \"phone\": \"+19292950229\", \"display_phone\": \"(929) 295-0229\", \"distance\": 6101.731538019727}, {\"id\": \"lZVE27r_W_3GXxNwECYC4g\", \"alias\": \"live-axe-new-york\", \"name\": \"Live Axe\", \"image_url\": \"https://s3-media2.fl.yelpcdn.com/bphoto/-Z1qvni_2N-K85FHmaesaQ/o.jpg\", \"is_closed\": false, \"url\": \"https://www.yelp.com/biz/live-axe-new-york?adjust_creative=_ers4aPp5J4lpyzx8rZXNQ&utm_campaign=yelp_api_v3&utm_medium=api_v3_business_search&utm_source=_ers4aPp5J4lpyzx8rZXNQ\", \"review_count\": 6, \"categories\": [{\"alias\": \"axethrowing\", \"title\": \"Axe Throwing\"}, {\"alias\": \"bars\", \"title\": \"Bars\"}], \"rating\": 4.5, \"coordinates\": {\"latitude\": 40.71769, \"longitude\": -74.00144}, \"transactions\": [], \"location\": {\"address1\": \"96 Lafayette St\", \"address2\": null, \"address3\": null, \"city\": \"New York\", \"zip_code\": \"10013\", \"country\": \"US\", \"state\": \"NY\", \"display_address\": [\"96 Lafayette St\", \"New York, NY 10013\"]}, \"phone\": \"+18888129060\", \"display_phone\": \"(888) 812-9060\", \"distance\": 8955.976101576549}, {\"id\": \"b9DAbR-1eIfLr6TPI_r59Q\", \"alias\": \"axe-kicking-entertainment-mineola\", \"name\": \"Axe Kicking Entertainment\", \"image_url\": \"https://s3-media2.fl.yelpcdn.com/bphoto/bBooTB1Ja2PSGTGLhbAjVg/o.jpg\", \"is_closed\": false, \"url\": \"https://www.yelp.com/biz/axe-kicking-entertainment-mineola?adjust_creative=_ers4aPp5J4lpyzx8rZXNQ&utm_campaign=yelp_api_v3&utm_medium=api_v3_business_search&utm_source=_ers4aPp5J4lpyzx8rZXNQ\", \"review_count\": 7, \"categories\": [{\"alias\": \"axethrowing\", \"title\": \"Axe Throwing\"}, {\"alias\": \"archery\", \"title\": \"Archery\"}, {\"alias\": \"bowling\", \"title\": \"Bowling\"}], \"rating\": 5.0, \"coordinates\": {\"latitude\": 40.74638, \"longitude\": -73.65027}, \"transactions\": [], \"location\": {\"address1\": \"360 Jericho Turnpike\", \"address2\": null, \"address3\": \"\", \"city\": \"Mineola\", \"zip_code\": \"11501\", \"country\": \"US\", \"state\": \"NY\", \"display_address\": [\"360 Jericho Turnpike\", \"Mineola, NY 11501\"]}, \"phone\": \"+15162806040\", \"display_phone\": \"(516) 280-6040\", \"distance\": 26518.825160012875}, {\"id\": \"Ub7igTH4-w5haq_bHmvFjQ\", \"alias\": \"hatchets-and-hops-brooklyn\", \"name\": \"Hatchets & Hops\", \"image_url\": \"https://s3-media2.fl.yelpcdn.com/bphoto/XfyHGdIjuF3dufr1NgMqBA/o.jpg\", \"is_closed\": false, \"url\": \"https://www.yelp.com/biz/hatchets-and-hops-brooklyn?adjust_creative=_ers4aPp5J4lpyzx8rZXNQ&utm_campaign=yelp_api_v3&utm_medium=api_v3_business_search&utm_source=_ers4aPp5J4lpyzx8rZXNQ\", \"review_count\": 1, \"categories\": [{\"alias\": \"axethrowing\", \"title\": \"Axe Throwing\"}, {\"alias\": \"bars\", \"title\": \"Bars\"}], \"rating\": 5.0, \"coordinates\": {\"latitude\": 40.721237, \"longitude\": -73.957603}, \"transactions\": [], \"location\": {\"address1\": \"98 North 11th St\", \"address2\": null, \"address3\": \"\", \"city\": \"Brooklyn\", \"zip_code\": \"11249\", \"country\": \"US\", \"state\": \"NY\", \"display_address\": [\"98 North 11th St\", \"Brooklyn, NY 11249\"]}, \"phone\": \"+18559512973\", \"display_phone\": \"(855) 951-2973\", \"distance\": 7814.584675164627}, {\"id\": \"K_Jm8V-XuOFlbHb_VUzk-w\", \"alias\": \"indoor-extreme-sports-long-island-city\", \"name\": \"Indoor Extreme Sports\", \"image_url\": \"https://s3-media2.fl.yelpcdn.com/bphoto/wQE-gOKf-shCB4sDI2WmhQ/o.jpg\", \"is_closed\": false, \"url\": \"https://www.yelp.com/biz/indoor-extreme-sports-long-island-city?adjust_creative=_ers4aPp5J4lpyzx8rZXNQ&utm_campaign=yelp_api_v3&utm_medium=api_v3_business_search&utm_source=_ers4aPp5J4lpyzx8rZXNQ\", \"review_count\": 509, \"categories\": [{\"alias\": \"paintball\", \"title\": \"Paintball\"}, {\"alias\": \"lasertag\", \"title\": \"Laser Tag\"}, {\"alias\": \"axethrowing\", \"title\": \"Axe Throwing\"}], \"rating\": 4.0, \"coordinates\": {\"latitude\": 40.7422746, \"longitude\": -73.9338804}, \"transactions\": [], \"location\": {\"address1\": \"47 11 Van Dam St\", \"address2\": null, \"address3\": \"\", \"city\": \"Long Island City\", \"zip_code\": \"11101\", \"country\": \"US\", \"state\": \"NY\", \"display_address\": [\"47 11 Van Dam St\", \"Long Island City, NY 11101\"]}, \"phone\": \"+17183619152\", \"display_phone\": \"(718) 361-9152\", \"distance\": 10012.024588128}, {\"id\": \"yXOjBSwyqOKDY7oHx3z7HA\", \"alias\": \"tomahawks-jersey-city\", \"name\": \"Tomahawks\", \"image_url\": \"https://s3-media1.fl.yelpcdn.com/bphoto/AcR-ExIWOWPNXRr6G5cGQw/o.jpg\", \"is_closed\": false, \"url\": \"https://www.yelp.com/biz/tomahawks-jersey-city?adjust_creative=_ers4aPp5J4lpyzx8rZXNQ&utm_campaign=yelp_api_v3&utm_medium=api_v3_business_search&utm_source=_ers4aPp5J4lpyzx8rZXNQ\", \"review_count\": 14, \"categories\": [{\"alias\": \"axethrowing\", \"title\": \"Axe Throwing\"}], \"rating\": 4.5, \"coordinates\": {\"latitude\": 40.7411216, \"longitude\": -74.0493572}, \"transactions\": [], \"location\": {\"address1\": \"7 Sherman Ave\", \"address2\": \"Fl 2\", \"address3\": \"\", \"city\": \"Jersey City\", \"zip_code\": \"07307\", \"country\": \"US\", \"state\": \"NJ\", \"display_address\": [\"7 Sherman Ave\", \"Fl 2\", \"Jersey City, NJ 07307\"]}, \"phone\": \"+12014209722\", \"display_phone\": \"(201) 420-9722\", \"distance\": 13556.0314007906}, {\"id\": \"wuy6jyi5cxm1pwnUTWyBLw\", \"alias\": \"stumpys-hatchet-house-fairfield-fairfield-3\", \"name\": \"Stumpy\\'s Hatchet House - Fairfield\", \"image_url\": \"https://s3-media1.fl.yelpcdn.com/bphoto/yKG858jIoenW0jLpq6Hg1A/o.jpg\", \"is_closed\": false, \"url\": \"https://www.yelp.com/biz/stumpys-hatchet-house-fairfield-fairfield-3?adjust_creative=_ers4aPp5J4lpyzx8rZXNQ&utm_campaign=yelp_api_v3&utm_medium=api_v3_business_search&utm_source=_ers4aPp5J4lpyzx8rZXNQ\", \"review_count\": 45, \"categories\": [{\"alias\": \"axethrowing\", \"title\": \"Axe Throwing\"}, {\"alias\": \"recreation\", \"title\": \"Recreation Centers\"}], \"rating\": 5.0, \"coordinates\": {\"latitude\": 40.882466, \"longitude\": -74.2942046508915}, \"transactions\": [], \"location\": {\"address1\": \"373 US-46 W\", \"address2\": \"Ste D140\", \"address3\": \"\", \"city\": \"Fairfield\", \"zip_code\": \"07004\", \"country\": \"US\", \"state\": \"NJ\", \"display_address\": [\"373 US-46 W\", \"Ste D140\", \"Fairfield, NJ 07004\"]}, \"phone\": \"+19737213120\", \"display_phone\": \"(973) 721-3120\", \"distance\": 39342.64728763023}, {\"id\": \"oKkn9nKh6jB-fsQIDbP4tQ\", \"alias\": \"bury-the-hatchet-matawan\", \"name\": \"Bury The Hatchet\", \"image_url\": \"https://s3-media1.fl.yelpcdn.com/bphoto/EsKEUTyvjjzdr6SzTzubSQ/o.jpg\", \"is_closed\": false, \"url\": \"https://www.yelp.com/biz/bury-the-hatchet-matawan?adjust_creative=_ers4aPp5J4lpyzx8rZXNQ&utm_campaign=yelp_api_v3&utm_medium=api_v3_business_search&utm_source=_ers4aPp5J4lpyzx8rZXNQ\", \"review_count\": 91, \"categories\": [{\"alias\": \"axethrowing\", \"title\": \"Axe Throwing\"}, {\"alias\": \"teambuilding\", \"title\": \"Team Building Activities\"}], \"rating\": 5.0, \"coordinates\": {\"latitude\": 40.4234040521118, \"longitude\": -74.2643531039357}, \"transactions\": [], \"location\": {\"address1\": \"419 Route 34\", \"address2\": \"\", \"address3\": null, \"city\": \"Matawan\", \"zip_code\": \"07747\", \"country\": \"US\", \"state\": \"NJ\", \"display_address\": [\"419 Route 34\", \"Matawan, NJ 07747\"]}, \"phone\": \"+17329626284\", \"display_phone\": \"(732) 962-6284\", \"distance\": 37446.224760844736}, {\"id\": \"xC9gtq17G9XU5d-yjkprfA\", \"alias\": \"bury-the-hatchet-paramus-axe-throwing-paramus-2\", \"name\": \"Bury the Hatchet Paramus - Axe Throwing\", \"image_url\": \"https://s3-media4.fl.yelpcdn.com/bphoto/2z7jvctXJEeKUBKB-XIPSg/o.jpg\", \"is_closed\": false, \"url\": \"https://www.yelp.com/biz/bury-the-hatchet-paramus-axe-throwing-paramus-2?adjust_creative=_ers4aPp5J4lpyzx8rZXNQ&utm_campaign=yelp_api_v3&utm_medium=api_v3_business_search&utm_source=_ers4aPp5J4lpyzx8rZXNQ\", \"review_count\": 75, \"categories\": [{\"alias\": \"axethrowing\", \"title\": \"Axe Throwing\"}], \"rating\": 4.0, \"coordinates\": {\"latitude\": 40.9486345940514, \"longitude\": -74.0677446595245}, \"transactions\": [], \"location\": {\"address1\": \"49 E Midland Ave\", \"address2\": null, \"address3\": \"\", \"city\": \"Paramus\", \"zip_code\": \"07652\", \"country\": \"US\", \"state\": \"NJ\", \"display_address\": [\"49 E Midland Ave\", \"Paramus, NJ 07652\"]}, \"phone\": \"+12016883358\", \"display_phone\": \"(201) 688-3358\", \"distance\": 34674.4395003575}, {\"id\": \"1BUoVTCYSpGfG0oobAr5Hg\", \"alias\": \"bury-the-hatchet-axe-throwing-bloomfield-bloomfield\", \"name\": \"Bury The Hatchet Axe Throwing- Bloomfield\", \"image_url\": \"https://s3-media2.fl.yelpcdn.com/bphoto/Y6OdaWjNZKFNKuSdl-rU3w/o.jpg\", \"is_closed\": false, \"url\": \"https://www.yelp.com/biz/bury-the-hatchet-axe-throwing-bloomfield-bloomfield?adjust_creative=_ers4aPp5J4lpyzx8rZXNQ&utm_campaign=yelp_api_v3&utm_medium=api_v3_business_search&utm_source=_ers4aPp5J4lpyzx8rZXNQ\", \"review_count\": 91, \"categories\": [{\"alias\": \"axethrowing\", \"title\": \"Axe Throwing\"}], \"rating\": 4.5, \"coordinates\": {\"latitude\": 40.79607, \"longitude\": -74.2003299}, \"transactions\": [], \"location\": {\"address1\": \"672 Bloomfield Ave\", \"address2\": null, \"address3\": \"\", \"city\": \"Bloomfield\", \"zip_code\": \"07003\", \"country\": \"US\", \"state\": \"NJ\", \"display_address\": [\"672 Bloomfield Ave\", \"Bloomfield, NJ 07003\"]}, \"phone\": \"+19738427725\", \"display_phone\": \"(973) 842-7725\", \"distance\": 27173.957270887662}, {\"id\": \"5izrkxTF_OWgwEdgzjNCAA\", \"alias\": \"bury-the-hatchet-woodbridge-axe-throwing-avenel\", \"name\": \"Bury The Hatchet Woodbridge - Axe Throwing\", \"image_url\": \"https://s3-media2.fl.yelpcdn.com/bphoto/ZhVxhmy3BDOGaEwflbF9RA/o.jpg\", \"is_closed\": false, \"url\": \"https://www.yelp.com/biz/bury-the-hatchet-woodbridge-axe-throwing-avenel?adjust_creative=_ers4aPp5J4lpyzx8rZXNQ&utm_campaign=yelp_api_v3&utm_medium=api_v3_business_search&utm_source=_ers4aPp5J4lpyzx8rZXNQ\", \"review_count\": 8, \"categories\": [{\"alias\": \"axethrowing\", \"title\": \"Axe Throwing\"}], \"rating\": 4.5, \"coordinates\": {\"latitude\": 40.5919, \"longitude\": -74.28943}, \"transactions\": [], \"location\": {\"address1\": \"1600 St Georges Ave\", \"address2\": null, \"address3\": \"\", \"city\": \"Avenel\", \"zip_code\": \"07001\", \"country\": \"US\", \"state\": \"NJ\", \"display_address\": [\"1600 St Georges Ave\", \"Avenel, NJ 07001\"]}, \"phone\": \"+17322986614\", \"display_phone\": \"(732) 298-6614\", \"distance\": 30246.00489811494}, {\"id\": \"BOYnPH11OTCMPzxiPJXHpw\", \"alias\": \"hatchet-house-hackensack-3\", \"name\": \"Hatchet House\", \"image_url\": \"https://s3-media3.fl.yelpcdn.com/bphoto/1BayJ29kv-F92Dqy7uboDA/o.jpg\", \"is_closed\": false, \"url\": \"https://www.yelp.com/biz/hatchet-house-hackensack-3?adjust_creative=_ers4aPp5J4lpyzx8rZXNQ&utm_campaign=yelp_api_v3&utm_medium=api_v3_business_search&utm_source=_ers4aPp5J4lpyzx8rZXNQ\", \"review_count\": 1, \"categories\": [{\"alias\": \"axethrowing\", \"title\": \"Axe Throwing\"}, {\"alias\": \"venues\", \"title\": \"Venues & Event Spaces\"}, {\"alias\": \"paintball\", \"title\": \"Paintball\"}], \"rating\": 3.0, \"coordinates\": {\"latitude\": 40.8832357904038, \"longitude\": -74.0432552620768}, \"transactions\": [], \"location\": {\"address1\": \"157A Main St\", \"address2\": \"\", \"address3\": null, \"city\": \"Hackensack\", \"zip_code\": \"07601\", \"country\": \"US\", \"state\": \"NJ\", \"display_address\": [\"157A Main St\", \"Hackensack, NJ 07601\"]}, \"phone\": \"+18332934653\", \"display_phone\": \"(833) 293-4653\", \"distance\": 27125.32070094518}, {\"id\": \"LN1itZNPsylqInDsLG4M_g\", \"alias\": \"new-york-sports-clubs-new-york-73\", \"name\": \"New York Sports Clubs\", \"image_url\": \"https://s3-media2.fl.yelpcdn.com/bphoto/eMLTokizDk84J50jB3gmzw/o.jpg\", \"is_closed\": false, \"url\": \"https://www.yelp.com/biz/new-york-sports-clubs-new-york-73?adjust_creative=_ers4aPp5J4lpyzx8rZXNQ&utm_campaign=yelp_api_v3&utm_medium=api_v3_business_search&utm_source=_ers4aPp5J4lpyzx8rZXNQ\", \"review_count\": 105, \"categories\": [{\"alias\": \"gyms\", \"title\": \"Gyms\"}, {\"alias\": \"healthtrainers\", \"title\": \"Trainers\"}, {\"alias\": \"sports_clubs\", \"title\": \"Sports Clubs\"}], \"rating\": 2.0, \"coordinates\": {\"latitude\": 40.7455891, \"longitude\": -73.9980521}, \"transactions\": [], \"location\": {\"address1\": \"270 8th Ave\", \"address2\": \"\", \"address3\": \"\", \"city\": \"New York\", \"zip_code\": \"10011\", \"country\": \"US\", \"state\": \"NY\", \"display_address\": [\"270 8th Ave\", \"New York, NY 10011\"]}, \"phone\": \"+12122433400\", \"display_phone\": \"(212) 243-3400\", \"distance\": 11489.778200039469}, {\"id\": \"0OJWRkAI-iot-dtKX6BjbQ\", \"alias\": \"queens-archery-flushing\", \"name\": \"Queens Archery\", \"image_url\": \"https://s3-media3.fl.yelpcdn.com/bphoto/lXOzZPUHPPdu8iGsaH38nA/o.jpg\", \"is_closed\": false, \"url\": \"https://www.yelp.com/biz/queens-archery-flushing?adjust_creative=_ers4aPp5J4lpyzx8rZXNQ&utm_campaign=yelp_api_v3&utm_medium=api_v3_business_search&utm_source=_ers4aPp5J4lpyzx8rZXNQ\", \"review_count\": 363, \"categories\": [{\"alias\": \"sports_clubs\", \"title\": \"Sports Clubs\"}, {\"alias\": \"archery\", \"title\": \"Archery\"}], \"rating\": 4.5, \"coordinates\": {\"latitude\": 40.76137, \"longitude\": -73.79556}, \"transactions\": [], \"location\": {\"address1\": \"170-20 39th Ave\", \"address2\": \"\", \"address3\": \"\", \"city\": \"Flushing\", \"zip_code\": \"11358\", \"country\": \"US\", \"state\": \"NY\", \"display_address\": [\"170-20 39th Ave\", \"Flushing, NY 11358\"]}, \"phone\": \"+17184611756\", \"display_phone\": \"(718) 461-1756\", \"distance\": 17134.395523061943}], \"total\": 27, \"region\": {\"center\": {\"longitude\": -73.93936157226562, \"latitude\": 40.652330148320374}}}'"
      ]
     },
     "execution_count": 6,
     "metadata": {},
     "output_type": "execute_result"
>>>>>>> 2f18721ecc239a4bc4f0fa19679e20778171bf98
    }
   ],
   "source": [
    "# how are we going to parse the response.text object?\n",
<<<<<<< HEAD
    "\n",
    "len(response.text)"
=======
    "response.text"
>>>>>>> 2f18721ecc239a4bc4f0fa19679e20778171bf98
   ]
  },
  {
   "cell_type": "code",
<<<<<<< HEAD
   "execution_count": 34,
=======
   "execution_count": 7,
>>>>>>> 2f18721ecc239a4bc4f0fa19679e20778171bf98
   "metadata": {},
   "outputs": [
    {
     "output_type": "execute_result",
     "data": {
      "text/plain": [
       "dict"
      ]
     },
     "metadata": {},
     "execution_count": 34
    }
   ],
   "source": [
<<<<<<< HEAD
    "# json.load()\n",
    "#   json file -> python(dict)\n",
    "\n",
    "# json.loads()\n",
    "#   string ->python(dict)\n",
    "#   load s\n",
    "type(json.loads(response.text))"
=======
    "response = '''{\"businesses\": [{\"id\": \"X0DNGKUQPjf0AfaXfXU2Qg\", \"alias\": \"kick-axe-throwing-brooklyn-2\", \"name\": \"Kick Axe Throwing\", \"image_url\": \"https://s3-media1.fl.yelpcdn.com/bphoto/WjKylwrUBKnGIE_ldj142Q/o.jpg\", \"is_closed\": false, \"url\": \"https://www.yelp.com/biz/kick-axe-throwing-brooklyn-2?adjust_creative=_ers4aPp5J4lpyzx8rZXNQ&utm_campaign=yelp_api_v3&utm_medium=api_v3_business_search&utm_source=_ers4aPp5J4lpyzx8rZXNQ\", \"review_count\": 403, \"categories\": [{\"alias\": \"bars\", \"title\": \"Bars\"}, {\"alias\": \"axethrowing\", \"title\": \"Axe Throwing\"}, {\"alias\": \"tradamerican\", \"title\": \"American (Traditional)\"}], \"rating\": 4.5, \"coordinates\": {\"latitude\": 40.6790268, \"longitude\": -73.983077}, \"transactions\": [], \"location\": {\"address1\": \"622 Degraw St\", \"address2\": null, \"address3\": \"\", \"city\": \"Brooklyn\", \"zip_code\": \"11217\", \"country\": \"US\", \"state\": \"NY\", \"display_address\": [\"622 Degraw St\", \"Brooklyn, NY 11217\"]}, \"phone\": \"+18335425293\", \"display_phone\": \"(833) 542-5293\", \"distance\": 4733.616620254917}, {\"id\": \"4E6BkrEVf_0TjRVYE7gxeQ\", \"alias\": \"bury-the-hatchet-brooklyn-axe-throwing-brooklyn-2\", \"name\": \"Bury the Hatchet Brooklyn - Axe Throwing\", \"image_url\": \"https://s3-media3.fl.yelpcdn.com/bphoto/SH8_Nwmd13LkntwuzcEPeg/o.jpg\", \"is_closed\": false, \"url\": \"https://www.yelp.com/biz/bury-the-hatchet-brooklyn-axe-throwing-brooklyn-2?adjust_creative=_ers4aPp5J4lpyzx8rZXNQ&utm_campaign=yelp_api_v3&utm_medium=api_v3_business_search&utm_source=_ers4aPp5J4lpyzx8rZXNQ\", \"review_count\": 155, \"categories\": [{\"alias\": \"axethrowing\", \"title\": \"Axe Throwing\"}, {\"alias\": \"teambuilding\", \"title\": \"Team Building Activities\"}], \"rating\": 4.5, \"coordinates\": {\"latitude\": 40.7283195, \"longitude\": -73.9600679}, \"transactions\": [], \"location\": {\"address1\": \"25 Noble St\", \"address2\": null, \"address3\": \"\", \"city\": \"Brooklyn\", \"zip_code\": \"11222\", \"country\": \"US\", \"state\": \"NY\", \"display_address\": [\"25 Noble St\", \"Brooklyn, NY 11222\"]}, \"phone\": \"+19172439696\", \"display_phone\": \"(917) 243-9696\", \"distance\": 8652.979400045351}, {\"id\": \"PhEkSzYZHKYS7uyXePmkMw\", \"alias\": \"axes-and-arrows-long-island-city-2\", \"name\": \"Axes And Arrows\", \"image_url\": \"https://s3-media4.fl.yelpcdn.com/bphoto/Uinh_osn8ykDeLoigmgo0Q/o.jpg\", \"is_closed\": false, \"url\": \"https://www.yelp.com/biz/axes-and-arrows-long-island-city-2?adjust_creative=_ers4aPp5J4lpyzx8rZXNQ&utm_campaign=yelp_api_v3&utm_medium=api_v3_business_search&utm_source=_ers4aPp5J4lpyzx8rZXNQ\", \"review_count\": 49, \"categories\": [{\"alias\": \"axethrowing\", \"title\": \"Axe Throwing\"}, {\"alias\": \"archery\", \"title\": \"Archery\"}], \"rating\": 4.5, \"coordinates\": {\"latitude\": 40.7425127, \"longitude\": -73.933816}, \"transactions\": [], \"location\": {\"address1\": \"47- 11 Van Dam St\", \"address2\": null, \"address3\": \"\", \"city\": \"Long Island City\", \"zip_code\": \"11101\", \"country\": \"US\", \"state\": \"NY\", \"display_address\": [\"47- 11 Van Dam St\", \"Long Island City, NY 11101\"]}, \"phone\": \"+17183619152\", \"display_phone\": \"(718) 361-9152\", \"distance\": 9996.588059135383}, {\"id\": \"4sPiNeQGD8mzt9ess7xZrQ\", \"alias\": \"mad-axe-brooklyn\", \"name\": \"Mad Axe\", \"image_url\": \"https://s3-media4.fl.yelpcdn.com/bphoto/UOC-BswrAMfq9dX6MXxa8Q/o.jpg\", \"is_closed\": false, \"url\": \"https://www.yelp.com/biz/mad-axe-brooklyn?adjust_creative=_ers4aPp5J4lpyzx8rZXNQ&utm_campaign=yelp_api_v3&utm_medium=api_v3_business_search&utm_source=_ers4aPp5J4lpyzx8rZXNQ\", \"review_count\": 13, \"categories\": [{\"alias\": \"axethrowing\", \"title\": \"Axe Throwing\"}], \"rating\": 5.0, \"coordinates\": {\"latitude\": 40.707, \"longitude\": -73.93364}, \"transactions\": [], \"location\": {\"address1\": \"94 Bogart Street 2nd\", \"address2\": null, \"address3\": \"\", \"city\": \"Brooklyn\", \"zip_code\": \"11206\", \"country\": \"US\", \"state\": \"NY\", \"display_address\": [\"94 Bogart Street 2nd\", \"Brooklyn, NY 11206\"]}, \"phone\": \"+19292950229\", \"display_phone\": \"(929) 295-0229\", \"distance\": 6101.731538019727}, {\"id\": \"lZVE27r_W_3GXxNwECYC4g\", \"alias\": \"live-axe-new-york\", \"name\": \"Live Axe\", \"image_url\": \"https://s3-media2.fl.yelpcdn.com/bphoto/-Z1qvni_2N-K85FHmaesaQ/o.jpg\", \"is_closed\": false, \"url\": \"https://www.yelp.com/biz/live-axe-new-york?adjust_creative=_ers4aPp5J4lpyzx8rZXNQ&utm_campaign=yelp_api_v3&utm_medium=api_v3_business_search&utm_source=_ers4aPp5J4lpyzx8rZXNQ\", \"review_count\": 6, \"categories\": [{\"alias\": \"axethrowing\", \"title\": \"Axe Throwing\"}, {\"alias\": \"bars\", \"title\": \"Bars\"}], \"rating\": 4.5, \"coordinates\": {\"latitude\": 40.71769, \"longitude\": -74.00144}, \"transactions\": [], \"location\": {\"address1\": \"96 Lafayette St\", \"address2\": null, \"address3\": null, \"city\": \"New York\", \"zip_code\": \"10013\", \"country\": \"US\", \"state\": \"NY\", \"display_address\": [\"96 Lafayette St\", \"New York, NY 10013\"]}, \"phone\": \"+18888129060\", \"display_phone\": \"(888) 812-9060\", \"distance\": 8955.976101576549}, {\"id\": \"b9DAbR-1eIfLr6TPI_r59Q\", \"alias\": \"axe-kicking-entertainment-mineola\", \"name\": \"Axe Kicking Entertainment\", \"image_url\": \"https://s3-media2.fl.yelpcdn.com/bphoto/bBooTB1Ja2PSGTGLhbAjVg/o.jpg\", \"is_closed\": false, \"url\": \"https://www.yelp.com/biz/axe-kicking-entertainment-mineola?adjust_creative=_ers4aPp5J4lpyzx8rZXNQ&utm_campaign=yelp_api_v3&utm_medium=api_v3_business_search&utm_source=_ers4aPp5J4lpyzx8rZXNQ\", \"review_count\": 7, \"categories\": [{\"alias\": \"axethrowing\", \"title\": \"Axe Throwing\"}, {\"alias\": \"archery\", \"title\": \"Archery\"}, {\"alias\": \"bowling\", \"title\": \"Bowling\"}], \"rating\": 5.0, \"coordinates\": {\"latitude\": 40.74638, \"longitude\": -73.65027}, \"transactions\": [], \"location\": {\"address1\": \"360 Jericho Turnpike\", \"address2\": null, \"address3\": \"\", \"city\": \"Mineola\", \"zip_code\": \"11501\", \"country\": \"US\", \"state\": \"NY\", \"display_address\": [\"360 Jericho Turnpike\", \"Mineola, NY 11501\"]}, \"phone\": \"+15162806040\", \"display_phone\": \"(516) 280-6040\", \"distance\": 26518.825160012875}, {\"id\": \"Ub7igTH4-w5haq_bHmvFjQ\", \"alias\": \"hatchets-and-hops-brooklyn\", \"name\": \"Hatchets & Hops\", \"image_url\": \"https://s3-media2.fl.yelpcdn.com/bphoto/XfyHGdIjuF3dufr1NgMqBA/o.jpg\", \"is_closed\": false, \"url\": \"https://www.yelp.com/biz/hatchets-and-hops-brooklyn?adjust_creative=_ers4aPp5J4lpyzx8rZXNQ&utm_campaign=yelp_api_v3&utm_medium=api_v3_business_search&utm_source=_ers4aPp5J4lpyzx8rZXNQ\", \"review_count\": 1, \"categories\": [{\"alias\": \"axethrowing\", \"title\": \"Axe Throwing\"}, {\"alias\": \"bars\", \"title\": \"Bars\"}], \"rating\": 5.0, \"coordinates\": {\"latitude\": 40.721237, \"longitude\": -73.957603}, \"transactions\": [], \"location\": {\"address1\": \"98 North 11th St\", \"address2\": null, \"address3\": \"\", \"city\": \"Brooklyn\", \"zip_code\": \"11249\", \"country\": \"US\", \"state\": \"NY\", \"display_address\": [\"98 North 11th St\", \"Brooklyn, NY 11249\"]}, \"phone\": \"+18559512973\", \"display_phone\": \"(855) 951-2973\", \"distance\": 7814.584675164627}, {\"id\": \"K_Jm8V-XuOFlbHb_VUzk-w\", \"alias\": \"indoor-extreme-sports-long-island-city\", \"name\": \"Indoor Extreme Sports\", \"image_url\": \"https://s3-media2.fl.yelpcdn.com/bphoto/wQE-gOKf-shCB4sDI2WmhQ/o.jpg\", \"is_closed\": false, \"url\": \"https://www.yelp.com/biz/indoor-extreme-sports-long-island-city?adjust_creative=_ers4aPp5J4lpyzx8rZXNQ&utm_campaign=yelp_api_v3&utm_medium=api_v3_business_search&utm_source=_ers4aPp5J4lpyzx8rZXNQ\", \"review_count\": 509, \"categories\": [{\"alias\": \"paintball\", \"title\": \"Paintball\"}, {\"alias\": \"lasertag\", \"title\": \"Laser Tag\"}, {\"alias\": \"axethrowing\", \"title\": \"Axe Throwing\"}], \"rating\": 4.0, \"coordinates\": {\"latitude\": 40.7422746, \"longitude\": -73.9338804}, \"transactions\": [], \"location\": {\"address1\": \"47 11 Van Dam St\", \"address2\": null, \"address3\": \"\", \"city\": \"Long Island City\", \"zip_code\": \"11101\", \"country\": \"US\", \"state\": \"NY\", \"display_address\": [\"47 11 Van Dam St\", \"Long Island City, NY 11101\"]}, \"phone\": \"+17183619152\", \"display_phone\": \"(718) 361-9152\", \"distance\": 10012.024588128}, {\"id\": \"yXOjBSwyqOKDY7oHx3z7HA\", \"alias\": \"tomahawks-jersey-city\", \"name\": \"Tomahawks\", \"image_url\": \"https://s3-media1.fl.yelpcdn.com/bphoto/AcR-ExIWOWPNXRr6G5cGQw/o.jpg\", \"is_closed\": false, \"url\": \"https://www.yelp.com/biz/tomahawks-jersey-city?adjust_creative=_ers4aPp5J4lpyzx8rZXNQ&utm_campaign=yelp_api_v3&utm_medium=api_v3_business_search&utm_source=_ers4aPp5J4lpyzx8rZXNQ\", \"review_count\": 14, \"categories\": [{\"alias\": \"axethrowing\", \"title\": \"Axe Throwing\"}], \"rating\": 4.5, \"coordinates\": {\"latitude\": 40.7411216, \"longitude\": -74.0493572}, \"transactions\": [], \"location\": {\"address1\": \"7 Sherman Ave\", \"address2\": \"Fl 2\", \"address3\": \"\", \"city\": \"Jersey City\", \"zip_code\": \"07307\", \"country\": \"US\", \"state\": \"NJ\", \"display_address\": [\"7 Sherman Ave\", \"Fl 2\", \"Jersey City, NJ 07307\"]}, \"phone\": \"+12014209722\", \"display_phone\": \"(201) 420-9722\", \"distance\": 13556.0314007906}, {\"id\": \"wuy6jyi5cxm1pwnUTWyBLw\", \"alias\": \"stumpys-hatchet-house-fairfield-fairfield-3\", \"name\": \"Stumpy\\'s Hatchet House - Fairfield\", \"image_url\": \"https://s3-media1.fl.yelpcdn.com/bphoto/yKG858jIoenW0jLpq6Hg1A/o.jpg\", \"is_closed\": false, \"url\": \"https://www.yelp.com/biz/stumpys-hatchet-house-fairfield-fairfield-3?adjust_creative=_ers4aPp5J4lpyzx8rZXNQ&utm_campaign=yelp_api_v3&utm_medium=api_v3_business_search&utm_source=_ers4aPp5J4lpyzx8rZXNQ\", \"review_count\": 45, \"categories\": [{\"alias\": \"axethrowing\", \"title\": \"Axe Throwing\"}, {\"alias\": \"recreation\", \"title\": \"Recreation Centers\"}], \"rating\": 5.0, \"coordinates\": {\"latitude\": 40.882466, \"longitude\": -74.2942046508915}, \"transactions\": [], \"location\": {\"address1\": \"373 US-46 W\", \"address2\": \"Ste D140\", \"address3\": \"\", \"city\": \"Fairfield\", \"zip_code\": \"07004\", \"country\": \"US\", \"state\": \"NJ\", \"display_address\": [\"373 US-46 W\", \"Ste D140\", \"Fairfield, NJ 07004\"]}, \"phone\": \"+19737213120\", \"display_phone\": \"(973) 721-3120\", \"distance\": 39342.64728763023}, {\"id\": \"oKkn9nKh6jB-fsQIDbP4tQ\", \"alias\": \"bury-the-hatchet-matawan\", \"name\": \"Bury The Hatchet\", \"image_url\": \"https://s3-media1.fl.yelpcdn.com/bphoto/EsKEUTyvjjzdr6SzTzubSQ/o.jpg\", \"is_closed\": false, \"url\": \"https://www.yelp.com/biz/bury-the-hatchet-matawan?adjust_creative=_ers4aPp5J4lpyzx8rZXNQ&utm_campaign=yelp_api_v3&utm_medium=api_v3_business_search&utm_source=_ers4aPp5J4lpyzx8rZXNQ\", \"review_count\": 91, \"categories\": [{\"alias\": \"axethrowing\", \"title\": \"Axe Throwing\"}, {\"alias\": \"teambuilding\", \"title\": \"Team Building Activities\"}], \"rating\": 5.0, \"coordinates\": {\"latitude\": 40.4234040521118, \"longitude\": -74.2643531039357}, \"transactions\": [], \"location\": {\"address1\": \"419 Route 34\", \"address2\": \"\", \"address3\": null, \"city\": \"Matawan\", \"zip_code\": \"07747\", \"country\": \"US\", \"state\": \"NJ\", \"display_address\": [\"419 Route 34\", \"Matawan, NJ 07747\"]}, \"phone\": \"+17329626284\", \"display_phone\": \"(732) 962-6284\", \"distance\": 37446.224760844736}, {\"id\": \"xC9gtq17G9XU5d-yjkprfA\", \"alias\": \"bury-the-hatchet-paramus-axe-throwing-paramus-2\", \"name\": \"Bury the Hatchet Paramus - Axe Throwing\", \"image_url\": \"https://s3-media4.fl.yelpcdn.com/bphoto/2z7jvctXJEeKUBKB-XIPSg/o.jpg\", \"is_closed\": false, \"url\": \"https://www.yelp.com/biz/bury-the-hatchet-paramus-axe-throwing-paramus-2?adjust_creative=_ers4aPp5J4lpyzx8rZXNQ&utm_campaign=yelp_api_v3&utm_medium=api_v3_business_search&utm_source=_ers4aPp5J4lpyzx8rZXNQ\", \"review_count\": 75, \"categories\": [{\"alias\": \"axethrowing\", \"title\": \"Axe Throwing\"}], \"rating\": 4.0, \"coordinates\": {\"latitude\": 40.9486345940514, \"longitude\": -74.0677446595245}, \"transactions\": [], \"location\": {\"address1\": \"49 E Midland Ave\", \"address2\": null, \"address3\": \"\", \"city\": \"Paramus\", \"zip_code\": \"07652\", \"country\": \"US\", \"state\": \"NJ\", \"display_address\": [\"49 E Midland Ave\", \"Paramus, NJ 07652\"]}, \"phone\": \"+12016883358\", \"display_phone\": \"(201) 688-3358\", \"distance\": 34674.4395003575}, {\"id\": \"1BUoVTCYSpGfG0oobAr5Hg\", \"alias\": \"bury-the-hatchet-axe-throwing-bloomfield-bloomfield\", \"name\": \"Bury The Hatchet Axe Throwing- Bloomfield\", \"image_url\": \"https://s3-media2.fl.yelpcdn.com/bphoto/Y6OdaWjNZKFNKuSdl-rU3w/o.jpg\", \"is_closed\": false, \"url\": \"https://www.yelp.com/biz/bury-the-hatchet-axe-throwing-bloomfield-bloomfield?adjust_creative=_ers4aPp5J4lpyzx8rZXNQ&utm_campaign=yelp_api_v3&utm_medium=api_v3_business_search&utm_source=_ers4aPp5J4lpyzx8rZXNQ\", \"review_count\": 91, \"categories\": [{\"alias\": \"axethrowing\", \"title\": \"Axe Throwing\"}], \"rating\": 4.5, \"coordinates\": {\"latitude\": 40.79607, \"longitude\": -74.2003299}, \"transactions\": [], \"location\": {\"address1\": \"672 Bloomfield Ave\", \"address2\": null, \"address3\": \"\", \"city\": \"Bloomfield\", \"zip_code\": \"07003\", \"country\": \"US\", \"state\": \"NJ\", \"display_address\": [\"672 Bloomfield Ave\", \"Bloomfield, NJ 07003\"]}, \"phone\": \"+19738427725\", \"display_phone\": \"(973) 842-7725\", \"distance\": 27173.957270887662}, {\"id\": \"5izrkxTF_OWgwEdgzjNCAA\", \"alias\": \"bury-the-hatchet-woodbridge-axe-throwing-avenel\", \"name\": \"Bury The Hatchet Woodbridge - Axe Throwing\", \"image_url\": \"https://s3-media2.fl.yelpcdn.com/bphoto/ZhVxhmy3BDOGaEwflbF9RA/o.jpg\", \"is_closed\": false, \"url\": \"https://www.yelp.com/biz/bury-the-hatchet-woodbridge-axe-throwing-avenel?adjust_creative=_ers4aPp5J4lpyzx8rZXNQ&utm_campaign=yelp_api_v3&utm_medium=api_v3_business_search&utm_source=_ers4aPp5J4lpyzx8rZXNQ\", \"review_count\": 8, \"categories\": [{\"alias\": \"axethrowing\", \"title\": \"Axe Throwing\"}], \"rating\": 4.5, \"coordinates\": {\"latitude\": 40.5919, \"longitude\": -74.28943}, \"transactions\": [], \"location\": {\"address1\": \"1600 St Georges Ave\", \"address2\": null, \"address3\": \"\", \"city\": \"Avenel\", \"zip_code\": \"07001\", \"country\": \"US\", \"state\": \"NJ\", \"display_address\": [\"1600 St Georges Ave\", \"Avenel, NJ 07001\"]}, \"phone\": \"+17322986614\", \"display_phone\": \"(732) 298-6614\", \"distance\": 30246.00489811494}, {\"id\": \"BOYnPH11OTCMPzxiPJXHpw\", \"alias\": \"hatchet-house-hackensack-3\", \"name\": \"Hatchet House\", \"image_url\": \"https://s3-media3.fl.yelpcdn.com/bphoto/1BayJ29kv-F92Dqy7uboDA/o.jpg\", \"is_closed\": false, \"url\": \"https://www.yelp.com/biz/hatchet-house-hackensack-3?adjust_creative=_ers4aPp5J4lpyzx8rZXNQ&utm_campaign=yelp_api_v3&utm_medium=api_v3_business_search&utm_source=_ers4aPp5J4lpyzx8rZXNQ\", \"review_count\": 1, \"categories\": [{\"alias\": \"axethrowing\", \"title\": \"Axe Throwing\"}, {\"alias\": \"venues\", \"title\": \"Venues & Event Spaces\"}, {\"alias\": \"paintball\", \"title\": \"Paintball\"}], \"rating\": 3.0, \"coordinates\": {\"latitude\": 40.8832357904038, \"longitude\": -74.0432552620768}, \"transactions\": [], \"location\": {\"address1\": \"157A Main St\", \"address2\": \"\", \"address3\": null, \"city\": \"Hackensack\", \"zip_code\": \"07601\", \"country\": \"US\", \"state\": \"NJ\", \"display_address\": [\"157A Main St\", \"Hackensack, NJ 07601\"]}, \"phone\": \"+18332934653\", \"display_phone\": \"(833) 293-4653\", \"distance\": 27125.32070094518}, {\"id\": \"LN1itZNPsylqInDsLG4M_g\", \"alias\": \"new-york-sports-clubs-new-york-73\", \"name\": \"New York Sports Clubs\", \"image_url\": \"https://s3-media2.fl.yelpcdn.com/bphoto/eMLTokizDk84J50jB3gmzw/o.jpg\", \"is_closed\": false, \"url\": \"https://www.yelp.com/biz/new-york-sports-clubs-new-york-73?adjust_creative=_ers4aPp5J4lpyzx8rZXNQ&utm_campaign=yelp_api_v3&utm_medium=api_v3_business_search&utm_source=_ers4aPp5J4lpyzx8rZXNQ\", \"review_count\": 105, \"categories\": [{\"alias\": \"gyms\", \"title\": \"Gyms\"}, {\"alias\": \"healthtrainers\", \"title\": \"Trainers\"}, {\"alias\": \"sports_clubs\", \"title\": \"Sports Clubs\"}], \"rating\": 2.0, \"coordinates\": {\"latitude\": 40.7455891, \"longitude\": -73.9980521}, \"transactions\": [], \"location\": {\"address1\": \"270 8th Ave\", \"address2\": \"\", \"address3\": \"\", \"city\": \"New York\", \"zip_code\": \"10011\", \"country\": \"US\", \"state\": \"NY\", \"display_address\": [\"270 8th Ave\", \"New York, NY 10011\"]}, \"phone\": \"+12122433400\", \"display_phone\": \"(212) 243-3400\", \"distance\": 11489.778200039469}, {\"id\": \"0OJWRkAI-iot-dtKX6BjbQ\", \"alias\": \"queens-archery-flushing\", \"name\": \"Queens Archery\", \"image_url\": \"https://s3-media3.fl.yelpcdn.com/bphoto/lXOzZPUHPPdu8iGsaH38nA/o.jpg\", \"is_closed\": false, \"url\": \"https://www.yelp.com/biz/queens-archery-flushing?adjust_creative=_ers4aPp5J4lpyzx8rZXNQ&utm_campaign=yelp_api_v3&utm_medium=api_v3_business_search&utm_source=_ers4aPp5J4lpyzx8rZXNQ\", \"review_count\": 363, \"categories\": [{\"alias\": \"sports_clubs\", \"title\": \"Sports Clubs\"}, {\"alias\": \"archery\", \"title\": \"Archery\"}], \"rating\": 4.5, \"coordinates\": {\"latitude\": 40.76137, \"longitude\": -73.79556}, \"transactions\": [], \"location\": {\"address1\": \"170-20 39th Ave\", \"address2\": \"\", \"address3\": \"\", \"city\": \"Flushing\", \"zip_code\": \"11358\", \"country\": \"US\", \"state\": \"NY\", \"display_address\": [\"170-20 39th Ave\", \"Flushing, NY 11358\"]}, \"phone\": \"+17184611756\", \"display_phone\": \"(718) 461-1756\", \"distance\": 17134.395523061943}], \"total\": 27, \"region\": {\"center\": {\"longitude\": -73.93936157226562, \"latitude\": 40.652330148320374}}}'''"
>>>>>>> 2f18721ecc239a4bc4f0fa19679e20778171bf98
   ]
  },
  {
   "cell_type": "code",
<<<<<<< HEAD
   "execution_count": 35,
=======
   "execution_count": 5,
   "metadata": {},
   "outputs": [
    {
     "ename": "AttributeError",
     "evalue": "'str' object has no attribute 'json'",
     "output_type": "error",
     "traceback": [
      "\u001b[0;31m---------------------------------------------------------------------------\u001b[0m",
      "\u001b[0;31mAttributeError\u001b[0m                            Traceback (most recent call last)",
      "\u001b[0;32m<ipython-input-5-94b2461255c9>\u001b[0m in \u001b[0;36m<module>\u001b[0;34m()\u001b[0m\n\u001b[1;32m      1\u001b[0m \u001b[0;31m# json.load() takes in a json object\u001b[0m\u001b[0;34m\u001b[0m\u001b[0;34m\u001b[0m\u001b[0;34m\u001b[0m\u001b[0m\n\u001b[1;32m      2\u001b[0m \u001b[0;31m# json.loads() takes in a string\u001b[0m\u001b[0;34m\u001b[0m\u001b[0;34m\u001b[0m\u001b[0;34m\u001b[0m\u001b[0m\n\u001b[0;32m----> 3\u001b[0;31m \u001b[0mj\u001b[0m \u001b[0;34m=\u001b[0m \u001b[0mresponse\u001b[0m\u001b[0;34m.\u001b[0m\u001b[0mjson\u001b[0m\u001b[0;34m(\u001b[0m\u001b[0;34m)\u001b[0m\u001b[0;34m\u001b[0m\u001b[0;34m\u001b[0m\u001b[0m\n\u001b[0m",
      "\u001b[0;31mAttributeError\u001b[0m: 'str' object has no attribute 'json'"
     ]
    }
   ],
   "source": [
    "# json.load() takes in a json object\n",
    "# json.loads() takes in a string\n",
    "j = response.json()"
   ]
  },
  {
   "cell_type": "code",
   "execution_count": 8,
>>>>>>> 2f18721ecc239a4bc4f0fa19679e20778171bf98
   "metadata": {},
   "outputs": [],
   "source": [
    "# working with JSON\n",
    "\n",
    "axe_throwing = response\n",
    "axe_throwing = json.loads(axe_throwing)"
   ]
  },
  {
   "cell_type": "code",
<<<<<<< HEAD
   "execution_count": 36,
   "metadata": {
    "scrolled": true
   },
   "outputs": [
    {
     "output_type": "execute_result",
=======
   "execution_count": 9,
   "metadata": {},
   "outputs": [
    {
>>>>>>> 2f18721ecc239a4bc4f0fa19679e20778171bf98
     "data": {
      "text/plain": [
       "{'businesses': [{'id': 'X0DNGKUQPjf0AfaXfXU2Qg',\n",
       "   'alias': 'kick-axe-throwing-brooklyn-2',\n",
       "   'name': 'Kick Axe Throwing',\n",
       "   'image_url': 'https://s3-media1.fl.yelpcdn.com/bphoto/WjKylwrUBKnGIE_ldj142Q/o.jpg',\n",
       "   'is_closed': False,\n",
<<<<<<< HEAD
       "   'url': 'https://www.yelp.com/biz/kick-axe-throwing-brooklyn-2?adjust_creative=GVUnShMpw45LIDmNl6KzkQ&utm_campaign=yelp_api_v3&utm_medium=api_v3_business_search&utm_source=GVUnShMpw45LIDmNl6KzkQ',\n",
       "   'review_count': 404,\n",
=======
       "   'url': 'https://www.yelp.com/biz/kick-axe-throwing-brooklyn-2?adjust_creative=_ers4aPp5J4lpyzx8rZXNQ&utm_campaign=yelp_api_v3&utm_medium=api_v3_business_search&utm_source=_ers4aPp5J4lpyzx8rZXNQ',\n",
       "   'review_count': 403,\n",
>>>>>>> 2f18721ecc239a4bc4f0fa19679e20778171bf98
       "   'categories': [{'alias': 'bars', 'title': 'Bars'},\n",
       "    {'alias': 'axethrowing', 'title': 'Axe Throwing'},\n",
       "    {'alias': 'tradamerican', 'title': 'American (Traditional)'}],\n",
       "   'rating': 4.5,\n",
       "   'coordinates': {'latitude': 40.6790268, 'longitude': -73.983077},\n",
       "   'transactions': [],\n",
       "   'location': {'address1': '622 Degraw St',\n",
       "    'address2': None,\n",
       "    'address3': '',\n",
       "    'city': 'Brooklyn',\n",
       "    'zip_code': '11217',\n",
       "    'country': 'US',\n",
       "    'state': 'NY',\n",
       "    'display_address': ['622 Degraw St', 'Brooklyn, NY 11217']},\n",
       "   'phone': '+18335425293',\n",
       "   'display_phone': '(833) 542-5293',\n",
       "   'distance': 4733.616620254917},\n",
       "  {'id': '4E6BkrEVf_0TjRVYE7gxeQ',\n",
       "   'alias': 'bury-the-hatchet-brooklyn-axe-throwing-brooklyn-2',\n",
       "   'name': 'Bury the Hatchet Brooklyn - Axe Throwing',\n",
       "   'image_url': 'https://s3-media3.fl.yelpcdn.com/bphoto/SH8_Nwmd13LkntwuzcEPeg/o.jpg',\n",
       "   'is_closed': False,\n",
<<<<<<< HEAD
       "   'url': 'https://www.yelp.com/biz/bury-the-hatchet-brooklyn-axe-throwing-brooklyn-2?adjust_creative=GVUnShMpw45LIDmNl6KzkQ&utm_campaign=yelp_api_v3&utm_medium=api_v3_business_search&utm_source=GVUnShMpw45LIDmNl6KzkQ',\n",
=======
       "   'url': 'https://www.yelp.com/biz/bury-the-hatchet-brooklyn-axe-throwing-brooklyn-2?adjust_creative=_ers4aPp5J4lpyzx8rZXNQ&utm_campaign=yelp_api_v3&utm_medium=api_v3_business_search&utm_source=_ers4aPp5J4lpyzx8rZXNQ',\n",
>>>>>>> 2f18721ecc239a4bc4f0fa19679e20778171bf98
       "   'review_count': 155,\n",
       "   'categories': [{'alias': 'axethrowing', 'title': 'Axe Throwing'},\n",
       "    {'alias': 'teambuilding', 'title': 'Team Building Activities'}],\n",
       "   'rating': 4.5,\n",
       "   'coordinates': {'latitude': 40.7283195, 'longitude': -73.9600679},\n",
       "   'transactions': [],\n",
       "   'location': {'address1': '25 Noble St',\n",
       "    'address2': None,\n",
       "    'address3': '',\n",
       "    'city': 'Brooklyn',\n",
       "    'zip_code': '11222',\n",
       "    'country': 'US',\n",
       "    'state': 'NY',\n",
       "    'display_address': ['25 Noble St', 'Brooklyn, NY 11222']},\n",
       "   'phone': '+19172439696',\n",
       "   'display_phone': '(917) 243-9696',\n",
       "   'distance': 8652.979400045351},\n",
       "  {'id': 'PhEkSzYZHKYS7uyXePmkMw',\n",
       "   'alias': 'axes-and-arrows-long-island-city-2',\n",
       "   'name': 'Axes And Arrows',\n",
       "   'image_url': 'https://s3-media4.fl.yelpcdn.com/bphoto/Uinh_osn8ykDeLoigmgo0Q/o.jpg',\n",
       "   'is_closed': False,\n",
<<<<<<< HEAD
       "   'url': 'https://www.yelp.com/biz/axes-and-arrows-long-island-city-2?adjust_creative=GVUnShMpw45LIDmNl6KzkQ&utm_campaign=yelp_api_v3&utm_medium=api_v3_business_search&utm_source=GVUnShMpw45LIDmNl6KzkQ',\n",
=======
       "   'url': 'https://www.yelp.com/biz/axes-and-arrows-long-island-city-2?adjust_creative=_ers4aPp5J4lpyzx8rZXNQ&utm_campaign=yelp_api_v3&utm_medium=api_v3_business_search&utm_source=_ers4aPp5J4lpyzx8rZXNQ',\n",
>>>>>>> 2f18721ecc239a4bc4f0fa19679e20778171bf98
       "   'review_count': 49,\n",
       "   'categories': [{'alias': 'axethrowing', 'title': 'Axe Throwing'},\n",
       "    {'alias': 'archery', 'title': 'Archery'}],\n",
       "   'rating': 4.5,\n",
       "   'coordinates': {'latitude': 40.7425127, 'longitude': -73.933816},\n",
       "   'transactions': [],\n",
       "   'location': {'address1': '47- 11 Van Dam St',\n",
       "    'address2': None,\n",
       "    'address3': '',\n",
       "    'city': 'Long Island City',\n",
       "    'zip_code': '11101',\n",
       "    'country': 'US',\n",
       "    'state': 'NY',\n",
       "    'display_address': ['47- 11 Van Dam St', 'Long Island City, NY 11101']},\n",
       "   'phone': '+17183619152',\n",
       "   'display_phone': '(718) 361-9152',\n",
       "   'distance': 9996.588059135383},\n",
       "  {'id': '4sPiNeQGD8mzt9ess7xZrQ',\n",
       "   'alias': 'mad-axe-brooklyn',\n",
       "   'name': 'Mad Axe',\n",
       "   'image_url': 'https://s3-media4.fl.yelpcdn.com/bphoto/UOC-BswrAMfq9dX6MXxa8Q/o.jpg',\n",
       "   'is_closed': False,\n",
<<<<<<< HEAD
       "   'url': 'https://www.yelp.com/biz/mad-axe-brooklyn?adjust_creative=GVUnShMpw45LIDmNl6KzkQ&utm_campaign=yelp_api_v3&utm_medium=api_v3_business_search&utm_source=GVUnShMpw45LIDmNl6KzkQ',\n",
=======
       "   'url': 'https://www.yelp.com/biz/mad-axe-brooklyn?adjust_creative=_ers4aPp5J4lpyzx8rZXNQ&utm_campaign=yelp_api_v3&utm_medium=api_v3_business_search&utm_source=_ers4aPp5J4lpyzx8rZXNQ',\n",
>>>>>>> 2f18721ecc239a4bc4f0fa19679e20778171bf98
       "   'review_count': 13,\n",
       "   'categories': [{'alias': 'axethrowing', 'title': 'Axe Throwing'}],\n",
       "   'rating': 5.0,\n",
       "   'coordinates': {'latitude': 40.707, 'longitude': -73.93364},\n",
       "   'transactions': [],\n",
       "   'location': {'address1': '94 Bogart Street 2nd',\n",
       "    'address2': None,\n",
       "    'address3': '',\n",
       "    'city': 'Brooklyn',\n",
       "    'zip_code': '11206',\n",
       "    'country': 'US',\n",
       "    'state': 'NY',\n",
       "    'display_address': ['94 Bogart Street 2nd', 'Brooklyn, NY 11206']},\n",
       "   'phone': '+19292950229',\n",
       "   'display_phone': '(929) 295-0229',\n",
       "   'distance': 6101.731538019727},\n",
       "  {'id': 'lZVE27r_W_3GXxNwECYC4g',\n",
       "   'alias': 'live-axe-new-york',\n",
       "   'name': 'Live Axe',\n",
       "   'image_url': 'https://s3-media2.fl.yelpcdn.com/bphoto/-Z1qvni_2N-K85FHmaesaQ/o.jpg',\n",
       "   'is_closed': False,\n",
<<<<<<< HEAD
       "   'url': 'https://www.yelp.com/biz/live-axe-new-york?adjust_creative=GVUnShMpw45LIDmNl6KzkQ&utm_campaign=yelp_api_v3&utm_medium=api_v3_business_search&utm_source=GVUnShMpw45LIDmNl6KzkQ',\n",
       "   'review_count': 7,\n",
=======
       "   'url': 'https://www.yelp.com/biz/live-axe-new-york?adjust_creative=_ers4aPp5J4lpyzx8rZXNQ&utm_campaign=yelp_api_v3&utm_medium=api_v3_business_search&utm_source=_ers4aPp5J4lpyzx8rZXNQ',\n",
       "   'review_count': 6,\n",
>>>>>>> 2f18721ecc239a4bc4f0fa19679e20778171bf98
       "   'categories': [{'alias': 'axethrowing', 'title': 'Axe Throwing'},\n",
       "    {'alias': 'bars', 'title': 'Bars'}],\n",
       "   'rating': 4.5,\n",
       "   'coordinates': {'latitude': 40.71769, 'longitude': -74.00144},\n",
       "   'transactions': [],\n",
       "   'location': {'address1': '96 Lafayette St',\n",
       "    'address2': None,\n",
       "    'address3': None,\n",
       "    'city': 'New York',\n",
       "    'zip_code': '10013',\n",
       "    'country': 'US',\n",
       "    'state': 'NY',\n",
       "    'display_address': ['96 Lafayette St', 'New York, NY 10013']},\n",
       "   'phone': '+18888129060',\n",
       "   'display_phone': '(888) 812-9060',\n",
       "   'distance': 8955.976101576549},\n",
       "  {'id': 'b9DAbR-1eIfLr6TPI_r59Q',\n",
       "   'alias': 'axe-kicking-entertainment-mineola',\n",
       "   'name': 'Axe Kicking Entertainment',\n",
       "   'image_url': 'https://s3-media2.fl.yelpcdn.com/bphoto/bBooTB1Ja2PSGTGLhbAjVg/o.jpg',\n",
       "   'is_closed': False,\n",
<<<<<<< HEAD
       "   'url': 'https://www.yelp.com/biz/axe-kicking-entertainment-mineola?adjust_creative=GVUnShMpw45LIDmNl6KzkQ&utm_campaign=yelp_api_v3&utm_medium=api_v3_business_search&utm_source=GVUnShMpw45LIDmNl6KzkQ',\n",
=======
       "   'url': 'https://www.yelp.com/biz/axe-kicking-entertainment-mineola?adjust_creative=_ers4aPp5J4lpyzx8rZXNQ&utm_campaign=yelp_api_v3&utm_medium=api_v3_business_search&utm_source=_ers4aPp5J4lpyzx8rZXNQ',\n",
>>>>>>> 2f18721ecc239a4bc4f0fa19679e20778171bf98
       "   'review_count': 7,\n",
       "   'categories': [{'alias': 'axethrowing', 'title': 'Axe Throwing'},\n",
       "    {'alias': 'archery', 'title': 'Archery'},\n",
       "    {'alias': 'bowling', 'title': 'Bowling'}],\n",
       "   'rating': 5.0,\n",
       "   'coordinates': {'latitude': 40.74638, 'longitude': -73.65027},\n",
       "   'transactions': [],\n",
       "   'location': {'address1': '360 Jericho Turnpike',\n",
       "    'address2': None,\n",
       "    'address3': '',\n",
       "    'city': 'Mineola',\n",
       "    'zip_code': '11501',\n",
       "    'country': 'US',\n",
       "    'state': 'NY',\n",
       "    'display_address': ['360 Jericho Turnpike', 'Mineola, NY 11501']},\n",
       "   'phone': '+15162806040',\n",
       "   'display_phone': '(516) 280-6040',\n",
       "   'distance': 26518.825160012875},\n",
       "  {'id': 'Ub7igTH4-w5haq_bHmvFjQ',\n",
       "   'alias': 'hatchets-and-hops-brooklyn',\n",
       "   'name': 'Hatchets & Hops',\n",
       "   'image_url': 'https://s3-media2.fl.yelpcdn.com/bphoto/XfyHGdIjuF3dufr1NgMqBA/o.jpg',\n",
       "   'is_closed': False,\n",
<<<<<<< HEAD
       "   'url': 'https://www.yelp.com/biz/hatchets-and-hops-brooklyn?adjust_creative=GVUnShMpw45LIDmNl6KzkQ&utm_campaign=yelp_api_v3&utm_medium=api_v3_business_search&utm_source=GVUnShMpw45LIDmNl6KzkQ',\n",
=======
       "   'url': 'https://www.yelp.com/biz/hatchets-and-hops-brooklyn?adjust_creative=_ers4aPp5J4lpyzx8rZXNQ&utm_campaign=yelp_api_v3&utm_medium=api_v3_business_search&utm_source=_ers4aPp5J4lpyzx8rZXNQ',\n",
>>>>>>> 2f18721ecc239a4bc4f0fa19679e20778171bf98
       "   'review_count': 1,\n",
       "   'categories': [{'alias': 'axethrowing', 'title': 'Axe Throwing'},\n",
       "    {'alias': 'bars', 'title': 'Bars'}],\n",
       "   'rating': 5.0,\n",
       "   'coordinates': {'latitude': 40.721237, 'longitude': -73.957603},\n",
       "   'transactions': [],\n",
       "   'location': {'address1': '98 North 11th St',\n",
       "    'address2': None,\n",
       "    'address3': '',\n",
       "    'city': 'Brooklyn',\n",
       "    'zip_code': '11249',\n",
       "    'country': 'US',\n",
       "    'state': 'NY',\n",
       "    'display_address': ['98 North 11th St', 'Brooklyn, NY 11249']},\n",
       "   'phone': '+18559512973',\n",
       "   'display_phone': '(855) 951-2973',\n",
       "   'distance': 7814.584675164627},\n",
       "  {'id': 'K_Jm8V-XuOFlbHb_VUzk-w',\n",
       "   'alias': 'indoor-extreme-sports-long-island-city',\n",
       "   'name': 'Indoor Extreme Sports',\n",
       "   'image_url': 'https://s3-media2.fl.yelpcdn.com/bphoto/wQE-gOKf-shCB4sDI2WmhQ/o.jpg',\n",
       "   'is_closed': False,\n",
<<<<<<< HEAD
       "   'url': 'https://www.yelp.com/biz/indoor-extreme-sports-long-island-city?adjust_creative=GVUnShMpw45LIDmNl6KzkQ&utm_campaign=yelp_api_v3&utm_medium=api_v3_business_search&utm_source=GVUnShMpw45LIDmNl6KzkQ',\n",
=======
       "   'url': 'https://www.yelp.com/biz/indoor-extreme-sports-long-island-city?adjust_creative=_ers4aPp5J4lpyzx8rZXNQ&utm_campaign=yelp_api_v3&utm_medium=api_v3_business_search&utm_source=_ers4aPp5J4lpyzx8rZXNQ',\n",
>>>>>>> 2f18721ecc239a4bc4f0fa19679e20778171bf98
       "   'review_count': 509,\n",
       "   'categories': [{'alias': 'paintball', 'title': 'Paintball'},\n",
       "    {'alias': 'lasertag', 'title': 'Laser Tag'},\n",
       "    {'alias': 'axethrowing', 'title': 'Axe Throwing'}],\n",
       "   'rating': 4.0,\n",
       "   'coordinates': {'latitude': 40.7422746, 'longitude': -73.9338804},\n",
       "   'transactions': [],\n",
       "   'location': {'address1': '47 11 Van Dam St',\n",
       "    'address2': None,\n",
       "    'address3': '',\n",
       "    'city': 'Long Island City',\n",
       "    'zip_code': '11101',\n",
       "    'country': 'US',\n",
       "    'state': 'NY',\n",
       "    'display_address': ['47 11 Van Dam St', 'Long Island City, NY 11101']},\n",
       "   'phone': '+17183619152',\n",
       "   'display_phone': '(718) 361-9152',\n",
       "   'distance': 10012.024588128},\n",
       "  {'id': 'yXOjBSwyqOKDY7oHx3z7HA',\n",
       "   'alias': 'tomahawks-jersey-city',\n",
       "   'name': 'Tomahawks',\n",
       "   'image_url': 'https://s3-media1.fl.yelpcdn.com/bphoto/AcR-ExIWOWPNXRr6G5cGQw/o.jpg',\n",
       "   'is_closed': False,\n",
<<<<<<< HEAD
       "   'url': 'https://www.yelp.com/biz/tomahawks-jersey-city?adjust_creative=GVUnShMpw45LIDmNl6KzkQ&utm_campaign=yelp_api_v3&utm_medium=api_v3_business_search&utm_source=GVUnShMpw45LIDmNl6KzkQ',\n",
=======
       "   'url': 'https://www.yelp.com/biz/tomahawks-jersey-city?adjust_creative=_ers4aPp5J4lpyzx8rZXNQ&utm_campaign=yelp_api_v3&utm_medium=api_v3_business_search&utm_source=_ers4aPp5J4lpyzx8rZXNQ',\n",
>>>>>>> 2f18721ecc239a4bc4f0fa19679e20778171bf98
       "   'review_count': 14,\n",
       "   'categories': [{'alias': 'axethrowing', 'title': 'Axe Throwing'}],\n",
       "   'rating': 4.5,\n",
       "   'coordinates': {'latitude': 40.7411216, 'longitude': -74.0493572},\n",
       "   'transactions': [],\n",
       "   'location': {'address1': '7 Sherman Ave',\n",
       "    'address2': 'Fl 2',\n",
       "    'address3': '',\n",
       "    'city': 'Jersey City',\n",
       "    'zip_code': '07307',\n",
       "    'country': 'US',\n",
       "    'state': 'NJ',\n",
       "    'display_address': ['7 Sherman Ave', 'Fl 2', 'Jersey City, NJ 07307']},\n",
       "   'phone': '+12014209722',\n",
       "   'display_phone': '(201) 420-9722',\n",
       "   'distance': 13556.0314007906},\n",
       "  {'id': 'wuy6jyi5cxm1pwnUTWyBLw',\n",
       "   'alias': 'stumpys-hatchet-house-fairfield-fairfield-3',\n",
       "   'name': \"Stumpy's Hatchet House - Fairfield\",\n",
       "   'image_url': 'https://s3-media1.fl.yelpcdn.com/bphoto/yKG858jIoenW0jLpq6Hg1A/o.jpg',\n",
       "   'is_closed': False,\n",
<<<<<<< HEAD
       "   'url': 'https://www.yelp.com/biz/stumpys-hatchet-house-fairfield-fairfield-3?adjust_creative=GVUnShMpw45LIDmNl6KzkQ&utm_campaign=yelp_api_v3&utm_medium=api_v3_business_search&utm_source=GVUnShMpw45LIDmNl6KzkQ',\n",
=======
       "   'url': 'https://www.yelp.com/biz/stumpys-hatchet-house-fairfield-fairfield-3?adjust_creative=_ers4aPp5J4lpyzx8rZXNQ&utm_campaign=yelp_api_v3&utm_medium=api_v3_business_search&utm_source=_ers4aPp5J4lpyzx8rZXNQ',\n",
>>>>>>> 2f18721ecc239a4bc4f0fa19679e20778171bf98
       "   'review_count': 45,\n",
       "   'categories': [{'alias': 'axethrowing', 'title': 'Axe Throwing'},\n",
       "    {'alias': 'recreation', 'title': 'Recreation Centers'}],\n",
       "   'rating': 5.0,\n",
       "   'coordinates': {'latitude': 40.882466, 'longitude': -74.2942046508915},\n",
       "   'transactions': [],\n",
       "   'location': {'address1': '373 US-46 W',\n",
       "    'address2': 'Ste D140',\n",
       "    'address3': '',\n",
       "    'city': 'Fairfield',\n",
       "    'zip_code': '07004',\n",
       "    'country': 'US',\n",
       "    'state': 'NJ',\n",
       "    'display_address': ['373 US-46 W', 'Ste D140', 'Fairfield, NJ 07004']},\n",
       "   'phone': '+19737213120',\n",
       "   'display_phone': '(973) 721-3120',\n",
       "   'distance': 39342.64728763023},\n",
       "  {'id': 'oKkn9nKh6jB-fsQIDbP4tQ',\n",
       "   'alias': 'bury-the-hatchet-matawan',\n",
       "   'name': 'Bury The Hatchet',\n",
       "   'image_url': 'https://s3-media1.fl.yelpcdn.com/bphoto/EsKEUTyvjjzdr6SzTzubSQ/o.jpg',\n",
       "   'is_closed': False,\n",
<<<<<<< HEAD
       "   'url': 'https://www.yelp.com/biz/bury-the-hatchet-matawan?adjust_creative=GVUnShMpw45LIDmNl6KzkQ&utm_campaign=yelp_api_v3&utm_medium=api_v3_business_search&utm_source=GVUnShMpw45LIDmNl6KzkQ',\n",
=======
       "   'url': 'https://www.yelp.com/biz/bury-the-hatchet-matawan?adjust_creative=_ers4aPp5J4lpyzx8rZXNQ&utm_campaign=yelp_api_v3&utm_medium=api_v3_business_search&utm_source=_ers4aPp5J4lpyzx8rZXNQ',\n",
>>>>>>> 2f18721ecc239a4bc4f0fa19679e20778171bf98
       "   'review_count': 91,\n",
       "   'categories': [{'alias': 'axethrowing', 'title': 'Axe Throwing'},\n",
       "    {'alias': 'teambuilding', 'title': 'Team Building Activities'}],\n",
       "   'rating': 5.0,\n",
       "   'coordinates': {'latitude': 40.4234040521118,\n",
       "    'longitude': -74.2643531039357},\n",
       "   'transactions': [],\n",
       "   'location': {'address1': '419 Route 34',\n",
       "    'address2': '',\n",
       "    'address3': None,\n",
       "    'city': 'Matawan',\n",
       "    'zip_code': '07747',\n",
       "    'country': 'US',\n",
       "    'state': 'NJ',\n",
       "    'display_address': ['419 Route 34', 'Matawan, NJ 07747']},\n",
       "   'phone': '+17329626284',\n",
       "   'display_phone': '(732) 962-6284',\n",
       "   'distance': 37446.224760844736},\n",
       "  {'id': 'xC9gtq17G9XU5d-yjkprfA',\n",
       "   'alias': 'bury-the-hatchet-paramus-axe-throwing-paramus-2',\n",
       "   'name': 'Bury the Hatchet Paramus - Axe Throwing',\n",
       "   'image_url': 'https://s3-media4.fl.yelpcdn.com/bphoto/2z7jvctXJEeKUBKB-XIPSg/o.jpg',\n",
       "   'is_closed': False,\n",
<<<<<<< HEAD
       "   'url': 'https://www.yelp.com/biz/bury-the-hatchet-paramus-axe-throwing-paramus-2?adjust_creative=GVUnShMpw45LIDmNl6KzkQ&utm_campaign=yelp_api_v3&utm_medium=api_v3_business_search&utm_source=GVUnShMpw45LIDmNl6KzkQ',\n",
=======
       "   'url': 'https://www.yelp.com/biz/bury-the-hatchet-paramus-axe-throwing-paramus-2?adjust_creative=_ers4aPp5J4lpyzx8rZXNQ&utm_campaign=yelp_api_v3&utm_medium=api_v3_business_search&utm_source=_ers4aPp5J4lpyzx8rZXNQ',\n",
>>>>>>> 2f18721ecc239a4bc4f0fa19679e20778171bf98
       "   'review_count': 75,\n",
       "   'categories': [{'alias': 'axethrowing', 'title': 'Axe Throwing'}],\n",
       "   'rating': 4.0,\n",
       "   'coordinates': {'latitude': 40.9486345940514,\n",
       "    'longitude': -74.0677446595245},\n",
       "   'transactions': [],\n",
       "   'location': {'address1': '49 E Midland Ave',\n",
       "    'address2': None,\n",
       "    'address3': '',\n",
       "    'city': 'Paramus',\n",
       "    'zip_code': '07652',\n",
       "    'country': 'US',\n",
       "    'state': 'NJ',\n",
       "    'display_address': ['49 E Midland Ave', 'Paramus, NJ 07652']},\n",
       "   'phone': '+12016883358',\n",
       "   'display_phone': '(201) 688-3358',\n",
       "   'distance': 34674.4395003575},\n",
       "  {'id': '1BUoVTCYSpGfG0oobAr5Hg',\n",
       "   'alias': 'bury-the-hatchet-axe-throwing-bloomfield-bloomfield',\n",
       "   'name': 'Bury The Hatchet Axe Throwing- Bloomfield',\n",
       "   'image_url': 'https://s3-media2.fl.yelpcdn.com/bphoto/Y6OdaWjNZKFNKuSdl-rU3w/o.jpg',\n",
       "   'is_closed': False,\n",
<<<<<<< HEAD
       "   'url': 'https://www.yelp.com/biz/bury-the-hatchet-axe-throwing-bloomfield-bloomfield?adjust_creative=GVUnShMpw45LIDmNl6KzkQ&utm_campaign=yelp_api_v3&utm_medium=api_v3_business_search&utm_source=GVUnShMpw45LIDmNl6KzkQ',\n",
=======
       "   'url': 'https://www.yelp.com/biz/bury-the-hatchet-axe-throwing-bloomfield-bloomfield?adjust_creative=_ers4aPp5J4lpyzx8rZXNQ&utm_campaign=yelp_api_v3&utm_medium=api_v3_business_search&utm_source=_ers4aPp5J4lpyzx8rZXNQ',\n",
>>>>>>> 2f18721ecc239a4bc4f0fa19679e20778171bf98
       "   'review_count': 91,\n",
       "   'categories': [{'alias': 'axethrowing', 'title': 'Axe Throwing'}],\n",
       "   'rating': 4.5,\n",
       "   'coordinates': {'latitude': 40.79607, 'longitude': -74.2003299},\n",
       "   'transactions': [],\n",
       "   'location': {'address1': '672 Bloomfield Ave',\n",
       "    'address2': None,\n",
       "    'address3': '',\n",
       "    'city': 'Bloomfield',\n",
       "    'zip_code': '07003',\n",
       "    'country': 'US',\n",
       "    'state': 'NJ',\n",
       "    'display_address': ['672 Bloomfield Ave', 'Bloomfield, NJ 07003']},\n",
       "   'phone': '+19738427725',\n",
       "   'display_phone': '(973) 842-7725',\n",
       "   'distance': 27173.957270887662},\n",
       "  {'id': '5izrkxTF_OWgwEdgzjNCAA',\n",
       "   'alias': 'bury-the-hatchet-woodbridge-axe-throwing-avenel',\n",
       "   'name': 'Bury The Hatchet Woodbridge - Axe Throwing',\n",
       "   'image_url': 'https://s3-media2.fl.yelpcdn.com/bphoto/ZhVxhmy3BDOGaEwflbF9RA/o.jpg',\n",
       "   'is_closed': False,\n",
<<<<<<< HEAD
       "   'url': 'https://www.yelp.com/biz/bury-the-hatchet-woodbridge-axe-throwing-avenel?adjust_creative=GVUnShMpw45LIDmNl6KzkQ&utm_campaign=yelp_api_v3&utm_medium=api_v3_business_search&utm_source=GVUnShMpw45LIDmNl6KzkQ',\n",
=======
       "   'url': 'https://www.yelp.com/biz/bury-the-hatchet-woodbridge-axe-throwing-avenel?adjust_creative=_ers4aPp5J4lpyzx8rZXNQ&utm_campaign=yelp_api_v3&utm_medium=api_v3_business_search&utm_source=_ers4aPp5J4lpyzx8rZXNQ',\n",
>>>>>>> 2f18721ecc239a4bc4f0fa19679e20778171bf98
       "   'review_count': 8,\n",
       "   'categories': [{'alias': 'axethrowing', 'title': 'Axe Throwing'}],\n",
       "   'rating': 4.5,\n",
       "   'coordinates': {'latitude': 40.5919, 'longitude': -74.28943},\n",
       "   'transactions': [],\n",
       "   'location': {'address1': '1600 St Georges Ave',\n",
       "    'address2': None,\n",
       "    'address3': '',\n",
       "    'city': 'Avenel',\n",
       "    'zip_code': '07001',\n",
       "    'country': 'US',\n",
       "    'state': 'NJ',\n",
       "    'display_address': ['1600 St Georges Ave', 'Avenel, NJ 07001']},\n",
       "   'phone': '+17322986614',\n",
       "   'display_phone': '(732) 298-6614',\n",
       "   'distance': 30246.00489811494},\n",
       "  {'id': 'BOYnPH11OTCMPzxiPJXHpw',\n",
       "   'alias': 'hatchet-house-hackensack-3',\n",
       "   'name': 'Hatchet House',\n",
       "   'image_url': 'https://s3-media3.fl.yelpcdn.com/bphoto/1BayJ29kv-F92Dqy7uboDA/o.jpg',\n",
       "   'is_closed': False,\n",
<<<<<<< HEAD
       "   'url': 'https://www.yelp.com/biz/hatchet-house-hackensack-3?adjust_creative=GVUnShMpw45LIDmNl6KzkQ&utm_campaign=yelp_api_v3&utm_medium=api_v3_business_search&utm_source=GVUnShMpw45LIDmNl6KzkQ',\n",
=======
       "   'url': 'https://www.yelp.com/biz/hatchet-house-hackensack-3?adjust_creative=_ers4aPp5J4lpyzx8rZXNQ&utm_campaign=yelp_api_v3&utm_medium=api_v3_business_search&utm_source=_ers4aPp5J4lpyzx8rZXNQ',\n",
>>>>>>> 2f18721ecc239a4bc4f0fa19679e20778171bf98
       "   'review_count': 1,\n",
       "   'categories': [{'alias': 'axethrowing', 'title': 'Axe Throwing'},\n",
       "    {'alias': 'venues', 'title': 'Venues & Event Spaces'},\n",
       "    {'alias': 'paintball', 'title': 'Paintball'}],\n",
       "   'rating': 3.0,\n",
       "   'coordinates': {'latitude': 40.8832357904038,\n",
       "    'longitude': -74.0432552620768},\n",
       "   'transactions': [],\n",
       "   'location': {'address1': '157A Main St',\n",
       "    'address2': '',\n",
       "    'address3': None,\n",
       "    'city': 'Hackensack',\n",
       "    'zip_code': '07601',\n",
       "    'country': 'US',\n",
       "    'state': 'NJ',\n",
       "    'display_address': ['157A Main St', 'Hackensack, NJ 07601']},\n",
       "   'phone': '+18332934653',\n",
       "   'display_phone': '(833) 293-4653',\n",
       "   'distance': 27125.32070094518},\n",
       "  {'id': 'LN1itZNPsylqInDsLG4M_g',\n",
       "   'alias': 'new-york-sports-clubs-new-york-73',\n",
       "   'name': 'New York Sports Clubs',\n",
       "   'image_url': 'https://s3-media2.fl.yelpcdn.com/bphoto/eMLTokizDk84J50jB3gmzw/o.jpg',\n",
       "   'is_closed': False,\n",
<<<<<<< HEAD
       "   'url': 'https://www.yelp.com/biz/new-york-sports-clubs-new-york-73?adjust_creative=GVUnShMpw45LIDmNl6KzkQ&utm_campaign=yelp_api_v3&utm_medium=api_v3_business_search&utm_source=GVUnShMpw45LIDmNl6KzkQ',\n",
=======
       "   'url': 'https://www.yelp.com/biz/new-york-sports-clubs-new-york-73?adjust_creative=_ers4aPp5J4lpyzx8rZXNQ&utm_campaign=yelp_api_v3&utm_medium=api_v3_business_search&utm_source=_ers4aPp5J4lpyzx8rZXNQ',\n",
>>>>>>> 2f18721ecc239a4bc4f0fa19679e20778171bf98
       "   'review_count': 105,\n",
       "   'categories': [{'alias': 'gyms', 'title': 'Gyms'},\n",
       "    {'alias': 'healthtrainers', 'title': 'Trainers'},\n",
       "    {'alias': 'sports_clubs', 'title': 'Sports Clubs'}],\n",
       "   'rating': 2.0,\n",
       "   'coordinates': {'latitude': 40.7455891, 'longitude': -73.9980521},\n",
       "   'transactions': [],\n",
       "   'location': {'address1': '270 8th Ave',\n",
       "    'address2': '',\n",
       "    'address3': '',\n",
       "    'city': 'New York',\n",
       "    'zip_code': '10011',\n",
       "    'country': 'US',\n",
       "    'state': 'NY',\n",
       "    'display_address': ['270 8th Ave', 'New York, NY 10011']},\n",
       "   'phone': '+12122433400',\n",
       "   'display_phone': '(212) 243-3400',\n",
       "   'distance': 11489.778200039469},\n",
       "  {'id': '0OJWRkAI-iot-dtKX6BjbQ',\n",
       "   'alias': 'queens-archery-flushing',\n",
       "   'name': 'Queens Archery',\n",
       "   'image_url': 'https://s3-media3.fl.yelpcdn.com/bphoto/lXOzZPUHPPdu8iGsaH38nA/o.jpg',\n",
       "   'is_closed': False,\n",
<<<<<<< HEAD
       "   'url': 'https://www.yelp.com/biz/queens-archery-flushing?adjust_creative=GVUnShMpw45LIDmNl6KzkQ&utm_campaign=yelp_api_v3&utm_medium=api_v3_business_search&utm_source=GVUnShMpw45LIDmNl6KzkQ',\n",
=======
       "   'url': 'https://www.yelp.com/biz/queens-archery-flushing?adjust_creative=_ers4aPp5J4lpyzx8rZXNQ&utm_campaign=yelp_api_v3&utm_medium=api_v3_business_search&utm_source=_ers4aPp5J4lpyzx8rZXNQ',\n",
>>>>>>> 2f18721ecc239a4bc4f0fa19679e20778171bf98
       "   'review_count': 363,\n",
       "   'categories': [{'alias': 'sports_clubs', 'title': 'Sports Clubs'},\n",
       "    {'alias': 'archery', 'title': 'Archery'}],\n",
       "   'rating': 4.5,\n",
       "   'coordinates': {'latitude': 40.76137, 'longitude': -73.79556},\n",
       "   'transactions': [],\n",
       "   'location': {'address1': '170-20 39th Ave',\n",
       "    'address2': '',\n",
       "    'address3': '',\n",
       "    'city': 'Flushing',\n",
       "    'zip_code': '11358',\n",
       "    'country': 'US',\n",
       "    'state': 'NY',\n",
       "    'display_address': ['170-20 39th Ave', 'Flushing, NY 11358']},\n",
       "   'phone': '+17184611756',\n",
       "   'display_phone': '(718) 461-1756',\n",
       "   'distance': 17134.395523061943}],\n",
       " 'total': 27,\n",
       " 'region': {'center': {'longitude': -73.93936157226562,\n",
       "   'latitude': 40.652330148320374}}}"
      ]
     },
<<<<<<< HEAD
     "metadata": {},
     "execution_count": 36
=======
     "execution_count": 9,
     "metadata": {},
     "output_type": "execute_result"
>>>>>>> 2f18721ecc239a4bc4f0fa19679e20778171bf98
    }
   ],
   "source": [
    "axe_throwing"
   ]
  },
  {
   "cell_type": "code",
<<<<<<< HEAD
   "execution_count": 37,
=======
   "execution_count": 10,
>>>>>>> 2f18721ecc239a4bc4f0fa19679e20778171bf98
   "metadata": {
    "scrolled": false
   },
   "outputs": [
    {
<<<<<<< HEAD
     "output_type": "stream",
     "name": "stdout",
     "text": [
      "businesses\ntotal\nregion\n"
=======
     "name": "stdout",
     "output_type": "stream",
     "text": [
      "businesses <class 'list'>\n",
      "total <class 'int'>\n",
      "region <class 'dict'>\n"
>>>>>>> 2f18721ecc239a4bc4f0fa19679e20778171bf98
     ]
    }
   ],
   "source": [
    "# cleaning and exploring the data\n",
    "for key in axe_throwing.keys():\n",
    "    print(key, type(axe_throwing[key]))"
   ]
  },
  {
   "cell_type": "code",
<<<<<<< HEAD
   "execution_count": 44,
=======
   "execution_count": 11,
   "metadata": {},
   "outputs": [],
   "source": [
    "keys = axe_throwing['region']['center'].keys()"
   ]
  },
  {
   "cell_type": "code",
   "execution_count": 12,
>>>>>>> 2f18721ecc239a4bc4f0fa19679e20778171bf98
   "metadata": {
    "scrolled": true
   },
   "outputs": [
    {
     "output_type": "execute_result",
     "data": {
      "text/plain": [
       "27"
      ]
     },
     "metadata": {},
     "execution_count": 44
    }
   ],
   "source": [
    "# explore which objects in the dataframe we need\n",
<<<<<<< HEAD
    "axe_throwing['total']"
=======
    "df = pd.DataFrame(axe_throwing['businesses'])"
>>>>>>> 2f18721ecc239a4bc4f0fa19679e20778171bf98
   ]
  },
  {
   "cell_type": "code",
<<<<<<< HEAD
   "execution_count": 39,
=======
   "execution_count": 13,
   "metadata": {},
   "outputs": [],
   "source": [
    "for key in keys:\n",
    "    df[key] = df.coordinates.apply(lambda x: x[key])"
   ]
  },
  {
   "cell_type": "code",
   "execution_count": 9,
>>>>>>> 2f18721ecc239a4bc4f0fa19679e20778171bf98
   "metadata": {
    "scrolled": true
   },
   "outputs": [
    {
<<<<<<< HEAD
     "output_type": "execute_result",
     "data": {
      "text/plain": [
       "                       id                                              alias  \\\n",
       "0  X0DNGKUQPjf0AfaXfXU2Qg                       kick-axe-throwing-brooklyn-2   \n",
       "1  4E6BkrEVf_0TjRVYE7gxeQ  bury-the-hatchet-brooklyn-axe-throwing-brooklyn-2   \n",
       "2  PhEkSzYZHKYS7uyXePmkMw                 axes-and-arrows-long-island-city-2   \n",
       "3  4sPiNeQGD8mzt9ess7xZrQ                                   mad-axe-brooklyn   \n",
       "4  lZVE27r_W_3GXxNwECYC4g                                  live-axe-new-york   \n",
       "\n",
       "                                       name  \\\n",
       "0                         Kick Axe Throwing   \n",
       "1  Bury the Hatchet Brooklyn - Axe Throwing   \n",
       "2                           Axes And Arrows   \n",
       "3                                   Mad Axe   \n",
       "4                                  Live Axe   \n",
       "\n",
       "                                           image_url  is_closed  \\\n",
       "0  https://s3-media1.fl.yelpcdn.com/bphoto/WjKylw...      False   \n",
       "1  https://s3-media3.fl.yelpcdn.com/bphoto/SH8_Nw...      False   \n",
       "2  https://s3-media4.fl.yelpcdn.com/bphoto/Uinh_o...      False   \n",
       "3  https://s3-media4.fl.yelpcdn.com/bphoto/UOC-Bs...      False   \n",
       "4  https://s3-media2.fl.yelpcdn.com/bphoto/-Z1qvn...      False   \n",
       "\n",
       "                                                 url  review_count  \\\n",
       "0  https://www.yelp.com/biz/kick-axe-throwing-bro...           404   \n",
       "1  https://www.yelp.com/biz/bury-the-hatchet-broo...           155   \n",
       "2  https://www.yelp.com/biz/axes-and-arrows-long-...            49   \n",
       "3  https://www.yelp.com/biz/mad-axe-brooklyn?adju...            13   \n",
       "4  https://www.yelp.com/biz/live-axe-new-york?adj...             7   \n",
       "\n",
       "                                          categories  rating  \\\n",
       "0  [{'alias': 'bars', 'title': 'Bars'}, {'alias':...     4.5   \n",
       "1  [{'alias': 'axethrowing', 'title': 'Axe Throwi...     4.5   \n",
       "2  [{'alias': 'axethrowing', 'title': 'Axe Throwi...     4.5   \n",
       "3  [{'alias': 'axethrowing', 'title': 'Axe Throwi...     5.0   \n",
       "4  [{'alias': 'axethrowing', 'title': 'Axe Throwi...     4.5   \n",
       "\n",
       "                                         coordinates transactions  \\\n",
       "0  {'latitude': 40.6790268, 'longitude': -73.983077}           []   \n",
       "1  {'latitude': 40.7283195, 'longitude': -73.9600...           []   \n",
       "2  {'latitude': 40.7425127, 'longitude': -73.933816}           []   \n",
       "3       {'latitude': 40.707, 'longitude': -73.93364}           []   \n",
       "4     {'latitude': 40.71769, 'longitude': -74.00144}           []   \n",
       "\n",
       "                                            location         phone  \\\n",
       "0  {'address1': '622 Degraw St', 'address2': None...  +18335425293   \n",
       "1  {'address1': '25 Noble St', 'address2': None, ...  +19172439696   \n",
       "2  {'address1': '47- 11 Van Dam St', 'address2': ...  +17183619152   \n",
       "3  {'address1': '94 Bogart Street 2nd', 'address2...  +19292950229   \n",
       "4  {'address1': '96 Lafayette St', 'address2': No...  +18888129060   \n",
       "\n",
       "    display_phone     distance  \n",
       "0  (833) 542-5293  4733.616620  \n",
       "1  (917) 243-9696  8652.979400  \n",
       "2  (718) 361-9152  9996.588059  \n",
       "3  (929) 295-0229  6101.731538  \n",
       "4  (888) 812-9060  8955.976102  "
      ],
      "text/html": "<div>\n<style scoped>\n    .dataframe tbody tr th:only-of-type {\n        vertical-align: middle;\n    }\n\n    .dataframe tbody tr th {\n        vertical-align: top;\n    }\n\n    .dataframe thead th {\n        text-align: right;\n    }\n</style>\n<table border=\"1\" class=\"dataframe\">\n  <thead>\n    <tr style=\"text-align: right;\">\n      <th></th>\n      <th>id</th>\n      <th>alias</th>\n      <th>name</th>\n      <th>image_url</th>\n      <th>is_closed</th>\n      <th>url</th>\n      <th>review_count</th>\n      <th>categories</th>\n      <th>rating</th>\n      <th>coordinates</th>\n      <th>transactions</th>\n      <th>location</th>\n      <th>phone</th>\n      <th>display_phone</th>\n      <th>distance</th>\n    </tr>\n  </thead>\n  <tbody>\n    <tr>\n      <th>0</th>\n      <td>X0DNGKUQPjf0AfaXfXU2Qg</td>\n      <td>kick-axe-throwing-brooklyn-2</td>\n      <td>Kick Axe Throwing</td>\n      <td>https://s3-media1.fl.yelpcdn.com/bphoto/WjKylw...</td>\n      <td>False</td>\n      <td>https://www.yelp.com/biz/kick-axe-throwing-bro...</td>\n      <td>404</td>\n      <td>[{'alias': 'bars', 'title': 'Bars'}, {'alias':...</td>\n      <td>4.5</td>\n      <td>{'latitude': 40.6790268, 'longitude': -73.983077}</td>\n      <td>[]</td>\n      <td>{'address1': '622 Degraw St', 'address2': None...</td>\n      <td>+18335425293</td>\n      <td>(833) 542-5293</td>\n      <td>4733.616620</td>\n    </tr>\n    <tr>\n      <th>1</th>\n      <td>4E6BkrEVf_0TjRVYE7gxeQ</td>\n      <td>bury-the-hatchet-brooklyn-axe-throwing-brooklyn-2</td>\n      <td>Bury the Hatchet Brooklyn - Axe Throwing</td>\n      <td>https://s3-media3.fl.yelpcdn.com/bphoto/SH8_Nw...</td>\n      <td>False</td>\n      <td>https://www.yelp.com/biz/bury-the-hatchet-broo...</td>\n      <td>155</td>\n      <td>[{'alias': 'axethrowing', 'title': 'Axe Throwi...</td>\n      <td>4.5</td>\n      <td>{'latitude': 40.7283195, 'longitude': -73.9600...</td>\n      <td>[]</td>\n      <td>{'address1': '25 Noble St', 'address2': None, ...</td>\n      <td>+19172439696</td>\n      <td>(917) 243-9696</td>\n      <td>8652.979400</td>\n    </tr>\n    <tr>\n      <th>2</th>\n      <td>PhEkSzYZHKYS7uyXePmkMw</td>\n      <td>axes-and-arrows-long-island-city-2</td>\n      <td>Axes And Arrows</td>\n      <td>https://s3-media4.fl.yelpcdn.com/bphoto/Uinh_o...</td>\n      <td>False</td>\n      <td>https://www.yelp.com/biz/axes-and-arrows-long-...</td>\n      <td>49</td>\n      <td>[{'alias': 'axethrowing', 'title': 'Axe Throwi...</td>\n      <td>4.5</td>\n      <td>{'latitude': 40.7425127, 'longitude': -73.933816}</td>\n      <td>[]</td>\n      <td>{'address1': '47- 11 Van Dam St', 'address2': ...</td>\n      <td>+17183619152</td>\n      <td>(718) 361-9152</td>\n      <td>9996.588059</td>\n    </tr>\n    <tr>\n      <th>3</th>\n      <td>4sPiNeQGD8mzt9ess7xZrQ</td>\n      <td>mad-axe-brooklyn</td>\n      <td>Mad Axe</td>\n      <td>https://s3-media4.fl.yelpcdn.com/bphoto/UOC-Bs...</td>\n      <td>False</td>\n      <td>https://www.yelp.com/biz/mad-axe-brooklyn?adju...</td>\n      <td>13</td>\n      <td>[{'alias': 'axethrowing', 'title': 'Axe Throwi...</td>\n      <td>5.0</td>\n      <td>{'latitude': 40.707, 'longitude': -73.93364}</td>\n      <td>[]</td>\n      <td>{'address1': '94 Bogart Street 2nd', 'address2...</td>\n      <td>+19292950229</td>\n      <td>(929) 295-0229</td>\n      <td>6101.731538</td>\n    </tr>\n    <tr>\n      <th>4</th>\n      <td>lZVE27r_W_3GXxNwECYC4g</td>\n      <td>live-axe-new-york</td>\n      <td>Live Axe</td>\n      <td>https://s3-media2.fl.yelpcdn.com/bphoto/-Z1qvn...</td>\n      <td>False</td>\n      <td>https://www.yelp.com/biz/live-axe-new-york?adj...</td>\n      <td>7</td>\n      <td>[{'alias': 'axethrowing', 'title': 'Axe Throwi...</td>\n      <td>4.5</td>\n      <td>{'latitude': 40.71769, 'longitude': -74.00144}</td>\n      <td>[]</td>\n      <td>{'address1': '96 Lafayette St', 'address2': No...</td>\n      <td>+18888129060</td>\n      <td>(888) 812-9060</td>\n      <td>8955.976102</td>\n    </tr>\n  </tbody>\n</table>\n</div>"
     },
     "metadata": {},
     "execution_count": 39
=======
     "data": {
      "text/plain": [
       "0     40.679027\n",
       "1     40.728319\n",
       "2     40.742513\n",
       "3     40.707000\n",
       "4     40.717690\n",
       "5     40.746380\n",
       "6     40.721237\n",
       "7     40.742275\n",
       "8     40.741122\n",
       "9     40.882466\n",
       "10    40.423404\n",
       "11    40.948635\n",
       "12    40.796070\n",
       "13    40.591900\n",
       "14    40.883236\n",
       "15    40.745589\n",
       "16    40.761370\n",
       "Name: latitude, dtype: float64"
      ]
     },
     "execution_count": 9,
     "metadata": {},
     "output_type": "execute_result"
>>>>>>> 2f18721ecc239a4bc4f0fa19679e20778171bf98
    }
   ],
   "source": [
    "# let's turn the things we need into a pandas dataframe\n",
<<<<<<< HEAD
    "axe_df = pd.DataFrame(axe_throwing['businesses'])\n",
    "axe_df.head()"
=======
    "df[key]"
>>>>>>> 2f18721ecc239a4bc4f0fa19679e20778171bf98
   ]
  },
  {
   "cell_type": "code",
<<<<<<< HEAD
   "execution_count": 40,
=======
   "execution_count": 10,
>>>>>>> 2f18721ecc239a4bc4f0fa19679e20778171bf98
   "metadata": {
    "scrolled": false
   },
   "outputs": [
    {
<<<<<<< HEAD
     "output_type": "execute_result",
=======
>>>>>>> 2f18721ecc239a4bc4f0fa19679e20778171bf98
     "data": {
      "text/plain": [
       "(array([9., 3., 1., 1., 0., 0., 0., 2., 0., 1.]),\n",
       " array([  1. ,  51.8, 102.6, 153.4, 204.2, 255. , 305.8, 356.6, 407.4,\n",
       "        458.2, 509. ]),\n",
       " <a list of 10 Patch objects>)"
      ]
     },
<<<<<<< HEAD
     "metadata": {},
     "execution_count": 40
    },
    {
     "output_type": "display_data",
     "data": {
      "text/plain": "<Figure size 576x396 with 1 Axes>",
      "image/svg+xml": "<?xml version=\"1.0\" encoding=\"utf-8\" standalone=\"no\"?>\n<!DOCTYPE svg PUBLIC \"-//W3C//DTD SVG 1.1//EN\"\n  \"http://www.w3.org/Graphics/SVG/1.1/DTD/svg11.dtd\">\n<!-- Created with matplotlib (https://matplotlib.org/) -->\n<svg height=\"329.525312pt\" version=\"1.1\" viewBox=\"0 0 473.360937 329.525312\" width=\"473.360937pt\" xmlns=\"http://www.w3.org/2000/svg\" xmlns:xlink=\"http://www.w3.org/1999/xlink\">\n <defs>\n  <style type=\"text/css\">\n*{stroke-linecap:butt;stroke-linejoin:round;}\n  </style>\n </defs>\n <g id=\"figure_1\">\n  <g id=\"patch_1\">\n   <path d=\"M 0 329.525312 \nL 473.360937 329.525312 \nL 473.360937 0 \nL 0 0 \nz\n\" style=\"fill:#ffffff;\"/>\n  </g>\n  <g id=\"axes_1\">\n   <g id=\"patch_2\">\n    <path d=\"M 19.760938 306.18 \nL 466.160937 306.18 \nL 466.160937 7.2 \nL 19.760938 7.2 \nz\n\" style=\"fill:#eaeaf2;\"/>\n   </g>\n   <g id=\"matplotlib.axis_1\">\n    <g id=\"xtick_1\">\n     <g id=\"line2d_1\">\n      <path clip-path=\"url(#p04ca6af6ee)\" d=\"M 39.252992 306.18 \nL 39.252992 7.2 \n\" style=\"fill:none;stroke:#ffffff;stroke-linecap:round;\"/>\n     </g>\n     <g id=\"line2d_2\"/>\n     <g id=\"text_1\">\n      <!-- 0 -->\n      <defs>\n       <path d=\"M 4.15625 35.296875 \nQ 4.15625 48 6.765625 55.734375 \nQ 9.375 63.484375 14.515625 67.671875 \nQ 19.671875 71.875 27.484375 71.875 \nQ 33.25 71.875 37.59375 69.546875 \nQ 41.9375 67.234375 44.765625 62.859375 \nQ 47.609375 58.5 49.21875 52.21875 \nQ 50.828125 45.953125 50.828125 35.296875 \nQ 50.828125 22.703125 48.234375 14.96875 \nQ 45.65625 7.234375 40.5 3 \nQ 35.359375 -1.21875 27.484375 -1.21875 \nQ 17.140625 -1.21875 11.234375 6.203125 \nQ 4.15625 15.140625 4.15625 35.296875 \nz\nM 13.1875 35.296875 \nQ 13.1875 17.671875 17.3125 11.828125 \nQ 21.4375 6 27.484375 6 \nQ 33.546875 6 37.671875 11.859375 \nQ 41.796875 17.71875 41.796875 35.296875 \nQ 41.796875 52.984375 37.671875 58.78125 \nQ 33.546875 64.59375 27.390625 64.59375 \nQ 21.34375 64.59375 17.71875 59.46875 \nQ 13.1875 52.9375 13.1875 35.296875 \nz\n\" id=\"ArialMT-48\"/>\n      </defs>\n      <g style=\"fill:#262626;\" transform=\"translate(36.472523 320.337812)scale(0.1 -0.1)\">\n       <use xlink:href=\"#ArialMT-48\"/>\n      </g>\n     </g>\n    </g>\n    <g id=\"xtick_2\">\n     <g id=\"line2d_3\">\n      <path clip-path=\"url(#p04ca6af6ee)\" d=\"M 119.138461 306.18 \nL 119.138461 7.2 \n\" style=\"fill:none;stroke:#ffffff;stroke-linecap:round;\"/>\n     </g>\n     <g id=\"line2d_4\"/>\n     <g id=\"text_2\">\n      <!-- 100 -->\n      <defs>\n       <path d=\"M 37.25 0 \nL 28.46875 0 \nL 28.46875 56 \nQ 25.296875 52.984375 20.140625 49.953125 \nQ 14.984375 46.921875 10.890625 45.40625 \nL 10.890625 53.90625 \nQ 18.265625 57.375 23.78125 62.296875 \nQ 29.296875 67.234375 31.59375 71.875 \nL 37.25 71.875 \nz\n\" id=\"ArialMT-49\"/>\n      </defs>\n      <g style=\"fill:#262626;\" transform=\"translate(110.797055 320.337812)scale(0.1 -0.1)\">\n       <use xlink:href=\"#ArialMT-49\"/>\n       <use x=\"55.615234\" xlink:href=\"#ArialMT-48\"/>\n       <use x=\"111.230469\" xlink:href=\"#ArialMT-48\"/>\n      </g>\n     </g>\n    </g>\n    <g id=\"xtick_3\">\n     <g id=\"line2d_5\">\n      <path clip-path=\"url(#p04ca6af6ee)\" d=\"M 199.02393 306.18 \nL 199.02393 7.2 \n\" style=\"fill:none;stroke:#ffffff;stroke-linecap:round;\"/>\n     </g>\n     <g id=\"line2d_6\"/>\n     <g id=\"text_3\">\n      <!-- 200 -->\n      <defs>\n       <path d=\"M 50.34375 8.453125 \nL 50.34375 0 \nL 3.03125 0 \nQ 2.9375 3.171875 4.046875 6.109375 \nQ 5.859375 10.9375 9.828125 15.625 \nQ 13.8125 20.3125 21.34375 26.46875 \nQ 33.015625 36.03125 37.109375 41.625 \nQ 41.21875 47.21875 41.21875 52.203125 \nQ 41.21875 57.421875 37.46875 61 \nQ 33.734375 64.59375 27.734375 64.59375 \nQ 21.390625 64.59375 17.578125 60.78125 \nQ 13.765625 56.984375 13.71875 50.25 \nL 4.6875 51.171875 \nQ 5.609375 61.28125 11.65625 66.578125 \nQ 17.71875 71.875 27.9375 71.875 \nQ 38.234375 71.875 44.234375 66.15625 \nQ 50.25 60.453125 50.25 52 \nQ 50.25 47.703125 48.484375 43.546875 \nQ 46.734375 39.40625 42.65625 34.8125 \nQ 38.578125 30.21875 29.109375 22.21875 \nQ 21.1875 15.578125 18.9375 13.203125 \nQ 16.703125 10.84375 15.234375 8.453125 \nz\n\" id=\"ArialMT-50\"/>\n      </defs>\n      <g style=\"fill:#262626;\" transform=\"translate(190.682523 320.337812)scale(0.1 -0.1)\">\n       <use xlink:href=\"#ArialMT-50\"/>\n       <use x=\"55.615234\" xlink:href=\"#ArialMT-48\"/>\n       <use x=\"111.230469\" xlink:href=\"#ArialMT-48\"/>\n      </g>\n     </g>\n    </g>\n    <g id=\"xtick_4\">\n     <g id=\"line2d_7\">\n      <path clip-path=\"url(#p04ca6af6ee)\" d=\"M 278.909398 306.18 \nL 278.909398 7.2 \n\" style=\"fill:none;stroke:#ffffff;stroke-linecap:round;\"/>\n     </g>\n     <g id=\"line2d_8\"/>\n     <g id=\"text_4\">\n      <!-- 300 -->\n      <defs>\n       <path d=\"M 4.203125 18.890625 \nL 12.984375 20.0625 \nQ 14.5 12.59375 18.140625 9.296875 \nQ 21.78125 6 27 6 \nQ 33.203125 6 37.46875 10.296875 \nQ 41.75 14.59375 41.75 20.953125 \nQ 41.75 27 37.796875 30.921875 \nQ 33.84375 34.859375 27.734375 34.859375 \nQ 25.25 34.859375 21.53125 33.890625 \nL 22.515625 41.609375 \nQ 23.390625 41.5 23.921875 41.5 \nQ 29.546875 41.5 34.03125 44.421875 \nQ 38.53125 47.359375 38.53125 53.46875 \nQ 38.53125 58.296875 35.25 61.46875 \nQ 31.984375 64.65625 26.8125 64.65625 \nQ 21.6875 64.65625 18.265625 61.421875 \nQ 14.84375 58.203125 13.875 51.765625 \nL 5.078125 53.328125 \nQ 6.6875 62.15625 12.390625 67.015625 \nQ 18.109375 71.875 26.609375 71.875 \nQ 32.46875 71.875 37.390625 69.359375 \nQ 42.328125 66.84375 44.9375 62.5 \nQ 47.5625 58.15625 47.5625 53.265625 \nQ 47.5625 48.640625 45.0625 44.828125 \nQ 42.578125 41.015625 37.703125 38.765625 \nQ 44.046875 37.3125 47.5625 32.6875 \nQ 51.078125 28.078125 51.078125 21.140625 \nQ 51.078125 11.765625 44.234375 5.25 \nQ 37.40625 -1.265625 26.953125 -1.265625 \nQ 17.53125 -1.265625 11.296875 4.34375 \nQ 5.078125 9.96875 4.203125 18.890625 \nz\n\" id=\"ArialMT-51\"/>\n      </defs>\n      <g style=\"fill:#262626;\" transform=\"translate(270.567992 320.337812)scale(0.1 -0.1)\">\n       <use xlink:href=\"#ArialMT-51\"/>\n       <use x=\"55.615234\" xlink:href=\"#ArialMT-48\"/>\n       <use x=\"111.230469\" xlink:href=\"#ArialMT-48\"/>\n      </g>\n     </g>\n    </g>\n    <g id=\"xtick_5\">\n     <g id=\"line2d_9\">\n      <path clip-path=\"url(#p04ca6af6ee)\" d=\"M 358.794867 306.18 \nL 358.794867 7.2 \n\" style=\"fill:none;stroke:#ffffff;stroke-linecap:round;\"/>\n     </g>\n     <g id=\"line2d_10\"/>\n     <g id=\"text_5\">\n      <!-- 400 -->\n      <defs>\n       <path d=\"M 32.328125 0 \nL 32.328125 17.140625 \nL 1.265625 17.140625 \nL 1.265625 25.203125 \nL 33.9375 71.578125 \nL 41.109375 71.578125 \nL 41.109375 25.203125 \nL 50.78125 25.203125 \nL 50.78125 17.140625 \nL 41.109375 17.140625 \nL 41.109375 0 \nz\nM 32.328125 25.203125 \nL 32.328125 57.46875 \nL 9.90625 25.203125 \nz\n\" id=\"ArialMT-52\"/>\n      </defs>\n      <g style=\"fill:#262626;\" transform=\"translate(350.453461 320.337812)scale(0.1 -0.1)\">\n       <use xlink:href=\"#ArialMT-52\"/>\n       <use x=\"55.615234\" xlink:href=\"#ArialMT-48\"/>\n       <use x=\"111.230469\" xlink:href=\"#ArialMT-48\"/>\n      </g>\n     </g>\n    </g>\n    <g id=\"xtick_6\">\n     <g id=\"line2d_11\">\n      <path clip-path=\"url(#p04ca6af6ee)\" d=\"M 438.680336 306.18 \nL 438.680336 7.2 \n\" style=\"fill:none;stroke:#ffffff;stroke-linecap:round;\"/>\n     </g>\n     <g id=\"line2d_12\"/>\n     <g id=\"text_6\">\n      <!-- 500 -->\n      <defs>\n       <path d=\"M 4.15625 18.75 \nL 13.375 19.53125 \nQ 14.40625 12.796875 18.140625 9.390625 \nQ 21.875 6 27.15625 6 \nQ 33.5 6 37.890625 10.78125 \nQ 42.28125 15.578125 42.28125 23.484375 \nQ 42.28125 31 38.0625 35.34375 \nQ 33.84375 39.703125 27 39.703125 \nQ 22.75 39.703125 19.328125 37.765625 \nQ 15.921875 35.84375 13.96875 32.765625 \nL 5.71875 33.84375 \nL 12.640625 70.609375 \nL 48.25 70.609375 \nL 48.25 62.203125 \nL 19.671875 62.203125 \nL 15.828125 42.96875 \nQ 22.265625 47.46875 29.34375 47.46875 \nQ 38.71875 47.46875 45.15625 40.96875 \nQ 51.609375 34.46875 51.609375 24.265625 \nQ 51.609375 14.546875 45.953125 7.46875 \nQ 39.0625 -1.21875 27.15625 -1.21875 \nQ 17.390625 -1.21875 11.203125 4.25 \nQ 5.03125 9.71875 4.15625 18.75 \nz\n\" id=\"ArialMT-53\"/>\n      </defs>\n      <g style=\"fill:#262626;\" transform=\"translate(430.33893 320.337812)scale(0.1 -0.1)\">\n       <use xlink:href=\"#ArialMT-53\"/>\n       <use x=\"55.615234\" xlink:href=\"#ArialMT-48\"/>\n       <use x=\"111.230469\" xlink:href=\"#ArialMT-48\"/>\n      </g>\n     </g>\n    </g>\n   </g>\n   <g id=\"matplotlib.axis_2\">\n    <g id=\"ytick_1\">\n     <g id=\"line2d_13\">\n      <path clip-path=\"url(#p04ca6af6ee)\" d=\"M 19.760938 306.18 \nL 466.160937 306.18 \n\" style=\"fill:none;stroke:#ffffff;stroke-linecap:round;\"/>\n     </g>\n     <g id=\"line2d_14\"/>\n     <g id=\"text_7\">\n      <!-- 0 -->\n      <g style=\"fill:#262626;\" transform=\"translate(7.2 309.758906)scale(0.1 -0.1)\">\n       <use xlink:href=\"#ArialMT-48\"/>\n      </g>\n     </g>\n    </g>\n    <g id=\"ytick_2\">\n     <g id=\"line2d_15\">\n      <path clip-path=\"url(#p04ca6af6ee)\" d=\"M 19.760938 242.90381 \nL 466.160937 242.90381 \n\" style=\"fill:none;stroke:#ffffff;stroke-linecap:round;\"/>\n     </g>\n     <g id=\"line2d_16\"/>\n     <g id=\"text_8\">\n      <!-- 2 -->\n      <g style=\"fill:#262626;\" transform=\"translate(7.2 246.482716)scale(0.1 -0.1)\">\n       <use xlink:href=\"#ArialMT-50\"/>\n      </g>\n     </g>\n    </g>\n    <g id=\"ytick_3\">\n     <g id=\"line2d_17\">\n      <path clip-path=\"url(#p04ca6af6ee)\" d=\"M 19.760938 179.627619 \nL 466.160937 179.627619 \n\" style=\"fill:none;stroke:#ffffff;stroke-linecap:round;\"/>\n     </g>\n     <g id=\"line2d_18\"/>\n     <g id=\"text_9\">\n      <!-- 4 -->\n      <g style=\"fill:#262626;\" transform=\"translate(7.2 183.206525)scale(0.1 -0.1)\">\n       <use xlink:href=\"#ArialMT-52\"/>\n      </g>\n     </g>\n    </g>\n    <g id=\"ytick_4\">\n     <g id=\"line2d_19\">\n      <path clip-path=\"url(#p04ca6af6ee)\" d=\"M 19.760938 116.351429 \nL 466.160937 116.351429 \n\" style=\"fill:none;stroke:#ffffff;stroke-linecap:round;\"/>\n     </g>\n     <g id=\"line2d_20\"/>\n     <g id=\"text_10\">\n      <!-- 6 -->\n      <defs>\n       <path d=\"M 49.75 54.046875 \nL 41.015625 53.375 \nQ 39.84375 58.546875 37.703125 60.890625 \nQ 34.125 64.65625 28.90625 64.65625 \nQ 24.703125 64.65625 21.53125 62.3125 \nQ 17.390625 59.28125 14.984375 53.46875 \nQ 12.59375 47.65625 12.5 36.921875 \nQ 15.671875 41.75 20.265625 44.09375 \nQ 24.859375 46.4375 29.890625 46.4375 \nQ 38.671875 46.4375 44.84375 39.96875 \nQ 51.03125 33.5 51.03125 23.25 \nQ 51.03125 16.5 48.125 10.71875 \nQ 45.21875 4.9375 40.140625 1.859375 \nQ 35.0625 -1.21875 28.609375 -1.21875 \nQ 17.625 -1.21875 10.6875 6.859375 \nQ 3.765625 14.9375 3.765625 33.5 \nQ 3.765625 54.25 11.421875 63.671875 \nQ 18.109375 71.875 29.4375 71.875 \nQ 37.890625 71.875 43.28125 67.140625 \nQ 48.6875 62.40625 49.75 54.046875 \nz\nM 13.875 23.1875 \nQ 13.875 18.65625 15.796875 14.5 \nQ 17.71875 10.359375 21.1875 8.171875 \nQ 24.65625 6 28.46875 6 \nQ 34.03125 6 38.03125 10.484375 \nQ 42.046875 14.984375 42.046875 22.703125 \nQ 42.046875 30.125 38.078125 34.390625 \nQ 34.125 38.671875 28.125 38.671875 \nQ 22.171875 38.671875 18.015625 34.390625 \nQ 13.875 30.125 13.875 23.1875 \nz\n\" id=\"ArialMT-54\"/>\n      </defs>\n      <g style=\"fill:#262626;\" transform=\"translate(7.2 119.930335)scale(0.1 -0.1)\">\n       <use xlink:href=\"#ArialMT-54\"/>\n      </g>\n     </g>\n    </g>\n    <g id=\"ytick_5\">\n     <g id=\"line2d_21\">\n      <path clip-path=\"url(#p04ca6af6ee)\" d=\"M 19.760938 53.075238 \nL 466.160937 53.075238 \n\" style=\"fill:none;stroke:#ffffff;stroke-linecap:round;\"/>\n     </g>\n     <g id=\"line2d_22\"/>\n     <g id=\"text_11\">\n      <!-- 8 -->\n      <defs>\n       <path d=\"M 17.671875 38.8125 \nQ 12.203125 40.828125 9.5625 44.53125 \nQ 6.9375 48.25 6.9375 53.421875 \nQ 6.9375 61.234375 12.546875 66.546875 \nQ 18.171875 71.875 27.484375 71.875 \nQ 36.859375 71.875 42.578125 66.421875 \nQ 48.296875 60.984375 48.296875 53.171875 \nQ 48.296875 48.1875 45.671875 44.5 \nQ 43.0625 40.828125 37.75 38.8125 \nQ 44.34375 36.671875 47.78125 31.875 \nQ 51.21875 27.09375 51.21875 20.453125 \nQ 51.21875 11.28125 44.71875 5.03125 \nQ 38.234375 -1.21875 27.640625 -1.21875 \nQ 17.046875 -1.21875 10.546875 5.046875 \nQ 4.046875 11.328125 4.046875 20.703125 \nQ 4.046875 27.6875 7.59375 32.390625 \nQ 11.140625 37.109375 17.671875 38.8125 \nz\nM 15.921875 53.71875 \nQ 15.921875 48.640625 19.1875 45.40625 \nQ 22.46875 42.1875 27.6875 42.1875 \nQ 32.765625 42.1875 36.015625 45.375 \nQ 39.265625 48.578125 39.265625 53.21875 \nQ 39.265625 58.0625 35.90625 61.359375 \nQ 32.5625 64.65625 27.59375 64.65625 \nQ 22.5625 64.65625 19.234375 61.421875 \nQ 15.921875 58.203125 15.921875 53.71875 \nz\nM 13.09375 20.65625 \nQ 13.09375 16.890625 14.875 13.375 \nQ 16.65625 9.859375 20.171875 7.921875 \nQ 23.6875 6 27.734375 6 \nQ 34.03125 6 38.125 10.046875 \nQ 42.234375 14.109375 42.234375 20.359375 \nQ 42.234375 26.703125 38.015625 30.859375 \nQ 33.796875 35.015625 27.4375 35.015625 \nQ 21.234375 35.015625 17.15625 30.90625 \nQ 13.09375 26.8125 13.09375 20.65625 \nz\n\" id=\"ArialMT-56\"/>\n      </defs>\n      <g style=\"fill:#262626;\" transform=\"translate(7.2 56.654144)scale(0.1 -0.1)\">\n       <use xlink:href=\"#ArialMT-56\"/>\n      </g>\n     </g>\n    </g>\n   </g>\n   <g id=\"patch_3\">\n    <path clip-path=\"url(#p04ca6af6ee)\" d=\"M 40.051847 306.18 \nL 80.633665 306.18 \nL 80.633665 21.437143 \nL 40.051847 21.437143 \nz\n\" style=\"fill:#4c72b0;\"/>\n   </g>\n   <g id=\"patch_4\">\n    <path clip-path=\"url(#p04ca6af6ee)\" d=\"M 80.633665 306.18 \nL 121.215483 306.18 \nL 121.215483 211.265714 \nL 80.633665 211.265714 \nz\n\" style=\"fill:#4c72b0;\"/>\n   </g>\n   <g id=\"patch_5\">\n    <path clip-path=\"url(#p04ca6af6ee)\" d=\"M 121.215483 306.18 \nL 161.797301 306.18 \nL 161.797301 274.541905 \nL 121.215483 274.541905 \nz\n\" style=\"fill:#4c72b0;\"/>\n   </g>\n   <g id=\"patch_6\">\n    <path clip-path=\"url(#p04ca6af6ee)\" d=\"M 161.797301 306.18 \nL 202.379119 306.18 \nL 202.379119 274.541905 \nL 161.797301 274.541905 \nz\n\" style=\"fill:#4c72b0;\"/>\n   </g>\n   <g id=\"patch_7\">\n    <path clip-path=\"url(#p04ca6af6ee)\" d=\"M 202.379119 306.18 \nL 242.960938 306.18 \nL 242.960938 306.18 \nL 202.379119 306.18 \nz\n\" style=\"fill:#4c72b0;\"/>\n   </g>\n   <g id=\"patch_8\">\n    <path clip-path=\"url(#p04ca6af6ee)\" d=\"M 242.960938 306.18 \nL 283.542756 306.18 \nL 283.542756 306.18 \nL 242.960938 306.18 \nz\n\" style=\"fill:#4c72b0;\"/>\n   </g>\n   <g id=\"patch_9\">\n    <path clip-path=\"url(#p04ca6af6ee)\" d=\"M 283.542756 306.18 \nL 324.124574 306.18 \nL 324.124574 306.18 \nL 283.542756 306.18 \nz\n\" style=\"fill:#4c72b0;\"/>\n   </g>\n   <g id=\"patch_10\">\n    <path clip-path=\"url(#p04ca6af6ee)\" d=\"M 324.124574 306.18 \nL 364.706392 306.18 \nL 364.706392 242.90381 \nL 324.124574 242.90381 \nz\n\" style=\"fill:#4c72b0;\"/>\n   </g>\n   <g id=\"patch_11\">\n    <path clip-path=\"url(#p04ca6af6ee)\" d=\"M 364.706392 306.18 \nL 405.28821 306.18 \nL 405.28821 306.18 \nL 364.706392 306.18 \nz\n\" style=\"fill:#4c72b0;\"/>\n   </g>\n   <g id=\"patch_12\">\n    <path clip-path=\"url(#p04ca6af6ee)\" d=\"M 405.28821 306.18 \nL 445.870028 306.18 \nL 445.870028 274.541905 \nL 405.28821 274.541905 \nz\n\" style=\"fill:#4c72b0;\"/>\n   </g>\n   <g id=\"patch_13\">\n    <path d=\"M 19.760938 306.18 \nL 19.760938 7.2 \n\" style=\"fill:none;\"/>\n   </g>\n   <g id=\"patch_14\">\n    <path d=\"M 466.160937 306.18 \nL 466.160937 7.2 \n\" style=\"fill:none;\"/>\n   </g>\n   <g id=\"patch_15\">\n    <path d=\"M 19.760938 306.18 \nL 466.160938 306.18 \n\" style=\"fill:none;\"/>\n   </g>\n   <g id=\"patch_16\">\n    <path d=\"M 19.760938 7.2 \nL 466.160938 7.2 \n\" style=\"fill:none;\"/>\n   </g>\n  </g>\n </g>\n <defs>\n  <clipPath id=\"p04ca6af6ee\">\n   <rect height=\"298.98\" width=\"446.4\" x=\"19.760938\" y=\"7.2\"/>\n  </clipPath>\n </defs>\n</svg>\n",
      "image/png": "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\n"
     },
     "metadata": {}
=======
     "execution_count": 10,
     "metadata": {},
     "output_type": "execute_result"
    },
    {
     "data": {
      "image/png": "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\n",
      "text/plain": [
       "<Figure size 432x288 with 1 Axes>"
      ]
     },
     "metadata": {
      "needs_background": "light"
     },
     "output_type": "display_data"
>>>>>>> 2f18721ecc239a4bc4f0fa19679e20778171bf98
    }
   ],
   "source": [
    "# you can do some analysis and visualization from here on! \n",
    "\n",
    "# visualize the review count - what's the appropriate plot?\n",
<<<<<<< HEAD
    "plt.hist(axe_df['review_count'])\n"
=======
    "plt.hist(df.review_count)"
   ]
  },
  {
   "cell_type": "code",
   "execution_count": 11,
   "metadata": {},
   "outputs": [
    {
     "data": {
      "text/plain": [
       "[{'alias': 'bars', 'title': 'Bars'},\n",
       " {'alias': 'axethrowing', 'title': 'Axe Throwing'},\n",
       " {'alias': 'tradamerican', 'title': 'American (Traditional)'}]"
      ]
     },
     "execution_count": 11,
     "metadata": {},
     "output_type": "execute_result"
    }
   ],
   "source": [
    "df.categories[0]"
   ]
  },
  {
   "cell_type": "code",
   "execution_count": 12,
   "metadata": {},
   "outputs": [
    {
     "data": {
      "text/plain": [
       "0        [bars, axethrowing, tradamerican]\n",
       "1              [axethrowing, teambuilding]\n",
       "2                   [axethrowing, archery]\n",
       "3                            [axethrowing]\n",
       "4                      [axethrowing, bars]\n",
       "5          [axethrowing, archery, bowling]\n",
       "6                      [axethrowing, bars]\n",
       "7       [paintball, lasertag, axethrowing]\n",
       "8                            [axethrowing]\n",
       "9                [axethrowing, recreation]\n",
       "10             [axethrowing, teambuilding]\n",
       "11                           [axethrowing]\n",
       "12                           [axethrowing]\n",
       "13                           [axethrowing]\n",
       "14        [axethrowing, venues, paintball]\n",
       "15    [gyms, healthtrainers, sports_clubs]\n",
       "16                 [sports_clubs, archery]\n",
       "Name: categories, dtype: object"
      ]
     },
     "execution_count": 12,
     "metadata": {},
     "output_type": "execute_result"
    }
   ],
   "source": [
    "df['categories'].apply(lambda x: [i['alias'] for i in x])"
>>>>>>> 2f18721ecc239a4bc4f0fa19679e20778171bf98
   ]
  },
  {
   "cell_type": "code",
   "execution_count": 41,
   "metadata": {},
   "outputs": [],
   "source": [
    "df.dropna()"
   ]
  },
  {
   "cell_type": "code",
   "execution_count": 15,
   "metadata": {},
   "outputs": [
    {
     "data": {
      "text/plain": [
       "array([4.5, 5. , 4. , 3. , 2. ])"
      ]
     },
     "execution_count": 15,
     "metadata": {},
     "output_type": "execute_result"
    }
   ],
   "source": [
    "df.rating.unique()"
   ]
  },
  {
   "cell_type": "code",
   "execution_count": 26,
   "metadata": {},
   "outputs": [],
   "source": [
    "x = [[1,2,3,4,5,6,5,6,5,6,7,8,9,10],[1,2,3,4,5,6,5,6,5,6,7,8,9,10]aa]"
   ]
  },
  {
   "cell_type": "code",
   "execution_count": 27,
   "metadata": {},
   "outputs": [],
   "source": [
    "import seaborn as sns"
   ]
  },
  {
   "cell_type": "code",
   "execution_count": 19,
   "metadata": {},
   "outputs": [],
   "source": [
    "import PIL"
   ]
  },
  {
   "cell_type": "code",
   "execution_count": 21,
   "metadata": {},
   "outputs": [
    {
     "name": "stdout",
     "output_type": "stream",
     "text": [
      "Data_Viz.ipynb                   aq.csv\r\n",
      "Intro_to_SQL.ipynb               \u001b[31mauto-mpg.csv\u001b[m\u001b[m\r\n",
      "Intro_to_libraries_1-Copy1.ipynb figure-axes.png\r\n",
      "Intro_to_libraries_1.ipynb       readme.md\r\n",
      "Introduction_to_APIs.ipynb       sql-joins-better.png\r\n",
      "Pandas_II.ipynb                  sql-joins.png\r\n",
      "Pandas_III.ipynb                 stack.png\r\n",
      "Phase1_Review.ipynb              status-code.png\r\n",
      "Python_Fundamentals.ipynb        tips.csv\r\n",
      "SQL_II.ipynb                     unstack.png\r\n",
      "Statistics_Fundamentals.ipynb    yelp.png\r\n",
      "aggregate.db\r\n"
     ]
    }
   ],
   "source": [
    "!ls"
   ]
  },
  {
   "cell_type": "code",
   "execution_count": 24,
   "metadata": {},
   "outputs": [],
   "source": [
    "from PIL import Image\n",
    "img = Image.open('unstack.png')\n",
    "plt.imshow(img)"
   ]
  },
  {
   "cell_type": "code",
   "execution_count": 27,
   "metadata": {},
   "outputs": [
    {
     "data": {
      "text/plain": [
       "<matplotlib.image.AxesImage at 0x105c467f0>"
      ]
     },
     "execution_count": 27,
     "metadata": {},
     "output_type": "execute_result"
    },
    {
     "data": {
      "image/png": "iVBORw0KGgoAAAANSUhEUgAAAYUAAADaCAYAAABJjF7eAAAABHNCSVQICAgIfAhkiAAAAAlwSFlzAAALEgAACxIB0t1+/AAAADh0RVh0U29mdHdhcmUAbWF0cGxvdGxpYiB2ZXJzaW9uMy4xLjEsIGh0dHA6Ly9tYXRwbG90bGliLm9yZy8QZhcZAAAgAElEQVR4nO3dd3gU1dfA8e9uOiGNEnqRdkFpAtIRBEFApAhiAZVXLBTF3vFnw4qKFRAsiIhKEbHQixJ6kQ4ZpIOUkATSy5Z5/9jNkpAAKbs7Czmf5+Fh587de08mkz07M3fumHRdRwghhAAwGx2AEEII3yFJQQghhIskBSGEEC6SFIQQQrhIUhBCCOEiSUEIIYSLv6c7UEqZgYlAMyALeFDTtP2e7lcIIUTReeNIoT8QrGlaO+AF4EMv9CmEEKIYvJEUOgKLADRNWw+08kKfQgghisHjp4+AcCAp17JNKeWvaZr1Eu+R26yFEKLoTCVtwBtHCslAWO4+L5MQhBBCGMQbSWEN0BtAKdUW2OmFPoUQQhSDN5LCPCBTKbUWmAA86YU+RSmk6zqDBw8mJSXFVbZu3ToGDx7s1n5SU1M5ePCgW9vMERoayu+//+6RtoUoDI9fU9A0zQ6M8HQ/Qui6zuzZs5k0aZKr7NixY8yePdut/SxbtoyRI0dy8uRJt7YrhC+Qm9dEqZKZmYndbiczM5OjR49isVjy1bFYLCQmJpKUlJRnvdVqda3PaSszM9NVDo7ElJGRwZEjR8jIyOBiU9NnZmZy4MABMjIyLhlvdnY2WVlZRf45hSguSQqiVImMjGT06NFUqFCBFi1aEBwcnOdDffbs2QQGBjJw4EA6d+5MYGCga93UqVMBePTRRzlz5gwNGzakYcOGfPXVV646lStXJiIiguHDhxMdHU3VqlXzJYZatWpRpkwZRo4cSXh4OKNHjy4w1o0bNxIcHEx8fLw7N4EQl6brui/+E6LIbDabDujx8fGusp9//ll37OYOQUFBep8+fVzLjRs31h977DHXcp06dfQpU6Zcsp958+bplStXLnBdWlpanuX69evrb731lmu5X79+evPmzfPUOXDggOt1mTJl9N9++01fuXKlDuhHjhy5ZCxCXKDEn7/euE9BCJ+S+5t5ixYtiI2NdS3Xq1eP//3vf7Rs2ZJGjRoREhJSpLZDQkJYsWIFa9asISEhgczMTP7991/X+oULF7J48eI876lTp06e5aVLl/LZZ59x5MgRatasWaT+hSgpSQqi1KlYsaLrtZ+fH3a73bW8ePFiRo0aRcuWLQGoWbMmR44cKXTbERERREdH891331GjRg02b96c5/RUdnY2DRs2vGQbkydPpnfv3jRs2JD09PRC9y2EO8g1BXHVMJkcN3NmZ2e7yrKysor8bX/ixInous65c+c4evQo27Zty7PebC74zyYlJYWUlBT2799Phw4dqFmzJklJSXnqhIeHs3r16kv2P2fOHP7880/Kli3LE088UaTYhSgpSQriqmEymYiOjubdd991lX388cd07dq10G3kvkcgIiICgBo1auSp06JFC06fPp3nCADOJ4uc0UKxsbHs2rUrT50nnniCUaNGuUYw6bqe776EnOSmaRqffPIJO3bsKHT8QpSUJAVxVdm+fTvff/89JpMJk8lEQkJCkW4Ge/TRR13vNZlM9O3bl/Lly+epU716dbp37054eDgmk4n33nsPcNx41qVLF4KDgzGZTHTp0oWbbropz3tff/11+vTpQ1BQECaTCT8/PzZv3lxgLFFRUUyePJlWrVrlOcUlhCeZ9IuMozaYTwYlrhwWiwWTyYS/f9Evm9lsNqxWK/7+/vj5+RX5/VarFbvdnmc464V0XSc7O5uAgICLno4SohhKPCGeJAUhhLh6XBGzpAohhLhCSFIQQgjhIklBCCGEiyQFIYQQLpIUhBBCuEhSEEII4SJJQQghhIskBSGEEC6SFIQQQrhIUhBCCOEiSUEIIYSLJAUhhBAukhSEEEK4SFIQQgjhIklBCCGEiyQFIYQQLkV/LBWglAoAvgFqA0HAOGAPMA3HA3J2AaM1TbMrpR4CHgGswDhN0/4oedhCCCE8obhHCkOBBE3TOgG9gM+Bj4CxzjIT0E8pVRkYA3QAbgHeUUoFlTxsIYQQnlCsIwVgNjAn17IVaAn87VxeCPQAbMAaTdOygCyl1H6gKbCpmP0KIYTwoGIlBU3TUgGUUmE4ksNY4ANN03KerZwCRADhQFKut+aUCyGE8EHFvtCslKoBrAS+1zRtJmDPtToMOAckO19fWC6EEMIHFSspKKUqAUuA5zVN+8ZZvFUp1cX5uhcQA2wEOimlgpVSEUAjHBehhRBC+CCTruuXr3UBpdQnwJ1AbK7ix4FPgUBgL/CQpmk25+ijh3EkoLc1TZtbiC6KHpQQQghTiRsoTlLwAp8MSgghfFyJk4LcvCaEEMJFkoIQQggXSQo+KCMjo9B177///kLVe/zxx4sbjhAFKsp+et999xWq3pgxY4obTh52ux2r1Vro+lOnTs1X1rFjR9frJUuWkJKS4pbYfJ0kBR+QlZWVZ3n8+PF5lm02W57l3NeBli9fnq+9gurHxMSUNExRyl24n3744Yd5lt2xn65atarQ8Vz4oW+xWFyv4+Li+Oeff/Kst9vteZZz979nz5486zZt2sTEiRNdy927d2fEiBGFju1KJknBYPXr1+fAgQOuD+3du3cTFxfn2knnzZvH3r17qVevHgADBgxg/fr1LFq0yNXGzJkzWbBgAQAtWrRg27Zt1KpVy7U+NjaW3bt3e+tHElehOnXqcPDgwcvup/Xr1wegb9+++fbTGTNm5NtPc1StWpXY2Nh8H845KlasCEDz5s0BCA8PZ8eOHdx8880AlC9fnkOHDrF161asViuxsbEcPHiQw4cPo+s6y5cvZ8OGDdx7770ANGzYEE3TmDlzpquP+++/n/j4eADmz59P06ZNXetMJhPLli0r7ua7sui67ov/So2lS5fqN9xwg75o0SJX2euvv+56PWDAAL1nz556+fLldV3X9ejo6Dzvr1atmt64cWPXcsuWLfW+ffvq/fr1y1OvSZMmnghflBJLlizRW7durS9evNhV9uabb7pe9+/fP89+WrFixTzvr1q1ap79tFWrVnrfvn1dywMHDtR1Xdevu+66AvuvUKGCruu63qxZM13XHfu5ruuuNh999FH9xhtv1A8ePKjruq6fPHlS37Bhg67rum6z2Vz9XX/99bqu6/r777+fp/2wsDD95ptvdi2/9NJL+WK48G/PR5X489foD/9SnxSSk5N1q9WqN2zY0FU2ZMgQPTs7W7darfptt92mWywWPSAgQNd1XW/UqJGelZWlp6Wl6bruSArZ2dl627ZtdV3X9UGDBulWq1VPSUlxtWexWPSgoCAv/lTialPQfnrvvfe69tO+ffvm2U+VUnn206pVq+rZ2dl6+/btdV3X9cGDB+tWq9XVVu3atfPsp2fOnNEd31kdAgMD9ezsbFfSadOmja7r55NIenq6np2drffu3VvXdV3PysrS58yZo1ssFj0tLU2PiYnRk5KSXEmhUaNGusVi0ZOSknRd1/UnnnhCX7NmjT537lxd13V9/fr1+s6dO1392+12/Y477nDLtvQwSQpXutjYWH3GjBl6XFycq+zQoUP61q1bdV3X9b179+p//fWXrmmaruuObz1Lly7Vt2zZouu6ru/YsUPXdV0/duyYbrPZ9ISEBH3WrFmu+rqu6wsXLtT37NnjrR9JXIX27t2rz5gxQz9z5oyrrDj76dGjR3W73a7Hx8frs2bNcrWVkJCQZz+1WCyu9+q6rh8+fFhfs2aNa31sbKyu67preePGjfrcuXP1zMxM13t2796t79u3T9d1XV+5cqW+e/dufe/evbquO5LcnDlz9MOHD+u67vj70XXd9fPouq536tTJ9Xrp0qWuBOLjSvz5KzevCSHE1UNuXhNCCOE+khSEEEK4SFIQQgjhIklBCCGEiyQFIYQQLpIUhBBCuEhSEEII4SJJ4Qp06PknjQ4BgCPjXjc6BCGEm/kbHYAoOtu5BPY/UripiOt9Ob3QdYUQQpLCFcgvsjzXvDeh0PXrfTndI3HIkYIQVx+Z5uIKZDl7loCoKKPDwJqcjH94uNFhCCHOK/E0F5IUhBDi6lHipODzp4/GLb/D6BAAaGK/i2gVnKesXc1bWXf0T6/H0q7mrV7vsyA2mw0/Pz+jwwDg79Wr6NzxRqPDKLHs7GwsRXiM5MWElilDWnq6GyLyrMLG6Wc37lGYwWUrkZl62rD+L8bsF0BgSDm3t+vzSUGI0mRv7F6aNW3mlrZCy5Qp0fuXrlhG9643uyWWSylMnEm7hnk8josJbjyLrMOPAaDFNUVF7zAsltwOHKxCi76fuL1dGZIqhBDC5apLCp89tITUs5lMe+7SDwBPPJnmpYiKZ8TAZ40OQQhRCpXo9JFSKhrYAnQHrMA0HBeJdwGjNU2zK6UeAh5xrh+nadofJYr4Enb+dYzkMxkEhwbQvEctUhIySE/OJv54Ctc0rcjmBQdp3r026clZfPHIMp76vhdRlUNL3O/vPy0hIiqMG29ph91mZ9a382nXpRW16tUgLSWN+T8ups/g7oRHhrFqyTpOHD3F4Af6kZaSzvEjJ4ndsZ9b+nehTNkQ/lq0jsrVKnIg9ogbtogQQhRNsY8UlFIBwJdAhrPoI2CspmmdcFwB76eUqgyMAToAtwDvKKWCShbyxYWEBeLnb8ZkNrHy+z2cPJjEpJHLyUyz8N7gP2jQpio/v7me4LKBmIDA4JJfUtmxeQ9/LVrLwX+PsmDOMnpdfzdVa1bh0btfIjU5jZ7N7qHGNdW4vf0DbIrZyhdvfUtQcBB3dHqQE0dPMXLQc5jNJobeMpo92zQmvvMtq5duKPnGEEKIYijJ6aMPgMnACedyS+Bv5+uFwM1Aa2CNpmlZmqYlAfuBpiXo85KiqoTi52/Gz//8j9WkW3Va9ryGfk+14KsnVnJ0dwKR0Y4LW6GRJc9PjZrW58j+o3w9YSZ+/n6kJKUxefx0wiPDWL1sA6FhZejUvQ1/bJnB+lVbefKNhxkwtDcnj8cB0O6mG+h3T0/SUzNYtWQdz4wbyYNPDSlxXEKI806dyaBa6zlGh0G11nOo1noOrfr8xpmETKPDKVCx7lNQSg0DqmuaNk4p9RcwAlihaVpV5/quwAPAIqCJpmnPO8unA9M1TVt2mS7kPgUhhCg6w+5TeADQlVI3A82B6UB0rvVhwDkg2fn6wvJCc+d9Cklx6UQ4jxLsdh3sOmb/wh0sXeo+hdSUNKwWG5HlHHf3JsafJbJcBGazGXSduFMJRFep4OzXTvK5VFfdC2VnZePv74/Z7+JxyX0K+V0t9yls37HdbUNSS8pbQ1ILI2nX4GK/V9d1Klw/hz+/6cyz72wjZnaPIr0/ovEsV/8lHZIa2WQ2keF+JKfamDSuJXfeVqfYbXlqSGqxkoKmaa6/vlxHCuOVUl00TfsL6AWsBDYCbymlgoEgoBGOi9CGyEkIAGazCcwlTqoAlA3Le7G6XIVcU1CYTK6E4OjXfNGEABAYFOiWmIQQDoePpWG3wz1jYkhMsqPrYHLPn37x4llzOwCVWs4pUVLwFHfevPY0MFUpFQjsBeZommZTSn0KxOC4fvGypmm+eSJNCHFVajdgEWt/6U6jepH0vn8ZW3cl0KJJecPiiWwyG5MJht/pewkB3JAUNE3rkmuxcwHrpwJTi9t+UsJHxX2rW1nLxpKc0CRvYU1ITmjp9VgOnx5Z6Lq1b5jE4U2Fr18Udt2PMuXbu6WtynXv4dSBmSVoobpb4hBXn1NbBrleL/jO2NNh53b6xrQ9l+Lz01wk6cbPBgqOeUYCQvPPM1JQmadFZScUrX5I0eoXlk33IyzCfWMCypekrZNuC0OIUu2qu6NZCCFE8V11SSH97ElWf/O00WH4tMSzWdTu8IvRYbj8+sdmo0MQQjhddUlBt9uxZKSw7dcPyE5zjH7dt2ome5d9C8C/MT+TfPoQZw5u9Xgs82d+yYyJ76DrOvv3bmffrn/49pPXsViyAZg77VOW/VaS8+jFM2jUKoKD/NmxN9HrfV/ow8//5N2P5xsdhhDCyeevKRTHkU2/U7vVZH4YpRgycR/xB7fiFxDMyi8e5mTsWiIqXUOHBzx7AfvL918g7sQxrr2+LQ/3bcVNfe5kzfLf6NH/Xh6/+yYaNW9NeEQ5tm1cRXBIGTp27+/ReHLY7Trb9yYxZ2IHnnl7K0u+7+aVfi/m6Udv5fh/nrnmcSU6k/Efo759rsTtTPy/xYz69pYStVHe1gBroGefY9Cr4wAWrp532Xr1/W/yaByXEgGcSXX0b00743pttKygkj93oyBXZVKo3rwH17Tpx7IJQ7FkpHBgzWyqXNcZuyULgHb3vUtk1foejSF2+yZGvfQBNeooJr79DDdxJzf2GEDvQcOY/c1H7Nu5haCQEEwmE6dPHPNoLLkdPp6G3a7z0AtriT9r91q/onBOph2iak33POK0pO3s272T3jV7uiWWS4msefl7c+rV9MwIusKq19bRf9qO7dTzkZsLj/690iPtXnWnjwCObJzPDyMbEFXjWk7v20iZ8tX4b9dK7HaLo4IX7lwZOvolHrurM4M61ODBp9/Kt77/0FEc2LuDPVs30rRVR4/Hk6Pz4MWs/aU7e5YPoEXjcGL3J3mt7yvRi2PfMDoEIbzqqjtSCC1fjeEzz2HJTCMg2HGncfXm3QgsE+HVOFq278bv/8RjtWQTUqZsnnUzlmkAdOrRH7OfH/7+AV6L69j6ga7XK34s2ekFd5nwzn1Gh3BR+w8cZNjwUUyZ9AmBgd77PQlhlKvySAFwJQTA6wnBFUNAYL6EkFtgULBXE4IonrT0dIbc/xDbdxg2Q4sQXuPzRwoh+MbDx3W7DVv2hU9rCyygzPPSsy+eaC4UUcT6RWHXzZgy3HMqLgpIdVNbnjLunQ+Y/eM07Ha7Y7JDH2Cz2kk4nkJIWCCBIf4ElbnIlwwdbDZ7nmnlfc3J46epUr2S0WGUej6fFDIo2cPH3cVk9sMvMP9T2goq87QypBatfmDR6heWTfejbIj77mh2Z1uedP8DI/lm6ucEBBh/lPf3D3sJr1iGSnXCCS8fctGkcC4unQn3LeT1xQMLXO8L7uk2kpWa79w/U1r5fFIQwtdkZmUx5P6Hee6Zx2nVormhsexZc4IaDctxbG8C9VpW4s/Pl5GVYWVsJvyvx1za316PA9viqHN9NLpdJ/VsJmWjgi/f8CUcP3yCsaPexT/An/5DehGzdD1+Zj82xvzDsj1zuPnaO2h94/Xs3qrx5dzxDOw4nCatGhERGcYjz93HmLtfpmbd6mSmZ7J3x610qtuPVu2bkZ1lcdNWESXhu8eSQvgwXdd5b/zHfDvd+zcf5lbzuvJ0HtIwT9mrfzqmZg4vH8z6+Qe48a6GtOtfH5PZVOKEABBSJoSD+46QmpxGy/bNiFmygRPHTxMUEsyfs5eh6zpvT36J+Ru+44/ZS3njs2eZPOd9YpyPma13bR0mznqX/46eAqBDt9ZM+P4NAgLlO6ovkKRQyoweu47qbeZRo92vRLcw/vGEtw5+j+9/ijE6jGJbsHAJD40Yg81mMzqUfFLPZfHC7NuY/dYGMDluXNTtJT9Ft3Lhah59eThj/vcQn745lcDAAMZNfIGmrRrRtktLsrKySYw/S5cGA2jZrikT3/uOrRt2ElXeMeAjKDjvfQnbN+3mQOwhOVLwEZKaS6FF02+isYoksslso0Ph43eHUb+OMRcXx3/0GadOnS5xO+eSkrl32CNMnfwJoaHevcbUZWgjQiOC6Hb/dQSG+DP8oy6udaOn3MyuVcd4fvZthEYE8fAnN2HNthEQXLI/+4H39mFDzFYy0jJ48/PnwQR/L1rLyOfvp3zFKOat+5Z1Kzaz4J+ZlCkbwvtTX+Hoof+Yt24aAE++9jAAk+e+D8Ck2e+SlpLBD0snligu4R6SFEqh9ybvJjw0gNAQ4x+lWb9OJV56/SfGfzbE632fPHWKY8f+c0tbFquVYQ+OZth993Brr6I97rEkwsuHOP6v4Pg/OPT8heaKNcKpWOP8Xc01rnXPg2VMZhNtO7fIU9atz/lHoVasVJ5bB3d3LddtVJu6jWq7litXczy595r6NQGoXa+mW+IS7iGnj0qhEUMa8PpTTYmK8MdmM3bEz+MvfMfbr95laAzuNG36TN5690OjwxCi2CQplDIBAWYGjoihWa+FDOlfCz8/4+4NSE7OYOacNUTXe8SwGDxh2/ad3HPfQ9jtMreUuPLI6aNS5uNX2/Dxq0ZH4RAeHsKZ/VOMDsMjLBYLj4x6kqmTPzE6FCGKRJKCEB7Qt08v7h1yp9FhCFFkPp8UWprXGx0CAJb0FM4dWJ23sEHX/GVesFHvXOi63RvDxqOFr18Uum7C77R7dqFuN8OqbcVvy7/kw+/dwmQy8dorL3BtI1Ws9zet0JGYvfe7JZaj8d+W6P2dqqwlI7OLW2K5lIzM7petY4n/weNxXExAhSGu/m0ZfljifWUOrKoeadXnk8IWe1ujQwCgV5nNRFzTPl95ZF3vTXudo2X25CLUHk3rmn97JA6b7kdYlT5ua+/G5sV/aMjaWLeFUWwmk4nx77xBrVo1jA5FiGLz+aQghKfUr1eXyIhLz6C7c9eeQrVVvnw5Jn/u2af5CeENkhREqTXy4QcuW+eOu4ddtk7bNjfw9BOj3RCREMaTIakesnbFH7z3/HCjwyjQc29vJLLJbCwW44dMfjp5Iceu4Gc0v/T8U5IQxFVFkoKHzP9hMts3ruLbj19j0+olDOvZhCW/zqCbCiIlKZHezaN4dlhPBneq7fXYfvr9P1574jqeHrfJ631faMyIXlitvjdv0OWUKRPC11M+4/rmTY0OhT1Lv8KS5f3nelxpEhI9M4V8UR05Fs+qNXuNDuOiip0UlFIvKqXWKaW2KKWGK6XqKaVWK6VilFKTlFJmZ72HlFKblVLrlVLuuyrp4/oNGUGz1jcy6P8e5/vP36ZCpaos+20m/v4B7Nu9jfY33cr4aYs4mxBHStJZr8WVnGohOdVK5zaVmLfYPVM8lFSF8u55UL231KxZne++nkR4WJjRoQCw6afXyTgXR3Lc4TzlGefiAEhNOI4lIxXw/N3rp08c5b8j+wFIT0shLSWJY4f2uW7kO3X8MPGnvb/fbd1xmK63ven1fi904tRZgoMDuLFDI157d67R4RSoWNcUlFJdgPZAB6AM8AzwETBW07S/lFKTgX5KqXXAGKAVEAysVkot1TQtyx3B+zqbzUpYRBSxOzbx6CsT+OyNJ2jTuRfXXd+Wd565n7SUZOw2O2XDI70W0+Ovreep4Q2IPZBEZraxp4/+O3mW6ArhhJX1kfGkhfThe+OMDiGfJR/ciS07k2va3s7RLQuZcuduZj/Xlj5jf+e3125Bt9sY9s1xTGbPzXe1YPa3fPfZG1Sv3YDwyCiua9GOH6eM55oGTQCddl378NeCWcSdOMaL46fRvI1nhkoX5PqmtXn3tbu91t/FVKkUicnkmEWgQjnPPBGxpIp7ofkWYCcwDwgHngUeAnLGPi4EegA2YI0zCWQppfYDTQHjz1t4WJvOPUlNdhwBvPXlPBo2vYFadRuimrQiOKQMb06ayy/TP2NWzCHXTuINA3vVoUenKgQGmml2bTliD5yjYV3vJaXcqlWJ4s8lWzl3Lp1ho7w/IV5RmEwmvpz4sdFhXFSvl+aTcS6OmKmPcU3b/gAEl43Emp0BwP9NO+nxGFb8+TNvTprLNfUb07NJGNe1aEe/e0Zw7+iXGdpNEbPoF5IS4/EPCGD10vleTQq+wmQy8fX0lURFleXRh28xOpwCmXS96IeUSqmpQC2gD3AN8BsQrmlaFef6rsADwCKgiaZpzzvLpwPTNU1bdpkuroznMgohhG8p8TfM4h4pJACxmqZlA5pSKhPIfcdOGHAOSHa+vrC80B7+2TcuDvWKzH/zWtcGgazYl+31WFpmDy103YjGs0jaNdgjcbjz5rXcd40Wx9rYGnTueOPlKxbRrDnzGDxogNvbvZjtO7bzxd66xXpvRtIZQiIqAjDlzrIl/tu5wbyWus26FOk9aanJpCafo1LVgqfDTjobT0BgEGVCHR8Lhf0b6lTOuGd/5N43dx7wo0ld3xgYEbO7Kl073+T2doubFFYDjyulPgKqAKHAcqVUF03T/gJ6ASuBjcBbSqlgIAhoBBTpHvEgMosZonvpdjt2y4WxBBZQ5nmZ1pBC140oYv2isOt++Ge559RXAJDhprbcyZsJoaRyEoKRQsuGE1r24gMHIqIqeDEaURzFSgqapv2hlLoRx4e+GRgNHAKmKqUCgb3AHE3TbEqpT4EYZ72XNU0r0qdoFr5xEdJkNmMOyB9LQWWeFqxnFK2+f9HqF5ZN9yMkyH1n+tzZlhCieIp9R7Omac8VUJzvypGmaVOBqcXtRwghhPfIzWulzFNvbqBa6zlUbzOHtz7bbnQ4gONmHiGEb5C5j0qZrCw7v069iYZ1w6nZ/ldefqyZ0SExYeICvpj6uNFh+Ix2fqvc0ErvErcTTDqJlx0oWEINeheqj6V+xn1U9e4NSzc6+s+ymDiV4BvXvoJDPdOuJIVS6PZH/sJuh4rlAo0OhZff/JlHH/LN8dpGWWcr+Siq/3NDOzeY11JXdSlxLJdTTt182TpGjj4C6N7aMa27b40+8ky7cvqoFFr4XTf+2ziQiuX8sdmMu7j774HT1K9bhYVLtxkWgxAiLzlSKIU6DloKQHCQGT8/4w6F69etRP26ldh/8LRhMQgh8pKkUMp8Ma4dX/jY1D316lQyOgQhhJOcPhJCCOHi80cK5Uy+MVzRbs0mO/XMBaXVCijzvARLdKHrRgAJaYWvXxR23UzGWfecfqpWAeLc1JYwxsZVi1j0y3T+9/FMo0PJZ+B9HzFq+C18MXUxv8x4yuhwaNf9f6xb+obRYRTI55NCou4bt8Wb/Q8TWDb/NAIFlXla+ey4otUPLVr9wrLpfoRFue9CdXQJ2tovlyUM986zD5B8LoHxIQ/T645hTBwPcIIAABqQSURBVHz7We555DlefXQwP678l0cGtCX5XCJ1GzZhynzvTpQ8d7ojEcz5bb1X+y3I7wv/YcgdHY0O46Lk9JEQwi1eHP8NnXsNZMSL7/HTlA+wWS38OetrABLj42hw3fUs1zI5elAjLSXJ6/HFrI0lLi7Z6/3mdiYhmeZNa3l1uvyikqQghHAb3W6nbFgEG/5eSIeb+7Fry1pq1FGUj67CmVPHsViysdusBAZ5ZpLGgtjtOjv3HKNT+4YMGWzsN/RY7QSzf93Aypjd/L7wH0NjuZirLil8N7wGGcm+cR3CV02ZqRHZZDZ2u/ET0N03YiLz/rjqn7lUKjRv04WTxw9jMplp3+02Otzcly697uCD7xZTsXI1Ot0ygIf7tuLdr/8gINB7N06azSaW/bWTAUM+JCjI2DPmndo35KnRvblrYHtu69XC0FguxuevKRTH3Gdbk5V6jsET/uH4juWs+eYZzP7+3PXJDn587DoAajTrQY9nf/JYDMnnErijYy10Xefzn//mn/V/E7N4Hv/u3sqYVz/h+rZdeKB3c0wmE/M2niKkjIfuWS/AB1M1HrzzGj74cifPjTT2wfMPDO1Cy+Z1DI1BuEdgUDCTf3Gcs3/981kAPP3WJNf6/3v8Nf7v8deMCI0nR/XmyVG9Dem7IIP6tTY6hIu66o4UAAa8HUP3Z37i70kjia57A837PwU6lImqwvAZiYCJGx/53KMxvPX0/bzxxRx+3XCSUYM6YrfZaHpDJ/7YmsDPX33Ix6+Noc9dD9KmSy9+mPyuR2PJLSPTSlx8FmMfa8rXsw57rd+LqVm9AoGBV+V3EyGuSFflX2Na4knO/hdLUNkofnmxA/dNPULs8mnYLFl8c28FBo3fRGCoZ59LXDY8kqMHYqlcrSbBzqOAyHIVMJlM6LqdMqFl6Xv3I9hsNkJCvfcA78+m7aVl4yiGP7+eM4lZXuu3IKdOJ1E5OoIgSQpC+Iyr7q8xoko9/o35iRO7VnLHR1vYNu8D5v/vZmpefwtHtiwksppi2cdDKVezMd0en+axOF6ZMIOH+rbk95+mMmf1UZb/8RNmsx+YTFStWZdXJszgwb4tAfjmT+9NYT1n4QkWT7+JqIhAPv56LxOn72XUfY281n9ulStF0O+eD8jIyGZlzBBDYhBC5HXVJYX+41bmWW4+4BmaD3jGtVynbX+vxTL1ty2u17cOHu56/f43CwCYtnCn12LJsXH++RlJnxhuTDLIbf7MZy5fSQjhNVddUhDiStfGHOOGVnqVuJ0QUzpn961wQyyX0KBnofpYbuDzFHr2guWbHP1nZpuIS/SNewwCy3imXZ9PCp38PPyQj0LKTrWSsGdh3sIG/fKXecEK/bZC1x3QGFb8W/j6RWU6GOCWdvr3gz/XFL+tqPJuCcMnbLB3KnEbw93Qzg3mtVRu0KXEsVxOVIOul61j9PMUut1Qep6n4PNJIcZ2+QdweEOvyM1EXNM+X3n5a3t5PZaW2UOLUPteutb/3SNx2HQ/wqr0cVt7t3awFPu9a2PdFoYQpdpVOSRVCCFE8fj8kYJwr8SkLNLSrZgwER4WQHhZ95z+KS6b3U5KSgYVfWPeQyFKPTlSKGVeGf8P3/9ykN+XHqVW+1+NDocXXv3JpycHE6K0kaRQCsXFZ3A6IYMywX6GxpGUnM7tt93AR5//aWgcV7pv7/PM8zKuJl1ve5O92n8cOGTsHOvp6Vl89MUCVq/XWLrS+0PSC0OSQinUqXUl+nStgb+/Cd3AOfHOJKQSF5/E6y/dYVwQVwGbNZvZT7fi66GOIVhT7w4H4Osh5Ti5J4a5z7Vl6t3h7F/t2RE8B2J30LtZJIPa12TB7K+ZM+0ThvVqyqAONZn87vNs3xTD7W2r0btZJKf/O+LRWC7U5LqabN52iPAw783OWpClK3fRo2sTsrOtdL+piaGxXEyxkoJSKkApNVMptVYpFaOUaqiUqqeUWu1cnqSUMjvrPqSU2qyUWq+Uct9QFVFsZxKyOH4qnaQUK0aeual3TTQYP1HrFc/sF8AdH26mSqOOnDnwD10fmwaA3WalyrWdaD7gWcIq1KReR88m3ynjX+Ldr35n5sp9fDh2FACduvdn9uojxCyZx/efv0Wtug2pWbchP079wKOxXGj8G0O5986OfPrlIq/2e6HDx87QuFENut54HW9/ON/QWC6muEcKvQF/TdPaA28AbwEfAWM1TesEmIB+SqnKwBigA3AL8I5SKqjkYYvienF0Uzq0iqZe7XBiVxifo1s2r8OSFTuMDuOKZrNmYc3OJP7wdgKCQvnriwdd684ejyVmymMMfH89dmu2R+OoVrseKxfMJnbnZqIqOE5pBYec/2ZeqVpN7hj+JHc//CydenhvZgG7XWfh0q0ARIR76I6vQmp3Q33X67QMY+ceu5jijj7aB/g7jwbCAQvQFvjbuX4h0AOwAWs0TcsCspRS+4GmgEygb5DqVUKpXsXoKM6rXq0c1auVMzqMK1q7+95lz5KpdHrwYyKrK9oMeROANkPHkRp/jBYDX2Dv8m+oWOd6qlxb8hvjLmbMKx/z45T32fj3In5cuZ9D+3Zjs1owmUzcM+J5eg0axoyJ72D282PIiBc8FseFzGYTUVFleXfCfO68Pf+9Rt7UumVdpny7nJS0TN7w0dOmJr0YJ5WVUjWA+UBZoALQB5ijaVpV5/quwAPAIqCJpmnPO8unA9M1TbvcbcpyUkEIIYquxCeEi3uk8CSwWNO0F50JYgWQ+1FKYcA5INn5+sLyQnv459RihuheBd3R3LVBICv2efaQvCBFuaM5ovEsknYN9kgc7ryjOaDCECzxPxT7/Wtja9C5441uicVI23ds54u9dUvczpQ7y5b4b+cG81rqNutS4lgupbB/Q0ZOc5F73/StaS6q0rXzTW5vt7jXFM4COU/eTgQCgK1KqS7Osl5ADLAR6KSUClZKRQCNgF3FD1cIIYQnFfdIYQLwjVIqBscRwkvAZmCqUioQ2IvjdJJNKfUpjgRhBl7WNC3TDXELIYTwgGIlBU3TUoGCzkl0LqDuVGBqcfq5ksXHnSDuxDGubd7G6FDyOXgkhQ6DFnNy0yCjQ+HpsTMA+HSyPGQnR4TprBtaKVvidvxMVixpiW6I5VIqF6qPBD/jxk5XrgAJSY7+M7PPv75aydxHHjL987fYt3MzXfvcyS2338/fi+bSvttt/PnTV/QbOoL9e7fz3WdvMn7aIoKDvXtDzd1j1lC5QjBrNp+mQ6tKXu37Qh+OG8r+g6cMjcHXJOlRPtGOTfcnINTzI8MK00f5CGPHnuT0fyLe+FhcjnumWbmj2UOatupAtVr1aNKqE/N/mMSPX77PnG8+5vuJb2G32/nktcd4+YPv6NM8CrvNexeubDadfw+l8OU7bXh5vG/cH/Dym7OMDkEI4SRHCh5Spmw4gUHB1FGNeXZYT7r3G8Km1UsIDinD0QOx1GvUnMrVa2Mym0lPS6FseKRX4tq+9yx2HQaNXEVyqt0rfV7KvwdOMf3LUUaHIYRwkiMFDykfXYVVi38hKDgE/4AA2nTpRdLZeJ584wuat+nMlrXLGdCmChUrV/daQgDodd8Kti3sydF1A+ncpjxrN8d5re+CfPfjKoIC5buJEL5C/ho9RDVuyR9bEwD4daPjnPmcNcdc63/bHIfVYsE/wLvPMzj9z/mLy/O/uvxjED1t3FjP3EMhhCgeSQoeZDJd+kDM2wlBCE/at2sLW9au4O6HnzU6lHyefPF77HY7Bw6f5o+fnzMsDpvNzhMvTMfP38T4N4YSEGDs9PUF8fmkUNV07PKVvMBuySQz8cLpfusXUOZ5x63XFLpuBHD8XOHrF4UdM8FuOgNZvwIcPilnM69kX034H0f27SEtJYmet9/Pbz9NoUe/oXzz8as89eYXzP/hS5b9/iMPPj2Obn3u9GpsE965l7S0LBYu2+bVfi+0Y/dRPhs/DIClK3f65PTZPp8UTug1jA4BgGYBpwkuVytfeUFlnlY9+1DR6kcWrX5hOaa5aOy29mpXKf6F7xNJl68jPGvQ/Y+x6Jfp9B86ihmT3mFzzBKSEs+w4e+FWCwWNsUs4ceV/9LjulBu7NGfgEDvTpj83P9+4IsPH/Bqnxdq3KgGDVo+SWCgP5tXvm1oLBcjX82EEG4VVSGaP3/+mnZd+7B94yoCg4JJTT5LaHgEAGaTGYvF+3OGtck1bbVRfpy7ln1bJrBr3Xheeds3h2L7/JGCEOLKULv+daxeOh8/P3/KVaxMm8692LxmGS9+8B31r72ezPRUejeLpMft91ImNOzyDbrRmfgU+vZq6dU+C3JbzxY8NGYKZUODeXLUrUaHUyBJCqXM6LHr2LUvlcAAM1v3nCV+q7FTXTz8+FR6dG3K3cNlmosrXXSVGizZnQbAz6sOAvDtgu2u9V/MXmNIXAAVK3g3CV1MVGQoUz992OgwLklOH5VC771wPbMndcJmM/52/e43NfGJb3BCCAc5UiiFFv79H5t2nMHfwEnGcuzbf5I92nFuqGp0JEIIkCOFUql9i4r07FyNsFA/7HbjjhaSkjMYM6IXzZvUNiwGIURecqRQylzbIJKpPx3AbDYx7pmmmM3GHS1EhIfw/Ks/kpCYwnc/yjUFIXyBJIVSZvR9jRh9n9FRnPfe63cbHYLPaWDe44ZWWpe4nWBTBqkndrohlkto0LJQfexINO7O35YVYMd+R//xSSbX66uVJAUhfEizps1o1tQ9bT1zR2v3NORhfbsUZqCBsYMRWra9y9D+vcnnk0KPwMVGhwCALR0Sd/+et7DBwPxlXrCUwk8RMKgxLP3Xg1MK7HdPM4MGwPyY4GK/v3Klq/vbmxDeYtJ144clFsAngxJCCB9X4ouEMvpICCGEi08nhbREC7OedtP5CeFWcfsz5HfjBbOe3s+67+UZ1rOe3s+BdTLroTf4dFIQQgjhXZIUhBBCuPj86CPAZ09TDP6wns/GluNKiFFc2rFtqRzbVrTf4ZXye79S4ixNroikMPjDekaHcFG+HFsOT8QYtz+Dvyb95/Z2RX41mpel3b2Vi/y+K2HfhMLFKYnDewqVFJRSbYD3NE3ropSqB0zDMWx0FzBa0zS7Uuoh4BHACozTNO0PpVQIMAOIBlKA+zVNO+OBn0MIIYQbXPaaglLqOeArIOfOoo+AsZqmdcIxJrafUqoyMAboANwCvKOUCgJGAjuddacDY93/IwghhHCXwhwpHABuB753LrcE/na+Xgj0AGzAGk3TsoAspdR+oCnQEXg/V91XihJcaLmAK+YQuLSJrhcivxsvkG3sINvBey57pKBp2lzAkqvIpGlazh3HKUAEEA7kHkRcUHlOmRBCCB9VnCGp9lyvw4BzQLLz9aXKc8qEEEL4qOIkha1KqS7O172AGGAj0EkpFayUigAa4bgIvQbofUFdIYQQPqo4SeFp4HWl1DogEJijadop4FMcH/orgJc1TcsEJgHXKaVWAw8Dr7snbM9b//3pfGX/xiRxZEvKRd+TkWQlOS47T5klw05mig2Af+YWbeDV3uVni1RflF57liRydGv+fXPzrDOkJVoKeIfDrkWJ+d8zOw5wTDNz9nhWoWM4vj210HWF7yrUkFRN0w4DbZ2v9wGdC6gzFZh6QVk6cEeJozRAwtEMstNsBIaen5J5+2/x1OsUQa2WYQW+x5JpJzPVRng0rPj8OF0frU5AiJkA5/r/dqfRYmDFQscQ928GjbpFleTHEKXE6X8zOLIlhZrXn9837Tad1IRsstPthJa7yPv2pdO4ZzlS4i0EBJkJDvOj1R3RAGSn20k/ZyWqelChYjh3MovqzcqW+GcRxpJpLi6iYp0QFn9wzLWcEmeh+9M1XMvrZ5yfpCwj2UpqwvlvY39N/o+z/2WxZe4ZstNtZCRZ87R9YE0SqQkWFrxzhMUfHHWV63adpROOseCdIySfznvEsXTCMRa8fcT1rW/11ydd607vS+fMgYwS/sTiStewaxRZaTbX8vbfEqjWJBSAtEQr1uzzlwNXTsx74+Hqr0/w16TjZKXZ8uxbORZ/eJQtc87w57jDnNid5io/sSeNP986wqopJ/LUP7o1hT/fOsJfkx396LrOrkUJrvVy46PvkqRwCZHVgrBbHQOtdi1MILxSoGtdavz5D3qbVXfVA+gyohpR1YJoObAidht51gFkplg5uTed3i/W4pZnarJrseMQ/vc3jnDz4zXo/WIt/tt1/g9v8ftH6f5kDXq/VIsdvydgt+q0vbcSi8cfRdchdsVZKtYN8cg2EFeOa9qEs2Hm+dOehzcn4x/gmF7fbrWT+9EpF37p6Di8Kl1GVico1I+UuPynm5JOZNO8fwVuHVub4ztSsdt00hItJB7N4taXa3Hjw1X5d5VjoGFGkhWT2cStL9ei0/CqLJ1wDJPJhH+gmbREC7sWJdDi9sIfMQvvkqRwCe3urcSpfekAeb6BuUPdduGu16nO6xDlqgdhcv5GGt50/rRRhTrBnNyTxsk9aVRrEsqZgxn4B5rp8EAVfh17kM4jqrk1NnHlsmWdPxq46dHqbm3bz9+RYKo2Lotud1zzatzz/Hmpmi0cp642/RyHX4CJk3vSiPs33XVdomHXKFZNPYEJU54vWMK3XBFzHxnFP8jMhh9P0+buSrQecuHcM+e/dqUlWAgJL9qmNPvlf0CS3Z77iOL867DoQKpcG5pv1f7V5yhXMxhrlh3/IMnvApoPqEj6WStlovyJrBLI2aPO04om3P48Q7M57z6cs/+agCqNQjE5V98xvi4Aug66DQ5uSOa6nhe5yCEMJ58kl1G3bQTbf4unTETeZwCnnzt/+mjtd/kfgqLb8xVdVuKxLHTnH9a23+Jd5TmH5QBLPzqGzWon+XQ2EVWD6fyI4/BcCICoakEsfO9IvvKgsv7sXOA4p59yJjvfepMJKOKjea+7pRxbnCOVAI5vc4x+uuGuaPavceyzWWk2FrzjuG624tPj9HqxFt3GVLvkKD5hLL/XXnvN6BgK8prRAZjMJsKiA6nUoAyhUQGERQdiMjn+eMqWD6B2q3D8A81snXeGDv9XBb9AM/7Of4EhZmzZduIPZVLhmmD8/M34BZgwm6F8rWBMJhOh5QJy9QXhlQJRXSLZs/Qshzen0LhHOQJDzERUCaJehwh2L0nkyJZUWgyMJqisH4c3p1Cvg+MG8RrNwkg6mU2ZSDnwK61MZhORVR2jhIJC/ShXwzFVmclkIiTcj6CyfthtsHtxIoEhfkRWDaJ87WBMZkci8Qs088/ceCrWDcE/yEy5mo79NCDYRFCoHyY/ExXrhLjaDCxrdo1W2rkokbQEC6pLFKHlAvAPMmPNtLNnSSLpiRbaD6tCZoqNinVCCInwJyDEj8SjWYUe1SSKpMTD/k16Eb8deIlPBiWEED4u/3npIpLTR0IIIVwkKQghhHCRpCCEEMJFkoIQQggXSQpCCCFcJCkIIYRw8dWB7SUeViWEEKLo5EhBCCGEiyQFIYQQLpIUhBBCuEhSEEII4SJJQQghhIskBSGEEC4+MyRVKWUGJgLNgCzgQU3T9hsYTwDwDVAbCALGAceB34F/ndUmaZr2s1LqIeARwAqM0zTtDy/HuhXIeejCIeAtYBqO2WZ3AaM1TbMbGadSahgwzLkYDDQH2uND21Mp1QZ4T9O0LkqpehRyGyqlQoAZQDSQAtyvadoZL8XZHPgMsOH4u7lP07TTSqlPgQ7OeAD6AdkGxtmCQv6uvbk9L4jxJyDnaVq1gfWapt1l5La8yOfQHjy4b/rSkUJ/IFjTtHbAC8CHBsczFEjQNK0T0Av4HGgBfKRpWhfnv5+VUpWBMTh2mluAd5RSXpsoXikVDJArpv8DPgLGOmM3Af2MjlPTtGk5MQJbnLH4zPZUSj0HfIUjYUHRtuFIYKez7nRgrBfj/AR4zLldfwGed5a3AG7JtW2TDI6zKL9rr8R5YYyapt3l3I4DgHPAk7liN2pbFvQ55NF905eSQkdgEYCmaeuBVsaGw2zglVzLVqAlcKtSapVS6mulVBjQGlijaVqWc2fZDzT1YpzNgDJKqSVKqRVKqbbOOP92rl8I3OwDcQKglGoFXKdp2hR8a3seAG7PtVyUbejad3PV9Vacd2mats352h/IdB511wemKKXWKKUecK43Ms6i/K69FeeFMeZ4HfhM07STPrAtL/Y55LF905eSQjjnT4EA2JRShp3e0jQtVdO0FOfOOwdHht0IPKtp2o3AQeBV8sedAkR4MdR04AMc3w5GAD8AJk3Tch5UlBOP0XHmeInzT4fyme2padpcwJKrqCjbMHe5R+O9ME5N004CKKXaA48CE4BQHKeUhgI9gVFKqaZGxknRftdeibOAGFFKRQPdcJyeAYO35UU+hzy6b/pSUkgGwnItmzVNs16ssjcopWoAK4HvNU2bCczTNG2Lc/U84Hryxx2G49DTW/YBMzRN0zVN2wckAJUKiMfoOFFKRQINNU1b6Szyxe2ZI/dTti+3DXOXG7Fd7wQmA7c6zxenA59ompauaVoKsALHEaWRcRbld21knIOAmZqm2ZzLhm/LAj6HPLpv+lJSWAP0BnCeAtlpZDBKqUrAEuB5TdO+cRYvVkq1dr7uhuPc+Eagk1IqWCkVATTCcfHHWx7Aef1FKVUVxzeDJUqpLs71vYAYH4gT4EZgWa5lX9yeObYWYRu69t1cdb1CKTUUxxFCF03TDjqLGwCrlVJ+zguVHYF/jIyTov2ujYzzZhynWXIYui0v8jnk0X3TZ0Yf4fj20F0ptRbHxZP/Mziel4Ao4BWlVM45vaeAj5VS2cAp4GFN05KdoxNicCTZlzVNy/RinF8D05RSq3GMRngAiAemKqUCgb3AHE3TbAbHCaBwnDrIMRL43Me2Z46nKeQ2VEpNAr5z/g6ygXu8EaBSyg/4FDgK/KKUAvhb07RXlVI/AOtxnB6ZrmnabqXUISPidCr079qo7emUZx/VNG2vwduyoM+hx4FPPbVvmnRdv1wdIYQQpYQvnT4SQghhMEkKQgghXCQpCCGEcJGkIIQQwkWSghBCCBdJCkIIIVwkKQghhHCRpCCEEMLl/wHEWkM8lGPRWgAAAABJRU5ErkJggg==\n",
      "text/plain": [
       "<Figure size 432x288 with 1 Axes>"
      ]
     },
     "metadata": {
      "needs_background": "light"
     },
     "output_type": "display_data"
    }
   ],
   "source": []
  },
  {
   "cell_type": "code",
   "execution_count": 18,
   "metadata": {},
   "outputs": [
    {
     "name": "stderr",
     "output_type": "stream",
     "text": [
      "/opt/anaconda3/envs/learn-env/lib/python3.6/site-packages/numpy/core/_asarray.py:83: VisibleDeprecationWarning: Creating an ndarray from ragged nested sequences (which is a list-or-tuple of lists-or-tuples-or ndarrays with different lengths or shapes) is deprecated. If you meant to do this, you must specify 'dtype=object' when creating the ndarray\n",
      "  return array(a, dtype, copy=False, order=order)\n"
     ]
    },
    {
     "data": {
      "image/png": "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\n",
      "text/plain": [
       "<Figure size 432x288 with 1 Axes>"
      ]
     },
     "metadata": {
      "needs_background": "light"
     },
     "output_type": "display_data"
    }
   ],
   "source": [
    "data = []\n",
    "for rate in df.rating.unique():\n",
    "    data.append(df[df.rating == rate]['review_count'])\n",
    "fig, ax = plt.subplots()\n",
    "ax.boxplot(data)\n",
    "ax.set_xticks = df.rating.unique()"
   ]
  },
  {
   "cell_type": "code",
   "execution_count": 42,
   "metadata": {},
   "outputs": [],
   "source": []
  },
  {
   "cell_type": "code",
   "execution_count": 32,
   "metadata": {},
   "outputs": [
    {
     "data": {
      "text/plain": [
       "6101.731538     1\n",
       "10012.024588    1\n",
       "37446.224761    1\n",
       "4733.616620     1\n",
       "34674.439500    1\n",
       "27173.957271    1\n",
       "26518.825160    1\n",
       "9996.588059     1\n",
       "7814.584675     1\n",
       "27125.320701    1\n",
       "8955.976102     1\n",
       "39342.647288    1\n",
       "11489.778200    1\n",
       "17134.395523    1\n",
       "30246.004898    1\n",
       "13556.031401    1\n",
       "8652.979400     1\n",
       "Name: distance, dtype: int64"
      ]
     },
     "execution_count": 32,
     "metadata": {},
     "output_type": "execute_result"
    }
   ],
   "source": [
    "df.distance.value_counts()"
   ]
  },
  {
   "cell_type": "code",
   "execution_count": 35,
   "metadata": {},
   "outputs": [
    {
     "data": {
      "text/plain": [
       "dtype('int64')"
      ]
     },
     "execution_count": 35,
     "metadata": {},
     "output_type": "execute_result"
    }
   ],
   "source": [
    "df.review_count.dtype"
   ]
  },
  {
   "cell_type": "code",
   "execution_count": 36,
   "metadata": {},
   "outputs": [
    {
     "name": "stderr",
     "output_type": "stream",
     "text": [
      "/opt/anaconda3/envs/learn-env/lib/python3.6/site-packages/seaborn/distributions.py:693: UserWarning: Passing a 2D dataset for a bivariate plot is deprecated in favor of kdeplot(x, y), and it will cause an error in future versions. Please update your code.\n",
      "  warnings.warn(warn_msg, UserWarning)\n"
     ]
    },
    {
     "ename": "TypeError",
     "evalue": "_bivariate_kdeplot() got multiple values for argument 'x'",
     "output_type": "error",
     "traceback": [
      "\u001b[0;31m---------------------------------------------------------------------------\u001b[0m",
      "\u001b[0;31mTypeError\u001b[0m                                 Traceback (most recent call last)",
      "\u001b[0;32m<ipython-input-36-33307c3b04a5>\u001b[0m in \u001b[0;36m<module>\u001b[0;34m()\u001b[0m\n\u001b[1;32m      2\u001b[0m     \u001b[0mdata\u001b[0m\u001b[0;34m=\u001b[0m\u001b[0mdf\u001b[0m\u001b[0;34m.\u001b[0m\u001b[0mloc\u001b[0m\u001b[0;34m[\u001b[0m\u001b[0;34m:\u001b[0m\u001b[0;34m,\u001b[0m\u001b[0;34m[\u001b[0m\u001b[0;34m'review_count'\u001b[0m\u001b[0;34m,\u001b[0m\u001b[0;34m'distance'\u001b[0m\u001b[0;34m]\u001b[0m\u001b[0;34m]\u001b[0m\u001b[0;34m,\u001b[0m\u001b[0;34m\u001b[0m\u001b[0;34m\u001b[0m\u001b[0m\n\u001b[1;32m      3\u001b[0m     \u001b[0mx\u001b[0m\u001b[0;34m=\u001b[0m\u001b[0;34m\"review_count\"\u001b[0m\u001b[0;34m,\u001b[0m\u001b[0;34m\u001b[0m\u001b[0;34m\u001b[0m\u001b[0m\n\u001b[0;32m----> 4\u001b[0;31m     \u001b[0my\u001b[0m\u001b[0;34m=\u001b[0m\u001b[0;34m\"distance\"\u001b[0m\u001b[0;34m,\u001b[0m\u001b[0;34m\u001b[0m\u001b[0;34m\u001b[0m\u001b[0m\n\u001b[0m\u001b[1;32m      5\u001b[0m )\n",
      "\u001b[0;32m/opt/anaconda3/envs/learn-env/lib/python3.6/site-packages/seaborn/distributions.py\u001b[0m in \u001b[0;36mkdeplot\u001b[0;34m(data, data2, shade, vertical, kernel, bw, gridsize, cut, clip, legend, cumulative, shade_lowest, cbar, cbar_ax, cbar_kws, ax, **kwargs)\u001b[0m\n\u001b[1;32m    699\u001b[0m         ax = _bivariate_kdeplot(x, y, shade, shade_lowest,\n\u001b[1;32m    700\u001b[0m                                 \u001b[0mkernel\u001b[0m\u001b[0;34m,\u001b[0m \u001b[0mbw\u001b[0m\u001b[0;34m,\u001b[0m \u001b[0mgridsize\u001b[0m\u001b[0;34m,\u001b[0m \u001b[0mcut\u001b[0m\u001b[0;34m,\u001b[0m \u001b[0mclip\u001b[0m\u001b[0;34m,\u001b[0m \u001b[0mlegend\u001b[0m\u001b[0;34m,\u001b[0m\u001b[0;34m\u001b[0m\u001b[0;34m\u001b[0m\u001b[0m\n\u001b[0;32m--> 701\u001b[0;31m                                 cbar, cbar_ax, cbar_kws, ax, **kwargs)\n\u001b[0m\u001b[1;32m    702\u001b[0m     \u001b[0;32melse\u001b[0m\u001b[0;34m:\u001b[0m\u001b[0;34m\u001b[0m\u001b[0;34m\u001b[0m\u001b[0m\n\u001b[1;32m    703\u001b[0m         ax = _univariate_kdeplot(data, shade, vertical, kernel, bw,\n",
      "\u001b[0;31mTypeError\u001b[0m: _bivariate_kdeplot() got multiple values for argument 'x'"
     ]
    },
    {
     "data": {
      "image/png": "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\n",
      "text/plain": [
       "<Figure size 432x288 with 1 Axes>"
      ]
     },
     "metadata": {
      "needs_background": "light"
     },
     "output_type": "display_data"
    }
   ],
   "source": [
    "sns.kdeplot(\n",
    "    data=df.loc[:,['review_count','distance']],\n",
    "    x=\"review_count\",\n",
    "    y=\"distance\",\n",
    ")"
   ]
  },
  {
   "cell_type": "code",
   "execution_count": 50,
   "metadata": {},
   "outputs": [],
   "source": [
    "df.drop('location',axis=1,inplace=True)"
   ]
  },
  {
   "cell_type": "code",
   "execution_count": 16,
   "metadata": {},
   "outputs": [],
   "source": [
    "import time"
   ]
  },
  {
   "cell_type": "code",
   "execution_count": 39,
   "metadata": {},
   "outputs": [
    {
     "data": {
      "application/vnd.jupyter.widget-view+json": {
       "model_id": "eec973d1356446688b0fe8d073093aec",
       "version_major": 2,
       "version_minor": 0
      },
      "text/plain": [
       "HBox(children=(IntProgress(value=0), HTML(value='')))"
      ]
     },
     "metadata": {},
     "output_type": "display_data"
    },
    {
     "name": "stdout",
     "output_type": "stream",
     "text": [
      "\n"
     ]
    }
   ],
   "source": [
    "# can you do some other queries using sql/pandas?\n",
    "for i in tqdm(range(100)):\n",
    "    time.sleep(1)"
   ]
  },
  {
   "cell_type": "code",
   "execution_count": 18,
   "metadata": {},
   "outputs": [],
   "source": [
<<<<<<< HEAD
    "# migrate the cleaned data into a sql db\n"
=======
    "from IPython.display import display\n",
    "def f(a, b):\n",
    "    display(a + b)\n",
    "    return a+b"
   ]
  },
  {
   "cell_type": "code",
   "execution_count": 19,
   "metadata": {},
   "outputs": [
    {
     "data": {
      "text/plain": [
       "ipywidgets.widgets.interaction.interactive"
      ]
     },
     "execution_count": 19,
     "metadata": {},
     "output_type": "execute_result"
    }
   ],
   "source": [
    "w = interactive(f, a=10,b=20)\n",
    "type(w)"
   ]
  },
  {
   "cell_type": "code",
   "execution_count": 20,
   "metadata": {},
   "outputs": [
    {
     "data": {
      "text/plain": [
       "(IntSlider(value=10, description='a', max=30, min=-10),\n",
       " IntSlider(value=20, description='b', max=60, min=-20),\n",
       " Output())"
      ]
     },
     "execution_count": 20,
     "metadata": {},
     "output_type": "execute_result"
    }
   ],
   "source": [
    "w.children"
   ]
  },
  {
   "cell_type": "code",
   "execution_count": 24,
   "metadata": {},
   "outputs": [],
   "source": [
    "display(w)"
   ]
  },
  {
   "cell_type": "code",
   "execution_count": 22,
   "metadata": {
    "scrolled": true
   },
   "outputs": [
    {
     "data": {
      "text/plain": [
       "{'a': 10, 'b': 20}"
      ]
     },
     "execution_count": 22,
     "metadata": {},
     "output_type": "execute_result"
    }
   ],
   "source": [
    "w.kwargs"
   ]
  },
  {
   "cell_type": "code",
   "execution_count": 23,
   "metadata": {},
   "outputs": [
    {
     "data": {
      "text/plain": [
       "30"
      ]
     },
     "execution_count": 23,
     "metadata": {},
     "output_type": "execute_result"
    }
   ],
   "source": [
    "w.result"
   ]
  },
  {
   "cell_type": "code",
   "execution_count": 25,
   "metadata": {},
   "outputs": [],
   "source": [
    "def f(x):\n",
    "    return x"
   ]
  },
  {
   "cell_type": "code",
   "execution_count": 29,
   "metadata": {},
   "outputs": [],
   "source": [
    "from ipywidgets import FloatSlider\n",
    "#interact_manual(f,x=FloatSlider(min=1e5, max=1e7, step=1e5));\n"
   ]
  },
  {
   "cell_type": "code",
   "execution_count": 27,
   "metadata": {},
   "outputs": [],
   "source": [
    "import ipywidgets as widgets"
>>>>>>> 2f18721ecc239a4bc4f0fa19679e20778171bf98
   ]
  },
  {
   "cell_type": "code",
   "execution_count": 43,
   "metadata": {},
   "outputs": [],
   "source": []
  },
  {
   "cell_type": "code",
   "execution_count": 31,
   "metadata": {},
   "outputs": [],
   "source": [
    "slow = interactive(f, {'manual': True}, x=widgets.FloatSlider(min=1e4, max=1e6, step=1e4))\n",
    "slow"
   ]
  },
  {
   "cell_type": "code",
   "execution_count": 32,
   "metadata": {},
   "outputs": [
    {
     "data": {
      "application/vnd.jupyter.widget-view+json": {
       "model_id": "58de9f685015416887b7d29b04a9bd06",
       "version_major": 2,
       "version_minor": 0
      },
      "text/plain": [
       "interactive(children=(FloatSlider(value=100000.0, continuous_update=False, description='x', max=10000000.0, mi…"
      ]
     },
     "metadata": {},
     "output_type": "display_data"
    }
   ],
   "source": [
    "interact(f, x=FloatSlider(min=1e5, max=1e7, step=1e5, \n",
    "                          continuous_update=False));\n"
   ]
  },
  {
   "cell_type": "code",
   "execution_count": 36,
   "metadata": {},
   "outputs": [
    {
     "data": {
      "application/vnd.jupyter.widget-view+json": {
       "model_id": "e0fc32d4d9394cc4a0bb9962d653ef8a",
       "version_major": 2,
       "version_minor": 0
      },
      "text/plain": [
       "HBox(children=(IntSlider(value=45, max=90, min=45), IntSlider(value=50, min=50), IntSlider(value=1, min=1)))"
      ]
     },
     "metadata": {},
     "output_type": "display_data"
    },
    {
     "data": {
      "application/vnd.jupyter.widget-view+json": {
       "model_id": "5b3ced7cfcf34b2ca38a2af6a72cd25a",
       "version_major": 2,
       "version_minor": 0
      },
      "text/plain": [
       "Output()"
      ]
     },
     "metadata": {},
     "output_type": "display_data"
    }
   ],
   "source": [
    "a = widgets.IntSlider(min=45,max=90)\n",
    "b = widgets.IntSlider(min=50)\n",
    "c = widgets.IntSlider(min=1)\n",
    "ui = widgets.HBox([a, b, c])\n",
    "def f(a, b, c):\n",
    "    print(((a-b)/c))\n",
    "\n",
    "out = widgets.interactive_output(f, {'a': a, 'b': b, 'c': c})\n",
    "\n",
    "display(ui, out)"
   ]
  },
  {
   "cell_type": "code",
   "execution_count": 46,
   "metadata": {},
   "outputs": [
    {
     "data": {
      "application/vnd.jupyter.widget-view+json": {
       "model_id": "c6afa6db697946dea2a10a8747f0097f",
       "version_major": 2,
       "version_minor": 0
      },
      "text/plain": [
       "interactive(children=(FloatSlider(value=0.0, description='x', max=10.0, step=0.05), FloatSlider(value=5.0, des…"
      ]
     },
     "metadata": {},
     "output_type": "display_data"
    }
   ],
   "source": [
    "x_widget = FloatSlider(min=0.0, max=10.0, step=0.05)\n",
    "y_widget = FloatSlider(min=0.5, max=10.0, step=0.05, value=5.0)\n",
    "\n",
    "def update_x_range(*args):\n",
    "    x_widget.max = 2.0 * y_widget.value\n",
    "y_widget.observe(update_x_range, 'value')\n",
    "\n",
    "def printer(x, y):\n",
    "    print(x, y)\n",
    "interact(printer,x=x_widget, y=y_widget);"
   ]
  },
  {
   "cell_type": "code",
   "execution_count": 37,
   "metadata": {},
   "outputs": [
    {
     "data": {
      "application/vnd.jupyter.widget-view+json": {
       "model_id": "9c1a9187731240879bca258f7e8ac067",
       "version_major": 2,
       "version_minor": 0
      },
      "text/plain": [
       "interactive(children=(FloatSlider(value=0.0, description='m', max=2.0, min=-2.0), FloatSlider(value=0.0, descr…"
      ]
     },
     "metadata": {},
     "output_type": "display_data"
    }
   ],
   "source": [
    "%matplotlib inline\n",
    "from ipywidgets import interactive\n",
    "import matplotlib.pyplot as plt\n",
    "import numpy as np\n",
    "\n",
    "def f(m, b):\n",
    "    plt.figure(2)\n",
    "    x = np.linspace(-10, 10, num=1000)\n",
    "    plt.plot(x, m * x + b)\n",
    "    plt.ylim(-5, 5)\n",
    "    plt.show()\n",
    "\n",
    "interactive_plot = interactive(f, m=(-2.0, 2.0), b=(-3, 3, 0.5))\n",
    "output = interactive_plot.children[-1]\n",
    "output.layout.height = '350px'\n",
    "interactive_plot"
   ]
  },
  {
   "cell_type": "code",
   "execution_count": null,
   "metadata": {},
   "outputs": [],
   "source": []
  },
  {
   "cell_type": "code",
   "execution_count": null,
   "metadata": {},
   "outputs": [],
   "source": []
  },
  {
   "cell_type": "code",
   "execution_count": null,
   "metadata": {},
   "outputs": [],
   "source": []
  },
  {
   "cell_type": "markdown",
   "metadata": {},
   "source": [
    "#### Resources\n",
    "- [Getting Data from Reddit API](https://www.storybench.org/how-to-scrape-reddit-with-python/)\n",
    "- [Twitch API](https://dev.twitch.tv/docs)"
   ]
  }
 ],
 "metadata": {
  "kernelspec": {
   "display_name": "learn-env",
   "language": "python",
   "name": "learn-env"
  },
  "language_info": {
   "codemirror_mode": {
    "name": "ipython",
    "version": 3
   },
   "file_extension": ".py",
   "mimetype": "text/x-python",
   "name": "python",
   "nbconvert_exporter": "python",
   "pygments_lexer": "ipython3",
<<<<<<< HEAD
   "version": "3.6.9-final"
=======
   "version": "3.6.9"
  },
  "toc": {
   "base_numbering": 1,
   "nav_menu": {},
   "number_sections": true,
   "sideBar": true,
   "skip_h1_title": false,
   "title_cell": "Table of Contents",
   "title_sidebar": "Contents",
   "toc_cell": false,
   "toc_position": {
    "height": "calc(100% - 180px)",
    "left": "10px",
    "top": "150px",
    "width": "261.818px"
   },
   "toc_section_display": true,
   "toc_window_display": true
>>>>>>> 2f18721ecc239a4bc4f0fa19679e20778171bf98
  }
 },
 "nbformat": 4,
 "nbformat_minor": 2
}