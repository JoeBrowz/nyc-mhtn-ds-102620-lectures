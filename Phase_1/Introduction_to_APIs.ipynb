{
 "cells": [
  {
   "cell_type": "markdown",
   "metadata": {},
   "source": [
    "# JSON and APIs\n",
    "\n",
    "_November 3, 2020_\n",
    "\n",
    "Agenda today:\n",
    "- Introduction to API and Remote Server Model \n",
    "- Getting data through an API: Case study with YELP API"
   ]
  },
  {
   "cell_type": "code",
   "execution_count": 27,
   "metadata": {},
   "outputs": [],
   "source": [
    "import pandas as pd\n",
    "import numpy as np\n",
    "import requests\n",
    "import json\n",
    "#from yelp.client import Client\n",
    "import matplotlib.pyplot as plt\n",
    "plt.style.use('seaborn')"
   ]
  },
  {
   "cell_type": "markdown",
   "metadata": {},
   "source": [
    "## Part I. APIs and Remote Server Model\n",
    "API stands for Application Programming Interface. At some point or the other, large companies would build API for their products for their clients or internal use. It allows the company's application to communicate with another application. But what _exactly_ is an API?\n",
    "\n",
    "#### Remote server \n",
    "When we think about the world of Web, we can think of it as a collection of _servers_. And servers are nothing but huge computers that store a huge amount of data from users and are optimized to process requests. For example, when you type in www.facebook.com, your browser sends a _request_ to the Facebook server, and gets a response from the server, thus interpreting the code and displaying your homepage. \n",
    "\n",
    "In this case, your browser is the _client_, and Facebook’s server is an API. To put it broadly, whenever you visit a website, you are interacting with its API. However, an API isn’t the same as the remote server — rather it is the part of the server that receives __requests__ and sends __responses__.\n",
    "\n",
    "<img src='status-code.png' width = 500>"
   ]
  },
  {
   "cell_type": "markdown",
   "metadata": {},
   "source": [
    "## Part II. Getting Data Through APIs\n",
    "\n",
    "The `get()` method send a request to YELP's API, and stored information in a variable called `request`. Next, let's see if it's successful. "
   ]
  },
  {
   "cell_type": "markdown",
   "metadata": {},
   "source": [
    "#### YELP API\n",
    "Sometimes you need _authentication_ to get data from a service in additional to just sending a `GET()` request. Yelp API is a perfect example. \n",
    "\n",
    "You will need to go to the YELP's developer's [website](https://www.yelp.com/developers/v3/manage_app) and request for a client ID and API key, which function like a key into a house of data. \n",
    "\n",
    "<img src='yelp.png' width = 500>"
   ]
  },
  {
   "cell_type": "code",
   "execution_count": 28,
   "metadata": {},
   "outputs": [],
   "source": [
    "# lets try to get some data from yelp!\n",
    "url = 'https://api.yelp.com/v3/businesses/search'\n",
    "response = requests.get(url)"
   ]
  },
  {
   "cell_type": "code",
   "execution_count": 29,
   "metadata": {},
   "outputs": [
    {
     "output_type": "execute_result",
     "data": {
      "text/plain": [
       "400"
      ]
     },
     "metadata": {},
     "execution_count": 29
    }
   ],
   "source": [
    "# check the status code\n",
    "response.status_code\n",
    "\n",
    "# what happened here?"
   ]
  },
  {
   "cell_type": "code",
   "execution_count": 30,
   "metadata": {
    "scrolled": true
   },
   "outputs": [],
   "source": [
    "# now we are ready to get our data \n",
    "\n",
    "# usually, services would limit you to a certain amount of API calls. This varies from service\n",
    "# to service, so you have to watch out to it \n",
    "\n",
    "MY_API_KEY = \"o7VAVBZLPNWcsqgD7pXSgZVnFXq20wg5AWmSjAsfeH7cGEY1GaFDwbyu-IIbmhB06Kx4lCOm6Tx2C7B29F5tAfKLmRfcmPEe40AiarU6zHFBp6odIBY--aPhVJqhX3Yx\"\n",
    "\n",
    "\n",
    "term = 'Axe Throwing'\n",
    "location = 'Brooklyn'\n",
    "SEARCH_LIMIT = 30\n",
    "\n",
    "url = 'https://api.yelp.com/v3/businesses/search'\n",
    "\n",
    "headers = {\n",
    "        'Authorization': 'Bearer {}'.format(MY_API_KEY),\n",
    "    }\n",
    "\n",
    "url_params = {\n",
    "                'term': term.replace(' ', '+'),\n",
    "                'location': location.replace(' ', '+'),\n",
    "                'limit': SEARCH_LIMIT\n",
    "            }\n",
    "response = requests.get(url, headers=headers, params=url_params)"
   ]
  },
  {
   "cell_type": "code",
   "execution_count": 31,
   "metadata": {},
   "outputs": [
    {
     "output_type": "execute_result",
     "data": {
      "text/plain": [
       "200"
      ]
     },
     "metadata": {},
     "execution_count": 31
    }
   ],
   "source": [
    "response.status_code"
   ]
  },
  {
   "cell_type": "code",
   "execution_count": 32,
   "metadata": {},
   "outputs": [
    {
     "output_type": "stream",
     "name": "stdout",
     "text": [
      "<Response [200]>\n"
     ]
    }
   ],
   "source": [
    "# examine the response object\n",
    "\n",
    "print(response)\n"
   ]
  },
  {
   "cell_type": "code",
   "execution_count": 33,
   "metadata": {
    "scrolled": false
   },
   "outputs": [
    {
     "output_type": "execute_result",
     "data": {
      "text/plain": [
       "16528"
      ]
     },
     "metadata": {},
     "execution_count": 33
    }
   ],
   "source": [
    "# how are we going to parse the response.text object?\n",
    "\n",
    "len(response.text)"
   ]
  },
  {
   "cell_type": "code",
   "execution_count": 34,
   "metadata": {},
   "outputs": [
    {
     "output_type": "execute_result",
     "data": {
      "text/plain": [
       "dict"
      ]
     },
     "metadata": {},
     "execution_count": 34
    }
   ],
   "source": [
    "# json.load()\n",
    "#   json file -> python(dict)\n",
    "\n",
    "# json.loads()\n",
    "#   string ->python(dict)\n",
    "#   load s\n",
    "type(json.loads(response.text))"
   ]
  },
  {
   "cell_type": "code",
   "execution_count": 35,
   "metadata": {},
   "outputs": [],
   "source": [
    "# working with JSON\n",
    "\n",
    "axe_throwing = response.text\n",
    "axe_throwing = json.loads(axe_throwing)"
   ]
  },
  {
   "cell_type": "code",
   "execution_count": 36,
   "metadata": {
    "scrolled": true
   },
   "outputs": [
    {
     "output_type": "execute_result",
     "data": {
      "text/plain": [
       "{'businesses': [{'id': 'X0DNGKUQPjf0AfaXfXU2Qg',\n",
       "   'alias': 'kick-axe-throwing-brooklyn-2',\n",
       "   'name': 'Kick Axe Throwing',\n",
       "   'image_url': 'https://s3-media1.fl.yelpcdn.com/bphoto/WjKylwrUBKnGIE_ldj142Q/o.jpg',\n",
       "   'is_closed': False,\n",
       "   'url': 'https://www.yelp.com/biz/kick-axe-throwing-brooklyn-2?adjust_creative=GVUnShMpw45LIDmNl6KzkQ&utm_campaign=yelp_api_v3&utm_medium=api_v3_business_search&utm_source=GVUnShMpw45LIDmNl6KzkQ',\n",
       "   'review_count': 404,\n",
       "   'categories': [{'alias': 'bars', 'title': 'Bars'},\n",
       "    {'alias': 'axethrowing', 'title': 'Axe Throwing'},\n",
       "    {'alias': 'tradamerican', 'title': 'American (Traditional)'}],\n",
       "   'rating': 4.5,\n",
       "   'coordinates': {'latitude': 40.6790268, 'longitude': -73.983077},\n",
       "   'transactions': [],\n",
       "   'location': {'address1': '622 Degraw St',\n",
       "    'address2': None,\n",
       "    'address3': '',\n",
       "    'city': 'Brooklyn',\n",
       "    'zip_code': '11217',\n",
       "    'country': 'US',\n",
       "    'state': 'NY',\n",
       "    'display_address': ['622 Degraw St', 'Brooklyn, NY 11217']},\n",
       "   'phone': '+18335425293',\n",
       "   'display_phone': '(833) 542-5293',\n",
       "   'distance': 4733.616620254917},\n",
       "  {'id': '4E6BkrEVf_0TjRVYE7gxeQ',\n",
       "   'alias': 'bury-the-hatchet-brooklyn-axe-throwing-brooklyn-2',\n",
       "   'name': 'Bury the Hatchet Brooklyn - Axe Throwing',\n",
       "   'image_url': 'https://s3-media3.fl.yelpcdn.com/bphoto/SH8_Nwmd13LkntwuzcEPeg/o.jpg',\n",
       "   'is_closed': False,\n",
       "   'url': 'https://www.yelp.com/biz/bury-the-hatchet-brooklyn-axe-throwing-brooklyn-2?adjust_creative=GVUnShMpw45LIDmNl6KzkQ&utm_campaign=yelp_api_v3&utm_medium=api_v3_business_search&utm_source=GVUnShMpw45LIDmNl6KzkQ',\n",
       "   'review_count': 155,\n",
       "   'categories': [{'alias': 'axethrowing', 'title': 'Axe Throwing'},\n",
       "    {'alias': 'teambuilding', 'title': 'Team Building Activities'}],\n",
       "   'rating': 4.5,\n",
       "   'coordinates': {'latitude': 40.7283195, 'longitude': -73.9600679},\n",
       "   'transactions': [],\n",
       "   'location': {'address1': '25 Noble St',\n",
       "    'address2': None,\n",
       "    'address3': '',\n",
       "    'city': 'Brooklyn',\n",
       "    'zip_code': '11222',\n",
       "    'country': 'US',\n",
       "    'state': 'NY',\n",
       "    'display_address': ['25 Noble St', 'Brooklyn, NY 11222']},\n",
       "   'phone': '+19172439696',\n",
       "   'display_phone': '(917) 243-9696',\n",
       "   'distance': 8652.979400045351},\n",
       "  {'id': 'PhEkSzYZHKYS7uyXePmkMw',\n",
       "   'alias': 'axes-and-arrows-long-island-city-2',\n",
       "   'name': 'Axes And Arrows',\n",
       "   'image_url': 'https://s3-media4.fl.yelpcdn.com/bphoto/Uinh_osn8ykDeLoigmgo0Q/o.jpg',\n",
       "   'is_closed': False,\n",
       "   'url': 'https://www.yelp.com/biz/axes-and-arrows-long-island-city-2?adjust_creative=GVUnShMpw45LIDmNl6KzkQ&utm_campaign=yelp_api_v3&utm_medium=api_v3_business_search&utm_source=GVUnShMpw45LIDmNl6KzkQ',\n",
       "   'review_count': 49,\n",
       "   'categories': [{'alias': 'axethrowing', 'title': 'Axe Throwing'},\n",
       "    {'alias': 'archery', 'title': 'Archery'}],\n",
       "   'rating': 4.5,\n",
       "   'coordinates': {'latitude': 40.7425127, 'longitude': -73.933816},\n",
       "   'transactions': [],\n",
       "   'location': {'address1': '47- 11 Van Dam St',\n",
       "    'address2': None,\n",
       "    'address3': '',\n",
       "    'city': 'Long Island City',\n",
       "    'zip_code': '11101',\n",
       "    'country': 'US',\n",
       "    'state': 'NY',\n",
       "    'display_address': ['47- 11 Van Dam St', 'Long Island City, NY 11101']},\n",
       "   'phone': '+17183619152',\n",
       "   'display_phone': '(718) 361-9152',\n",
       "   'distance': 9996.588059135383},\n",
       "  {'id': '4sPiNeQGD8mzt9ess7xZrQ',\n",
       "   'alias': 'mad-axe-brooklyn',\n",
       "   'name': 'Mad Axe',\n",
       "   'image_url': 'https://s3-media4.fl.yelpcdn.com/bphoto/UOC-BswrAMfq9dX6MXxa8Q/o.jpg',\n",
       "   'is_closed': False,\n",
       "   'url': 'https://www.yelp.com/biz/mad-axe-brooklyn?adjust_creative=GVUnShMpw45LIDmNl6KzkQ&utm_campaign=yelp_api_v3&utm_medium=api_v3_business_search&utm_source=GVUnShMpw45LIDmNl6KzkQ',\n",
       "   'review_count': 13,\n",
       "   'categories': [{'alias': 'axethrowing', 'title': 'Axe Throwing'}],\n",
       "   'rating': 5.0,\n",
       "   'coordinates': {'latitude': 40.707, 'longitude': -73.93364},\n",
       "   'transactions': [],\n",
       "   'location': {'address1': '94 Bogart Street 2nd',\n",
       "    'address2': None,\n",
       "    'address3': '',\n",
       "    'city': 'Brooklyn',\n",
       "    'zip_code': '11206',\n",
       "    'country': 'US',\n",
       "    'state': 'NY',\n",
       "    'display_address': ['94 Bogart Street 2nd', 'Brooklyn, NY 11206']},\n",
       "   'phone': '+19292950229',\n",
       "   'display_phone': '(929) 295-0229',\n",
       "   'distance': 6101.731538019727},\n",
       "  {'id': 'lZVE27r_W_3GXxNwECYC4g',\n",
       "   'alias': 'live-axe-new-york',\n",
       "   'name': 'Live Axe',\n",
       "   'image_url': 'https://s3-media2.fl.yelpcdn.com/bphoto/-Z1qvni_2N-K85FHmaesaQ/o.jpg',\n",
       "   'is_closed': False,\n",
       "   'url': 'https://www.yelp.com/biz/live-axe-new-york?adjust_creative=GVUnShMpw45LIDmNl6KzkQ&utm_campaign=yelp_api_v3&utm_medium=api_v3_business_search&utm_source=GVUnShMpw45LIDmNl6KzkQ',\n",
       "   'review_count': 7,\n",
       "   'categories': [{'alias': 'axethrowing', 'title': 'Axe Throwing'},\n",
       "    {'alias': 'bars', 'title': 'Bars'}],\n",
       "   'rating': 4.5,\n",
       "   'coordinates': {'latitude': 40.71769, 'longitude': -74.00144},\n",
       "   'transactions': [],\n",
       "   'location': {'address1': '96 Lafayette St',\n",
       "    'address2': None,\n",
       "    'address3': None,\n",
       "    'city': 'New York',\n",
       "    'zip_code': '10013',\n",
       "    'country': 'US',\n",
       "    'state': 'NY',\n",
       "    'display_address': ['96 Lafayette St', 'New York, NY 10013']},\n",
       "   'phone': '+18888129060',\n",
       "   'display_phone': '(888) 812-9060',\n",
       "   'distance': 8955.976101576549},\n",
       "  {'id': 'b9DAbR-1eIfLr6TPI_r59Q',\n",
       "   'alias': 'axe-kicking-entertainment-mineola',\n",
       "   'name': 'Axe Kicking Entertainment',\n",
       "   'image_url': 'https://s3-media2.fl.yelpcdn.com/bphoto/bBooTB1Ja2PSGTGLhbAjVg/o.jpg',\n",
       "   'is_closed': False,\n",
       "   'url': 'https://www.yelp.com/biz/axe-kicking-entertainment-mineola?adjust_creative=GVUnShMpw45LIDmNl6KzkQ&utm_campaign=yelp_api_v3&utm_medium=api_v3_business_search&utm_source=GVUnShMpw45LIDmNl6KzkQ',\n",
       "   'review_count': 7,\n",
       "   'categories': [{'alias': 'axethrowing', 'title': 'Axe Throwing'},\n",
       "    {'alias': 'archery', 'title': 'Archery'},\n",
       "    {'alias': 'bowling', 'title': 'Bowling'}],\n",
       "   'rating': 5.0,\n",
       "   'coordinates': {'latitude': 40.74638, 'longitude': -73.65027},\n",
       "   'transactions': [],\n",
       "   'location': {'address1': '360 Jericho Turnpike',\n",
       "    'address2': None,\n",
       "    'address3': '',\n",
       "    'city': 'Mineola',\n",
       "    'zip_code': '11501',\n",
       "    'country': 'US',\n",
       "    'state': 'NY',\n",
       "    'display_address': ['360 Jericho Turnpike', 'Mineola, NY 11501']},\n",
       "   'phone': '+15162806040',\n",
       "   'display_phone': '(516) 280-6040',\n",
       "   'distance': 26518.825160012875},\n",
       "  {'id': 'Ub7igTH4-w5haq_bHmvFjQ',\n",
       "   'alias': 'hatchets-and-hops-brooklyn',\n",
       "   'name': 'Hatchets & Hops',\n",
       "   'image_url': 'https://s3-media2.fl.yelpcdn.com/bphoto/XfyHGdIjuF3dufr1NgMqBA/o.jpg',\n",
       "   'is_closed': False,\n",
       "   'url': 'https://www.yelp.com/biz/hatchets-and-hops-brooklyn?adjust_creative=GVUnShMpw45LIDmNl6KzkQ&utm_campaign=yelp_api_v3&utm_medium=api_v3_business_search&utm_source=GVUnShMpw45LIDmNl6KzkQ',\n",
       "   'review_count': 1,\n",
       "   'categories': [{'alias': 'axethrowing', 'title': 'Axe Throwing'},\n",
       "    {'alias': 'bars', 'title': 'Bars'}],\n",
       "   'rating': 5.0,\n",
       "   'coordinates': {'latitude': 40.721237, 'longitude': -73.957603},\n",
       "   'transactions': [],\n",
       "   'location': {'address1': '98 North 11th St',\n",
       "    'address2': None,\n",
       "    'address3': '',\n",
       "    'city': 'Brooklyn',\n",
       "    'zip_code': '11249',\n",
       "    'country': 'US',\n",
       "    'state': 'NY',\n",
       "    'display_address': ['98 North 11th St', 'Brooklyn, NY 11249']},\n",
       "   'phone': '+18559512973',\n",
       "   'display_phone': '(855) 951-2973',\n",
       "   'distance': 7814.584675164627},\n",
       "  {'id': 'K_Jm8V-XuOFlbHb_VUzk-w',\n",
       "   'alias': 'indoor-extreme-sports-long-island-city',\n",
       "   'name': 'Indoor Extreme Sports',\n",
       "   'image_url': 'https://s3-media2.fl.yelpcdn.com/bphoto/wQE-gOKf-shCB4sDI2WmhQ/o.jpg',\n",
       "   'is_closed': False,\n",
       "   'url': 'https://www.yelp.com/biz/indoor-extreme-sports-long-island-city?adjust_creative=GVUnShMpw45LIDmNl6KzkQ&utm_campaign=yelp_api_v3&utm_medium=api_v3_business_search&utm_source=GVUnShMpw45LIDmNl6KzkQ',\n",
       "   'review_count': 509,\n",
       "   'categories': [{'alias': 'paintball', 'title': 'Paintball'},\n",
       "    {'alias': 'lasertag', 'title': 'Laser Tag'},\n",
       "    {'alias': 'axethrowing', 'title': 'Axe Throwing'}],\n",
       "   'rating': 4.0,\n",
       "   'coordinates': {'latitude': 40.7422746, 'longitude': -73.9338804},\n",
       "   'transactions': [],\n",
       "   'location': {'address1': '47 11 Van Dam St',\n",
       "    'address2': None,\n",
       "    'address3': '',\n",
       "    'city': 'Long Island City',\n",
       "    'zip_code': '11101',\n",
       "    'country': 'US',\n",
       "    'state': 'NY',\n",
       "    'display_address': ['47 11 Van Dam St', 'Long Island City, NY 11101']},\n",
       "   'phone': '+17183619152',\n",
       "   'display_phone': '(718) 361-9152',\n",
       "   'distance': 10012.024588128},\n",
       "  {'id': 'yXOjBSwyqOKDY7oHx3z7HA',\n",
       "   'alias': 'tomahawks-jersey-city',\n",
       "   'name': 'Tomahawks',\n",
       "   'image_url': 'https://s3-media1.fl.yelpcdn.com/bphoto/AcR-ExIWOWPNXRr6G5cGQw/o.jpg',\n",
       "   'is_closed': False,\n",
       "   'url': 'https://www.yelp.com/biz/tomahawks-jersey-city?adjust_creative=GVUnShMpw45LIDmNl6KzkQ&utm_campaign=yelp_api_v3&utm_medium=api_v3_business_search&utm_source=GVUnShMpw45LIDmNl6KzkQ',\n",
       "   'review_count': 14,\n",
       "   'categories': [{'alias': 'axethrowing', 'title': 'Axe Throwing'}],\n",
       "   'rating': 4.5,\n",
       "   'coordinates': {'latitude': 40.7411216, 'longitude': -74.0493572},\n",
       "   'transactions': [],\n",
       "   'location': {'address1': '7 Sherman Ave',\n",
       "    'address2': 'Fl 2',\n",
       "    'address3': '',\n",
       "    'city': 'Jersey City',\n",
       "    'zip_code': '07307',\n",
       "    'country': 'US',\n",
       "    'state': 'NJ',\n",
       "    'display_address': ['7 Sherman Ave', 'Fl 2', 'Jersey City, NJ 07307']},\n",
       "   'phone': '+12014209722',\n",
       "   'display_phone': '(201) 420-9722',\n",
       "   'distance': 13556.0314007906},\n",
       "  {'id': 'wuy6jyi5cxm1pwnUTWyBLw',\n",
       "   'alias': 'stumpys-hatchet-house-fairfield-fairfield-3',\n",
       "   'name': \"Stumpy's Hatchet House - Fairfield\",\n",
       "   'image_url': 'https://s3-media1.fl.yelpcdn.com/bphoto/yKG858jIoenW0jLpq6Hg1A/o.jpg',\n",
       "   'is_closed': False,\n",
       "   'url': 'https://www.yelp.com/biz/stumpys-hatchet-house-fairfield-fairfield-3?adjust_creative=GVUnShMpw45LIDmNl6KzkQ&utm_campaign=yelp_api_v3&utm_medium=api_v3_business_search&utm_source=GVUnShMpw45LIDmNl6KzkQ',\n",
       "   'review_count': 45,\n",
       "   'categories': [{'alias': 'axethrowing', 'title': 'Axe Throwing'},\n",
       "    {'alias': 'recreation', 'title': 'Recreation Centers'}],\n",
       "   'rating': 5.0,\n",
       "   'coordinates': {'latitude': 40.882466, 'longitude': -74.2942046508915},\n",
       "   'transactions': [],\n",
       "   'location': {'address1': '373 US-46 W',\n",
       "    'address2': 'Ste D140',\n",
       "    'address3': '',\n",
       "    'city': 'Fairfield',\n",
       "    'zip_code': '07004',\n",
       "    'country': 'US',\n",
       "    'state': 'NJ',\n",
       "    'display_address': ['373 US-46 W', 'Ste D140', 'Fairfield, NJ 07004']},\n",
       "   'phone': '+19737213120',\n",
       "   'display_phone': '(973) 721-3120',\n",
       "   'distance': 39342.64728763023},\n",
       "  {'id': 'oKkn9nKh6jB-fsQIDbP4tQ',\n",
       "   'alias': 'bury-the-hatchet-matawan',\n",
       "   'name': 'Bury The Hatchet',\n",
       "   'image_url': 'https://s3-media1.fl.yelpcdn.com/bphoto/EsKEUTyvjjzdr6SzTzubSQ/o.jpg',\n",
       "   'is_closed': False,\n",
       "   'url': 'https://www.yelp.com/biz/bury-the-hatchet-matawan?adjust_creative=GVUnShMpw45LIDmNl6KzkQ&utm_campaign=yelp_api_v3&utm_medium=api_v3_business_search&utm_source=GVUnShMpw45LIDmNl6KzkQ',\n",
       "   'review_count': 91,\n",
       "   'categories': [{'alias': 'axethrowing', 'title': 'Axe Throwing'},\n",
       "    {'alias': 'teambuilding', 'title': 'Team Building Activities'}],\n",
       "   'rating': 5.0,\n",
       "   'coordinates': {'latitude': 40.4234040521118,\n",
       "    'longitude': -74.2643531039357},\n",
       "   'transactions': [],\n",
       "   'location': {'address1': '419 Route 34',\n",
       "    'address2': '',\n",
       "    'address3': None,\n",
       "    'city': 'Matawan',\n",
       "    'zip_code': '07747',\n",
       "    'country': 'US',\n",
       "    'state': 'NJ',\n",
       "    'display_address': ['419 Route 34', 'Matawan, NJ 07747']},\n",
       "   'phone': '+17329626284',\n",
       "   'display_phone': '(732) 962-6284',\n",
       "   'distance': 37446.224760844736},\n",
       "  {'id': 'xC9gtq17G9XU5d-yjkprfA',\n",
       "   'alias': 'bury-the-hatchet-paramus-axe-throwing-paramus-2',\n",
       "   'name': 'Bury the Hatchet Paramus - Axe Throwing',\n",
       "   'image_url': 'https://s3-media4.fl.yelpcdn.com/bphoto/2z7jvctXJEeKUBKB-XIPSg/o.jpg',\n",
       "   'is_closed': False,\n",
       "   'url': 'https://www.yelp.com/biz/bury-the-hatchet-paramus-axe-throwing-paramus-2?adjust_creative=GVUnShMpw45LIDmNl6KzkQ&utm_campaign=yelp_api_v3&utm_medium=api_v3_business_search&utm_source=GVUnShMpw45LIDmNl6KzkQ',\n",
       "   'review_count': 75,\n",
       "   'categories': [{'alias': 'axethrowing', 'title': 'Axe Throwing'}],\n",
       "   'rating': 4.0,\n",
       "   'coordinates': {'latitude': 40.9486345940514,\n",
       "    'longitude': -74.0677446595245},\n",
       "   'transactions': [],\n",
       "   'location': {'address1': '49 E Midland Ave',\n",
       "    'address2': None,\n",
       "    'address3': '',\n",
       "    'city': 'Paramus',\n",
       "    'zip_code': '07652',\n",
       "    'country': 'US',\n",
       "    'state': 'NJ',\n",
       "    'display_address': ['49 E Midland Ave', 'Paramus, NJ 07652']},\n",
       "   'phone': '+12016883358',\n",
       "   'display_phone': '(201) 688-3358',\n",
       "   'distance': 34674.4395003575},\n",
       "  {'id': '1BUoVTCYSpGfG0oobAr5Hg',\n",
       "   'alias': 'bury-the-hatchet-axe-throwing-bloomfield-bloomfield',\n",
       "   'name': 'Bury The Hatchet Axe Throwing- Bloomfield',\n",
       "   'image_url': 'https://s3-media2.fl.yelpcdn.com/bphoto/Y6OdaWjNZKFNKuSdl-rU3w/o.jpg',\n",
       "   'is_closed': False,\n",
       "   'url': 'https://www.yelp.com/biz/bury-the-hatchet-axe-throwing-bloomfield-bloomfield?adjust_creative=GVUnShMpw45LIDmNl6KzkQ&utm_campaign=yelp_api_v3&utm_medium=api_v3_business_search&utm_source=GVUnShMpw45LIDmNl6KzkQ',\n",
       "   'review_count': 91,\n",
       "   'categories': [{'alias': 'axethrowing', 'title': 'Axe Throwing'}],\n",
       "   'rating': 4.5,\n",
       "   'coordinates': {'latitude': 40.79607, 'longitude': -74.2003299},\n",
       "   'transactions': [],\n",
       "   'location': {'address1': '672 Bloomfield Ave',\n",
       "    'address2': None,\n",
       "    'address3': '',\n",
       "    'city': 'Bloomfield',\n",
       "    'zip_code': '07003',\n",
       "    'country': 'US',\n",
       "    'state': 'NJ',\n",
       "    'display_address': ['672 Bloomfield Ave', 'Bloomfield, NJ 07003']},\n",
       "   'phone': '+19738427725',\n",
       "   'display_phone': '(973) 842-7725',\n",
       "   'distance': 27173.957270887662},\n",
       "  {'id': '5izrkxTF_OWgwEdgzjNCAA',\n",
       "   'alias': 'bury-the-hatchet-woodbridge-axe-throwing-avenel',\n",
       "   'name': 'Bury The Hatchet Woodbridge - Axe Throwing',\n",
       "   'image_url': 'https://s3-media2.fl.yelpcdn.com/bphoto/ZhVxhmy3BDOGaEwflbF9RA/o.jpg',\n",
       "   'is_closed': False,\n",
       "   'url': 'https://www.yelp.com/biz/bury-the-hatchet-woodbridge-axe-throwing-avenel?adjust_creative=GVUnShMpw45LIDmNl6KzkQ&utm_campaign=yelp_api_v3&utm_medium=api_v3_business_search&utm_source=GVUnShMpw45LIDmNl6KzkQ',\n",
       "   'review_count': 8,\n",
       "   'categories': [{'alias': 'axethrowing', 'title': 'Axe Throwing'}],\n",
       "   'rating': 4.5,\n",
       "   'coordinates': {'latitude': 40.5919, 'longitude': -74.28943},\n",
       "   'transactions': [],\n",
       "   'location': {'address1': '1600 St Georges Ave',\n",
       "    'address2': None,\n",
       "    'address3': '',\n",
       "    'city': 'Avenel',\n",
       "    'zip_code': '07001',\n",
       "    'country': 'US',\n",
       "    'state': 'NJ',\n",
       "    'display_address': ['1600 St Georges Ave', 'Avenel, NJ 07001']},\n",
       "   'phone': '+17322986614',\n",
       "   'display_phone': '(732) 298-6614',\n",
       "   'distance': 30246.00489811494},\n",
       "  {'id': 'BOYnPH11OTCMPzxiPJXHpw',\n",
       "   'alias': 'hatchet-house-hackensack-3',\n",
       "   'name': 'Hatchet House',\n",
       "   'image_url': 'https://s3-media3.fl.yelpcdn.com/bphoto/1BayJ29kv-F92Dqy7uboDA/o.jpg',\n",
       "   'is_closed': False,\n",
       "   'url': 'https://www.yelp.com/biz/hatchet-house-hackensack-3?adjust_creative=GVUnShMpw45LIDmNl6KzkQ&utm_campaign=yelp_api_v3&utm_medium=api_v3_business_search&utm_source=GVUnShMpw45LIDmNl6KzkQ',\n",
       "   'review_count': 1,\n",
       "   'categories': [{'alias': 'axethrowing', 'title': 'Axe Throwing'},\n",
       "    {'alias': 'venues', 'title': 'Venues & Event Spaces'},\n",
       "    {'alias': 'paintball', 'title': 'Paintball'}],\n",
       "   'rating': 3.0,\n",
       "   'coordinates': {'latitude': 40.8832357904038,\n",
       "    'longitude': -74.0432552620768},\n",
       "   'transactions': [],\n",
       "   'location': {'address1': '157A Main St',\n",
       "    'address2': '',\n",
       "    'address3': None,\n",
       "    'city': 'Hackensack',\n",
       "    'zip_code': '07601',\n",
       "    'country': 'US',\n",
       "    'state': 'NJ',\n",
       "    'display_address': ['157A Main St', 'Hackensack, NJ 07601']},\n",
       "   'phone': '+18332934653',\n",
       "   'display_phone': '(833) 293-4653',\n",
       "   'distance': 27125.32070094518},\n",
       "  {'id': 'LN1itZNPsylqInDsLG4M_g',\n",
       "   'alias': 'new-york-sports-clubs-new-york-73',\n",
       "   'name': 'New York Sports Clubs',\n",
       "   'image_url': 'https://s3-media2.fl.yelpcdn.com/bphoto/eMLTokizDk84J50jB3gmzw/o.jpg',\n",
       "   'is_closed': False,\n",
       "   'url': 'https://www.yelp.com/biz/new-york-sports-clubs-new-york-73?adjust_creative=GVUnShMpw45LIDmNl6KzkQ&utm_campaign=yelp_api_v3&utm_medium=api_v3_business_search&utm_source=GVUnShMpw45LIDmNl6KzkQ',\n",
       "   'review_count': 105,\n",
       "   'categories': [{'alias': 'gyms', 'title': 'Gyms'},\n",
       "    {'alias': 'healthtrainers', 'title': 'Trainers'},\n",
       "    {'alias': 'sports_clubs', 'title': 'Sports Clubs'}],\n",
       "   'rating': 2.0,\n",
       "   'coordinates': {'latitude': 40.7455891, 'longitude': -73.9980521},\n",
       "   'transactions': [],\n",
       "   'location': {'address1': '270 8th Ave',\n",
       "    'address2': '',\n",
       "    'address3': '',\n",
       "    'city': 'New York',\n",
       "    'zip_code': '10011',\n",
       "    'country': 'US',\n",
       "    'state': 'NY',\n",
       "    'display_address': ['270 8th Ave', 'New York, NY 10011']},\n",
       "   'phone': '+12122433400',\n",
       "   'display_phone': '(212) 243-3400',\n",
       "   'distance': 11489.778200039469},\n",
       "  {'id': '0OJWRkAI-iot-dtKX6BjbQ',\n",
       "   'alias': 'queens-archery-flushing',\n",
       "   'name': 'Queens Archery',\n",
       "   'image_url': 'https://s3-media3.fl.yelpcdn.com/bphoto/lXOzZPUHPPdu8iGsaH38nA/o.jpg',\n",
       "   'is_closed': False,\n",
       "   'url': 'https://www.yelp.com/biz/queens-archery-flushing?adjust_creative=GVUnShMpw45LIDmNl6KzkQ&utm_campaign=yelp_api_v3&utm_medium=api_v3_business_search&utm_source=GVUnShMpw45LIDmNl6KzkQ',\n",
       "   'review_count': 363,\n",
       "   'categories': [{'alias': 'sports_clubs', 'title': 'Sports Clubs'},\n",
       "    {'alias': 'archery', 'title': 'Archery'}],\n",
       "   'rating': 4.5,\n",
       "   'coordinates': {'latitude': 40.76137, 'longitude': -73.79556},\n",
       "   'transactions': [],\n",
       "   'location': {'address1': '170-20 39th Ave',\n",
       "    'address2': '',\n",
       "    'address3': '',\n",
       "    'city': 'Flushing',\n",
       "    'zip_code': '11358',\n",
       "    'country': 'US',\n",
       "    'state': 'NY',\n",
       "    'display_address': ['170-20 39th Ave', 'Flushing, NY 11358']},\n",
       "   'phone': '+17184611756',\n",
       "   'display_phone': '(718) 461-1756',\n",
       "   'distance': 17134.395523061943}],\n",
       " 'total': 27,\n",
       " 'region': {'center': {'longitude': -73.93936157226562,\n",
       "   'latitude': 40.652330148320374}}}"
      ]
     },
     "metadata": {},
     "execution_count": 36
    }
   ],
   "source": [
    "axe_throwing"
   ]
  },
  {
   "cell_type": "code",
   "execution_count": 37,
   "metadata": {
    "scrolled": false
   },
   "outputs": [
    {
     "output_type": "stream",
     "name": "stdout",
     "text": [
      "businesses\ntotal\nregion\n"
     ]
    }
   ],
   "source": [
    "# cleaning and exploring the data\n",
    "for key in axe_throwing.keys():\n",
    "    print(key)"
   ]
  },
  {
   "cell_type": "code",
   "execution_count": 44,
   "metadata": {
    "scrolled": false
   },
   "outputs": [
    {
     "output_type": "execute_result",
     "data": {
      "text/plain": [
       "27"
      ]
     },
     "metadata": {},
     "execution_count": 44
    }
   ],
   "source": [
    "# explore which objects in the dataframe we need\n",
    "axe_throwing['total']"
   ]
  },
  {
   "cell_type": "code",
   "execution_count": 39,
   "metadata": {
    "scrolled": false
   },
   "outputs": [
    {
     "output_type": "execute_result",
     "data": {
      "text/plain": [
       "                       id                                              alias  \\\n",
       "0  X0DNGKUQPjf0AfaXfXU2Qg                       kick-axe-throwing-brooklyn-2   \n",
       "1  4E6BkrEVf_0TjRVYE7gxeQ  bury-the-hatchet-brooklyn-axe-throwing-brooklyn-2   \n",
       "2  PhEkSzYZHKYS7uyXePmkMw                 axes-and-arrows-long-island-city-2   \n",
       "3  4sPiNeQGD8mzt9ess7xZrQ                                   mad-axe-brooklyn   \n",
       "4  lZVE27r_W_3GXxNwECYC4g                                  live-axe-new-york   \n",
       "\n",
       "                                       name  \\\n",
       "0                         Kick Axe Throwing   \n",
       "1  Bury the Hatchet Brooklyn - Axe Throwing   \n",
       "2                           Axes And Arrows   \n",
       "3                                   Mad Axe   \n",
       "4                                  Live Axe   \n",
       "\n",
       "                                           image_url  is_closed  \\\n",
       "0  https://s3-media1.fl.yelpcdn.com/bphoto/WjKylw...      False   \n",
       "1  https://s3-media3.fl.yelpcdn.com/bphoto/SH8_Nw...      False   \n",
       "2  https://s3-media4.fl.yelpcdn.com/bphoto/Uinh_o...      False   \n",
       "3  https://s3-media4.fl.yelpcdn.com/bphoto/UOC-Bs...      False   \n",
       "4  https://s3-media2.fl.yelpcdn.com/bphoto/-Z1qvn...      False   \n",
       "\n",
       "                                                 url  review_count  \\\n",
       "0  https://www.yelp.com/biz/kick-axe-throwing-bro...           404   \n",
       "1  https://www.yelp.com/biz/bury-the-hatchet-broo...           155   \n",
       "2  https://www.yelp.com/biz/axes-and-arrows-long-...            49   \n",
       "3  https://www.yelp.com/biz/mad-axe-brooklyn?adju...            13   \n",
       "4  https://www.yelp.com/biz/live-axe-new-york?adj...             7   \n",
       "\n",
       "                                          categories  rating  \\\n",
       "0  [{'alias': 'bars', 'title': 'Bars'}, {'alias':...     4.5   \n",
       "1  [{'alias': 'axethrowing', 'title': 'Axe Throwi...     4.5   \n",
       "2  [{'alias': 'axethrowing', 'title': 'Axe Throwi...     4.5   \n",
       "3  [{'alias': 'axethrowing', 'title': 'Axe Throwi...     5.0   \n",
       "4  [{'alias': 'axethrowing', 'title': 'Axe Throwi...     4.5   \n",
       "\n",
       "                                         coordinates transactions  \\\n",
       "0  {'latitude': 40.6790268, 'longitude': -73.983077}           []   \n",
       "1  {'latitude': 40.7283195, 'longitude': -73.9600...           []   \n",
       "2  {'latitude': 40.7425127, 'longitude': -73.933816}           []   \n",
       "3       {'latitude': 40.707, 'longitude': -73.93364}           []   \n",
       "4     {'latitude': 40.71769, 'longitude': -74.00144}           []   \n",
       "\n",
       "                                            location         phone  \\\n",
       "0  {'address1': '622 Degraw St', 'address2': None...  +18335425293   \n",
       "1  {'address1': '25 Noble St', 'address2': None, ...  +19172439696   \n",
       "2  {'address1': '47- 11 Van Dam St', 'address2': ...  +17183619152   \n",
       "3  {'address1': '94 Bogart Street 2nd', 'address2...  +19292950229   \n",
       "4  {'address1': '96 Lafayette St', 'address2': No...  +18888129060   \n",
       "\n",
       "    display_phone     distance  \n",
       "0  (833) 542-5293  4733.616620  \n",
       "1  (917) 243-9696  8652.979400  \n",
       "2  (718) 361-9152  9996.588059  \n",
       "3  (929) 295-0229  6101.731538  \n",
       "4  (888) 812-9060  8955.976102  "
      ],
      "text/html": "<div>\n<style scoped>\n    .dataframe tbody tr th:only-of-type {\n        vertical-align: middle;\n    }\n\n    .dataframe tbody tr th {\n        vertical-align: top;\n    }\n\n    .dataframe thead th {\n        text-align: right;\n    }\n</style>\n<table border=\"1\" class=\"dataframe\">\n  <thead>\n    <tr style=\"text-align: right;\">\n      <th></th>\n      <th>id</th>\n      <th>alias</th>\n      <th>name</th>\n      <th>image_url</th>\n      <th>is_closed</th>\n      <th>url</th>\n      <th>review_count</th>\n      <th>categories</th>\n      <th>rating</th>\n      <th>coordinates</th>\n      <th>transactions</th>\n      <th>location</th>\n      <th>phone</th>\n      <th>display_phone</th>\n      <th>distance</th>\n    </tr>\n  </thead>\n  <tbody>\n    <tr>\n      <th>0</th>\n      <td>X0DNGKUQPjf0AfaXfXU2Qg</td>\n      <td>kick-axe-throwing-brooklyn-2</td>\n      <td>Kick Axe Throwing</td>\n      <td>https://s3-media1.fl.yelpcdn.com/bphoto/WjKylw...</td>\n      <td>False</td>\n      <td>https://www.yelp.com/biz/kick-axe-throwing-bro...</td>\n      <td>404</td>\n      <td>[{'alias': 'bars', 'title': 'Bars'}, {'alias':...</td>\n      <td>4.5</td>\n      <td>{'latitude': 40.6790268, 'longitude': -73.983077}</td>\n      <td>[]</td>\n      <td>{'address1': '622 Degraw St', 'address2': None...</td>\n      <td>+18335425293</td>\n      <td>(833) 542-5293</td>\n      <td>4733.616620</td>\n    </tr>\n    <tr>\n      <th>1</th>\n      <td>4E6BkrEVf_0TjRVYE7gxeQ</td>\n      <td>bury-the-hatchet-brooklyn-axe-throwing-brooklyn-2</td>\n      <td>Bury the Hatchet Brooklyn - Axe Throwing</td>\n      <td>https://s3-media3.fl.yelpcdn.com/bphoto/SH8_Nw...</td>\n      <td>False</td>\n      <td>https://www.yelp.com/biz/bury-the-hatchet-broo...</td>\n      <td>155</td>\n      <td>[{'alias': 'axethrowing', 'title': 'Axe Throwi...</td>\n      <td>4.5</td>\n      <td>{'latitude': 40.7283195, 'longitude': -73.9600...</td>\n      <td>[]</td>\n      <td>{'address1': '25 Noble St', 'address2': None, ...</td>\n      <td>+19172439696</td>\n      <td>(917) 243-9696</td>\n      <td>8652.979400</td>\n    </tr>\n    <tr>\n      <th>2</th>\n      <td>PhEkSzYZHKYS7uyXePmkMw</td>\n      <td>axes-and-arrows-long-island-city-2</td>\n      <td>Axes And Arrows</td>\n      <td>https://s3-media4.fl.yelpcdn.com/bphoto/Uinh_o...</td>\n      <td>False</td>\n      <td>https://www.yelp.com/biz/axes-and-arrows-long-...</td>\n      <td>49</td>\n      <td>[{'alias': 'axethrowing', 'title': 'Axe Throwi...</td>\n      <td>4.5</td>\n      <td>{'latitude': 40.7425127, 'longitude': -73.933816}</td>\n      <td>[]</td>\n      <td>{'address1': '47- 11 Van Dam St', 'address2': ...</td>\n      <td>+17183619152</td>\n      <td>(718) 361-9152</td>\n      <td>9996.588059</td>\n    </tr>\n    <tr>\n      <th>3</th>\n      <td>4sPiNeQGD8mzt9ess7xZrQ</td>\n      <td>mad-axe-brooklyn</td>\n      <td>Mad Axe</td>\n      <td>https://s3-media4.fl.yelpcdn.com/bphoto/UOC-Bs...</td>\n      <td>False</td>\n      <td>https://www.yelp.com/biz/mad-axe-brooklyn?adju...</td>\n      <td>13</td>\n      <td>[{'alias': 'axethrowing', 'title': 'Axe Throwi...</td>\n      <td>5.0</td>\n      <td>{'latitude': 40.707, 'longitude': -73.93364}</td>\n      <td>[]</td>\n      <td>{'address1': '94 Bogart Street 2nd', 'address2...</td>\n      <td>+19292950229</td>\n      <td>(929) 295-0229</td>\n      <td>6101.731538</td>\n    </tr>\n    <tr>\n      <th>4</th>\n      <td>lZVE27r_W_3GXxNwECYC4g</td>\n      <td>live-axe-new-york</td>\n      <td>Live Axe</td>\n      <td>https://s3-media2.fl.yelpcdn.com/bphoto/-Z1qvn...</td>\n      <td>False</td>\n      <td>https://www.yelp.com/biz/live-axe-new-york?adj...</td>\n      <td>7</td>\n      <td>[{'alias': 'axethrowing', 'title': 'Axe Throwi...</td>\n      <td>4.5</td>\n      <td>{'latitude': 40.71769, 'longitude': -74.00144}</td>\n      <td>[]</td>\n      <td>{'address1': '96 Lafayette St', 'address2': No...</td>\n      <td>+18888129060</td>\n      <td>(888) 812-9060</td>\n      <td>8955.976102</td>\n    </tr>\n  </tbody>\n</table>\n</div>"
     },
     "metadata": {},
     "execution_count": 39
    }
   ],
   "source": [
    "# let's turn the things we need into a pandas dataframe\n",
    "axe_df = pd.DataFrame(axe_throwing['businesses'])\n",
    "axe_df.head()"
   ]
  },
  {
   "cell_type": "code",
   "execution_count": 40,
   "metadata": {
    "scrolled": false
   },
   "outputs": [
    {
     "output_type": "execute_result",
     "data": {
      "text/plain": [
       "(array([9., 3., 1., 1., 0., 0., 0., 2., 0., 1.]),\n",
       " array([  1. ,  51.8, 102.6, 153.4, 204.2, 255. , 305.8, 356.6, 407.4,\n",
       "        458.2, 509. ]),\n",
       " <a list of 10 Patch objects>)"
      ]
     },
     "metadata": {},
     "execution_count": 40
    },
    {
     "output_type": "display_data",
     "data": {
      "text/plain": "<Figure size 576x396 with 1 Axes>",
      "image/svg+xml": "<?xml version=\"1.0\" encoding=\"utf-8\" standalone=\"no\"?>\n<!DOCTYPE svg PUBLIC \"-//W3C//DTD SVG 1.1//EN\"\n  \"http://www.w3.org/Graphics/SVG/1.1/DTD/svg11.dtd\">\n<!-- Created with matplotlib (https://matplotlib.org/) -->\n<svg height=\"329.525312pt\" version=\"1.1\" viewBox=\"0 0 473.360937 329.525312\" width=\"473.360937pt\" xmlns=\"http://www.w3.org/2000/svg\" xmlns:xlink=\"http://www.w3.org/1999/xlink\">\n <defs>\n  <style type=\"text/css\">\n*{stroke-linecap:butt;stroke-linejoin:round;}\n  </style>\n </defs>\n <g id=\"figure_1\">\n  <g id=\"patch_1\">\n   <path d=\"M 0 329.525312 \nL 473.360937 329.525312 \nL 473.360937 0 \nL 0 0 \nz\n\" style=\"fill:#ffffff;\"/>\n  </g>\n  <g id=\"axes_1\">\n   <g id=\"patch_2\">\n    <path d=\"M 19.760938 306.18 \nL 466.160937 306.18 \nL 466.160937 7.2 \nL 19.760938 7.2 \nz\n\" style=\"fill:#eaeaf2;\"/>\n   </g>\n   <g id=\"matplotlib.axis_1\">\n    <g id=\"xtick_1\">\n     <g id=\"line2d_1\">\n      <path clip-path=\"url(#p04ca6af6ee)\" d=\"M 39.252992 306.18 \nL 39.252992 7.2 \n\" style=\"fill:none;stroke:#ffffff;stroke-linecap:round;\"/>\n     </g>\n     <g id=\"line2d_2\"/>\n     <g id=\"text_1\">\n      <!-- 0 -->\n      <defs>\n       <path d=\"M 4.15625 35.296875 \nQ 4.15625 48 6.765625 55.734375 \nQ 9.375 63.484375 14.515625 67.671875 \nQ 19.671875 71.875 27.484375 71.875 \nQ 33.25 71.875 37.59375 69.546875 \nQ 41.9375 67.234375 44.765625 62.859375 \nQ 47.609375 58.5 49.21875 52.21875 \nQ 50.828125 45.953125 50.828125 35.296875 \nQ 50.828125 22.703125 48.234375 14.96875 \nQ 45.65625 7.234375 40.5 3 \nQ 35.359375 -1.21875 27.484375 -1.21875 \nQ 17.140625 -1.21875 11.234375 6.203125 \nQ 4.15625 15.140625 4.15625 35.296875 \nz\nM 13.1875 35.296875 \nQ 13.1875 17.671875 17.3125 11.828125 \nQ 21.4375 6 27.484375 6 \nQ 33.546875 6 37.671875 11.859375 \nQ 41.796875 17.71875 41.796875 35.296875 \nQ 41.796875 52.984375 37.671875 58.78125 \nQ 33.546875 64.59375 27.390625 64.59375 \nQ 21.34375 64.59375 17.71875 59.46875 \nQ 13.1875 52.9375 13.1875 35.296875 \nz\n\" id=\"ArialMT-48\"/>\n      </defs>\n      <g style=\"fill:#262626;\" transform=\"translate(36.472523 320.337812)scale(0.1 -0.1)\">\n       <use xlink:href=\"#ArialMT-48\"/>\n      </g>\n     </g>\n    </g>\n    <g id=\"xtick_2\">\n     <g id=\"line2d_3\">\n      <path clip-path=\"url(#p04ca6af6ee)\" d=\"M 119.138461 306.18 \nL 119.138461 7.2 \n\" style=\"fill:none;stroke:#ffffff;stroke-linecap:round;\"/>\n     </g>\n     <g id=\"line2d_4\"/>\n     <g id=\"text_2\">\n      <!-- 100 -->\n      <defs>\n       <path d=\"M 37.25 0 \nL 28.46875 0 \nL 28.46875 56 \nQ 25.296875 52.984375 20.140625 49.953125 \nQ 14.984375 46.921875 10.890625 45.40625 \nL 10.890625 53.90625 \nQ 18.265625 57.375 23.78125 62.296875 \nQ 29.296875 67.234375 31.59375 71.875 \nL 37.25 71.875 \nz\n\" id=\"ArialMT-49\"/>\n      </defs>\n      <g style=\"fill:#262626;\" transform=\"translate(110.797055 320.337812)scale(0.1 -0.1)\">\n       <use xlink:href=\"#ArialMT-49\"/>\n       <use x=\"55.615234\" xlink:href=\"#ArialMT-48\"/>\n       <use x=\"111.230469\" xlink:href=\"#ArialMT-48\"/>\n      </g>\n     </g>\n    </g>\n    <g id=\"xtick_3\">\n     <g id=\"line2d_5\">\n      <path clip-path=\"url(#p04ca6af6ee)\" d=\"M 199.02393 306.18 \nL 199.02393 7.2 \n\" style=\"fill:none;stroke:#ffffff;stroke-linecap:round;\"/>\n     </g>\n     <g id=\"line2d_6\"/>\n     <g id=\"text_3\">\n      <!-- 200 -->\n      <defs>\n       <path d=\"M 50.34375 8.453125 \nL 50.34375 0 \nL 3.03125 0 \nQ 2.9375 3.171875 4.046875 6.109375 \nQ 5.859375 10.9375 9.828125 15.625 \nQ 13.8125 20.3125 21.34375 26.46875 \nQ 33.015625 36.03125 37.109375 41.625 \nQ 41.21875 47.21875 41.21875 52.203125 \nQ 41.21875 57.421875 37.46875 61 \nQ 33.734375 64.59375 27.734375 64.59375 \nQ 21.390625 64.59375 17.578125 60.78125 \nQ 13.765625 56.984375 13.71875 50.25 \nL 4.6875 51.171875 \nQ 5.609375 61.28125 11.65625 66.578125 \nQ 17.71875 71.875 27.9375 71.875 \nQ 38.234375 71.875 44.234375 66.15625 \nQ 50.25 60.453125 50.25 52 \nQ 50.25 47.703125 48.484375 43.546875 \nQ 46.734375 39.40625 42.65625 34.8125 \nQ 38.578125 30.21875 29.109375 22.21875 \nQ 21.1875 15.578125 18.9375 13.203125 \nQ 16.703125 10.84375 15.234375 8.453125 \nz\n\" id=\"ArialMT-50\"/>\n      </defs>\n      <g style=\"fill:#262626;\" transform=\"translate(190.682523 320.337812)scale(0.1 -0.1)\">\n       <use xlink:href=\"#ArialMT-50\"/>\n       <use x=\"55.615234\" xlink:href=\"#ArialMT-48\"/>\n       <use x=\"111.230469\" xlink:href=\"#ArialMT-48\"/>\n      </g>\n     </g>\n    </g>\n    <g id=\"xtick_4\">\n     <g id=\"line2d_7\">\n      <path clip-path=\"url(#p04ca6af6ee)\" d=\"M 278.909398 306.18 \nL 278.909398 7.2 \n\" style=\"fill:none;stroke:#ffffff;stroke-linecap:round;\"/>\n     </g>\n     <g id=\"line2d_8\"/>\n     <g id=\"text_4\">\n      <!-- 300 -->\n      <defs>\n       <path d=\"M 4.203125 18.890625 \nL 12.984375 20.0625 \nQ 14.5 12.59375 18.140625 9.296875 \nQ 21.78125 6 27 6 \nQ 33.203125 6 37.46875 10.296875 \nQ 41.75 14.59375 41.75 20.953125 \nQ 41.75 27 37.796875 30.921875 \nQ 33.84375 34.859375 27.734375 34.859375 \nQ 25.25 34.859375 21.53125 33.890625 \nL 22.515625 41.609375 \nQ 23.390625 41.5 23.921875 41.5 \nQ 29.546875 41.5 34.03125 44.421875 \nQ 38.53125 47.359375 38.53125 53.46875 \nQ 38.53125 58.296875 35.25 61.46875 \nQ 31.984375 64.65625 26.8125 64.65625 \nQ 21.6875 64.65625 18.265625 61.421875 \nQ 14.84375 58.203125 13.875 51.765625 \nL 5.078125 53.328125 \nQ 6.6875 62.15625 12.390625 67.015625 \nQ 18.109375 71.875 26.609375 71.875 \nQ 32.46875 71.875 37.390625 69.359375 \nQ 42.328125 66.84375 44.9375 62.5 \nQ 47.5625 58.15625 47.5625 53.265625 \nQ 47.5625 48.640625 45.0625 44.828125 \nQ 42.578125 41.015625 37.703125 38.765625 \nQ 44.046875 37.3125 47.5625 32.6875 \nQ 51.078125 28.078125 51.078125 21.140625 \nQ 51.078125 11.765625 44.234375 5.25 \nQ 37.40625 -1.265625 26.953125 -1.265625 \nQ 17.53125 -1.265625 11.296875 4.34375 \nQ 5.078125 9.96875 4.203125 18.890625 \nz\n\" id=\"ArialMT-51\"/>\n      </defs>\n      <g style=\"fill:#262626;\" transform=\"translate(270.567992 320.337812)scale(0.1 -0.1)\">\n       <use xlink:href=\"#ArialMT-51\"/>\n       <use x=\"55.615234\" xlink:href=\"#ArialMT-48\"/>\n       <use x=\"111.230469\" xlink:href=\"#ArialMT-48\"/>\n      </g>\n     </g>\n    </g>\n    <g id=\"xtick_5\">\n     <g id=\"line2d_9\">\n      <path clip-path=\"url(#p04ca6af6ee)\" d=\"M 358.794867 306.18 \nL 358.794867 7.2 \n\" style=\"fill:none;stroke:#ffffff;stroke-linecap:round;\"/>\n     </g>\n     <g id=\"line2d_10\"/>\n     <g id=\"text_5\">\n      <!-- 400 -->\n      <defs>\n       <path d=\"M 32.328125 0 \nL 32.328125 17.140625 \nL 1.265625 17.140625 \nL 1.265625 25.203125 \nL 33.9375 71.578125 \nL 41.109375 71.578125 \nL 41.109375 25.203125 \nL 50.78125 25.203125 \nL 50.78125 17.140625 \nL 41.109375 17.140625 \nL 41.109375 0 \nz\nM 32.328125 25.203125 \nL 32.328125 57.46875 \nL 9.90625 25.203125 \nz\n\" id=\"ArialMT-52\"/>\n      </defs>\n      <g style=\"fill:#262626;\" transform=\"translate(350.453461 320.337812)scale(0.1 -0.1)\">\n       <use xlink:href=\"#ArialMT-52\"/>\n       <use x=\"55.615234\" xlink:href=\"#ArialMT-48\"/>\n       <use x=\"111.230469\" xlink:href=\"#ArialMT-48\"/>\n      </g>\n     </g>\n    </g>\n    <g id=\"xtick_6\">\n     <g id=\"line2d_11\">\n      <path clip-path=\"url(#p04ca6af6ee)\" d=\"M 438.680336 306.18 \nL 438.680336 7.2 \n\" style=\"fill:none;stroke:#ffffff;stroke-linecap:round;\"/>\n     </g>\n     <g id=\"line2d_12\"/>\n     <g id=\"text_6\">\n      <!-- 500 -->\n      <defs>\n       <path d=\"M 4.15625 18.75 \nL 13.375 19.53125 \nQ 14.40625 12.796875 18.140625 9.390625 \nQ 21.875 6 27.15625 6 \nQ 33.5 6 37.890625 10.78125 \nQ 42.28125 15.578125 42.28125 23.484375 \nQ 42.28125 31 38.0625 35.34375 \nQ 33.84375 39.703125 27 39.703125 \nQ 22.75 39.703125 19.328125 37.765625 \nQ 15.921875 35.84375 13.96875 32.765625 \nL 5.71875 33.84375 \nL 12.640625 70.609375 \nL 48.25 70.609375 \nL 48.25 62.203125 \nL 19.671875 62.203125 \nL 15.828125 42.96875 \nQ 22.265625 47.46875 29.34375 47.46875 \nQ 38.71875 47.46875 45.15625 40.96875 \nQ 51.609375 34.46875 51.609375 24.265625 \nQ 51.609375 14.546875 45.953125 7.46875 \nQ 39.0625 -1.21875 27.15625 -1.21875 \nQ 17.390625 -1.21875 11.203125 4.25 \nQ 5.03125 9.71875 4.15625 18.75 \nz\n\" id=\"ArialMT-53\"/>\n      </defs>\n      <g style=\"fill:#262626;\" transform=\"translate(430.33893 320.337812)scale(0.1 -0.1)\">\n       <use xlink:href=\"#ArialMT-53\"/>\n       <use x=\"55.615234\" xlink:href=\"#ArialMT-48\"/>\n       <use x=\"111.230469\" xlink:href=\"#ArialMT-48\"/>\n      </g>\n     </g>\n    </g>\n   </g>\n   <g id=\"matplotlib.axis_2\">\n    <g id=\"ytick_1\">\n     <g id=\"line2d_13\">\n      <path clip-path=\"url(#p04ca6af6ee)\" d=\"M 19.760938 306.18 \nL 466.160937 306.18 \n\" style=\"fill:none;stroke:#ffffff;stroke-linecap:round;\"/>\n     </g>\n     <g id=\"line2d_14\"/>\n     <g id=\"text_7\">\n      <!-- 0 -->\n      <g style=\"fill:#262626;\" transform=\"translate(7.2 309.758906)scale(0.1 -0.1)\">\n       <use xlink:href=\"#ArialMT-48\"/>\n      </g>\n     </g>\n    </g>\n    <g id=\"ytick_2\">\n     <g id=\"line2d_15\">\n      <path clip-path=\"url(#p04ca6af6ee)\" d=\"M 19.760938 242.90381 \nL 466.160937 242.90381 \n\" style=\"fill:none;stroke:#ffffff;stroke-linecap:round;\"/>\n     </g>\n     <g id=\"line2d_16\"/>\n     <g id=\"text_8\">\n      <!-- 2 -->\n      <g style=\"fill:#262626;\" transform=\"translate(7.2 246.482716)scale(0.1 -0.1)\">\n       <use xlink:href=\"#ArialMT-50\"/>\n      </g>\n     </g>\n    </g>\n    <g id=\"ytick_3\">\n     <g id=\"line2d_17\">\n      <path clip-path=\"url(#p04ca6af6ee)\" d=\"M 19.760938 179.627619 \nL 466.160937 179.627619 \n\" style=\"fill:none;stroke:#ffffff;stroke-linecap:round;\"/>\n     </g>\n     <g id=\"line2d_18\"/>\n     <g id=\"text_9\">\n      <!-- 4 -->\n      <g style=\"fill:#262626;\" transform=\"translate(7.2 183.206525)scale(0.1 -0.1)\">\n       <use xlink:href=\"#ArialMT-52\"/>\n      </g>\n     </g>\n    </g>\n    <g id=\"ytick_4\">\n     <g id=\"line2d_19\">\n      <path clip-path=\"url(#p04ca6af6ee)\" d=\"M 19.760938 116.351429 \nL 466.160937 116.351429 \n\" style=\"fill:none;stroke:#ffffff;stroke-linecap:round;\"/>\n     </g>\n     <g id=\"line2d_20\"/>\n     <g id=\"text_10\">\n      <!-- 6 -->\n      <defs>\n       <path d=\"M 49.75 54.046875 \nL 41.015625 53.375 \nQ 39.84375 58.546875 37.703125 60.890625 \nQ 34.125 64.65625 28.90625 64.65625 \nQ 24.703125 64.65625 21.53125 62.3125 \nQ 17.390625 59.28125 14.984375 53.46875 \nQ 12.59375 47.65625 12.5 36.921875 \nQ 15.671875 41.75 20.265625 44.09375 \nQ 24.859375 46.4375 29.890625 46.4375 \nQ 38.671875 46.4375 44.84375 39.96875 \nQ 51.03125 33.5 51.03125 23.25 \nQ 51.03125 16.5 48.125 10.71875 \nQ 45.21875 4.9375 40.140625 1.859375 \nQ 35.0625 -1.21875 28.609375 -1.21875 \nQ 17.625 -1.21875 10.6875 6.859375 \nQ 3.765625 14.9375 3.765625 33.5 \nQ 3.765625 54.25 11.421875 63.671875 \nQ 18.109375 71.875 29.4375 71.875 \nQ 37.890625 71.875 43.28125 67.140625 \nQ 48.6875 62.40625 49.75 54.046875 \nz\nM 13.875 23.1875 \nQ 13.875 18.65625 15.796875 14.5 \nQ 17.71875 10.359375 21.1875 8.171875 \nQ 24.65625 6 28.46875 6 \nQ 34.03125 6 38.03125 10.484375 \nQ 42.046875 14.984375 42.046875 22.703125 \nQ 42.046875 30.125 38.078125 34.390625 \nQ 34.125 38.671875 28.125 38.671875 \nQ 22.171875 38.671875 18.015625 34.390625 \nQ 13.875 30.125 13.875 23.1875 \nz\n\" id=\"ArialMT-54\"/>\n      </defs>\n      <g style=\"fill:#262626;\" transform=\"translate(7.2 119.930335)scale(0.1 -0.1)\">\n       <use xlink:href=\"#ArialMT-54\"/>\n      </g>\n     </g>\n    </g>\n    <g id=\"ytick_5\">\n     <g id=\"line2d_21\">\n      <path clip-path=\"url(#p04ca6af6ee)\" d=\"M 19.760938 53.075238 \nL 466.160937 53.075238 \n\" style=\"fill:none;stroke:#ffffff;stroke-linecap:round;\"/>\n     </g>\n     <g id=\"line2d_22\"/>\n     <g id=\"text_11\">\n      <!-- 8 -->\n      <defs>\n       <path d=\"M 17.671875 38.8125 \nQ 12.203125 40.828125 9.5625 44.53125 \nQ 6.9375 48.25 6.9375 53.421875 \nQ 6.9375 61.234375 12.546875 66.546875 \nQ 18.171875 71.875 27.484375 71.875 \nQ 36.859375 71.875 42.578125 66.421875 \nQ 48.296875 60.984375 48.296875 53.171875 \nQ 48.296875 48.1875 45.671875 44.5 \nQ 43.0625 40.828125 37.75 38.8125 \nQ 44.34375 36.671875 47.78125 31.875 \nQ 51.21875 27.09375 51.21875 20.453125 \nQ 51.21875 11.28125 44.71875 5.03125 \nQ 38.234375 -1.21875 27.640625 -1.21875 \nQ 17.046875 -1.21875 10.546875 5.046875 \nQ 4.046875 11.328125 4.046875 20.703125 \nQ 4.046875 27.6875 7.59375 32.390625 \nQ 11.140625 37.109375 17.671875 38.8125 \nz\nM 15.921875 53.71875 \nQ 15.921875 48.640625 19.1875 45.40625 \nQ 22.46875 42.1875 27.6875 42.1875 \nQ 32.765625 42.1875 36.015625 45.375 \nQ 39.265625 48.578125 39.265625 53.21875 \nQ 39.265625 58.0625 35.90625 61.359375 \nQ 32.5625 64.65625 27.59375 64.65625 \nQ 22.5625 64.65625 19.234375 61.421875 \nQ 15.921875 58.203125 15.921875 53.71875 \nz\nM 13.09375 20.65625 \nQ 13.09375 16.890625 14.875 13.375 \nQ 16.65625 9.859375 20.171875 7.921875 \nQ 23.6875 6 27.734375 6 \nQ 34.03125 6 38.125 10.046875 \nQ 42.234375 14.109375 42.234375 20.359375 \nQ 42.234375 26.703125 38.015625 30.859375 \nQ 33.796875 35.015625 27.4375 35.015625 \nQ 21.234375 35.015625 17.15625 30.90625 \nQ 13.09375 26.8125 13.09375 20.65625 \nz\n\" id=\"ArialMT-56\"/>\n      </defs>\n      <g style=\"fill:#262626;\" transform=\"translate(7.2 56.654144)scale(0.1 -0.1)\">\n       <use xlink:href=\"#ArialMT-56\"/>\n      </g>\n     </g>\n    </g>\n   </g>\n   <g id=\"patch_3\">\n    <path clip-path=\"url(#p04ca6af6ee)\" d=\"M 40.051847 306.18 \nL 80.633665 306.18 \nL 80.633665 21.437143 \nL 40.051847 21.437143 \nz\n\" style=\"fill:#4c72b0;\"/>\n   </g>\n   <g id=\"patch_4\">\n    <path clip-path=\"url(#p04ca6af6ee)\" d=\"M 80.633665 306.18 \nL 121.215483 306.18 \nL 121.215483 211.265714 \nL 80.633665 211.265714 \nz\n\" style=\"fill:#4c72b0;\"/>\n   </g>\n   <g id=\"patch_5\">\n    <path clip-path=\"url(#p04ca6af6ee)\" d=\"M 121.215483 306.18 \nL 161.797301 306.18 \nL 161.797301 274.541905 \nL 121.215483 274.541905 \nz\n\" style=\"fill:#4c72b0;\"/>\n   </g>\n   <g id=\"patch_6\">\n    <path clip-path=\"url(#p04ca6af6ee)\" d=\"M 161.797301 306.18 \nL 202.379119 306.18 \nL 202.379119 274.541905 \nL 161.797301 274.541905 \nz\n\" style=\"fill:#4c72b0;\"/>\n   </g>\n   <g id=\"patch_7\">\n    <path clip-path=\"url(#p04ca6af6ee)\" d=\"M 202.379119 306.18 \nL 242.960938 306.18 \nL 242.960938 306.18 \nL 202.379119 306.18 \nz\n\" style=\"fill:#4c72b0;\"/>\n   </g>\n   <g id=\"patch_8\">\n    <path clip-path=\"url(#p04ca6af6ee)\" d=\"M 242.960938 306.18 \nL 283.542756 306.18 \nL 283.542756 306.18 \nL 242.960938 306.18 \nz\n\" style=\"fill:#4c72b0;\"/>\n   </g>\n   <g id=\"patch_9\">\n    <path clip-path=\"url(#p04ca6af6ee)\" d=\"M 283.542756 306.18 \nL 324.124574 306.18 \nL 324.124574 306.18 \nL 283.542756 306.18 \nz\n\" style=\"fill:#4c72b0;\"/>\n   </g>\n   <g id=\"patch_10\">\n    <path clip-path=\"url(#p04ca6af6ee)\" d=\"M 324.124574 306.18 \nL 364.706392 306.18 \nL 364.706392 242.90381 \nL 324.124574 242.90381 \nz\n\" style=\"fill:#4c72b0;\"/>\n   </g>\n   <g id=\"patch_11\">\n    <path clip-path=\"url(#p04ca6af6ee)\" d=\"M 364.706392 306.18 \nL 405.28821 306.18 \nL 405.28821 306.18 \nL 364.706392 306.18 \nz\n\" style=\"fill:#4c72b0;\"/>\n   </g>\n   <g id=\"patch_12\">\n    <path clip-path=\"url(#p04ca6af6ee)\" d=\"M 405.28821 306.18 \nL 445.870028 306.18 \nL 445.870028 274.541905 \nL 405.28821 274.541905 \nz\n\" style=\"fill:#4c72b0;\"/>\n   </g>\n   <g id=\"patch_13\">\n    <path d=\"M 19.760938 306.18 \nL 19.760938 7.2 \n\" style=\"fill:none;\"/>\n   </g>\n   <g id=\"patch_14\">\n    <path d=\"M 466.160937 306.18 \nL 466.160937 7.2 \n\" style=\"fill:none;\"/>\n   </g>\n   <g id=\"patch_15\">\n    <path d=\"M 19.760938 306.18 \nL 466.160938 306.18 \n\" style=\"fill:none;\"/>\n   </g>\n   <g id=\"patch_16\">\n    <path d=\"M 19.760938 7.2 \nL 466.160938 7.2 \n\" style=\"fill:none;\"/>\n   </g>\n  </g>\n </g>\n <defs>\n  <clipPath id=\"p04ca6af6ee\">\n   <rect height=\"298.98\" width=\"446.4\" x=\"19.760938\" y=\"7.2\"/>\n  </clipPath>\n </defs>\n</svg>\n",
      "image/png": "[encoded data removed]"
     },
     "metadata": {}
    }
   ],
   "source": [
    "# you can do some analysis and visualization from here on! \n",
    "\n",
    "# visualize the review count - what's the appropriate plot?\n",
    "plt.hist(axe_df['review_count'])\n"
   ]
  },
  {
   "cell_type": "code",
   "execution_count": 41,
   "metadata": {},
   "outputs": [],
   "source": [
    "# query the name of the axe throwing place with the highest review\n"
   ]
  },
  {
   "cell_type": "code",
   "execution_count": 42,
   "metadata": {},
   "outputs": [],
   "source": [
    "# migrate the cleaned data into a sql db\n"
   ]
  },
  {
   "cell_type": "code",
   "execution_count": 43,
   "metadata": {},
   "outputs": [],
   "source": [
    "# can you do some other queries using sql/pandas?"
   ]
  },
  {
   "cell_type": "markdown",
   "metadata": {},
   "source": [
    "#### Resources\n",
    "- [Getting Data from Reddit API](https://www.storybench.org/how-to-scrape-reddit-with-python/)\n",
    "- [Twitch API](https://dev.twitch.tv/docs)"
   ]
  }
 ],
 "metadata": {
  "kernelspec": {
   "display_name": "Python 3",
   "language": "python",
   "name": "python3"
  },
  "language_info": {
   "codemirror_mode": {
    "name": "ipython",
    "version": 3
   },
   "file_extension": ".py",
   "mimetype": "text/x-python",
   "name": "python",
   "nbconvert_exporter": "python",
   "pygments_lexer": "ipython3",
   "version": "3.6.9-final"
  }
 },
 "nbformat": 4,
 "nbformat_minor": 2
}