{
 "cells": [
  {
   "cell_type": "markdown",
   "metadata": {},
   "source": [
    "# Modeling Process\n",
    "\n",
    "**Cross-industry standard process for data mining**, known as **CRISP-DM**, is an open standard process model that describes common approaches used by data mining experts. It is the most widely-used analytics model.\n",
    "\n",
    "6 high level phases of the data mining process:\n",
    "- Business Understanding\n",
    "- Data Understanding\n",
    "- Data Preparation\n",
    "- Modeling\n",
    "- Evaluation\n",
    "- Deployment\n",
    "\n",
    "The sequence of the phases is not strict and moving back and forth between different phases as it is always required.\n",
    "\n",
    "\n",
    "<img src='https://www.kdnuggets.com/wp-content/uploads/crisp-dm-4-problems-fig1.png' width =\"400\">"
   ]
  },
  {
   "cell_type": "code",
   "execution_count": 1,
   "metadata": {},
   "outputs": [],
   "source": [
    "import numpy as np \n",
    "import pandas as pd\n",
    "import seaborn as sns\n",
    "from datetime import datetime\n",
    "import matplotlib.pyplot as plt\n",
    "%matplotlib inline\n",
    "pd.set_option('display.max_columns', 100)\n",
    "pd.set_option('display.max_rows', 110)\n"
   ]
  },
  {
   "cell_type": "code",
   "execution_count": 2,
   "metadata": {},
   "outputs": [
    {
     "name": "stdout",
     "output_type": "stream",
     "text": [
      "(5043, 28)\n"
     ]
    },
    {
     "data": {
      "text/html": [
       "<div>\n",
       "<style scoped>\n",
       "    .dataframe tbody tr th:only-of-type {\n",
       "        vertical-align: middle;\n",
       "    }\n",
       "\n",
       "    .dataframe tbody tr th {\n",
       "        vertical-align: top;\n",
       "    }\n",
       "\n",
       "    .dataframe thead th {\n",
       "        text-align: right;\n",
       "    }\n",
       "</style>\n",
       "<table border=\"1\" class=\"dataframe\">\n",
       "  <thead>\n",
       "    <tr style=\"text-align: right;\">\n",
       "      <th></th>\n",
       "      <th>color</th>\n",
       "      <th>director_name</th>\n",
       "      <th>num_critic_for_reviews</th>\n",
       "      <th>duration</th>\n",
       "      <th>director_facebook_likes</th>\n",
       "      <th>actor_3_facebook_likes</th>\n",
       "      <th>actor_2_name</th>\n",
       "      <th>actor_1_facebook_likes</th>\n",
       "      <th>gross</th>\n",
       "      <th>genres</th>\n",
       "      <th>actor_1_name</th>\n",
       "      <th>movie_title</th>\n",
       "      <th>num_voted_users</th>\n",
       "      <th>cast_total_facebook_likes</th>\n",
       "      <th>actor_3_name</th>\n",
       "      <th>facenumber_in_poster</th>\n",
       "      <th>plot_keywords</th>\n",
       "      <th>movie_imdb_link</th>\n",
       "      <th>num_user_for_reviews</th>\n",
       "      <th>language</th>\n",
       "      <th>country</th>\n",
       "      <th>content_rating</th>\n",
       "      <th>budget</th>\n",
       "      <th>title_year</th>\n",
       "      <th>actor_2_facebook_likes</th>\n",
       "      <th>imdb_score</th>\n",
       "      <th>aspect_ratio</th>\n",
       "      <th>movie_facebook_likes</th>\n",
       "    </tr>\n",
       "  </thead>\n",
       "  <tbody>\n",
       "    <tr>\n",
       "      <th>0</th>\n",
       "      <td>Color</td>\n",
       "      <td>James Cameron</td>\n",
       "      <td>723.0</td>\n",
       "      <td>178.0</td>\n",
       "      <td>0.0</td>\n",
       "      <td>855.0</td>\n",
       "      <td>Joel David Moore</td>\n",
       "      <td>1000.0</td>\n",
       "      <td>760505847.0</td>\n",
       "      <td>Action|Adventure|Fantasy|Sci-Fi</td>\n",
       "      <td>CCH Pounder</td>\n",
       "      <td>Avatar</td>\n",
       "      <td>886204</td>\n",
       "      <td>4834</td>\n",
       "      <td>Wes Studi</td>\n",
       "      <td>0.0</td>\n",
       "      <td>avatar|future|marine|native|paraplegic</td>\n",
       "      <td>http://www.imdb.com/title/tt0499549/?ref_=fn_t...</td>\n",
       "      <td>3054.0</td>\n",
       "      <td>English</td>\n",
       "      <td>USA</td>\n",
       "      <td>PG-13</td>\n",
       "      <td>237000000.0</td>\n",
       "      <td>2009.0</td>\n",
       "      <td>936.0</td>\n",
       "      <td>7.9</td>\n",
       "      <td>1.78</td>\n",
       "      <td>33000</td>\n",
       "    </tr>\n",
       "    <tr>\n",
       "      <th>1</th>\n",
       "      <td>Color</td>\n",
       "      <td>Gore Verbinski</td>\n",
       "      <td>302.0</td>\n",
       "      <td>169.0</td>\n",
       "      <td>563.0</td>\n",
       "      <td>1000.0</td>\n",
       "      <td>Orlando Bloom</td>\n",
       "      <td>40000.0</td>\n",
       "      <td>309404152.0</td>\n",
       "      <td>Action|Adventure|Fantasy</td>\n",
       "      <td>Johnny Depp</td>\n",
       "      <td>Pirates of the Caribbean: At World's End</td>\n",
       "      <td>471220</td>\n",
       "      <td>48350</td>\n",
       "      <td>Jack Davenport</td>\n",
       "      <td>0.0</td>\n",
       "      <td>goddess|marriage ceremony|marriage proposal|pi...</td>\n",
       "      <td>http://www.imdb.com/title/tt0449088/?ref_=fn_t...</td>\n",
       "      <td>1238.0</td>\n",
       "      <td>English</td>\n",
       "      <td>USA</td>\n",
       "      <td>PG-13</td>\n",
       "      <td>300000000.0</td>\n",
       "      <td>2007.0</td>\n",
       "      <td>5000.0</td>\n",
       "      <td>7.1</td>\n",
       "      <td>2.35</td>\n",
       "      <td>0</td>\n",
       "    </tr>\n",
       "    <tr>\n",
       "      <th>2</th>\n",
       "      <td>Color</td>\n",
       "      <td>Sam Mendes</td>\n",
       "      <td>602.0</td>\n",
       "      <td>148.0</td>\n",
       "      <td>0.0</td>\n",
       "      <td>161.0</td>\n",
       "      <td>Rory Kinnear</td>\n",
       "      <td>11000.0</td>\n",
       "      <td>200074175.0</td>\n",
       "      <td>Action|Adventure|Thriller</td>\n",
       "      <td>Christoph Waltz</td>\n",
       "      <td>Spectre</td>\n",
       "      <td>275868</td>\n",
       "      <td>11700</td>\n",
       "      <td>Stephanie Sigman</td>\n",
       "      <td>1.0</td>\n",
       "      <td>bomb|espionage|sequel|spy|terrorist</td>\n",
       "      <td>http://www.imdb.com/title/tt2379713/?ref_=fn_t...</td>\n",
       "      <td>994.0</td>\n",
       "      <td>English</td>\n",
       "      <td>UK</td>\n",
       "      <td>PG-13</td>\n",
       "      <td>245000000.0</td>\n",
       "      <td>2015.0</td>\n",
       "      <td>393.0</td>\n",
       "      <td>6.8</td>\n",
       "      <td>2.35</td>\n",
       "      <td>85000</td>\n",
       "    </tr>\n",
       "    <tr>\n",
       "      <th>3</th>\n",
       "      <td>Color</td>\n",
       "      <td>Christopher Nolan</td>\n",
       "      <td>813.0</td>\n",
       "      <td>164.0</td>\n",
       "      <td>22000.0</td>\n",
       "      <td>23000.0</td>\n",
       "      <td>Christian Bale</td>\n",
       "      <td>27000.0</td>\n",
       "      <td>448130642.0</td>\n",
       "      <td>Action|Thriller</td>\n",
       "      <td>Tom Hardy</td>\n",
       "      <td>The Dark Knight Rises</td>\n",
       "      <td>1144337</td>\n",
       "      <td>106759</td>\n",
       "      <td>Joseph Gordon-Levitt</td>\n",
       "      <td>0.0</td>\n",
       "      <td>deception|imprisonment|lawlessness|police offi...</td>\n",
       "      <td>http://www.imdb.com/title/tt1345836/?ref_=fn_t...</td>\n",
       "      <td>2701.0</td>\n",
       "      <td>English</td>\n",
       "      <td>USA</td>\n",
       "      <td>PG-13</td>\n",
       "      <td>250000000.0</td>\n",
       "      <td>2012.0</td>\n",
       "      <td>23000.0</td>\n",
       "      <td>8.5</td>\n",
       "      <td>2.35</td>\n",
       "      <td>164000</td>\n",
       "    </tr>\n",
       "    <tr>\n",
       "      <th>4</th>\n",
       "      <td>NaN</td>\n",
       "      <td>Doug Walker</td>\n",
       "      <td>NaN</td>\n",
       "      <td>NaN</td>\n",
       "      <td>131.0</td>\n",
       "      <td>NaN</td>\n",
       "      <td>Rob Walker</td>\n",
       "      <td>131.0</td>\n",
       "      <td>NaN</td>\n",
       "      <td>Documentary</td>\n",
       "      <td>Doug Walker</td>\n",
       "      <td>Star Wars: Episode VII - The Force Awakens    ...</td>\n",
       "      <td>8</td>\n",
       "      <td>143</td>\n",
       "      <td>NaN</td>\n",
       "      <td>0.0</td>\n",
       "      <td>NaN</td>\n",
       "      <td>http://www.imdb.com/title/tt5289954/?ref_=fn_t...</td>\n",
       "      <td>NaN</td>\n",
       "      <td>NaN</td>\n",
       "      <td>NaN</td>\n",
       "      <td>NaN</td>\n",
       "      <td>NaN</td>\n",
       "      <td>NaN</td>\n",
       "      <td>12.0</td>\n",
       "      <td>7.1</td>\n",
       "      <td>NaN</td>\n",
       "      <td>0</td>\n",
       "    </tr>\n",
       "  </tbody>\n",
       "</table>\n",
       "</div>"
      ],
      "text/plain": [
       "   color      director_name  num_critic_for_reviews  duration  \\\n",
       "0  Color      James Cameron                   723.0     178.0   \n",
       "1  Color     Gore Verbinski                   302.0     169.0   \n",
       "2  Color         Sam Mendes                   602.0     148.0   \n",
       "3  Color  Christopher Nolan                   813.0     164.0   \n",
       "4    NaN        Doug Walker                     NaN       NaN   \n",
       "\n",
       "   director_facebook_likes  actor_3_facebook_likes      actor_2_name  \\\n",
       "0                      0.0                   855.0  Joel David Moore   \n",
       "1                    563.0                  1000.0     Orlando Bloom   \n",
       "2                      0.0                   161.0      Rory Kinnear   \n",
       "3                  22000.0                 23000.0    Christian Bale   \n",
       "4                    131.0                     NaN        Rob Walker   \n",
       "\n",
       "   actor_1_facebook_likes        gross                           genres  \\\n",
       "0                  1000.0  760505847.0  Action|Adventure|Fantasy|Sci-Fi   \n",
       "1                 40000.0  309404152.0         Action|Adventure|Fantasy   \n",
       "2                 11000.0  200074175.0        Action|Adventure|Thriller   \n",
       "3                 27000.0  448130642.0                  Action|Thriller   \n",
       "4                   131.0          NaN                      Documentary   \n",
       "\n",
       "      actor_1_name                                        movie_title  \\\n",
       "0      CCH Pounder                                            Avatar    \n",
       "1      Johnny Depp          Pirates of the Caribbean: At World's End    \n",
       "2  Christoph Waltz                                           Spectre    \n",
       "3        Tom Hardy                             The Dark Knight Rises    \n",
       "4      Doug Walker  Star Wars: Episode VII - The Force Awakens    ...   \n",
       "\n",
       "   num_voted_users  cast_total_facebook_likes          actor_3_name  \\\n",
       "0           886204                       4834             Wes Studi   \n",
       "1           471220                      48350        Jack Davenport   \n",
       "2           275868                      11700      Stephanie Sigman   \n",
       "3          1144337                     106759  Joseph Gordon-Levitt   \n",
       "4                8                        143                   NaN   \n",
       "\n",
       "   facenumber_in_poster                                      plot_keywords  \\\n",
       "0                   0.0             avatar|future|marine|native|paraplegic   \n",
       "1                   0.0  goddess|marriage ceremony|marriage proposal|pi...   \n",
       "2                   1.0                bomb|espionage|sequel|spy|terrorist   \n",
       "3                   0.0  deception|imprisonment|lawlessness|police offi...   \n",
       "4                   0.0                                                NaN   \n",
       "\n",
       "                                     movie_imdb_link  num_user_for_reviews  \\\n",
       "0  http://www.imdb.com/title/tt0499549/?ref_=fn_t...                3054.0   \n",
       "1  http://www.imdb.com/title/tt0449088/?ref_=fn_t...                1238.0   \n",
       "2  http://www.imdb.com/title/tt2379713/?ref_=fn_t...                 994.0   \n",
       "3  http://www.imdb.com/title/tt1345836/?ref_=fn_t...                2701.0   \n",
       "4  http://www.imdb.com/title/tt5289954/?ref_=fn_t...                   NaN   \n",
       "\n",
       "  language country content_rating       budget  title_year  \\\n",
       "0  English     USA          PG-13  237000000.0      2009.0   \n",
       "1  English     USA          PG-13  300000000.0      2007.0   \n",
       "2  English      UK          PG-13  245000000.0      2015.0   \n",
       "3  English     USA          PG-13  250000000.0      2012.0   \n",
       "4      NaN     NaN            NaN          NaN         NaN   \n",
       "\n",
       "   actor_2_facebook_likes  imdb_score  aspect_ratio  movie_facebook_likes  \n",
       "0                   936.0         7.9          1.78                 33000  \n",
       "1                  5000.0         7.1          2.35                     0  \n",
       "2                   393.0         6.8          2.35                 85000  \n",
       "3                 23000.0         8.5          2.35                164000  \n",
       "4                    12.0         7.1           NaN                     0  "
      ]
     },
     "execution_count": 2,
     "metadata": {},
     "output_type": "execute_result"
    }
   ],
   "source": [
    "df = pd.read_csv('movie_metadata.csv')\n",
    "print(df.shape)\n",
    "df.head()\n"
   ]
  },
  {
   "cell_type": "markdown",
   "metadata": {},
   "source": [
    "Now let’s quickly see the names and types of the columns. Most of the time you’re going get data that is not quite what you expected, such as dates which are actually strings and other oddities. But to check upfront."
   ]
  },
  {
   "cell_type": "code",
   "execution_count": 3,
   "metadata": {
    "scrolled": true
   },
   "outputs": [
    {
     "name": "stdout",
     "output_type": "stream",
     "text": [
      "Index(['color', 'director_name', 'num_critic_for_reviews', 'duration',\n",
      "       'director_facebook_likes', 'actor_3_facebook_likes', 'actor_2_name',\n",
      "       'actor_1_facebook_likes', 'gross', 'genres', 'actor_1_name',\n",
      "       'movie_title', 'num_voted_users', 'cast_total_facebook_likes',\n",
      "       'actor_3_name', 'facenumber_in_poster', 'plot_keywords',\n",
      "       'movie_imdb_link', 'num_user_for_reviews', 'language', 'country',\n",
      "       'content_rating', 'budget', 'title_year', 'actor_2_facebook_likes',\n",
      "       'imdb_score', 'aspect_ratio', 'movie_facebook_likes'],\n",
      "      dtype='object')\n"
     ]
    }
   ],
   "source": [
    "print(df.columns)"
   ]
  },
  {
   "cell_type": "markdown",
   "metadata": {},
   "source": [
    "## Business Understanding\n",
    "For our business problem, we only want to look at movies that were released in US theaters. So, let's subset our data to only include relevant movies. We  We don't have a data column that tells us this exactly, so we will try our best to aproximate this.  \n",
    "\n",
    "First, let's limit our dataset to only movies created in the US."
   ]
  },
  {
   "cell_type": "code",
   "execution_count": 4,
   "metadata": {
    "scrolled": false
   },
   "outputs": [
    {
     "data": {
      "text/plain": [
       "USA                     3807\n",
       "UK                       448\n",
       "France                   154\n",
       "Canada                   126\n",
       "Germany                   97\n",
       "Australia                 55\n",
       "India                     34\n",
       "Spain                     33\n",
       "China                     30\n",
       "Japan                     23\n",
       "Italy                     23\n",
       "Hong Kong                 17\n",
       "Mexico                    17\n",
       "New Zealand               15\n",
       "South Korea               14\n",
       "Ireland                   12\n",
       "Denmark                   11\n",
       "Russia                    11\n",
       "Norway                     8\n",
       "South Africa               8\n",
       "Brazil                     8\n",
       "Sweden                     6\n",
       "Netherlands                5\n",
       "Poland                     5\n",
       "Thailand                   5\n",
       "Iran                       4\n",
       "Argentina                  4\n",
       "Israel                     4\n",
       "Romania                    4\n",
       "Belgium                    4\n",
       "West Germany               3\n",
       "Iceland                    3\n",
       "Switzerland                3\n",
       "Czech Republic             3\n",
       "Greece                     2\n",
       "Hungary                    2\n",
       "Taiwan                     2\n",
       "Bulgaria                   1\n",
       "Indonesia                  1\n",
       "New Line                   1\n",
       "Peru                       1\n",
       "Aruba                      1\n",
       "United Arab Emirates       1\n",
       "Nigeria                    1\n",
       "Libya                      1\n",
       "Bahamas                    1\n",
       "Turkey                     1\n",
       "Cameroon                   1\n",
       "Cambodia                   1\n",
       "Georgia                    1\n",
       "Kyrgyzstan                 1\n",
       "Colombia                   1\n",
       "Philippines                1\n",
       "Pakistan                   1\n",
       "Afghanistan                1\n",
       "Slovenia                   1\n",
       "Panama                     1\n",
       "Finland                    1\n",
       "Soviet Union               1\n",
       "Official site              1\n",
       "Slovakia                   1\n",
       "Chile                      1\n",
       "Egypt                      1\n",
       "Dominican Republic         1\n",
       "Kenya                      1\n",
       "Name: country, dtype: int64"
      ]
     },
     "execution_count": 4,
     "metadata": {},
     "output_type": "execute_result"
    }
   ],
   "source": [
    "df['country'].value_counts()"
   ]
  },
  {
   "cell_type": "code",
   "execution_count": 5,
   "metadata": {},
   "outputs": [],
   "source": [
    "#your code here\n",
    "\n",
    "df= df[df['country']=='USA']"
   ]
  },
  {
   "cell_type": "code",
   "execution_count": 6,
   "metadata": {
    "scrolled": true
   },
   "outputs": [
    {
     "data": {
      "text/plain": [
       "(3807, 28)"
      ]
     },
     "execution_count": 6,
     "metadata": {},
     "output_type": "execute_result"
    }
   ],
   "source": [
    "df.shape"
   ]
  },
  {
   "cell_type": "markdown",
   "metadata": {},
   "source": [
    "Now let's only use movies that have been given a MPAA movie rating. This should help remove all 'made for TV' movies. "
   ]
  },
  {
   "cell_type": "code",
   "execution_count": 7,
   "metadata": {},
   "outputs": [
    {
     "data": {
      "text/plain": [
       "R            1571\n",
       "PG-13        1208\n",
       "PG            558\n",
       "G              85\n",
       "Not Rated      51\n",
       "Approved       46\n",
       "Unrated        38\n",
       "TV-14          25\n",
       "TV-PG          13\n",
       "X              12\n",
       "TV-MA          12\n",
       "Passed          9\n",
       "TV-G            8\n",
       "NC-17           5\n",
       "GP              4\n",
       "M               3\n",
       "TV-Y7           1\n",
       "Name: content_rating, dtype: int64"
      ]
     },
     "execution_count": 7,
     "metadata": {},
     "output_type": "execute_result"
    }
   ],
   "source": [
    "df['content_rating'].value_counts()"
   ]
  },
  {
   "cell_type": "code",
   "execution_count": 8,
   "metadata": {},
   "outputs": [],
   "source": [
    "df = df[df['content_rating'].isin(['R', 'PG-13', 'PG', 'G'])]"
   ]
  },
  {
   "cell_type": "code",
   "execution_count": 9,
   "metadata": {
    "scrolled": false
   },
   "outputs": [
    {
     "data": {
      "text/plain": [
       "(3422, 28)"
      ]
     },
     "execution_count": 9,
     "metadata": {},
     "output_type": "execute_result"
    }
   ],
   "source": [
    "df.shape"
   ]
  },
  {
   "cell_type": "markdown",
   "metadata": {},
   "source": [
    "Also, we want to remove independent movies that were only released in a few theaters. Again, we don't have data on this, so we will rmeove movies that made less than $1 million dollars. "
   ]
  },
  {
   "cell_type": "code",
   "execution_count": 10,
   "metadata": {
    "scrolled": false
   },
   "outputs": [],
   "source": [
    "df = df[df['gross']>1000000]"
   ]
  },
  {
   "cell_type": "markdown",
   "metadata": {},
   "source": [
    "Finally, we can't predict the gross of the movie if we are missing that data. So we will drop all observatiosn missing that data. "
   ]
  },
  {
   "cell_type": "code",
   "execution_count": 11,
   "metadata": {},
   "outputs": [
    {
     "data": {
      "text/plain": [
       "(2876, 28)"
      ]
     },
     "execution_count": 11,
     "metadata": {},
     "output_type": "execute_result"
    }
   ],
   "source": [
    "df.shape"
   ]
  },
  {
   "cell_type": "code",
   "execution_count": 12,
   "metadata": {},
   "outputs": [],
   "source": [
    "df.dropna(subset=['gross'], inplace=True)"
   ]
  },
  {
   "cell_type": "code",
   "execution_count": 13,
   "metadata": {},
   "outputs": [
    {
     "data": {
      "text/plain": [
       "(2876, 28)"
      ]
     },
     "execution_count": 13,
     "metadata": {},
     "output_type": "execute_result"
    }
   ],
   "source": [
    "df.shape"
   ]
  },
  {
   "cell_type": "markdown",
   "metadata": {},
   "source": [
    "## Data Understanding\n",
    "\n",
    "Now that we have an appropriate subset of movies, let's start to investigate our data and see what changes we need to make.  "
   ]
  },
  {
   "cell_type": "code",
   "execution_count": 14,
   "metadata": {
    "scrolled": true
   },
   "outputs": [
    {
     "data": {
      "text/plain": [
       "color                         object\n",
       "director_name                 object\n",
       "num_critic_for_reviews       float64\n",
       "duration                     float64\n",
       "director_facebook_likes      float64\n",
       "actor_3_facebook_likes       float64\n",
       "actor_2_name                  object\n",
       "actor_1_facebook_likes       float64\n",
       "gross                        float64\n",
       "genres                        object\n",
       "actor_1_name                  object\n",
       "movie_title                   object\n",
       "num_voted_users                int64\n",
       "cast_total_facebook_likes      int64\n",
       "actor_3_name                  object\n",
       "facenumber_in_poster         float64\n",
       "plot_keywords                 object\n",
       "movie_imdb_link               object\n",
       "num_user_for_reviews         float64\n",
       "language                      object\n",
       "country                       object\n",
       "content_rating                object\n",
       "budget                       float64\n",
       "title_year                   float64\n",
       "actor_2_facebook_likes       float64\n",
       "imdb_score                   float64\n",
       "aspect_ratio                 float64\n",
       "movie_facebook_likes           int64\n",
       "dtype: object"
      ]
     },
     "execution_count": 14,
     "metadata": {},
     "output_type": "execute_result"
    }
   ],
   "source": [
    "# Get column data types\n",
    "df.dtypes\n"
   ]
  },
  {
   "cell_type": "code",
   "execution_count": 15,
   "metadata": {},
   "outputs": [
    {
     "data": {
      "text/html": [
       "<div>\n",
       "<style scoped>\n",
       "    .dataframe tbody tr th:only-of-type {\n",
       "        vertical-align: middle;\n",
       "    }\n",
       "\n",
       "    .dataframe tbody tr th {\n",
       "        vertical-align: top;\n",
       "    }\n",
       "\n",
       "    .dataframe thead th {\n",
       "        text-align: right;\n",
       "    }\n",
       "</style>\n",
       "<table border=\"1\" class=\"dataframe\">\n",
       "  <thead>\n",
       "    <tr style=\"text-align: right;\">\n",
       "      <th></th>\n",
       "      <th>color</th>\n",
       "      <th>director_name</th>\n",
       "      <th>num_critic_for_reviews</th>\n",
       "      <th>duration</th>\n",
       "      <th>director_facebook_likes</th>\n",
       "      <th>actor_3_facebook_likes</th>\n",
       "      <th>actor_2_name</th>\n",
       "      <th>actor_1_facebook_likes</th>\n",
       "      <th>gross</th>\n",
       "      <th>genres</th>\n",
       "      <th>actor_1_name</th>\n",
       "      <th>movie_title</th>\n",
       "      <th>num_voted_users</th>\n",
       "      <th>cast_total_facebook_likes</th>\n",
       "      <th>actor_3_name</th>\n",
       "      <th>facenumber_in_poster</th>\n",
       "      <th>plot_keywords</th>\n",
       "      <th>movie_imdb_link</th>\n",
       "      <th>num_user_for_reviews</th>\n",
       "      <th>language</th>\n",
       "      <th>country</th>\n",
       "      <th>content_rating</th>\n",
       "      <th>budget</th>\n",
       "      <th>title_year</th>\n",
       "      <th>actor_2_facebook_likes</th>\n",
       "      <th>imdb_score</th>\n",
       "      <th>aspect_ratio</th>\n",
       "      <th>movie_facebook_likes</th>\n",
       "    </tr>\n",
       "  </thead>\n",
       "  <tbody>\n",
       "    <tr>\n",
       "      <th>0</th>\n",
       "      <td>Color</td>\n",
       "      <td>James Cameron</td>\n",
       "      <td>723.0</td>\n",
       "      <td>178.0</td>\n",
       "      <td>0.0</td>\n",
       "      <td>855.0</td>\n",
       "      <td>Joel David Moore</td>\n",
       "      <td>1000.0</td>\n",
       "      <td>760505847.0</td>\n",
       "      <td>Action|Adventure|Fantasy|Sci-Fi</td>\n",
       "      <td>CCH Pounder</td>\n",
       "      <td>Avatar</td>\n",
       "      <td>886204</td>\n",
       "      <td>4834</td>\n",
       "      <td>Wes Studi</td>\n",
       "      <td>0.0</td>\n",
       "      <td>avatar|future|marine|native|paraplegic</td>\n",
       "      <td>http://www.imdb.com/title/tt0499549/?ref_=fn_t...</td>\n",
       "      <td>3054.0</td>\n",
       "      <td>English</td>\n",
       "      <td>USA</td>\n",
       "      <td>PG-13</td>\n",
       "      <td>237000000.0</td>\n",
       "      <td>2009.0</td>\n",
       "      <td>936.0</td>\n",
       "      <td>7.9</td>\n",
       "      <td>1.78</td>\n",
       "      <td>33000</td>\n",
       "    </tr>\n",
       "    <tr>\n",
       "      <th>1</th>\n",
       "      <td>Color</td>\n",
       "      <td>Gore Verbinski</td>\n",
       "      <td>302.0</td>\n",
       "      <td>169.0</td>\n",
       "      <td>563.0</td>\n",
       "      <td>1000.0</td>\n",
       "      <td>Orlando Bloom</td>\n",
       "      <td>40000.0</td>\n",
       "      <td>309404152.0</td>\n",
       "      <td>Action|Adventure|Fantasy</td>\n",
       "      <td>Johnny Depp</td>\n",
       "      <td>Pirates of the Caribbean: At World's End</td>\n",
       "      <td>471220</td>\n",
       "      <td>48350</td>\n",
       "      <td>Jack Davenport</td>\n",
       "      <td>0.0</td>\n",
       "      <td>goddess|marriage ceremony|marriage proposal|pi...</td>\n",
       "      <td>http://www.imdb.com/title/tt0449088/?ref_=fn_t...</td>\n",
       "      <td>1238.0</td>\n",
       "      <td>English</td>\n",
       "      <td>USA</td>\n",
       "      <td>PG-13</td>\n",
       "      <td>300000000.0</td>\n",
       "      <td>2007.0</td>\n",
       "      <td>5000.0</td>\n",
       "      <td>7.1</td>\n",
       "      <td>2.35</td>\n",
       "      <td>0</td>\n",
       "    </tr>\n",
       "    <tr>\n",
       "      <th>3</th>\n",
       "      <td>Color</td>\n",
       "      <td>Christopher Nolan</td>\n",
       "      <td>813.0</td>\n",
       "      <td>164.0</td>\n",
       "      <td>22000.0</td>\n",
       "      <td>23000.0</td>\n",
       "      <td>Christian Bale</td>\n",
       "      <td>27000.0</td>\n",
       "      <td>448130642.0</td>\n",
       "      <td>Action|Thriller</td>\n",
       "      <td>Tom Hardy</td>\n",
       "      <td>The Dark Knight Rises</td>\n",
       "      <td>1144337</td>\n",
       "      <td>106759</td>\n",
       "      <td>Joseph Gordon-Levitt</td>\n",
       "      <td>0.0</td>\n",
       "      <td>deception|imprisonment|lawlessness|police offi...</td>\n",
       "      <td>http://www.imdb.com/title/tt1345836/?ref_=fn_t...</td>\n",
       "      <td>2701.0</td>\n",
       "      <td>English</td>\n",
       "      <td>USA</td>\n",
       "      <td>PG-13</td>\n",
       "      <td>250000000.0</td>\n",
       "      <td>2012.0</td>\n",
       "      <td>23000.0</td>\n",
       "      <td>8.5</td>\n",
       "      <td>2.35</td>\n",
       "      <td>164000</td>\n",
       "    </tr>\n",
       "    <tr>\n",
       "      <th>5</th>\n",
       "      <td>Color</td>\n",
       "      <td>Andrew Stanton</td>\n",
       "      <td>462.0</td>\n",
       "      <td>132.0</td>\n",
       "      <td>475.0</td>\n",
       "      <td>530.0</td>\n",
       "      <td>Samantha Morton</td>\n",
       "      <td>640.0</td>\n",
       "      <td>73058679.0</td>\n",
       "      <td>Action|Adventure|Sci-Fi</td>\n",
       "      <td>Daryl Sabara</td>\n",
       "      <td>John Carter</td>\n",
       "      <td>212204</td>\n",
       "      <td>1873</td>\n",
       "      <td>Polly Walker</td>\n",
       "      <td>1.0</td>\n",
       "      <td>alien|american civil war|male nipple|mars|prin...</td>\n",
       "      <td>http://www.imdb.com/title/tt0401729/?ref_=fn_t...</td>\n",
       "      <td>738.0</td>\n",
       "      <td>English</td>\n",
       "      <td>USA</td>\n",
       "      <td>PG-13</td>\n",
       "      <td>263700000.0</td>\n",
       "      <td>2012.0</td>\n",
       "      <td>632.0</td>\n",
       "      <td>6.6</td>\n",
       "      <td>2.35</td>\n",
       "      <td>24000</td>\n",
       "    </tr>\n",
       "    <tr>\n",
       "      <th>6</th>\n",
       "      <td>Color</td>\n",
       "      <td>Sam Raimi</td>\n",
       "      <td>392.0</td>\n",
       "      <td>156.0</td>\n",
       "      <td>0.0</td>\n",
       "      <td>4000.0</td>\n",
       "      <td>James Franco</td>\n",
       "      <td>24000.0</td>\n",
       "      <td>336530303.0</td>\n",
       "      <td>Action|Adventure|Romance</td>\n",
       "      <td>J.K. Simmons</td>\n",
       "      <td>Spider-Man 3</td>\n",
       "      <td>383056</td>\n",
       "      <td>46055</td>\n",
       "      <td>Kirsten Dunst</td>\n",
       "      <td>0.0</td>\n",
       "      <td>sandman|spider man|symbiote|venom|villain</td>\n",
       "      <td>http://www.imdb.com/title/tt0413300/?ref_=fn_t...</td>\n",
       "      <td>1902.0</td>\n",
       "      <td>English</td>\n",
       "      <td>USA</td>\n",
       "      <td>PG-13</td>\n",
       "      <td>258000000.0</td>\n",
       "      <td>2007.0</td>\n",
       "      <td>11000.0</td>\n",
       "      <td>6.2</td>\n",
       "      <td>2.35</td>\n",
       "      <td>0</td>\n",
       "    </tr>\n",
       "  </tbody>\n",
       "</table>\n",
       "</div>"
      ],
      "text/plain": [
       "   color      director_name  num_critic_for_reviews  duration  \\\n",
       "0  Color      James Cameron                   723.0     178.0   \n",
       "1  Color     Gore Verbinski                   302.0     169.0   \n",
       "3  Color  Christopher Nolan                   813.0     164.0   \n",
       "5  Color     Andrew Stanton                   462.0     132.0   \n",
       "6  Color          Sam Raimi                   392.0     156.0   \n",
       "\n",
       "   director_facebook_likes  actor_3_facebook_likes      actor_2_name  \\\n",
       "0                      0.0                   855.0  Joel David Moore   \n",
       "1                    563.0                  1000.0     Orlando Bloom   \n",
       "3                  22000.0                 23000.0    Christian Bale   \n",
       "5                    475.0                   530.0   Samantha Morton   \n",
       "6                      0.0                  4000.0      James Franco   \n",
       "\n",
       "   actor_1_facebook_likes        gross                           genres  \\\n",
       "0                  1000.0  760505847.0  Action|Adventure|Fantasy|Sci-Fi   \n",
       "1                 40000.0  309404152.0         Action|Adventure|Fantasy   \n",
       "3                 27000.0  448130642.0                  Action|Thriller   \n",
       "5                   640.0   73058679.0          Action|Adventure|Sci-Fi   \n",
       "6                 24000.0  336530303.0         Action|Adventure|Romance   \n",
       "\n",
       "   actor_1_name                                movie_title  num_voted_users  \\\n",
       "0   CCH Pounder                                    Avatar            886204   \n",
       "1   Johnny Depp  Pirates of the Caribbean: At World's End            471220   \n",
       "3     Tom Hardy                     The Dark Knight Rises           1144337   \n",
       "5  Daryl Sabara                               John Carter            212204   \n",
       "6  J.K. Simmons                              Spider-Man 3            383056   \n",
       "\n",
       "   cast_total_facebook_likes          actor_3_name  facenumber_in_poster  \\\n",
       "0                       4834             Wes Studi                   0.0   \n",
       "1                      48350        Jack Davenport                   0.0   \n",
       "3                     106759  Joseph Gordon-Levitt                   0.0   \n",
       "5                       1873          Polly Walker                   1.0   \n",
       "6                      46055         Kirsten Dunst                   0.0   \n",
       "\n",
       "                                       plot_keywords  \\\n",
       "0             avatar|future|marine|native|paraplegic   \n",
       "1  goddess|marriage ceremony|marriage proposal|pi...   \n",
       "3  deception|imprisonment|lawlessness|police offi...   \n",
       "5  alien|american civil war|male nipple|mars|prin...   \n",
       "6          sandman|spider man|symbiote|venom|villain   \n",
       "\n",
       "                                     movie_imdb_link  num_user_for_reviews  \\\n",
       "0  http://www.imdb.com/title/tt0499549/?ref_=fn_t...                3054.0   \n",
       "1  http://www.imdb.com/title/tt0449088/?ref_=fn_t...                1238.0   \n",
       "3  http://www.imdb.com/title/tt1345836/?ref_=fn_t...                2701.0   \n",
       "5  http://www.imdb.com/title/tt0401729/?ref_=fn_t...                 738.0   \n",
       "6  http://www.imdb.com/title/tt0413300/?ref_=fn_t...                1902.0   \n",
       "\n",
       "  language country content_rating       budget  title_year  \\\n",
       "0  English     USA          PG-13  237000000.0      2009.0   \n",
       "1  English     USA          PG-13  300000000.0      2007.0   \n",
       "3  English     USA          PG-13  250000000.0      2012.0   \n",
       "5  English     USA          PG-13  263700000.0      2012.0   \n",
       "6  English     USA          PG-13  258000000.0      2007.0   \n",
       "\n",
       "   actor_2_facebook_likes  imdb_score  aspect_ratio  movie_facebook_likes  \n",
       "0                   936.0         7.9          1.78                 33000  \n",
       "1                  5000.0         7.1          2.35                     0  \n",
       "3                 23000.0         8.5          2.35                164000  \n",
       "5                   632.0         6.6          2.35                 24000  \n",
       "6                 11000.0         6.2          2.35                     0  "
      ]
     },
     "execution_count": 15,
     "metadata": {},
     "output_type": "execute_result"
    }
   ],
   "source": [
    "df.head()"
   ]
  },
  {
   "cell_type": "markdown",
   "metadata": {},
   "source": [
    "- We can drop many columns becasue they are not useful to our analysis. Some we know aren't useful becasue we can't process that data yet (genres, plot_keywords). "
   ]
  },
  {
   "cell_type": "code",
   "execution_count": 16,
   "metadata": {},
   "outputs": [],
   "source": [
    "df.drop(columns=['director_name','actor_2_name', 'genres', 'actor_1_name', 'actor_3_name','plot_keywords', 'genres','plot_keywords', 'movie_imdb_link'], inplace=True)"
   ]
  },
  {
   "cell_type": "markdown",
   "metadata": {},
   "source": [
    "- Some data isn't useful becasue it was collected after the movie was released and wouldn't be avaiable for us to make predictions before the movie is released. "
   ]
  },
  {
   "cell_type": "code",
   "execution_count": 17,
   "metadata": {},
   "outputs": [],
   "source": [
    "df.drop(columns=['num_critic_for_reviews', 'num_voted_users','movie_facebook_likes', 'num_user_for_reviews', 'imdb_score'], inplace=True)"
   ]
  },
  {
   "cell_type": "code",
   "execution_count": 18,
   "metadata": {},
   "outputs": [
    {
     "data": {
      "text/plain": [
       "(2876, 16)"
      ]
     },
     "execution_count": 18,
     "metadata": {},
     "output_type": "execute_result"
    }
   ],
   "source": [
    "df.shape"
   ]
  },
  {
   "cell_type": "markdown",
   "metadata": {},
   "source": [
    "- Some columns might not have a lot of variation in the data, and will not be helpful to the model. We need to investigate these further."
   ]
  },
  {
   "cell_type": "code",
   "execution_count": 19,
   "metadata": {},
   "outputs": [
    {
     "data": {
      "text/plain": [
       "Color               2806\n",
       " Black and White      69\n",
       "Name: color, dtype: int64"
      ]
     },
     "execution_count": 19,
     "metadata": {},
     "output_type": "execute_result"
    }
   ],
   "source": [
    "df['color'].value_counts()"
   ]
  },
  {
   "cell_type": "code",
   "execution_count": 20,
   "metadata": {},
   "outputs": [
    {
     "data": {
      "text/plain": [
       "2.35    1482\n",
       "1.85    1259\n",
       "1.37      28\n",
       "1.78      24\n",
       "1.66      20\n",
       "1.33      14\n",
       "2.39       8\n",
       "2.20       3\n",
       "2.40       3\n",
       "2.76       2\n",
       "2.00       2\n",
       "2.24       1\n",
       "1.18       1\n",
       "2.55       1\n",
       "1.77       1\n",
       "1.75       1\n",
       "1.50       1\n",
       "Name: aspect_ratio, dtype: int64"
      ]
     },
     "execution_count": 20,
     "metadata": {},
     "output_type": "execute_result"
    }
   ],
   "source": [
    "df['aspect_ratio'].value_counts()"
   ]
  },
  {
   "cell_type": "code",
   "execution_count": 21,
   "metadata": {},
   "outputs": [
    {
     "data": {
      "text/plain": [
       "English     2865\n",
       "Spanish        5\n",
       "Filipino       1\n",
       "None           1\n",
       "Japanese       1\n",
       "Maya           1\n",
       "Dari           1\n",
       "Name: language, dtype: int64"
      ]
     },
     "execution_count": 21,
     "metadata": {},
     "output_type": "execute_result"
    }
   ],
   "source": [
    "df['language'].value_counts()"
   ]
  },
  {
   "cell_type": "markdown",
   "metadata": {},
   "source": [
    "Now let's check to make sure our data is in the right format."
   ]
  },
  {
   "cell_type": "code",
   "execution_count": 22,
   "metadata": {},
   "outputs": [
    {
     "data": {
      "text/plain": [
       "color                         object\n",
       "duration                     float64\n",
       "director_facebook_likes      float64\n",
       "actor_3_facebook_likes       float64\n",
       "actor_1_facebook_likes       float64\n",
       "gross                        float64\n",
       "movie_title                   object\n",
       "cast_total_facebook_likes      int64\n",
       "facenumber_in_poster         float64\n",
       "language                      object\n",
       "country                       object\n",
       "content_rating                object\n",
       "budget                       float64\n",
       "title_year                   float64\n",
       "actor_2_facebook_likes       float64\n",
       "aspect_ratio                 float64\n",
       "dtype: object"
      ]
     },
     "execution_count": 22,
     "metadata": {},
     "output_type": "execute_result"
    }
   ],
   "source": [
    "df.dtypes"
   ]
  },
  {
   "cell_type": "markdown",
   "metadata": {},
   "source": [
    "And change it if it is not. "
   ]
  },
  {
   "cell_type": "code",
   "execution_count": 23,
   "metadata": {
    "scrolled": true
   },
   "outputs": [
    {
     "data": {
      "text/plain": [
       "2009.0"
      ]
     },
     "execution_count": 23,
     "metadata": {},
     "output_type": "execute_result"
    }
   ],
   "source": [
    "df['title_year'][0]"
   ]
  },
  {
   "cell_type": "code",
   "execution_count": 24,
   "metadata": {},
   "outputs": [],
   "source": [
    "df['title_year']= pd.to_datetime(df['title_year'], format='%Y')"
   ]
  },
  {
   "cell_type": "code",
   "execution_count": 25,
   "metadata": {},
   "outputs": [
    {
     "data": {
      "text/plain": [
       "0      2009-01-01\n",
       "1      2007-01-01\n",
       "3      2012-01-01\n",
       "5      2012-01-01\n",
       "6      2007-01-01\n",
       "          ...    \n",
       "4984   1995-01-01\n",
       "5008   1994-01-01\n",
       "5012   2014-01-01\n",
       "5015   1991-01-01\n",
       "5035   1992-01-01\n",
       "Name: title_year, Length: 2876, dtype: datetime64[ns]"
      ]
     },
     "execution_count": 25,
     "metadata": {},
     "output_type": "execute_result"
    }
   ],
   "source": [
    "df['title_year']"
   ]
  },
  {
   "cell_type": "code",
   "execution_count": 26,
   "metadata": {},
   "outputs": [],
   "source": [
    "df['years_old'] = 2016- pd.DatetimeIndex(df['title_year']).year\n"
   ]
  },
  {
   "cell_type": "code",
   "execution_count": 27,
   "metadata": {
    "scrolled": false
   },
   "outputs": [
    {
     "data": {
      "text/plain": [
       "0        7\n",
       "1        9\n",
       "3        4\n",
       "5        4\n",
       "6        9\n",
       "        ..\n",
       "4984    21\n",
       "5008    22\n",
       "5012     2\n",
       "5015    25\n",
       "5035    24\n",
       "Name: years_old, Length: 2876, dtype: int64"
      ]
     },
     "execution_count": 27,
     "metadata": {},
     "output_type": "execute_result"
    }
   ],
   "source": [
    "df['years_old'] "
   ]
  },
  {
   "cell_type": "markdown",
   "metadata": {},
   "source": [
    "## Handling Missing Data:\n",
    "    \n"
   ]
  },
  {
   "cell_type": "code",
   "execution_count": 28,
   "metadata": {},
   "outputs": [
    {
     "data": {
      "text/plain": [
       "color                        0.000348\n",
       "duration                     0.000348\n",
       "director_facebook_likes      0.000000\n",
       "actor_3_facebook_likes       0.001043\n",
       "actor_1_facebook_likes       0.000000\n",
       "gross                        0.000000\n",
       "movie_title                  0.000000\n",
       "cast_total_facebook_likes    0.000000\n",
       "facenumber_in_poster         0.002086\n",
       "language                     0.000348\n",
       "country                      0.000000\n",
       "content_rating               0.000000\n",
       "budget                       0.035466\n",
       "title_year                   0.000000\n",
       "actor_2_facebook_likes       0.000348\n",
       "aspect_ratio                 0.008693\n",
       "years_old                    0.000000\n",
       "dtype: float64"
      ]
     },
     "execution_count": 28,
     "metadata": {},
     "output_type": "execute_result"
    }
   ],
   "source": [
    "# Find the Percentage of rows missing data\n",
    "df.isna().mean()"
   ]
  },
  {
   "cell_type": "code",
   "execution_count": 29,
   "metadata": {
    "scrolled": true
   },
   "outputs": [
    {
     "data": {
      "text/plain": [
       "<matplotlib.axes._subplots.AxesSubplot at 0x7fd5f8161cf8>"
      ]
     },
     "execution_count": 29,
     "metadata": {},
     "output_type": "execute_result"
    },
    {
     "data": {
      "image/png": "[encoded data removed]",
      "text/plain": [
       "<Figure size 432x288 with 1 Axes>"
      ]
     },
     "metadata": {
      "needs_background": "light"
     },
     "output_type": "display_data"
    }
   ],
   "source": [
    "#graphically see the missing data\n",
    "sns.heatmap(df.isna(), cbar=False)"
   ]
  },
  {
   "cell_type": "code",
   "execution_count": 30,
   "metadata": {
    "scrolled": false
   },
   "outputs": [
    {
     "data": {
      "text/html": [
       "<div>\n",
       "<style scoped>\n",
       "    .dataframe tbody tr th:only-of-type {\n",
       "        vertical-align: middle;\n",
       "    }\n",
       "\n",
       "    .dataframe tbody tr th {\n",
       "        vertical-align: top;\n",
       "    }\n",
       "\n",
       "    .dataframe thead th {\n",
       "        text-align: right;\n",
       "    }\n",
       "</style>\n",
       "<table border=\"1\" class=\"dataframe\">\n",
       "  <thead>\n",
       "    <tr style=\"text-align: right;\">\n",
       "      <th></th>\n",
       "      <th>color</th>\n",
       "      <th>duration</th>\n",
       "      <th>director_facebook_likes</th>\n",
       "      <th>actor_3_facebook_likes</th>\n",
       "      <th>actor_1_facebook_likes</th>\n",
       "      <th>gross</th>\n",
       "      <th>movie_title</th>\n",
       "      <th>cast_total_facebook_likes</th>\n",
       "      <th>facenumber_in_poster</th>\n",
       "      <th>language</th>\n",
       "      <th>country</th>\n",
       "      <th>content_rating</th>\n",
       "      <th>budget</th>\n",
       "      <th>title_year</th>\n",
       "      <th>actor_2_facebook_likes</th>\n",
       "      <th>aspect_ratio</th>\n",
       "      <th>years_old</th>\n",
       "    </tr>\n",
       "  </thead>\n",
       "  <tbody>\n",
       "    <tr>\n",
       "      <th>55</th>\n",
       "      <td>Color</td>\n",
       "      <td>93.0</td>\n",
       "      <td>113.0</td>\n",
       "      <td>113.0</td>\n",
       "      <td>275.0</td>\n",
       "      <td>123070338.0</td>\n",
       "      <td>The Good Dinosaur</td>\n",
       "      <td>696</td>\n",
       "      <td>0.0</td>\n",
       "      <td>English</td>\n",
       "      <td>USA</td>\n",
       "      <td>PG</td>\n",
       "      <td>NaN</td>\n",
       "      <td>2015-01-01</td>\n",
       "      <td>150.0</td>\n",
       "      <td>2.35</td>\n",
       "      <td>1</td>\n",
       "    </tr>\n",
       "    <tr>\n",
       "      <th>444</th>\n",
       "      <td>Color</td>\n",
       "      <td>97.0</td>\n",
       "      <td>56.0</td>\n",
       "      <td>852.0</td>\n",
       "      <td>12000.0</td>\n",
       "      <td>82506325.0</td>\n",
       "      <td>Charlotte's Web</td>\n",
       "      <td>23907</td>\n",
       "      <td>0.0</td>\n",
       "      <td>English</td>\n",
       "      <td>USA</td>\n",
       "      <td>G</td>\n",
       "      <td>NaN</td>\n",
       "      <td>2006-01-01</td>\n",
       "      <td>8000.0</td>\n",
       "      <td>1.85</td>\n",
       "      <td>10</td>\n",
       "    </tr>\n",
       "    <tr>\n",
       "      <th>490</th>\n",
       "      <td>Color</td>\n",
       "      <td>117.0</td>\n",
       "      <td>93.0</td>\n",
       "      <td>904.0</td>\n",
       "      <td>12000.0</td>\n",
       "      <td>27779888.0</td>\n",
       "      <td>The Edge</td>\n",
       "      <td>14831</td>\n",
       "      <td>2.0</td>\n",
       "      <td>English</td>\n",
       "      <td>USA</td>\n",
       "      <td>R</td>\n",
       "      <td>NaN</td>\n",
       "      <td>1997-01-01</td>\n",
       "      <td>1000.0</td>\n",
       "      <td>2.35</td>\n",
       "      <td>19</td>\n",
       "    </tr>\n",
       "    <tr>\n",
       "      <th>640</th>\n",
       "      <td>Color</td>\n",
       "      <td>117.0</td>\n",
       "      <td>44.0</td>\n",
       "      <td>531.0</td>\n",
       "      <td>788.0</td>\n",
       "      <td>27550735.0</td>\n",
       "      <td>The Finest Hours</td>\n",
       "      <td>3524</td>\n",
       "      <td>0.0</td>\n",
       "      <td>English</td>\n",
       "      <td>USA</td>\n",
       "      <td>PG-13</td>\n",
       "      <td>NaN</td>\n",
       "      <td>2016-01-01</td>\n",
       "      <td>562.0</td>\n",
       "      <td>2.35</td>\n",
       "      <td>0</td>\n",
       "    </tr>\n",
       "    <tr>\n",
       "      <th>642</th>\n",
       "      <td>Color</td>\n",
       "      <td>114.0</td>\n",
       "      <td>116.0</td>\n",
       "      <td>982.0</td>\n",
       "      <td>7000.0</td>\n",
       "      <td>72980108.0</td>\n",
       "      <td>Dinner for Schmucks</td>\n",
       "      <td>10419</td>\n",
       "      <td>2.0</td>\n",
       "      <td>English</td>\n",
       "      <td>USA</td>\n",
       "      <td>PG-13</td>\n",
       "      <td>NaN</td>\n",
       "      <td>2010-01-01</td>\n",
       "      <td>1000.0</td>\n",
       "      <td>1.85</td>\n",
       "      <td>6</td>\n",
       "    </tr>\n",
       "    <tr>\n",
       "      <th>713</th>\n",
       "      <td>Color</td>\n",
       "      <td>100.0</td>\n",
       "      <td>12.0</td>\n",
       "      <td>311.0</td>\n",
       "      <td>419.0</td>\n",
       "      <td>168213584.0</td>\n",
       "      <td>Wild Hogs</td>\n",
       "      <td>1412</td>\n",
       "      <td>3.0</td>\n",
       "      <td>English</td>\n",
       "      <td>USA</td>\n",
       "      <td>PG-13</td>\n",
       "      <td>NaN</td>\n",
       "      <td>2007-01-01</td>\n",
       "      <td>330.0</td>\n",
       "      <td>2.35</td>\n",
       "      <td>9</td>\n",
       "    </tr>\n",
       "    <tr>\n",
       "      <th>773</th>\n",
       "      <td>Color</td>\n",
       "      <td>127.0</td>\n",
       "      <td>162.0</td>\n",
       "      <td>379.0</td>\n",
       "      <td>18000.0</td>\n",
       "      <td>36965395.0</td>\n",
       "      <td>State of Play</td>\n",
       "      <td>19776</td>\n",
       "      <td>3.0</td>\n",
       "      <td>English</td>\n",
       "      <td>USA</td>\n",
       "      <td>PG-13</td>\n",
       "      <td>NaN</td>\n",
       "      <td>2009-01-01</td>\n",
       "      <td>748.0</td>\n",
       "      <td>2.35</td>\n",
       "      <td>7</td>\n",
       "    </tr>\n",
       "    <tr>\n",
       "      <th>780</th>\n",
       "      <td>Color</td>\n",
       "      <td>111.0</td>\n",
       "      <td>39.0</td>\n",
       "      <td>461.0</td>\n",
       "      <td>16000.0</td>\n",
       "      <td>35754555.0</td>\n",
       "      <td>Trouble with the Curve</td>\n",
       "      <td>17871</td>\n",
       "      <td>0.0</td>\n",
       "      <td>English</td>\n",
       "      <td>USA</td>\n",
       "      <td>PG-13</td>\n",
       "      <td>NaN</td>\n",
       "      <td>2012-01-01</td>\n",
       "      <td>897.0</td>\n",
       "      <td>2.35</td>\n",
       "      <td>4</td>\n",
       "    </tr>\n",
       "    <tr>\n",
       "      <th>925</th>\n",
       "      <td>Color</td>\n",
       "      <td>93.0</td>\n",
       "      <td>14.0</td>\n",
       "      <td>728.0</td>\n",
       "      <td>2000.0</td>\n",
       "      <td>35092918.0</td>\n",
       "      <td>Deck the Halls</td>\n",
       "      <td>5468</td>\n",
       "      <td>0.0</td>\n",
       "      <td>English</td>\n",
       "      <td>USA</td>\n",
       "      <td>PG</td>\n",
       "      <td>NaN</td>\n",
       "      <td>2006-01-01</td>\n",
       "      <td>1000.0</td>\n",
       "      <td>1.85</td>\n",
       "      <td>10</td>\n",
       "    </tr>\n",
       "    <tr>\n",
       "      <th>949</th>\n",
       "      <td>Color</td>\n",
       "      <td>124.0</td>\n",
       "      <td>488.0</td>\n",
       "      <td>1000.0</td>\n",
       "      <td>19000.0</td>\n",
       "      <td>75621915.0</td>\n",
       "      <td>We Bought a Zoo</td>\n",
       "      <td>36873</td>\n",
       "      <td>3.0</td>\n",
       "      <td>English</td>\n",
       "      <td>USA</td>\n",
       "      <td>PG</td>\n",
       "      <td>NaN</td>\n",
       "      <td>2011-01-01</td>\n",
       "      <td>13000.0</td>\n",
       "      <td>1.85</td>\n",
       "      <td>5</td>\n",
       "    </tr>\n",
       "  </tbody>\n",
       "</table>\n",
       "</div>"
      ],
      "text/plain": [
       "     color  duration  director_facebook_likes  actor_3_facebook_likes  \\\n",
       "55   Color      93.0                    113.0                   113.0   \n",
       "444  Color      97.0                     56.0                   852.0   \n",
       "490  Color     117.0                     93.0                   904.0   \n",
       "640  Color     117.0                     44.0                   531.0   \n",
       "642  Color     114.0                    116.0                   982.0   \n",
       "713  Color     100.0                     12.0                   311.0   \n",
       "773  Color     127.0                    162.0                   379.0   \n",
       "780  Color     111.0                     39.0                   461.0   \n",
       "925  Color      93.0                     14.0                   728.0   \n",
       "949  Color     124.0                    488.0                  1000.0   \n",
       "\n",
       "     actor_1_facebook_likes        gross              movie_title  \\\n",
       "55                    275.0  123070338.0       The Good Dinosaur    \n",
       "444                 12000.0   82506325.0         Charlotte's Web    \n",
       "490                 12000.0   27779888.0                The Edge    \n",
       "640                   788.0   27550735.0        The Finest Hours    \n",
       "642                  7000.0   72980108.0     Dinner for Schmucks    \n",
       "713                   419.0  168213584.0               Wild Hogs    \n",
       "773                 18000.0   36965395.0           State of Play    \n",
       "780                 16000.0   35754555.0  Trouble with the Curve    \n",
       "925                  2000.0   35092918.0          Deck the Halls    \n",
       "949                 19000.0   75621915.0         We Bought a Zoo    \n",
       "\n",
       "     cast_total_facebook_likes  facenumber_in_poster language country  \\\n",
       "55                         696                   0.0  English     USA   \n",
       "444                      23907                   0.0  English     USA   \n",
       "490                      14831                   2.0  English     USA   \n",
       "640                       3524                   0.0  English     USA   \n",
       "642                      10419                   2.0  English     USA   \n",
       "713                       1412                   3.0  English     USA   \n",
       "773                      19776                   3.0  English     USA   \n",
       "780                      17871                   0.0  English     USA   \n",
       "925                       5468                   0.0  English     USA   \n",
       "949                      36873                   3.0  English     USA   \n",
       "\n",
       "    content_rating  budget title_year  actor_2_facebook_likes  aspect_ratio  \\\n",
       "55              PG     NaN 2015-01-01                   150.0          2.35   \n",
       "444              G     NaN 2006-01-01                  8000.0          1.85   \n",
       "490              R     NaN 1997-01-01                  1000.0          2.35   \n",
       "640          PG-13     NaN 2016-01-01                   562.0          2.35   \n",
       "642          PG-13     NaN 2010-01-01                  1000.0          1.85   \n",
       "713          PG-13     NaN 2007-01-01                   330.0          2.35   \n",
       "773          PG-13     NaN 2009-01-01                   748.0          2.35   \n",
       "780          PG-13     NaN 2012-01-01                   897.0          2.35   \n",
       "925             PG     NaN 2006-01-01                  1000.0          1.85   \n",
       "949             PG     NaN 2011-01-01                 13000.0          1.85   \n",
       "\n",
       "     years_old  \n",
       "55           1  \n",
       "444         10  \n",
       "490         19  \n",
       "640          0  \n",
       "642          6  \n",
       "713          9  \n",
       "773          7  \n",
       "780          4  \n",
       "925         10  \n",
       "949          5  "
      ]
     },
     "execution_count": 30,
     "metadata": {},
     "output_type": "execute_result"
    }
   ],
   "source": [
    "#look at all the observations with at least one missing data point\n",
    "df[df['budget'].isna()].head(10)"
   ]
  },
  {
   "cell_type": "code",
   "execution_count": 31,
   "metadata": {},
   "outputs": [
    {
     "data": {
      "text/plain": [
       "<matplotlib.axes._subplots.AxesSubplot at 0x7fd5f85d5b38>"
      ]
     },
     "execution_count": 31,
     "metadata": {},
     "output_type": "execute_result"
    },
    {
     "data": {
      "image/png": "[encoded data removed]",
      "text/plain": [
       "<Figure size 432x288 with 1 Axes>"
      ]
     },
     "metadata": {
      "needs_background": "light"
     },
     "output_type": "display_data"
    }
   ],
   "source": [
    "df['budget'].plot(kind='box')"
   ]
  },
  {
   "cell_type": "code",
   "execution_count": 32,
   "metadata": {},
   "outputs": [
    {
     "data": {
      "text/plain": [
       "<matplotlib.axes._subplots.AxesSubplot at 0x7fd5f89aba20>"
      ]
     },
     "execution_count": 32,
     "metadata": {},
     "output_type": "execute_result"
    },
    {
     "data": {
      "image/png": "[encoded data removed]",
      "text/plain": [
       "<Figure size 432x288 with 1 Axes>"
      ]
     },
     "metadata": {
      "needs_background": "light"
     },
     "output_type": "display_data"
    }
   ],
   "source": [
    "df.groupby('content_rating')['budget'].mean().plot(kind='bar')"
   ]
  },
  {
   "cell_type": "code",
   "execution_count": 33,
   "metadata": {},
   "outputs": [
    {
     "data": {
      "text/plain": [
       "{'G': 54629811.6, 'PG': 55784317.0, 'PG-13': 55495062.6, 'R': 27623637.4}"
      ]
     },
     "execution_count": 33,
     "metadata": {},
     "output_type": "execute_result"
    }
   ],
   "source": [
    "budget_ratings = df.groupby('content_rating')['budget'].mean().round(1).to_dict()\n",
    "\n",
    "budget_ratings"
   ]
  },
  {
   "cell_type": "code",
   "execution_count": 34,
   "metadata": {},
   "outputs": [],
   "source": [
    "df['budget'].fillna(df['content_rating'].map(budget_ratings), inplace=True)\n"
   ]
  },
  {
   "cell_type": "code",
   "execution_count": 35,
   "metadata": {},
   "outputs": [
    {
     "data": {
      "text/plain": [
       "<matplotlib.axes._subplots.AxesSubplot at 0x7fd5f8ba7d68>"
      ]
     },
     "execution_count": 35,
     "metadata": {},
     "output_type": "execute_result"
    },
    {
     "data": {
      "image/png": "[encoded data removed]",
      "text/plain": [
       "<Figure size 432x288 with 1 Axes>"
      ]
     },
     "metadata": {
      "needs_background": "light"
     },
     "output_type": "display_data"
    }
   ],
   "source": [
    "sns.heatmap(df.isnull(), cbar=False)"
   ]
  },
  {
   "cell_type": "markdown",
   "metadata": {},
   "source": [
    "### Handling Categorical Data\n",
    "\n"
   ]
  },
  {
   "cell_type": "markdown",
   "metadata": {},
   "source": [
    "For the column of `rating`, we can see that the values come through as strings that represent a category.  We can not put a string through as a value for a linear model. Instead we use dummy variables."
   ]
  },
  {
   "cell_type": "code",
   "execution_count": 36,
   "metadata": {
    "Collapsed": "false"
   },
   "outputs": [],
   "source": [
    "df = pd.get_dummies(df, columns=['content_rating'], drop_first=True)"
   ]
  },
  {
   "cell_type": "code",
   "execution_count": 37,
   "metadata": {},
   "outputs": [],
   "source": [
    "df = pd.get_dummies(df, columns=['color'], drop_first=True)"
   ]
  },
  {
   "cell_type": "code",
   "execution_count": 38,
   "metadata": {},
   "outputs": [
    {
     "data": {
      "text/html": [
       "<div>\n",
       "<style scoped>\n",
       "    .dataframe tbody tr th:only-of-type {\n",
       "        vertical-align: middle;\n",
       "    }\n",
       "\n",
       "    .dataframe tbody tr th {\n",
       "        vertical-align: top;\n",
       "    }\n",
       "\n",
       "    .dataframe thead th {\n",
       "        text-align: right;\n",
       "    }\n",
       "</style>\n",
       "<table border=\"1\" class=\"dataframe\">\n",
       "  <thead>\n",
       "    <tr style=\"text-align: right;\">\n",
       "      <th></th>\n",
       "      <th>duration</th>\n",
       "      <th>director_facebook_likes</th>\n",
       "      <th>actor_3_facebook_likes</th>\n",
       "      <th>actor_1_facebook_likes</th>\n",
       "      <th>gross</th>\n",
       "      <th>movie_title</th>\n",
       "      <th>cast_total_facebook_likes</th>\n",
       "      <th>facenumber_in_poster</th>\n",
       "      <th>language</th>\n",
       "      <th>country</th>\n",
       "      <th>budget</th>\n",
       "      <th>title_year</th>\n",
       "      <th>actor_2_facebook_likes</th>\n",
       "      <th>aspect_ratio</th>\n",
       "      <th>years_old</th>\n",
       "      <th>content_rating_PG</th>\n",
       "      <th>content_rating_PG-13</th>\n",
       "      <th>content_rating_R</th>\n",
       "      <th>color_Color</th>\n",
       "    </tr>\n",
       "  </thead>\n",
       "  <tbody>\n",
       "    <tr>\n",
       "      <th>0</th>\n",
       "      <td>178.0</td>\n",
       "      <td>0.0</td>\n",
       "      <td>855.0</td>\n",
       "      <td>1000.0</td>\n",
       "      <td>760505847.0</td>\n",
       "      <td>Avatar</td>\n",
       "      <td>4834</td>\n",
       "      <td>0.0</td>\n",
       "      <td>English</td>\n",
       "      <td>USA</td>\n",
       "      <td>237000000.0</td>\n",
       "      <td>2009-01-01</td>\n",
       "      <td>936.0</td>\n",
       "      <td>1.78</td>\n",
       "      <td>7</td>\n",
       "      <td>0</td>\n",
       "      <td>1</td>\n",
       "      <td>0</td>\n",
       "      <td>1</td>\n",
       "    </tr>\n",
       "    <tr>\n",
       "      <th>1</th>\n",
       "      <td>169.0</td>\n",
       "      <td>563.0</td>\n",
       "      <td>1000.0</td>\n",
       "      <td>40000.0</td>\n",
       "      <td>309404152.0</td>\n",
       "      <td>Pirates of the Caribbean: At World's End</td>\n",
       "      <td>48350</td>\n",
       "      <td>0.0</td>\n",
       "      <td>English</td>\n",
       "      <td>USA</td>\n",
       "      <td>300000000.0</td>\n",
       "      <td>2007-01-01</td>\n",
       "      <td>5000.0</td>\n",
       "      <td>2.35</td>\n",
       "      <td>9</td>\n",
       "      <td>0</td>\n",
       "      <td>1</td>\n",
       "      <td>0</td>\n",
       "      <td>1</td>\n",
       "    </tr>\n",
       "    <tr>\n",
       "      <th>3</th>\n",
       "      <td>164.0</td>\n",
       "      <td>22000.0</td>\n",
       "      <td>23000.0</td>\n",
       "      <td>27000.0</td>\n",
       "      <td>448130642.0</td>\n",
       "      <td>The Dark Knight Rises</td>\n",
       "      <td>106759</td>\n",
       "      <td>0.0</td>\n",
       "      <td>English</td>\n",
       "      <td>USA</td>\n",
       "      <td>250000000.0</td>\n",
       "      <td>2012-01-01</td>\n",
       "      <td>23000.0</td>\n",
       "      <td>2.35</td>\n",
       "      <td>4</td>\n",
       "      <td>0</td>\n",
       "      <td>1</td>\n",
       "      <td>0</td>\n",
       "      <td>1</td>\n",
       "    </tr>\n",
       "    <tr>\n",
       "      <th>5</th>\n",
       "      <td>132.0</td>\n",
       "      <td>475.0</td>\n",
       "      <td>530.0</td>\n",
       "      <td>640.0</td>\n",
       "      <td>73058679.0</td>\n",
       "      <td>John Carter</td>\n",
       "      <td>1873</td>\n",
       "      <td>1.0</td>\n",
       "      <td>English</td>\n",
       "      <td>USA</td>\n",
       "      <td>263700000.0</td>\n",
       "      <td>2012-01-01</td>\n",
       "      <td>632.0</td>\n",
       "      <td>2.35</td>\n",
       "      <td>4</td>\n",
       "      <td>0</td>\n",
       "      <td>1</td>\n",
       "      <td>0</td>\n",
       "      <td>1</td>\n",
       "    </tr>\n",
       "    <tr>\n",
       "      <th>6</th>\n",
       "      <td>156.0</td>\n",
       "      <td>0.0</td>\n",
       "      <td>4000.0</td>\n",
       "      <td>24000.0</td>\n",
       "      <td>336530303.0</td>\n",
       "      <td>Spider-Man 3</td>\n",
       "      <td>46055</td>\n",
       "      <td>0.0</td>\n",
       "      <td>English</td>\n",
       "      <td>USA</td>\n",
       "      <td>258000000.0</td>\n",
       "      <td>2007-01-01</td>\n",
       "      <td>11000.0</td>\n",
       "      <td>2.35</td>\n",
       "      <td>9</td>\n",
       "      <td>0</td>\n",
       "      <td>1</td>\n",
       "      <td>0</td>\n",
       "      <td>1</td>\n",
       "    </tr>\n",
       "  </tbody>\n",
       "</table>\n",
       "</div>"
      ],
      "text/plain": [
       "   duration  director_facebook_likes  actor_3_facebook_likes  \\\n",
       "0     178.0                      0.0                   855.0   \n",
       "1     169.0                    563.0                  1000.0   \n",
       "3     164.0                  22000.0                 23000.0   \n",
       "5     132.0                    475.0                   530.0   \n",
       "6     156.0                      0.0                  4000.0   \n",
       "\n",
       "   actor_1_facebook_likes        gross  \\\n",
       "0                  1000.0  760505847.0   \n",
       "1                 40000.0  309404152.0   \n",
       "3                 27000.0  448130642.0   \n",
       "5                   640.0   73058679.0   \n",
       "6                 24000.0  336530303.0   \n",
       "\n",
       "                                 movie_title  cast_total_facebook_likes  \\\n",
       "0                                    Avatar                        4834   \n",
       "1  Pirates of the Caribbean: At World's End                       48350   \n",
       "3                     The Dark Knight Rises                      106759   \n",
       "5                               John Carter                        1873   \n",
       "6                              Spider-Man 3                       46055   \n",
       "\n",
       "   facenumber_in_poster language country       budget title_year  \\\n",
       "0                   0.0  English     USA  237000000.0 2009-01-01   \n",
       "1                   0.0  English     USA  300000000.0 2007-01-01   \n",
       "3                   0.0  English     USA  250000000.0 2012-01-01   \n",
       "5                   1.0  English     USA  263700000.0 2012-01-01   \n",
       "6                   0.0  English     USA  258000000.0 2007-01-01   \n",
       "\n",
       "   actor_2_facebook_likes  aspect_ratio  years_old  content_rating_PG  \\\n",
       "0                   936.0          1.78          7                  0   \n",
       "1                  5000.0          2.35          9                  0   \n",
       "3                 23000.0          2.35          4                  0   \n",
       "5                   632.0          2.35          4                  0   \n",
       "6                 11000.0          2.35          9                  0   \n",
       "\n",
       "   content_rating_PG-13  content_rating_R  color_Color  \n",
       "0                     1                 0            1  \n",
       "1                     1                 0            1  \n",
       "3                     1                 0            1  \n",
       "5                     1                 0            1  \n",
       "6                     1                 0            1  "
      ]
     },
     "execution_count": 38,
     "metadata": {},
     "output_type": "execute_result"
    }
   ],
   "source": [
    "df.head()"
   ]
  },
  {
   "cell_type": "markdown",
   "metadata": {},
   "source": [
    "### Visualize the data"
   ]
  },
  {
   "cell_type": "code",
   "execution_count": 39,
   "metadata": {},
   "outputs": [],
   "source": [
    "cols = ['duration', 'director_facebook_likes', 'actor_3_facebook_likes',\n",
    "       'actor_1_facebook_likes', \n",
    "       'cast_total_facebook_likes', 'facenumber_in_poster', \n",
    "       'budget',  'actor_2_facebook_likes',\n",
    "        'color_Color', 'content_rating_PG',\n",
    "       'content_rating_PG-13', 'content_rating_R', 'years_old','gross']"
   ]
  },
  {
   "cell_type": "code",
   "execution_count": 40,
   "metadata": {},
   "outputs": [],
   "source": [
    "#break the colums in to groups to plot 4 on a row at a time\n",
    "n = 4\n",
    "row_groups= [cols[i:i+n] for i in range(0, len(cols), n) ]"
   ]
  },
  {
   "cell_type": "code",
   "execution_count": 41,
   "metadata": {},
   "outputs": [
    {
     "data": {
      "text/plain": [
       "[['duration',\n",
       "  'director_facebook_likes',\n",
       "  'actor_3_facebook_likes',\n",
       "  'actor_1_facebook_likes'],\n",
       " ['cast_total_facebook_likes',\n",
       "  'facenumber_in_poster',\n",
       "  'budget',\n",
       "  'actor_2_facebook_likes'],\n",
       " ['color_Color',\n",
       "  'content_rating_PG',\n",
       "  'content_rating_PG-13',\n",
       "  'content_rating_R'],\n",
       " ['years_old', 'gross']]"
      ]
     },
     "execution_count": 41,
     "metadata": {},
     "output_type": "execute_result"
    }
   ],
   "source": [
    "row_groups"
   ]
  },
  {
   "cell_type": "code",
   "execution_count": 43,
   "metadata": {},
   "outputs": [
    {
     "data": {
      "image/png": "[encoded data removed]",
      "text/plain": [
       "<Figure size 864x216 with 4 Axes>"
      ]
     },
     "metadata": {
      "needs_background": "light"
     },
     "output_type": "display_data"
    },
    {
     "data": {
      "image/png": "[encoded data removed]",
      "text/plain": [
       "<Figure size 864x216 with 4 Axes>"
      ]
     },
     "metadata": {
      "needs_background": "light"
     },
     "output_type": "display_data"
    },
    {
     "data": {
      "image/png": "[encoded data removed]",
      "text/plain": [
       "<Figure size 864x216 with 4 Axes>"
      ]
     },
     "metadata": {
      "needs_background": "light"
     },
     "output_type": "display_data"
    },
    {
     "data": {
      "image/png": "[encoded data removed]",
      "text/plain": [
       "<Figure size 432x216 with 3 Axes>"
      ]
     },
     "metadata": {
      "needs_background": "light"
     },
     "output_type": "display_data"
    }
   ],
   "source": [
    "for i in row_groups:\n",
    "    pp = sns.pairplot(data=df[cols], y_vars='gross',x_vars=i, kind=\"reg\", height=3)"
   ]
  },
  {
   "cell_type": "markdown",
   "metadata": {},
   "source": [
    "### Removing Outliers\n",
    "\n",
    "https://towardsdatascience.com/ways-to-detect-and-remove-the-outliers-404d16608dba"
   ]
  },
  {
   "cell_type": "code",
   "execution_count": 44,
   "metadata": {},
   "outputs": [
    {
     "data": {
      "text/plain": [
       "count      2876.000000\n",
       "mean       8341.289638\n",
       "std       16376.342359\n",
       "min           0.000000\n",
       "25%         839.000000\n",
       "50%        2000.000000\n",
       "75%       13000.000000\n",
       "max      640000.000000\n",
       "Name: actor_1_facebook_likes, dtype: float64"
      ]
     },
     "execution_count": 44,
     "metadata": {},
     "output_type": "execute_result"
    }
   ],
   "source": [
    "df['actor_1_facebook_likes'].describe()"
   ]
  },
  {
   "cell_type": "code",
   "execution_count": 45,
   "metadata": {},
   "outputs": [],
   "source": [
    "df['actor_1_facebook_likes']= np.where(df['actor_1_facebook_likes'] >200000, 200000, df['actor_1_facebook_likes'])"
   ]
  },
  {
   "cell_type": "code",
   "execution_count": 46,
   "metadata": {},
   "outputs": [
    {
     "data": {
      "text/plain": [
       "count      2875.000000\n",
       "mean       2248.730087\n",
       "std        4890.340005\n",
       "min           0.000000\n",
       "25%         459.000000\n",
       "50%         754.000000\n",
       "75%        1000.000000\n",
       "max      137000.000000\n",
       "Name: actor_2_facebook_likes, dtype: float64"
      ]
     },
     "execution_count": 46,
     "metadata": {},
     "output_type": "execute_result"
    }
   ],
   "source": [
    "df['actor_2_facebook_likes'].describe()"
   ]
  },
  {
   "cell_type": "code",
   "execution_count": 47,
   "metadata": {},
   "outputs": [],
   "source": [
    "df['actor_2_facebook_likes']= np.where(df['actor_2_facebook_likes'] >30000, 30000, df['actor_1_facebook_likes'])"
   ]
  },
  {
   "cell_type": "markdown",
   "metadata": {},
   "source": [
    "## Feature Engineering"
   ]
  },
  {
   "cell_type": "markdown",
   "metadata": {},
   "source": [
    "### Creating New columns based on other columns"
   ]
  },
  {
   "cell_type": "code",
   "execution_count": 48,
   "metadata": {},
   "outputs": [
    {
     "data": {
      "text/html": [
       "<div>\n",
       "<style scoped>\n",
       "    .dataframe tbody tr th:only-of-type {\n",
       "        vertical-align: middle;\n",
       "    }\n",
       "\n",
       "    .dataframe tbody tr th {\n",
       "        vertical-align: top;\n",
       "    }\n",
       "\n",
       "    .dataframe thead th {\n",
       "        text-align: right;\n",
       "    }\n",
       "</style>\n",
       "<table border=\"1\" class=\"dataframe\">\n",
       "  <thead>\n",
       "    <tr style=\"text-align: right;\">\n",
       "      <th></th>\n",
       "      <th>movie_title</th>\n",
       "      <th>actor_1_facebook_likes</th>\n",
       "      <th>superstar</th>\n",
       "    </tr>\n",
       "  </thead>\n",
       "  <tbody>\n",
       "    <tr>\n",
       "      <th>0</th>\n",
       "      <td>Avatar</td>\n",
       "      <td>1000.0</td>\n",
       "      <td>0</td>\n",
       "    </tr>\n",
       "    <tr>\n",
       "      <th>1</th>\n",
       "      <td>Pirates of the Caribbean: At World's End</td>\n",
       "      <td>40000.0</td>\n",
       "      <td>1</td>\n",
       "    </tr>\n",
       "    <tr>\n",
       "      <th>3</th>\n",
       "      <td>The Dark Knight Rises</td>\n",
       "      <td>27000.0</td>\n",
       "      <td>1</td>\n",
       "    </tr>\n",
       "    <tr>\n",
       "      <th>5</th>\n",
       "      <td>John Carter</td>\n",
       "      <td>640.0</td>\n",
       "      <td>0</td>\n",
       "    </tr>\n",
       "    <tr>\n",
       "      <th>6</th>\n",
       "      <td>Spider-Man 3</td>\n",
       "      <td>24000.0</td>\n",
       "      <td>1</td>\n",
       "    </tr>\n",
       "    <tr>\n",
       "      <th>7</th>\n",
       "      <td>Tangled</td>\n",
       "      <td>799.0</td>\n",
       "      <td>0</td>\n",
       "    </tr>\n",
       "    <tr>\n",
       "      <th>8</th>\n",
       "      <td>Avengers: Age of Ultron</td>\n",
       "      <td>26000.0</td>\n",
       "      <td>1</td>\n",
       "    </tr>\n",
       "    <tr>\n",
       "      <th>10</th>\n",
       "      <td>Batman v Superman: Dawn of Justice</td>\n",
       "      <td>15000.0</td>\n",
       "      <td>1</td>\n",
       "    </tr>\n",
       "    <tr>\n",
       "      <th>11</th>\n",
       "      <td>Superman Returns</td>\n",
       "      <td>18000.0</td>\n",
       "      <td>1</td>\n",
       "    </tr>\n",
       "    <tr>\n",
       "      <th>13</th>\n",
       "      <td>Pirates of the Caribbean: Dead Man's Chest</td>\n",
       "      <td>40000.0</td>\n",
       "      <td>1</td>\n",
       "    </tr>\n",
       "  </tbody>\n",
       "</table>\n",
       "</div>"
      ],
      "text/plain": [
       "                                    movie_title  actor_1_facebook_likes  \\\n",
       "0                                       Avatar                   1000.0   \n",
       "1     Pirates of the Caribbean: At World's End                  40000.0   \n",
       "3                        The Dark Knight Rises                  27000.0   \n",
       "5                                  John Carter                    640.0   \n",
       "6                                 Spider-Man 3                  24000.0   \n",
       "7                                      Tangled                    799.0   \n",
       "8                      Avengers: Age of Ultron                  26000.0   \n",
       "10          Batman v Superman: Dawn of Justice                  15000.0   \n",
       "11                            Superman Returns                  18000.0   \n",
       "13  Pirates of the Caribbean: Dead Man's Chest                  40000.0   \n",
       "\n",
       "    superstar  \n",
       "0           0  \n",
       "1           1  \n",
       "3           1  \n",
       "5           0  \n",
       "6           1  \n",
       "7           0  \n",
       "8           1  \n",
       "10          1  \n",
       "11          1  \n",
       "13          1  "
      ]
     },
     "execution_count": 48,
     "metadata": {},
     "output_type": "execute_result"
    }
   ],
   "source": [
    "# Create a new column called df.superstar where the value is 1\n",
    "# if df.actor_1_facebook_likes is greater th000 and 0 if not\n",
    "df['superstar'] = np.where(df['actor_1_facebook_likes']>=15000, 1, 0)\n",
    "\n",
    "df[['movie_title', 'actor_1_facebook_likes', 'superstar']].head(10)"
   ]
  },
  {
   "cell_type": "code",
   "execution_count": 49,
   "metadata": {},
   "outputs": [],
   "source": [
    "features =  ['duration', 'director_facebook_likes', 'actor_3_facebook_likes',\n",
    "       'actor_1_facebook_likes', \n",
    "       'cast_total_facebook_likes', 'facenumber_in_poster', \n",
    "       'budget',  'actor_2_facebook_likes',\n",
    "        'color_Color', 'content_rating_PG',\n",
    "       'content_rating_PG-13', 'content_rating_R', 'years_old']"
   ]
  },
  {
   "cell_type": "code",
   "execution_count": 50,
   "metadata": {},
   "outputs": [],
   "source": [
    "from sklearn.preprocessing import PolynomialFeatures\n",
    "\n",
    "poly = PolynomialFeatures(degree=2, include_bias=False)"
   ]
  },
  {
   "cell_type": "code",
   "execution_count": 51,
   "metadata": {},
   "outputs": [
    {
     "ename": "ValueError",
     "evalue": "Input contains NaN, infinity or a value too large for dtype('float64').",
     "output_type": "error",
     "traceback": [
      "\u001b[0;31m---------------------------------------------------------------------------\u001b[0m",
      "\u001b[0;31mValueError\u001b[0m                                Traceback (most recent call last)",
      "\u001b[0;32m<ipython-input-51-57bdb47207c7>\u001b[0m in \u001b[0;36m<module>\u001b[0;34m()\u001b[0m\n\u001b[0;32m----> 1\u001b[0;31m \u001b[0mpoly_data\u001b[0m \u001b[0;34m=\u001b[0m \u001b[0mpoly\u001b[0m\u001b[0;34m.\u001b[0m\u001b[0mfit_transform\u001b[0m\u001b[0;34m(\u001b[0m\u001b[0mdf\u001b[0m\u001b[0;34m[\u001b[0m\u001b[0mfeatures\u001b[0m\u001b[0;34m]\u001b[0m\u001b[0;34m)\u001b[0m\u001b[0;34m\u001b[0m\u001b[0;34m\u001b[0m\u001b[0m\n\u001b[0m\u001b[1;32m      2\u001b[0m \u001b[0;34m\u001b[0m\u001b[0m\n\u001b[1;32m      3\u001b[0m \u001b[0;34m\u001b[0m\u001b[0m\n\u001b[1;32m      4\u001b[0m \u001b[0mpoly_columns\u001b[0m \u001b[0;34m=\u001b[0m \u001b[0mpoly\u001b[0m\u001b[0;34m.\u001b[0m\u001b[0mget_feature_names\u001b[0m\u001b[0;34m(\u001b[0m\u001b[0mfeatures\u001b[0m\u001b[0;34m)\u001b[0m\u001b[0;34m\u001b[0m\u001b[0;34m\u001b[0m\u001b[0m\n\u001b[1;32m      5\u001b[0m \u001b[0;34m\u001b[0m\u001b[0m\n",
      "\u001b[0;32m/Users/browz/opt/anaconda3/envs/learn-env/lib/python3.6/site-packages/sklearn/base.py\u001b[0m in \u001b[0;36mfit_transform\u001b[0;34m(self, X, y, **fit_params)\u001b[0m\n\u001b[1;32m    551\u001b[0m         \u001b[0;32mif\u001b[0m \u001b[0my\u001b[0m \u001b[0;32mis\u001b[0m \u001b[0;32mNone\u001b[0m\u001b[0;34m:\u001b[0m\u001b[0;34m\u001b[0m\u001b[0;34m\u001b[0m\u001b[0m\n\u001b[1;32m    552\u001b[0m             \u001b[0;31m# fit method of arity 1 (unsupervised transformation)\u001b[0m\u001b[0;34m\u001b[0m\u001b[0;34m\u001b[0m\u001b[0;34m\u001b[0m\u001b[0m\n\u001b[0;32m--> 553\u001b[0;31m             \u001b[0;32mreturn\u001b[0m \u001b[0mself\u001b[0m\u001b[0;34m.\u001b[0m\u001b[0mfit\u001b[0m\u001b[0;34m(\u001b[0m\u001b[0mX\u001b[0m\u001b[0;34m,\u001b[0m \u001b[0;34m**\u001b[0m\u001b[0mfit_params\u001b[0m\u001b[0;34m)\u001b[0m\u001b[0;34m.\u001b[0m\u001b[0mtransform\u001b[0m\u001b[0;34m(\u001b[0m\u001b[0mX\u001b[0m\u001b[0;34m)\u001b[0m\u001b[0;34m\u001b[0m\u001b[0;34m\u001b[0m\u001b[0m\n\u001b[0m\u001b[1;32m    554\u001b[0m         \u001b[0;32melse\u001b[0m\u001b[0;34m:\u001b[0m\u001b[0;34m\u001b[0m\u001b[0;34m\u001b[0m\u001b[0m\n\u001b[1;32m    555\u001b[0m             \u001b[0;31m# fit method of arity 2 (supervised transformation)\u001b[0m\u001b[0;34m\u001b[0m\u001b[0;34m\u001b[0m\u001b[0;34m\u001b[0m\u001b[0m\n",
      "\u001b[0;32m/Users/browz/opt/anaconda3/envs/learn-env/lib/python3.6/site-packages/sklearn/preprocessing/data.py\u001b[0m in \u001b[0;36mfit\u001b[0;34m(self, X, y)\u001b[0m\n\u001b[1;32m   1463\u001b[0m         \u001b[0mself\u001b[0m \u001b[0;34m:\u001b[0m \u001b[0minstance\u001b[0m\u001b[0;34m\u001b[0m\u001b[0;34m\u001b[0m\u001b[0m\n\u001b[1;32m   1464\u001b[0m         \"\"\"\n\u001b[0;32m-> 1465\u001b[0;31m         \u001b[0mn_samples\u001b[0m\u001b[0;34m,\u001b[0m \u001b[0mn_features\u001b[0m \u001b[0;34m=\u001b[0m \u001b[0mcheck_array\u001b[0m\u001b[0;34m(\u001b[0m\u001b[0mX\u001b[0m\u001b[0;34m,\u001b[0m \u001b[0maccept_sparse\u001b[0m\u001b[0;34m=\u001b[0m\u001b[0;32mTrue\u001b[0m\u001b[0;34m)\u001b[0m\u001b[0;34m.\u001b[0m\u001b[0mshape\u001b[0m\u001b[0;34m\u001b[0m\u001b[0;34m\u001b[0m\u001b[0m\n\u001b[0m\u001b[1;32m   1466\u001b[0m         combinations = self._combinations(n_features, self.degree,\n\u001b[1;32m   1467\u001b[0m                                           \u001b[0mself\u001b[0m\u001b[0;34m.\u001b[0m\u001b[0minteraction_only\u001b[0m\u001b[0;34m,\u001b[0m\u001b[0;34m\u001b[0m\u001b[0;34m\u001b[0m\u001b[0m\n",
      "\u001b[0;32m/Users/browz/opt/anaconda3/envs/learn-env/lib/python3.6/site-packages/sklearn/utils/validation.py\u001b[0m in \u001b[0;36mcheck_array\u001b[0;34m(array, accept_sparse, accept_large_sparse, dtype, order, copy, force_all_finite, ensure_2d, allow_nd, ensure_min_samples, ensure_min_features, warn_on_dtype, estimator)\u001b[0m\n\u001b[1;32m    540\u001b[0m         \u001b[0;32mif\u001b[0m \u001b[0mforce_all_finite\u001b[0m\u001b[0;34m:\u001b[0m\u001b[0;34m\u001b[0m\u001b[0;34m\u001b[0m\u001b[0m\n\u001b[1;32m    541\u001b[0m             _assert_all_finite(array,\n\u001b[0;32m--> 542\u001b[0;31m                                allow_nan=force_all_finite == 'allow-nan')\n\u001b[0m\u001b[1;32m    543\u001b[0m \u001b[0;34m\u001b[0m\u001b[0m\n\u001b[1;32m    544\u001b[0m     \u001b[0;32mif\u001b[0m \u001b[0mensure_min_samples\u001b[0m \u001b[0;34m>\u001b[0m \u001b[0;36m0\u001b[0m\u001b[0;34m:\u001b[0m\u001b[0;34m\u001b[0m\u001b[0;34m\u001b[0m\u001b[0m\n",
      "\u001b[0;32m/Users/browz/opt/anaconda3/envs/learn-env/lib/python3.6/site-packages/sklearn/utils/validation.py\u001b[0m in \u001b[0;36m_assert_all_finite\u001b[0;34m(X, allow_nan)\u001b[0m\n\u001b[1;32m     54\u001b[0m                 not allow_nan and not np.isfinite(X).all()):\n\u001b[1;32m     55\u001b[0m             \u001b[0mtype_err\u001b[0m \u001b[0;34m=\u001b[0m \u001b[0;34m'infinity'\u001b[0m \u001b[0;32mif\u001b[0m \u001b[0mallow_nan\u001b[0m \u001b[0;32melse\u001b[0m \u001b[0;34m'NaN, infinity'\u001b[0m\u001b[0;34m\u001b[0m\u001b[0;34m\u001b[0m\u001b[0m\n\u001b[0;32m---> 56\u001b[0;31m             \u001b[0;32mraise\u001b[0m \u001b[0mValueError\u001b[0m\u001b[0;34m(\u001b[0m\u001b[0mmsg_err\u001b[0m\u001b[0;34m.\u001b[0m\u001b[0mformat\u001b[0m\u001b[0;34m(\u001b[0m\u001b[0mtype_err\u001b[0m\u001b[0;34m,\u001b[0m \u001b[0mX\u001b[0m\u001b[0;34m.\u001b[0m\u001b[0mdtype\u001b[0m\u001b[0;34m)\u001b[0m\u001b[0;34m)\u001b[0m\u001b[0;34m\u001b[0m\u001b[0;34m\u001b[0m\u001b[0m\n\u001b[0m\u001b[1;32m     57\u001b[0m     \u001b[0;31m# for object dtype data, we only check for NaNs (GH-13254)\u001b[0m\u001b[0;34m\u001b[0m\u001b[0;34m\u001b[0m\u001b[0;34m\u001b[0m\u001b[0m\n\u001b[1;32m     58\u001b[0m     \u001b[0;32melif\u001b[0m \u001b[0mX\u001b[0m\u001b[0;34m.\u001b[0m\u001b[0mdtype\u001b[0m \u001b[0;34m==\u001b[0m \u001b[0mnp\u001b[0m\u001b[0;34m.\u001b[0m\u001b[0mdtype\u001b[0m\u001b[0;34m(\u001b[0m\u001b[0;34m'object'\u001b[0m\u001b[0;34m)\u001b[0m \u001b[0;32mand\u001b[0m \u001b[0;32mnot\u001b[0m \u001b[0mallow_nan\u001b[0m\u001b[0;34m:\u001b[0m\u001b[0;34m\u001b[0m\u001b[0;34m\u001b[0m\u001b[0m\n",
      "\u001b[0;31mValueError\u001b[0m: Input contains NaN, infinity or a value too large for dtype('float64')."
     ]
    }
   ],
   "source": [
    "poly_data = poly.fit_transform(df[features])\n",
    "\n",
    "\n",
    "poly_columns = poly.get_feature_names(features)\n",
    "\n",
    "df_poly = pd.DataFrame(poly_data, columns=poly_columns)\n",
    "\n",
    "df_poly.head()"
   ]
  },
  {
   "cell_type": "code",
   "execution_count": 54,
   "metadata": {},
   "outputs": [
    {
     "data": {
      "text/plain": [
       "duration                     0.000000\n",
       "director_facebook_likes      0.000000\n",
       "actor_3_facebook_likes       0.000000\n",
       "actor_1_facebook_likes       0.000000\n",
       "cast_total_facebook_likes    0.000000\n",
       "facenumber_in_poster         0.002086\n",
       "budget                       0.000000\n",
       "actor_2_facebook_likes       0.000000\n",
       "color_Color                  0.000000\n",
       "content_rating_PG            0.000000\n",
       "content_rating_PG-13         0.000000\n",
       "content_rating_R             0.000000\n",
       "years_old                    0.000000\n",
       "dtype: float64"
      ]
     },
     "execution_count": 54,
     "metadata": {},
     "output_type": "execute_result"
    }
   ],
   "source": [
    "# Find the Percentage of rows missing data\n",
    "df[features].isna().mean()"
   ]
  },
  {
   "cell_type": "code",
   "execution_count": 55,
   "metadata": {},
   "outputs": [],
   "source": [
    "df['duration'].fillna(df['duration'].mean(), inplace=True)\n"
   ]
  },
  {
   "cell_type": "code",
   "execution_count": 56,
   "metadata": {},
   "outputs": [],
   "source": [
    "df['actor_3_facebook_likes'].fillna(df['actor_3_facebook_likes'].mean(), inplace=True)\n"
   ]
  },
  {
   "cell_type": "code",
   "execution_count": 57,
   "metadata": {
    "scrolled": true
   },
   "outputs": [],
   "source": [
    "df['facenumber_in_poster'].fillna(df['facenumber_in_poster'].mean(), inplace=True)\n"
   ]
  },
  {
   "cell_type": "code",
   "execution_count": 58,
   "metadata": {},
   "outputs": [
    {
     "data": {
      "text/html": [
       "<div>\n",
       "<style scoped>\n",
       "    .dataframe tbody tr th:only-of-type {\n",
       "        vertical-align: middle;\n",
       "    }\n",
       "\n",
       "    .dataframe tbody tr th {\n",
       "        vertical-align: top;\n",
       "    }\n",
       "\n",
       "    .dataframe thead th {\n",
       "        text-align: right;\n",
       "    }\n",
       "</style>\n",
       "<table border=\"1\" class=\"dataframe\">\n",
       "  <thead>\n",
       "    <tr style=\"text-align: right;\">\n",
       "      <th></th>\n",
       "      <th>duration</th>\n",
       "      <th>director_facebook_likes</th>\n",
       "      <th>actor_3_facebook_likes</th>\n",
       "      <th>actor_1_facebook_likes</th>\n",
       "      <th>cast_total_facebook_likes</th>\n",
       "      <th>facenumber_in_poster</th>\n",
       "      <th>budget</th>\n",
       "      <th>actor_2_facebook_likes</th>\n",
       "      <th>color_Color</th>\n",
       "      <th>content_rating_PG</th>\n",
       "      <th>content_rating_PG-13</th>\n",
       "      <th>content_rating_R</th>\n",
       "      <th>years_old</th>\n",
       "      <th>duration^2</th>\n",
       "      <th>duration director_facebook_likes</th>\n",
       "      <th>duration actor_3_facebook_likes</th>\n",
       "      <th>duration actor_1_facebook_likes</th>\n",
       "      <th>duration cast_total_facebook_likes</th>\n",
       "      <th>duration facenumber_in_poster</th>\n",
       "      <th>duration budget</th>\n",
       "      <th>duration actor_2_facebook_likes</th>\n",
       "      <th>duration color_Color</th>\n",
       "      <th>duration content_rating_PG</th>\n",
       "      <th>duration content_rating_PG-13</th>\n",
       "      <th>duration content_rating_R</th>\n",
       "      <th>duration years_old</th>\n",
       "      <th>director_facebook_likes^2</th>\n",
       "      <th>director_facebook_likes actor_3_facebook_likes</th>\n",
       "      <th>director_facebook_likes actor_1_facebook_likes</th>\n",
       "      <th>director_facebook_likes cast_total_facebook_likes</th>\n",
       "      <th>director_facebook_likes facenumber_in_poster</th>\n",
       "      <th>director_facebook_likes budget</th>\n",
       "      <th>director_facebook_likes actor_2_facebook_likes</th>\n",
       "      <th>director_facebook_likes color_Color</th>\n",
       "      <th>director_facebook_likes content_rating_PG</th>\n",
       "      <th>director_facebook_likes content_rating_PG-13</th>\n",
       "      <th>director_facebook_likes content_rating_R</th>\n",
       "      <th>director_facebook_likes years_old</th>\n",
       "      <th>actor_3_facebook_likes^2</th>\n",
       "      <th>actor_3_facebook_likes actor_1_facebook_likes</th>\n",
       "      <th>actor_3_facebook_likes cast_total_facebook_likes</th>\n",
       "      <th>actor_3_facebook_likes facenumber_in_poster</th>\n",
       "      <th>actor_3_facebook_likes budget</th>\n",
       "      <th>actor_3_facebook_likes actor_2_facebook_likes</th>\n",
       "      <th>actor_3_facebook_likes color_Color</th>\n",
       "      <th>actor_3_facebook_likes content_rating_PG</th>\n",
       "      <th>actor_3_facebook_likes content_rating_PG-13</th>\n",
       "      <th>actor_3_facebook_likes content_rating_R</th>\n",
       "      <th>actor_3_facebook_likes years_old</th>\n",
       "      <th>actor_1_facebook_likes^2</th>\n",
       "      <th>...</th>\n",
       "      <th>actor_1_facebook_likes color_Color</th>\n",
       "      <th>actor_1_facebook_likes content_rating_PG</th>\n",
       "      <th>actor_1_facebook_likes content_rating_PG-13</th>\n",
       "      <th>actor_1_facebook_likes content_rating_R</th>\n",
       "      <th>actor_1_facebook_likes years_old</th>\n",
       "      <th>cast_total_facebook_likes^2</th>\n",
       "      <th>cast_total_facebook_likes facenumber_in_poster</th>\n",
       "      <th>cast_total_facebook_likes budget</th>\n",
       "      <th>cast_total_facebook_likes actor_2_facebook_likes</th>\n",
       "      <th>cast_total_facebook_likes color_Color</th>\n",
       "      <th>cast_total_facebook_likes content_rating_PG</th>\n",
       "      <th>cast_total_facebook_likes content_rating_PG-13</th>\n",
       "      <th>cast_total_facebook_likes content_rating_R</th>\n",
       "      <th>cast_total_facebook_likes years_old</th>\n",
       "      <th>facenumber_in_poster^2</th>\n",
       "      <th>facenumber_in_poster budget</th>\n",
       "      <th>facenumber_in_poster actor_2_facebook_likes</th>\n",
       "      <th>facenumber_in_poster color_Color</th>\n",
       "      <th>facenumber_in_poster content_rating_PG</th>\n",
       "      <th>facenumber_in_poster content_rating_PG-13</th>\n",
       "      <th>facenumber_in_poster content_rating_R</th>\n",
       "      <th>facenumber_in_poster years_old</th>\n",
       "      <th>budget^2</th>\n",
       "      <th>budget actor_2_facebook_likes</th>\n",
       "      <th>budget color_Color</th>\n",
       "      <th>budget content_rating_PG</th>\n",
       "      <th>budget content_rating_PG-13</th>\n",
       "      <th>budget content_rating_R</th>\n",
       "      <th>budget years_old</th>\n",
       "      <th>actor_2_facebook_likes^2</th>\n",
       "      <th>actor_2_facebook_likes color_Color</th>\n",
       "      <th>actor_2_facebook_likes content_rating_PG</th>\n",
       "      <th>actor_2_facebook_likes content_rating_PG-13</th>\n",
       "      <th>actor_2_facebook_likes content_rating_R</th>\n",
       "      <th>actor_2_facebook_likes years_old</th>\n",
       "      <th>color_Color^2</th>\n",
       "      <th>color_Color content_rating_PG</th>\n",
       "      <th>color_Color content_rating_PG-13</th>\n",
       "      <th>color_Color content_rating_R</th>\n",
       "      <th>color_Color years_old</th>\n",
       "      <th>content_rating_PG^2</th>\n",
       "      <th>content_rating_PG content_rating_PG-13</th>\n",
       "      <th>content_rating_PG content_rating_R</th>\n",
       "      <th>content_rating_PG years_old</th>\n",
       "      <th>content_rating_PG-13^2</th>\n",
       "      <th>content_rating_PG-13 content_rating_R</th>\n",
       "      <th>content_rating_PG-13 years_old</th>\n",
       "      <th>content_rating_R^2</th>\n",
       "      <th>content_rating_R years_old</th>\n",
       "      <th>years_old^2</th>\n",
       "    </tr>\n",
       "  </thead>\n",
       "  <tbody>\n",
       "    <tr>\n",
       "      <th>0</th>\n",
       "      <td>178.0</td>\n",
       "      <td>0.0</td>\n",
       "      <td>855.0</td>\n",
       "      <td>1000.0</td>\n",
       "      <td>4834.0</td>\n",
       "      <td>0.0</td>\n",
       "      <td>237000000.0</td>\n",
       "      <td>1000.0</td>\n",
       "      <td>1.0</td>\n",
       "      <td>0.0</td>\n",
       "      <td>1.0</td>\n",
       "      <td>0.0</td>\n",
       "      <td>7.0</td>\n",
       "      <td>31684.0</td>\n",
       "      <td>0.0</td>\n",
       "      <td>152190.0</td>\n",
       "      <td>178000.0</td>\n",
       "      <td>860452.0</td>\n",
       "      <td>0.0</td>\n",
       "      <td>4.218600e+10</td>\n",
       "      <td>178000.0</td>\n",
       "      <td>178.0</td>\n",
       "      <td>0.0</td>\n",
       "      <td>178.0</td>\n",
       "      <td>0.0</td>\n",
       "      <td>1246.0</td>\n",
       "      <td>0.0</td>\n",
       "      <td>0.0</td>\n",
       "      <td>0.0</td>\n",
       "      <td>0.000000e+00</td>\n",
       "      <td>0.0</td>\n",
       "      <td>0.000000e+00</td>\n",
       "      <td>0.0</td>\n",
       "      <td>0.0</td>\n",
       "      <td>0.0</td>\n",
       "      <td>0.0</td>\n",
       "      <td>0.0</td>\n",
       "      <td>0.0</td>\n",
       "      <td>731025.0</td>\n",
       "      <td>855000.0</td>\n",
       "      <td>4.133070e+06</td>\n",
       "      <td>0.0</td>\n",
       "      <td>2.026350e+11</td>\n",
       "      <td>855000.0</td>\n",
       "      <td>855.0</td>\n",
       "      <td>0.0</td>\n",
       "      <td>855.0</td>\n",
       "      <td>0.0</td>\n",
       "      <td>5985.0</td>\n",
       "      <td>1.000000e+06</td>\n",
       "      <td>...</td>\n",
       "      <td>1000.0</td>\n",
       "      <td>0.0</td>\n",
       "      <td>1000.0</td>\n",
       "      <td>0.0</td>\n",
       "      <td>7000.0</td>\n",
       "      <td>2.336756e+07</td>\n",
       "      <td>0.0</td>\n",
       "      <td>1.145658e+12</td>\n",
       "      <td>4.834000e+06</td>\n",
       "      <td>4834.0</td>\n",
       "      <td>0.0</td>\n",
       "      <td>4834.0</td>\n",
       "      <td>0.0</td>\n",
       "      <td>33838.0</td>\n",
       "      <td>0.0</td>\n",
       "      <td>0.0</td>\n",
       "      <td>0.0</td>\n",
       "      <td>0.0</td>\n",
       "      <td>0.0</td>\n",
       "      <td>0.0</td>\n",
       "      <td>0.0</td>\n",
       "      <td>0.0</td>\n",
       "      <td>5.616900e+16</td>\n",
       "      <td>2.370000e+11</td>\n",
       "      <td>237000000.0</td>\n",
       "      <td>0.0</td>\n",
       "      <td>237000000.0</td>\n",
       "      <td>0.0</td>\n",
       "      <td>1.659000e+09</td>\n",
       "      <td>1.000000e+06</td>\n",
       "      <td>1000.0</td>\n",
       "      <td>0.0</td>\n",
       "      <td>1000.0</td>\n",
       "      <td>0.0</td>\n",
       "      <td>7000.0</td>\n",
       "      <td>1.0</td>\n",
       "      <td>0.0</td>\n",
       "      <td>1.0</td>\n",
       "      <td>0.0</td>\n",
       "      <td>7.0</td>\n",
       "      <td>0.0</td>\n",
       "      <td>0.0</td>\n",
       "      <td>0.0</td>\n",
       "      <td>0.0</td>\n",
       "      <td>1.0</td>\n",
       "      <td>0.0</td>\n",
       "      <td>7.0</td>\n",
       "      <td>0.0</td>\n",
       "      <td>0.0</td>\n",
       "      <td>49.0</td>\n",
       "    </tr>\n",
       "    <tr>\n",
       "      <th>1</th>\n",
       "      <td>169.0</td>\n",
       "      <td>563.0</td>\n",
       "      <td>1000.0</td>\n",
       "      <td>40000.0</td>\n",
       "      <td>48350.0</td>\n",
       "      <td>0.0</td>\n",
       "      <td>300000000.0</td>\n",
       "      <td>40000.0</td>\n",
       "      <td>1.0</td>\n",
       "      <td>0.0</td>\n",
       "      <td>1.0</td>\n",
       "      <td>0.0</td>\n",
       "      <td>9.0</td>\n",
       "      <td>28561.0</td>\n",
       "      <td>95147.0</td>\n",
       "      <td>169000.0</td>\n",
       "      <td>6760000.0</td>\n",
       "      <td>8171150.0</td>\n",
       "      <td>0.0</td>\n",
       "      <td>5.070000e+10</td>\n",
       "      <td>6760000.0</td>\n",
       "      <td>169.0</td>\n",
       "      <td>0.0</td>\n",
       "      <td>169.0</td>\n",
       "      <td>0.0</td>\n",
       "      <td>1521.0</td>\n",
       "      <td>316969.0</td>\n",
       "      <td>563000.0</td>\n",
       "      <td>22520000.0</td>\n",
       "      <td>2.722105e+07</td>\n",
       "      <td>0.0</td>\n",
       "      <td>1.689000e+11</td>\n",
       "      <td>22520000.0</td>\n",
       "      <td>563.0</td>\n",
       "      <td>0.0</td>\n",
       "      <td>563.0</td>\n",
       "      <td>0.0</td>\n",
       "      <td>5067.0</td>\n",
       "      <td>1000000.0</td>\n",
       "      <td>40000000.0</td>\n",
       "      <td>4.835000e+07</td>\n",
       "      <td>0.0</td>\n",
       "      <td>3.000000e+11</td>\n",
       "      <td>40000000.0</td>\n",
       "      <td>1000.0</td>\n",
       "      <td>0.0</td>\n",
       "      <td>1000.0</td>\n",
       "      <td>0.0</td>\n",
       "      <td>9000.0</td>\n",
       "      <td>1.600000e+09</td>\n",
       "      <td>...</td>\n",
       "      <td>40000.0</td>\n",
       "      <td>0.0</td>\n",
       "      <td>40000.0</td>\n",
       "      <td>0.0</td>\n",
       "      <td>360000.0</td>\n",
       "      <td>2.337722e+09</td>\n",
       "      <td>0.0</td>\n",
       "      <td>1.450500e+13</td>\n",
       "      <td>1.934000e+09</td>\n",
       "      <td>48350.0</td>\n",
       "      <td>0.0</td>\n",
       "      <td>48350.0</td>\n",
       "      <td>0.0</td>\n",
       "      <td>435150.0</td>\n",
       "      <td>0.0</td>\n",
       "      <td>0.0</td>\n",
       "      <td>0.0</td>\n",
       "      <td>0.0</td>\n",
       "      <td>0.0</td>\n",
       "      <td>0.0</td>\n",
       "      <td>0.0</td>\n",
       "      <td>0.0</td>\n",
       "      <td>9.000000e+16</td>\n",
       "      <td>1.200000e+13</td>\n",
       "      <td>300000000.0</td>\n",
       "      <td>0.0</td>\n",
       "      <td>300000000.0</td>\n",
       "      <td>0.0</td>\n",
       "      <td>2.700000e+09</td>\n",
       "      <td>1.600000e+09</td>\n",
       "      <td>40000.0</td>\n",
       "      <td>0.0</td>\n",
       "      <td>40000.0</td>\n",
       "      <td>0.0</td>\n",
       "      <td>360000.0</td>\n",
       "      <td>1.0</td>\n",
       "      <td>0.0</td>\n",
       "      <td>1.0</td>\n",
       "      <td>0.0</td>\n",
       "      <td>9.0</td>\n",
       "      <td>0.0</td>\n",
       "      <td>0.0</td>\n",
       "      <td>0.0</td>\n",
       "      <td>0.0</td>\n",
       "      <td>1.0</td>\n",
       "      <td>0.0</td>\n",
       "      <td>9.0</td>\n",
       "      <td>0.0</td>\n",
       "      <td>0.0</td>\n",
       "      <td>81.0</td>\n",
       "    </tr>\n",
       "    <tr>\n",
       "      <th>2</th>\n",
       "      <td>164.0</td>\n",
       "      <td>22000.0</td>\n",
       "      <td>23000.0</td>\n",
       "      <td>27000.0</td>\n",
       "      <td>106759.0</td>\n",
       "      <td>0.0</td>\n",
       "      <td>250000000.0</td>\n",
       "      <td>27000.0</td>\n",
       "      <td>1.0</td>\n",
       "      <td>0.0</td>\n",
       "      <td>1.0</td>\n",
       "      <td>0.0</td>\n",
       "      <td>4.0</td>\n",
       "      <td>26896.0</td>\n",
       "      <td>3608000.0</td>\n",
       "      <td>3772000.0</td>\n",
       "      <td>4428000.0</td>\n",
       "      <td>17508476.0</td>\n",
       "      <td>0.0</td>\n",
       "      <td>4.100000e+10</td>\n",
       "      <td>4428000.0</td>\n",
       "      <td>164.0</td>\n",
       "      <td>0.0</td>\n",
       "      <td>164.0</td>\n",
       "      <td>0.0</td>\n",
       "      <td>656.0</td>\n",
       "      <td>484000000.0</td>\n",
       "      <td>506000000.0</td>\n",
       "      <td>594000000.0</td>\n",
       "      <td>2.348698e+09</td>\n",
       "      <td>0.0</td>\n",
       "      <td>5.500000e+12</td>\n",
       "      <td>594000000.0</td>\n",
       "      <td>22000.0</td>\n",
       "      <td>0.0</td>\n",
       "      <td>22000.0</td>\n",
       "      <td>0.0</td>\n",
       "      <td>88000.0</td>\n",
       "      <td>529000000.0</td>\n",
       "      <td>621000000.0</td>\n",
       "      <td>2.455457e+09</td>\n",
       "      <td>0.0</td>\n",
       "      <td>5.750000e+12</td>\n",
       "      <td>621000000.0</td>\n",
       "      <td>23000.0</td>\n",
       "      <td>0.0</td>\n",
       "      <td>23000.0</td>\n",
       "      <td>0.0</td>\n",
       "      <td>92000.0</td>\n",
       "      <td>7.290000e+08</td>\n",
       "      <td>...</td>\n",
       "      <td>27000.0</td>\n",
       "      <td>0.0</td>\n",
       "      <td>27000.0</td>\n",
       "      <td>0.0</td>\n",
       "      <td>108000.0</td>\n",
       "      <td>1.139748e+10</td>\n",
       "      <td>0.0</td>\n",
       "      <td>2.668975e+13</td>\n",
       "      <td>2.882493e+09</td>\n",
       "      <td>106759.0</td>\n",
       "      <td>0.0</td>\n",
       "      <td>106759.0</td>\n",
       "      <td>0.0</td>\n",
       "      <td>427036.0</td>\n",
       "      <td>0.0</td>\n",
       "      <td>0.0</td>\n",
       "      <td>0.0</td>\n",
       "      <td>0.0</td>\n",
       "      <td>0.0</td>\n",
       "      <td>0.0</td>\n",
       "      <td>0.0</td>\n",
       "      <td>0.0</td>\n",
       "      <td>6.250000e+16</td>\n",
       "      <td>6.750000e+12</td>\n",
       "      <td>250000000.0</td>\n",
       "      <td>0.0</td>\n",
       "      <td>250000000.0</td>\n",
       "      <td>0.0</td>\n",
       "      <td>1.000000e+09</td>\n",
       "      <td>7.290000e+08</td>\n",
       "      <td>27000.0</td>\n",
       "      <td>0.0</td>\n",
       "      <td>27000.0</td>\n",
       "      <td>0.0</td>\n",
       "      <td>108000.0</td>\n",
       "      <td>1.0</td>\n",
       "      <td>0.0</td>\n",
       "      <td>1.0</td>\n",
       "      <td>0.0</td>\n",
       "      <td>4.0</td>\n",
       "      <td>0.0</td>\n",
       "      <td>0.0</td>\n",
       "      <td>0.0</td>\n",
       "      <td>0.0</td>\n",
       "      <td>1.0</td>\n",
       "      <td>0.0</td>\n",
       "      <td>4.0</td>\n",
       "      <td>0.0</td>\n",
       "      <td>0.0</td>\n",
       "      <td>16.0</td>\n",
       "    </tr>\n",
       "    <tr>\n",
       "      <th>3</th>\n",
       "      <td>132.0</td>\n",
       "      <td>475.0</td>\n",
       "      <td>530.0</td>\n",
       "      <td>640.0</td>\n",
       "      <td>1873.0</td>\n",
       "      <td>1.0</td>\n",
       "      <td>263700000.0</td>\n",
       "      <td>640.0</td>\n",
       "      <td>1.0</td>\n",
       "      <td>0.0</td>\n",
       "      <td>1.0</td>\n",
       "      <td>0.0</td>\n",
       "      <td>4.0</td>\n",
       "      <td>17424.0</td>\n",
       "      <td>62700.0</td>\n",
       "      <td>69960.0</td>\n",
       "      <td>84480.0</td>\n",
       "      <td>247236.0</td>\n",
       "      <td>132.0</td>\n",
       "      <td>3.480840e+10</td>\n",
       "      <td>84480.0</td>\n",
       "      <td>132.0</td>\n",
       "      <td>0.0</td>\n",
       "      <td>132.0</td>\n",
       "      <td>0.0</td>\n",
       "      <td>528.0</td>\n",
       "      <td>225625.0</td>\n",
       "      <td>251750.0</td>\n",
       "      <td>304000.0</td>\n",
       "      <td>8.896750e+05</td>\n",
       "      <td>475.0</td>\n",
       "      <td>1.252575e+11</td>\n",
       "      <td>304000.0</td>\n",
       "      <td>475.0</td>\n",
       "      <td>0.0</td>\n",
       "      <td>475.0</td>\n",
       "      <td>0.0</td>\n",
       "      <td>1900.0</td>\n",
       "      <td>280900.0</td>\n",
       "      <td>339200.0</td>\n",
       "      <td>9.926900e+05</td>\n",
       "      <td>530.0</td>\n",
       "      <td>1.397610e+11</td>\n",
       "      <td>339200.0</td>\n",
       "      <td>530.0</td>\n",
       "      <td>0.0</td>\n",
       "      <td>530.0</td>\n",
       "      <td>0.0</td>\n",
       "      <td>2120.0</td>\n",
       "      <td>4.096000e+05</td>\n",
       "      <td>...</td>\n",
       "      <td>640.0</td>\n",
       "      <td>0.0</td>\n",
       "      <td>640.0</td>\n",
       "      <td>0.0</td>\n",
       "      <td>2560.0</td>\n",
       "      <td>3.508129e+06</td>\n",
       "      <td>1873.0</td>\n",
       "      <td>4.939101e+11</td>\n",
       "      <td>1.198720e+06</td>\n",
       "      <td>1873.0</td>\n",
       "      <td>0.0</td>\n",
       "      <td>1873.0</td>\n",
       "      <td>0.0</td>\n",
       "      <td>7492.0</td>\n",
       "      <td>1.0</td>\n",
       "      <td>263700000.0</td>\n",
       "      <td>640.0</td>\n",
       "      <td>1.0</td>\n",
       "      <td>0.0</td>\n",
       "      <td>1.0</td>\n",
       "      <td>0.0</td>\n",
       "      <td>4.0</td>\n",
       "      <td>6.953769e+16</td>\n",
       "      <td>1.687680e+11</td>\n",
       "      <td>263700000.0</td>\n",
       "      <td>0.0</td>\n",
       "      <td>263700000.0</td>\n",
       "      <td>0.0</td>\n",
       "      <td>1.054800e+09</td>\n",
       "      <td>4.096000e+05</td>\n",
       "      <td>640.0</td>\n",
       "      <td>0.0</td>\n",
       "      <td>640.0</td>\n",
       "      <td>0.0</td>\n",
       "      <td>2560.0</td>\n",
       "      <td>1.0</td>\n",
       "      <td>0.0</td>\n",
       "      <td>1.0</td>\n",
       "      <td>0.0</td>\n",
       "      <td>4.0</td>\n",
       "      <td>0.0</td>\n",
       "      <td>0.0</td>\n",
       "      <td>0.0</td>\n",
       "      <td>0.0</td>\n",
       "      <td>1.0</td>\n",
       "      <td>0.0</td>\n",
       "      <td>4.0</td>\n",
       "      <td>0.0</td>\n",
       "      <td>0.0</td>\n",
       "      <td>16.0</td>\n",
       "    </tr>\n",
       "    <tr>\n",
       "      <th>4</th>\n",
       "      <td>156.0</td>\n",
       "      <td>0.0</td>\n",
       "      <td>4000.0</td>\n",
       "      <td>24000.0</td>\n",
       "      <td>46055.0</td>\n",
       "      <td>0.0</td>\n",
       "      <td>258000000.0</td>\n",
       "      <td>24000.0</td>\n",
       "      <td>1.0</td>\n",
       "      <td>0.0</td>\n",
       "      <td>1.0</td>\n",
       "      <td>0.0</td>\n",
       "      <td>9.0</td>\n",
       "      <td>24336.0</td>\n",
       "      <td>0.0</td>\n",
       "      <td>624000.0</td>\n",
       "      <td>3744000.0</td>\n",
       "      <td>7184580.0</td>\n",
       "      <td>0.0</td>\n",
       "      <td>4.024800e+10</td>\n",
       "      <td>3744000.0</td>\n",
       "      <td>156.0</td>\n",
       "      <td>0.0</td>\n",
       "      <td>156.0</td>\n",
       "      <td>0.0</td>\n",
       "      <td>1404.0</td>\n",
       "      <td>0.0</td>\n",
       "      <td>0.0</td>\n",
       "      <td>0.0</td>\n",
       "      <td>0.000000e+00</td>\n",
       "      <td>0.0</td>\n",
       "      <td>0.000000e+00</td>\n",
       "      <td>0.0</td>\n",
       "      <td>0.0</td>\n",
       "      <td>0.0</td>\n",
       "      <td>0.0</td>\n",
       "      <td>0.0</td>\n",
       "      <td>0.0</td>\n",
       "      <td>16000000.0</td>\n",
       "      <td>96000000.0</td>\n",
       "      <td>1.842200e+08</td>\n",
       "      <td>0.0</td>\n",
       "      <td>1.032000e+12</td>\n",
       "      <td>96000000.0</td>\n",
       "      <td>4000.0</td>\n",
       "      <td>0.0</td>\n",
       "      <td>4000.0</td>\n",
       "      <td>0.0</td>\n",
       "      <td>36000.0</td>\n",
       "      <td>5.760000e+08</td>\n",
       "      <td>...</td>\n",
       "      <td>24000.0</td>\n",
       "      <td>0.0</td>\n",
       "      <td>24000.0</td>\n",
       "      <td>0.0</td>\n",
       "      <td>216000.0</td>\n",
       "      <td>2.121063e+09</td>\n",
       "      <td>0.0</td>\n",
       "      <td>1.188219e+13</td>\n",
       "      <td>1.105320e+09</td>\n",
       "      <td>46055.0</td>\n",
       "      <td>0.0</td>\n",
       "      <td>46055.0</td>\n",
       "      <td>0.0</td>\n",
       "      <td>414495.0</td>\n",
       "      <td>0.0</td>\n",
       "      <td>0.0</td>\n",
       "      <td>0.0</td>\n",
       "      <td>0.0</td>\n",
       "      <td>0.0</td>\n",
       "      <td>0.0</td>\n",
       "      <td>0.0</td>\n",
       "      <td>0.0</td>\n",
       "      <td>6.656400e+16</td>\n",
       "      <td>6.192000e+12</td>\n",
       "      <td>258000000.0</td>\n",
       "      <td>0.0</td>\n",
       "      <td>258000000.0</td>\n",
       "      <td>0.0</td>\n",
       "      <td>2.322000e+09</td>\n",
       "      <td>5.760000e+08</td>\n",
       "      <td>24000.0</td>\n",
       "      <td>0.0</td>\n",
       "      <td>24000.0</td>\n",
       "      <td>0.0</td>\n",
       "      <td>216000.0</td>\n",
       "      <td>1.0</td>\n",
       "      <td>0.0</td>\n",
       "      <td>1.0</td>\n",
       "      <td>0.0</td>\n",
       "      <td>9.0</td>\n",
       "      <td>0.0</td>\n",
       "      <td>0.0</td>\n",
       "      <td>0.0</td>\n",
       "      <td>0.0</td>\n",
       "      <td>1.0</td>\n",
       "      <td>0.0</td>\n",
       "      <td>9.0</td>\n",
       "      <td>0.0</td>\n",
       "      <td>0.0</td>\n",
       "      <td>81.0</td>\n",
       "    </tr>\n",
       "  </tbody>\n",
       "</table>\n",
       "<p>5 rows × 104 columns</p>\n",
       "</div>"
      ],
      "text/plain": [
       "   duration  director_facebook_likes  actor_3_facebook_likes  \\\n",
       "0     178.0                      0.0                   855.0   \n",
       "1     169.0                    563.0                  1000.0   \n",
       "2     164.0                  22000.0                 23000.0   \n",
       "3     132.0                    475.0                   530.0   \n",
       "4     156.0                      0.0                  4000.0   \n",
       "\n",
       "   actor_1_facebook_likes  cast_total_facebook_likes  facenumber_in_poster  \\\n",
       "0                  1000.0                     4834.0                   0.0   \n",
       "1                 40000.0                    48350.0                   0.0   \n",
       "2                 27000.0                   106759.0                   0.0   \n",
       "3                   640.0                     1873.0                   1.0   \n",
       "4                 24000.0                    46055.0                   0.0   \n",
       "\n",
       "        budget  actor_2_facebook_likes  color_Color  content_rating_PG  \\\n",
       "0  237000000.0                  1000.0          1.0                0.0   \n",
       "1  300000000.0                 40000.0          1.0                0.0   \n",
       "2  250000000.0                 27000.0          1.0                0.0   \n",
       "3  263700000.0                   640.0          1.0                0.0   \n",
       "4  258000000.0                 24000.0          1.0                0.0   \n",
       "\n",
       "   content_rating_PG-13  content_rating_R  years_old  duration^2  \\\n",
       "0                   1.0               0.0        7.0     31684.0   \n",
       "1                   1.0               0.0        9.0     28561.0   \n",
       "2                   1.0               0.0        4.0     26896.0   \n",
       "3                   1.0               0.0        4.0     17424.0   \n",
       "4                   1.0               0.0        9.0     24336.0   \n",
       "\n",
       "   duration director_facebook_likes  duration actor_3_facebook_likes  \\\n",
       "0                               0.0                         152190.0   \n",
       "1                           95147.0                         169000.0   \n",
       "2                         3608000.0                        3772000.0   \n",
       "3                           62700.0                          69960.0   \n",
       "4                               0.0                         624000.0   \n",
       "\n",
       "   duration actor_1_facebook_likes  duration cast_total_facebook_likes  \\\n",
       "0                         178000.0                            860452.0   \n",
       "1                        6760000.0                           8171150.0   \n",
       "2                        4428000.0                          17508476.0   \n",
       "3                          84480.0                            247236.0   \n",
       "4                        3744000.0                           7184580.0   \n",
       "\n",
       "   duration facenumber_in_poster  duration budget  \\\n",
       "0                            0.0     4.218600e+10   \n",
       "1                            0.0     5.070000e+10   \n",
       "2                            0.0     4.100000e+10   \n",
       "3                          132.0     3.480840e+10   \n",
       "4                            0.0     4.024800e+10   \n",
       "\n",
       "   duration actor_2_facebook_likes  duration color_Color  \\\n",
       "0                         178000.0                 178.0   \n",
       "1                        6760000.0                 169.0   \n",
       "2                        4428000.0                 164.0   \n",
       "3                          84480.0                 132.0   \n",
       "4                        3744000.0                 156.0   \n",
       "\n",
       "   duration content_rating_PG  duration content_rating_PG-13  \\\n",
       "0                         0.0                          178.0   \n",
       "1                         0.0                          169.0   \n",
       "2                         0.0                          164.0   \n",
       "3                         0.0                          132.0   \n",
       "4                         0.0                          156.0   \n",
       "\n",
       "   duration content_rating_R  duration years_old  director_facebook_likes^2  \\\n",
       "0                        0.0              1246.0                        0.0   \n",
       "1                        0.0              1521.0                   316969.0   \n",
       "2                        0.0               656.0                484000000.0   \n",
       "3                        0.0               528.0                   225625.0   \n",
       "4                        0.0              1404.0                        0.0   \n",
       "\n",
       "   director_facebook_likes actor_3_facebook_likes  \\\n",
       "0                                             0.0   \n",
       "1                                        563000.0   \n",
       "2                                     506000000.0   \n",
       "3                                        251750.0   \n",
       "4                                             0.0   \n",
       "\n",
       "   director_facebook_likes actor_1_facebook_likes  \\\n",
       "0                                             0.0   \n",
       "1                                      22520000.0   \n",
       "2                                     594000000.0   \n",
       "3                                        304000.0   \n",
       "4                                             0.0   \n",
       "\n",
       "   director_facebook_likes cast_total_facebook_likes  \\\n",
       "0                                       0.000000e+00   \n",
       "1                                       2.722105e+07   \n",
       "2                                       2.348698e+09   \n",
       "3                                       8.896750e+05   \n",
       "4                                       0.000000e+00   \n",
       "\n",
       "   director_facebook_likes facenumber_in_poster  \\\n",
       "0                                           0.0   \n",
       "1                                           0.0   \n",
       "2                                           0.0   \n",
       "3                                         475.0   \n",
       "4                                           0.0   \n",
       "\n",
       "   director_facebook_likes budget  \\\n",
       "0                    0.000000e+00   \n",
       "1                    1.689000e+11   \n",
       "2                    5.500000e+12   \n",
       "3                    1.252575e+11   \n",
       "4                    0.000000e+00   \n",
       "\n",
       "   director_facebook_likes actor_2_facebook_likes  \\\n",
       "0                                             0.0   \n",
       "1                                      22520000.0   \n",
       "2                                     594000000.0   \n",
       "3                                        304000.0   \n",
       "4                                             0.0   \n",
       "\n",
       "   director_facebook_likes color_Color  \\\n",
       "0                                  0.0   \n",
       "1                                563.0   \n",
       "2                              22000.0   \n",
       "3                                475.0   \n",
       "4                                  0.0   \n",
       "\n",
       "   director_facebook_likes content_rating_PG  \\\n",
       "0                                        0.0   \n",
       "1                                        0.0   \n",
       "2                                        0.0   \n",
       "3                                        0.0   \n",
       "4                                        0.0   \n",
       "\n",
       "   director_facebook_likes content_rating_PG-13  \\\n",
       "0                                           0.0   \n",
       "1                                         563.0   \n",
       "2                                       22000.0   \n",
       "3                                         475.0   \n",
       "4                                           0.0   \n",
       "\n",
       "   director_facebook_likes content_rating_R  \\\n",
       "0                                       0.0   \n",
       "1                                       0.0   \n",
       "2                                       0.0   \n",
       "3                                       0.0   \n",
       "4                                       0.0   \n",
       "\n",
       "   director_facebook_likes years_old  actor_3_facebook_likes^2  \\\n",
       "0                                0.0                  731025.0   \n",
       "1                             5067.0                 1000000.0   \n",
       "2                            88000.0               529000000.0   \n",
       "3                             1900.0                  280900.0   \n",
       "4                                0.0                16000000.0   \n",
       "\n",
       "   actor_3_facebook_likes actor_1_facebook_likes  \\\n",
       "0                                       855000.0   \n",
       "1                                     40000000.0   \n",
       "2                                    621000000.0   \n",
       "3                                       339200.0   \n",
       "4                                     96000000.0   \n",
       "\n",
       "   actor_3_facebook_likes cast_total_facebook_likes  \\\n",
       "0                                      4.133070e+06   \n",
       "1                                      4.835000e+07   \n",
       "2                                      2.455457e+09   \n",
       "3                                      9.926900e+05   \n",
       "4                                      1.842200e+08   \n",
       "\n",
       "   actor_3_facebook_likes facenumber_in_poster  actor_3_facebook_likes budget  \\\n",
       "0                                          0.0                   2.026350e+11   \n",
       "1                                          0.0                   3.000000e+11   \n",
       "2                                          0.0                   5.750000e+12   \n",
       "3                                        530.0                   1.397610e+11   \n",
       "4                                          0.0                   1.032000e+12   \n",
       "\n",
       "   actor_3_facebook_likes actor_2_facebook_likes  \\\n",
       "0                                       855000.0   \n",
       "1                                     40000000.0   \n",
       "2                                    621000000.0   \n",
       "3                                       339200.0   \n",
       "4                                     96000000.0   \n",
       "\n",
       "   actor_3_facebook_likes color_Color  \\\n",
       "0                               855.0   \n",
       "1                              1000.0   \n",
       "2                             23000.0   \n",
       "3                               530.0   \n",
       "4                              4000.0   \n",
       "\n",
       "   actor_3_facebook_likes content_rating_PG  \\\n",
       "0                                       0.0   \n",
       "1                                       0.0   \n",
       "2                                       0.0   \n",
       "3                                       0.0   \n",
       "4                                       0.0   \n",
       "\n",
       "   actor_3_facebook_likes content_rating_PG-13  \\\n",
       "0                                        855.0   \n",
       "1                                       1000.0   \n",
       "2                                      23000.0   \n",
       "3                                        530.0   \n",
       "4                                       4000.0   \n",
       "\n",
       "   actor_3_facebook_likes content_rating_R  actor_3_facebook_likes years_old  \\\n",
       "0                                      0.0                            5985.0   \n",
       "1                                      0.0                            9000.0   \n",
       "2                                      0.0                           92000.0   \n",
       "3                                      0.0                            2120.0   \n",
       "4                                      0.0                           36000.0   \n",
       "\n",
       "   actor_1_facebook_likes^2  ...  actor_1_facebook_likes color_Color  \\\n",
       "0              1.000000e+06  ...                              1000.0   \n",
       "1              1.600000e+09  ...                             40000.0   \n",
       "2              7.290000e+08  ...                             27000.0   \n",
       "3              4.096000e+05  ...                               640.0   \n",
       "4              5.760000e+08  ...                             24000.0   \n",
       "\n",
       "   actor_1_facebook_likes content_rating_PG  \\\n",
       "0                                       0.0   \n",
       "1                                       0.0   \n",
       "2                                       0.0   \n",
       "3                                       0.0   \n",
       "4                                       0.0   \n",
       "\n",
       "   actor_1_facebook_likes content_rating_PG-13  \\\n",
       "0                                       1000.0   \n",
       "1                                      40000.0   \n",
       "2                                      27000.0   \n",
       "3                                        640.0   \n",
       "4                                      24000.0   \n",
       "\n",
       "   actor_1_facebook_likes content_rating_R  actor_1_facebook_likes years_old  \\\n",
       "0                                      0.0                            7000.0   \n",
       "1                                      0.0                          360000.0   \n",
       "2                                      0.0                          108000.0   \n",
       "3                                      0.0                            2560.0   \n",
       "4                                      0.0                          216000.0   \n",
       "\n",
       "   cast_total_facebook_likes^2  \\\n",
       "0                 2.336756e+07   \n",
       "1                 2.337722e+09   \n",
       "2                 1.139748e+10   \n",
       "3                 3.508129e+06   \n",
       "4                 2.121063e+09   \n",
       "\n",
       "   cast_total_facebook_likes facenumber_in_poster  \\\n",
       "0                                             0.0   \n",
       "1                                             0.0   \n",
       "2                                             0.0   \n",
       "3                                          1873.0   \n",
       "4                                             0.0   \n",
       "\n",
       "   cast_total_facebook_likes budget  \\\n",
       "0                      1.145658e+12   \n",
       "1                      1.450500e+13   \n",
       "2                      2.668975e+13   \n",
       "3                      4.939101e+11   \n",
       "4                      1.188219e+13   \n",
       "\n",
       "   cast_total_facebook_likes actor_2_facebook_likes  \\\n",
       "0                                      4.834000e+06   \n",
       "1                                      1.934000e+09   \n",
       "2                                      2.882493e+09   \n",
       "3                                      1.198720e+06   \n",
       "4                                      1.105320e+09   \n",
       "\n",
       "   cast_total_facebook_likes color_Color  \\\n",
       "0                                 4834.0   \n",
       "1                                48350.0   \n",
       "2                               106759.0   \n",
       "3                                 1873.0   \n",
       "4                                46055.0   \n",
       "\n",
       "   cast_total_facebook_likes content_rating_PG  \\\n",
       "0                                          0.0   \n",
       "1                                          0.0   \n",
       "2                                          0.0   \n",
       "3                                          0.0   \n",
       "4                                          0.0   \n",
       "\n",
       "   cast_total_facebook_likes content_rating_PG-13  \\\n",
       "0                                          4834.0   \n",
       "1                                         48350.0   \n",
       "2                                        106759.0   \n",
       "3                                          1873.0   \n",
       "4                                         46055.0   \n",
       "\n",
       "   cast_total_facebook_likes content_rating_R  \\\n",
       "0                                         0.0   \n",
       "1                                         0.0   \n",
       "2                                         0.0   \n",
       "3                                         0.0   \n",
       "4                                         0.0   \n",
       "\n",
       "   cast_total_facebook_likes years_old  facenumber_in_poster^2  \\\n",
       "0                              33838.0                     0.0   \n",
       "1                             435150.0                     0.0   \n",
       "2                             427036.0                     0.0   \n",
       "3                               7492.0                     1.0   \n",
       "4                             414495.0                     0.0   \n",
       "\n",
       "   facenumber_in_poster budget  facenumber_in_poster actor_2_facebook_likes  \\\n",
       "0                          0.0                                          0.0   \n",
       "1                          0.0                                          0.0   \n",
       "2                          0.0                                          0.0   \n",
       "3                  263700000.0                                        640.0   \n",
       "4                          0.0                                          0.0   \n",
       "\n",
       "   facenumber_in_poster color_Color  facenumber_in_poster content_rating_PG  \\\n",
       "0                               0.0                                     0.0   \n",
       "1                               0.0                                     0.0   \n",
       "2                               0.0                                     0.0   \n",
       "3                               1.0                                     0.0   \n",
       "4                               0.0                                     0.0   \n",
       "\n",
       "   facenumber_in_poster content_rating_PG-13  \\\n",
       "0                                        0.0   \n",
       "1                                        0.0   \n",
       "2                                        0.0   \n",
       "3                                        1.0   \n",
       "4                                        0.0   \n",
       "\n",
       "   facenumber_in_poster content_rating_R  facenumber_in_poster years_old  \\\n",
       "0                                    0.0                             0.0   \n",
       "1                                    0.0                             0.0   \n",
       "2                                    0.0                             0.0   \n",
       "3                                    0.0                             4.0   \n",
       "4                                    0.0                             0.0   \n",
       "\n",
       "       budget^2  budget actor_2_facebook_likes  budget color_Color  \\\n",
       "0  5.616900e+16                   2.370000e+11         237000000.0   \n",
       "1  9.000000e+16                   1.200000e+13         300000000.0   \n",
       "2  6.250000e+16                   6.750000e+12         250000000.0   \n",
       "3  6.953769e+16                   1.687680e+11         263700000.0   \n",
       "4  6.656400e+16                   6.192000e+12         258000000.0   \n",
       "\n",
       "   budget content_rating_PG  budget content_rating_PG-13  \\\n",
       "0                       0.0                  237000000.0   \n",
       "1                       0.0                  300000000.0   \n",
       "2                       0.0                  250000000.0   \n",
       "3                       0.0                  263700000.0   \n",
       "4                       0.0                  258000000.0   \n",
       "\n",
       "   budget content_rating_R  budget years_old  actor_2_facebook_likes^2  \\\n",
       "0                      0.0      1.659000e+09              1.000000e+06   \n",
       "1                      0.0      2.700000e+09              1.600000e+09   \n",
       "2                      0.0      1.000000e+09              7.290000e+08   \n",
       "3                      0.0      1.054800e+09              4.096000e+05   \n",
       "4                      0.0      2.322000e+09              5.760000e+08   \n",
       "\n",
       "   actor_2_facebook_likes color_Color  \\\n",
       "0                              1000.0   \n",
       "1                             40000.0   \n",
       "2                             27000.0   \n",
       "3                               640.0   \n",
       "4                             24000.0   \n",
       "\n",
       "   actor_2_facebook_likes content_rating_PG  \\\n",
       "0                                       0.0   \n",
       "1                                       0.0   \n",
       "2                                       0.0   \n",
       "3                                       0.0   \n",
       "4                                       0.0   \n",
       "\n",
       "   actor_2_facebook_likes content_rating_PG-13  \\\n",
       "0                                       1000.0   \n",
       "1                                      40000.0   \n",
       "2                                      27000.0   \n",
       "3                                        640.0   \n",
       "4                                      24000.0   \n",
       "\n",
       "   actor_2_facebook_likes content_rating_R  actor_2_facebook_likes years_old  \\\n",
       "0                                      0.0                            7000.0   \n",
       "1                                      0.0                          360000.0   \n",
       "2                                      0.0                          108000.0   \n",
       "3                                      0.0                            2560.0   \n",
       "4                                      0.0                          216000.0   \n",
       "\n",
       "   color_Color^2  color_Color content_rating_PG  \\\n",
       "0            1.0                            0.0   \n",
       "1            1.0                            0.0   \n",
       "2            1.0                            0.0   \n",
       "3            1.0                            0.0   \n",
       "4            1.0                            0.0   \n",
       "\n",
       "   color_Color content_rating_PG-13  color_Color content_rating_R  \\\n",
       "0                               1.0                           0.0   \n",
       "1                               1.0                           0.0   \n",
       "2                               1.0                           0.0   \n",
       "3                               1.0                           0.0   \n",
       "4                               1.0                           0.0   \n",
       "\n",
       "   color_Color years_old  content_rating_PG^2  \\\n",
       "0                    7.0                  0.0   \n",
       "1                    9.0                  0.0   \n",
       "2                    4.0                  0.0   \n",
       "3                    4.0                  0.0   \n",
       "4                    9.0                  0.0   \n",
       "\n",
       "   content_rating_PG content_rating_PG-13  content_rating_PG content_rating_R  \\\n",
       "0                                     0.0                                 0.0   \n",
       "1                                     0.0                                 0.0   \n",
       "2                                     0.0                                 0.0   \n",
       "3                                     0.0                                 0.0   \n",
       "4                                     0.0                                 0.0   \n",
       "\n",
       "   content_rating_PG years_old  content_rating_PG-13^2  \\\n",
       "0                          0.0                     1.0   \n",
       "1                          0.0                     1.0   \n",
       "2                          0.0                     1.0   \n",
       "3                          0.0                     1.0   \n",
       "4                          0.0                     1.0   \n",
       "\n",
       "   content_rating_PG-13 content_rating_R  content_rating_PG-13 years_old  \\\n",
       "0                                    0.0                             7.0   \n",
       "1                                    0.0                             9.0   \n",
       "2                                    0.0                             4.0   \n",
       "3                                    0.0                             4.0   \n",
       "4                                    0.0                             9.0   \n",
       "\n",
       "   content_rating_R^2  content_rating_R years_old  years_old^2  \n",
       "0                 0.0                         0.0         49.0  \n",
       "1                 0.0                         0.0         81.0  \n",
       "2                 0.0                         0.0         16.0  \n",
       "3                 0.0                         0.0         16.0  \n",
       "4                 0.0                         0.0         81.0  \n",
       "\n",
       "[5 rows x 104 columns]"
      ]
     },
     "execution_count": 58,
     "metadata": {},
     "output_type": "execute_result"
    }
   ],
   "source": [
    "poly_data = poly.fit_transform(df[features])\n",
    "\n",
    "\n",
    "poly_columns = poly.get_feature_names(features)\n",
    "\n",
    "df_poly = pd.DataFrame(poly_data, columns=poly_columns)\n",
    "\n",
    "df_poly.head()"
   ]
  },
  {
   "cell_type": "markdown",
   "metadata": {},
   "source": [
    "## Modeling \n",
    "\n",
    "\n",
    "Now that our data is cleaned up and prepared, we cna start the modeling process. First step is to do a train-test split so that we can evaluate the model after fitting it."
   ]
  },
  {
   "cell_type": "code",
   "execution_count": 59,
   "metadata": {},
   "outputs": [],
   "source": [
    "from sklearn.model_selection import train_test_split\n",
    "from sklearn.linear_model import LinearRegression\n",
    "from sklearn import metrics"
   ]
  },
  {
   "cell_type": "code",
   "execution_count": 60,
   "metadata": {},
   "outputs": [
    {
     "name": "stdout",
     "output_type": "stream",
     "text": [
      "Training set - Features:  (2300, 104) Target:  (2300,)\n",
      "Training set - Features:  (576, 104) Target:  (576,)\n"
     ]
    }
   ],
   "source": [
    "#call train_test_split on the data and capture the results\n",
    "X_train, X_test, y_train, y_test = train_test_split(df_poly, df['gross'], random_state=34,test_size=0.2)\n",
    "\n",
    "#check the shape of the results\n",
    "print(\"Training set - Features: \", X_train.shape, \"Target: \", y_train.shape)\n",
    "print(\"Training set - Features: \", X_test.shape, \"Target: \",y_test.shape)\n"
   ]
  },
  {
   "cell_type": "markdown",
   "metadata": {},
   "source": [
    "I'm going to use a LASSO model later so I want to scale my data. Remember to fit your scaler to the training data and then transform the test data."
   ]
  },
  {
   "cell_type": "code",
   "execution_count": 61,
   "metadata": {},
   "outputs": [],
   "source": [
    "from sklearn.preprocessing import StandardScaler\n",
    "\n",
    "scaler = StandardScaler()\n",
    "\n",
    "\n",
    "#fit and transform the training data\n",
    "X_train = pd.DataFrame(data=scaler.fit_transform(X_train), columns=df_poly.columns)\n",
    "\n",
    "#transform the testing dat\n",
    "X_test = pd.DataFrame(data=scaler.transform(X_test), columns=df_poly.columns)"
   ]
  },
  {
   "cell_type": "code",
   "execution_count": 62,
   "metadata": {},
   "outputs": [
    {
     "name": "stdout",
     "output_type": "stream",
     "text": [
      "Training Root Mean Squared Error: 52395762.500160664\n"
     ]
    }
   ],
   "source": [
    "# instantiate a linear regression object\n",
    "lm_2 = LinearRegression()\n",
    "\n",
    "#fit the linear regression to the data\n",
    "lm_2 = lm_2.fit(X_train, y_train)\n",
    "\n",
    "y_train_pred = lm_2.predict(X_train)\n",
    "\n",
    "train_rmse = np.sqrt(metrics.mean_squared_error(y_train, y_train_pred))\n",
    "\n",
    "\n",
    "print('Training Root Mean Squared Error:' , train_rmse)"
   ]
  },
  {
   "cell_type": "code",
   "execution_count": null,
   "metadata": {},
   "outputs": [],
   "source": []
  },
  {
   "cell_type": "code",
   "execution_count": 63,
   "metadata": {},
   "outputs": [
    {
     "data": {
      "text/plain": [
       "(array([  6.,   3.,   9.,  21.,  54., 113., 347., 729., 460., 244., 113.,\n",
       "         71.,  46.,  24.,  19.,  11.,   7.,   5.,   6.,   5.,   2.,   0.,\n",
       "          1.,   2.,   0.,   0.,   0.,   1.,   0.,   1.]),\n",
       " array([-1.82677163e+08, -1.60402563e+08, -1.38127963e+08, -1.15853363e+08,\n",
       "        -9.35787628e+07, -7.13041628e+07, -4.90295628e+07, -2.67549629e+07,\n",
       "        -4.48036288e+06,  1.77942371e+07,  4.00688371e+07,  6.23434371e+07,\n",
       "         8.46180371e+07,  1.06892637e+08,  1.29167237e+08,  1.51441837e+08,\n",
       "         1.73716437e+08,  1.95991037e+08,  2.18265637e+08,  2.40540237e+08,\n",
       "         2.62814837e+08,  2.85089437e+08,  3.07364037e+08,  3.29638637e+08,\n",
       "         3.51913237e+08,  3.74187837e+08,  3.96462437e+08,  4.18737037e+08,\n",
       "         4.41011637e+08,  4.63286237e+08,  4.85560837e+08]),\n",
       " <a list of 30 Patch objects>)"
      ]
     },
     "execution_count": 63,
     "metadata": {},
     "output_type": "execute_result"
    },
    {
     "data": {
      "image/png": "[encoded data removed]",
      "text/plain": [
       "<Figure size 432x288 with 1 Axes>"
      ]
     },
     "metadata": {
      "needs_background": "light"
     },
     "output_type": "display_data"
    }
   ],
   "source": [
    "residuals = (y_train- y_train_pred)\n",
    "\n",
    "plt.hist(residuals, bins=30)"
   ]
  },
  {
   "cell_type": "code",
   "execution_count": 64,
   "metadata": {},
   "outputs": [
    {
     "name": "stderr",
     "output_type": "stream",
     "text": [
      "/Users/browz/opt/anaconda3/envs/learn-env/lib/python3.6/site-packages/seaborn/_decorators.py:43: FutureWarning: Pass the following variables as keyword args: x, y. From version 0.12, the only valid positional argument will be `data`, and passing other arguments without an explicit keyword will result in an error or misinterpretation.\n",
      "  FutureWarning\n"
     ]
    },
    {
     "data": {
      "text/plain": [
       "<matplotlib.axes._subplots.AxesSubplot at 0x7fd5fa95b4a8>"
      ]
     },
     "execution_count": 64,
     "metadata": {},
     "output_type": "execute_result"
    },
    {
     "data": {
      "image/png": "[encoded data removed]",
      "text/plain": [
       "<Figure size 432x288 with 1 Axes>"
      ]
     },
     "metadata": {
      "needs_background": "light"
     },
     "output_type": "display_data"
    }
   ],
   "source": [
    "sns.residplot(y_train_pred, y_train, lowess=True, color=\"g\")"
   ]
  },
  {
   "cell_type": "markdown",
   "metadata": {},
   "source": [
    "### Feature Selection"
   ]
  },
  {
   "cell_type": "code",
   "execution_count": 74,
   "metadata": {},
   "outputs": [
    {
     "name": "stderr",
     "output_type": "stream",
     "text": [
      "/Users/browz/opt/anaconda3/envs/learn-env/lib/python3.6/site-packages/statsmodels/stats/outliers_influence.py:193: RuntimeWarning: divide by zero encountered in double_scalars\n",
      "  vif = 1. / (1. - r_squared_i)\n",
      "/Users/browz/opt/anaconda3/envs/learn-env/lib/python3.6/site-packages/statsmodels/regression/linear_model.py:1687: RuntimeWarning: invalid value encountered in double_scalars\n",
      "  return 1 - self.ssr/self.uncentered_tss\n"
     ]
    },
    {
     "data": {
      "text/html": [
       "<div>\n",
       "<style scoped>\n",
       "    .dataframe tbody tr th:only-of-type {\n",
       "        vertical-align: middle;\n",
       "    }\n",
       "\n",
       "    .dataframe tbody tr th {\n",
       "        vertical-align: top;\n",
       "    }\n",
       "\n",
       "    .dataframe thead th {\n",
       "        text-align: right;\n",
       "    }\n",
       "</style>\n",
       "<table border=\"1\" class=\"dataframe\">\n",
       "  <thead>\n",
       "    <tr style=\"text-align: right;\">\n",
       "      <th></th>\n",
       "      <th>VIF Factor</th>\n",
       "      <th>features</th>\n",
       "    </tr>\n",
       "  </thead>\n",
       "  <tbody>\n",
       "    <tr>\n",
       "      <th>0</th>\n",
       "      <td>27.2</td>\n",
       "      <td>duration</td>\n",
       "    </tr>\n",
       "    <tr>\n",
       "      <th>1</th>\n",
       "      <td>1.2</td>\n",
       "      <td>director_facebook_likes</td>\n",
       "    </tr>\n",
       "    <tr>\n",
       "      <th>2</th>\n",
       "      <td>1.9</td>\n",
       "      <td>actor_3_facebook_likes</td>\n",
       "    </tr>\n",
       "    <tr>\n",
       "      <th>3</th>\n",
       "      <td>46.3</td>\n",
       "      <td>actor_1_facebook_likes</td>\n",
       "    </tr>\n",
       "    <tr>\n",
       "      <th>4</th>\n",
       "      <td>9.0</td>\n",
       "      <td>cast_total_facebook_likes</td>\n",
       "    </tr>\n",
       "    <tr>\n",
       "      <th>5</th>\n",
       "      <td>1.5</td>\n",
       "      <td>facenumber_in_poster</td>\n",
       "    </tr>\n",
       "    <tr>\n",
       "      <th>6</th>\n",
       "      <td>2.9</td>\n",
       "      <td>budget</td>\n",
       "    </tr>\n",
       "    <tr>\n",
       "      <th>7</th>\n",
       "      <td>35.6</td>\n",
       "      <td>actor_2_facebook_likes</td>\n",
       "    </tr>\n",
       "    <tr>\n",
       "      <th>8</th>\n",
       "      <td>24.2</td>\n",
       "      <td>color_Color</td>\n",
       "    </tr>\n",
       "    <tr>\n",
       "      <th>9</th>\n",
       "      <td>5.2</td>\n",
       "      <td>content_rating_PG</td>\n",
       "    </tr>\n",
       "    <tr>\n",
       "      <th>10</th>\n",
       "      <td>11.6</td>\n",
       "      <td>content_rating_PG-13</td>\n",
       "    </tr>\n",
       "    <tr>\n",
       "      <th>11</th>\n",
       "      <td>12.8</td>\n",
       "      <td>content_rating_R</td>\n",
       "    </tr>\n",
       "    <tr>\n",
       "      <th>12</th>\n",
       "      <td>3.6</td>\n",
       "      <td>years_old</td>\n",
       "    </tr>\n",
       "  </tbody>\n",
       "</table>\n",
       "</div>"
      ],
      "text/plain": [
       "    VIF Factor                   features\n",
       "0         27.2                   duration\n",
       "1          1.2    director_facebook_likes\n",
       "2          1.9     actor_3_facebook_likes\n",
       "3         46.3     actor_1_facebook_likes\n",
       "4          9.0  cast_total_facebook_likes\n",
       "5          1.5       facenumber_in_poster\n",
       "6          2.9                     budget\n",
       "7         35.6     actor_2_facebook_likes\n",
       "8         24.2                color_Color\n",
       "9          5.2          content_rating_PG\n",
       "10        11.6       content_rating_PG-13\n",
       "11        12.8           content_rating_R\n",
       "12         3.6                  years_old"
      ]
     },
     "execution_count": 74,
     "metadata": {},
     "output_type": "execute_result"
    }
   ],
   "source": [
    "from statsmodels.stats.outliers_influence import variance_inflation_factor\n",
    "\n",
    "\n",
    "[variance_inflation_factor(X_train.values, i) for i in range(X_train.shape[1])]\n",
    "\n",
    "vif = pd.DataFrame()\n",
    "vif[\"VIF Factor\"] = [variance_inflation_factor(df[features].values, i) for i in range(df[features].shape[1])]\n",
    "vif[\"features\"] = df[features].columns\n",
    "vif.round(1)"
   ]
  },
  {
   "cell_type": "code",
   "execution_count": 75,
   "metadata": {},
   "outputs": [
    {
     "data": {
      "text/plain": [
       "RFECV(cv=7,\n",
       "      estimator=LinearRegression(copy_X=True, fit_intercept=True, n_jobs=None,\n",
       "                                 normalize=False),\n",
       "      min_features_to_select=1, n_jobs=-1, scoring='neg_mean_squared_error',\n",
       "      step=1, verbose=0)"
      ]
     },
     "execution_count": 75,
     "metadata": {},
     "output_type": "execute_result"
    }
   ],
   "source": [
    "from sklearn.feature_selection import RFECV\n",
    "\n",
    "ols = LinearRegression()\n",
    "\n",
    "# Create recursive feature eliminator that scores features by mean squared errors\n",
    "selector = RFECV(estimator=ols, step=1, cv=7, scoring='neg_mean_squared_error', n_jobs=-1)\n",
    "\n",
    "# Fit recursive feature eliminator \n",
    "selector.fit(X_train, y_train)"
   ]
  },
  {
   "cell_type": "code",
   "execution_count": 76,
   "metadata": {},
   "outputs": [],
   "source": [
    "selected_rfe = X_train.columns[selector.support_]\n",
    "removed_rfe = X_train.columns[~selector.support_]"
   ]
  },
  {
   "cell_type": "code",
   "execution_count": 77,
   "metadata": {},
   "outputs": [
    {
     "data": {
      "text/plain": [
       "15"
      ]
     },
     "execution_count": 77,
     "metadata": {},
     "output_type": "execute_result"
    }
   ],
   "source": [
    "list(removed_rfe)\n",
    "\n",
    "len(list(selected_rfe))"
   ]
  },
  {
   "cell_type": "code",
   "execution_count": 78,
   "metadata": {},
   "outputs": [
    {
     "data": {
      "text/plain": [
       "Index(['director_facebook_likes', 'cast_total_facebook_likes',\n",
       "       'duration cast_total_facebook_likes', 'duration budget',\n",
       "       'duration actor_2_facebook_likes',\n",
       "       'director_facebook_likes content_rating_PG',\n",
       "       'director_facebook_likes content_rating_PG-13',\n",
       "       'director_facebook_likes content_rating_R',\n",
       "       'actor_1_facebook_likes content_rating_PG-13',\n",
       "       'actor_1_facebook_likes content_rating_R',\n",
       "       'cast_total_facebook_likes color_Color',\n",
       "       'cast_total_facebook_likes content_rating_PG',\n",
       "       'cast_total_facebook_likes content_rating_PG-13',\n",
       "       'cast_total_facebook_likes content_rating_R',\n",
       "       'actor_2_facebook_likes content_rating_PG-13'],\n",
       "      dtype='object')"
      ]
     },
     "execution_count": 78,
     "metadata": {},
     "output_type": "execute_result"
    }
   ],
   "source": [
    "selected_rfe"
   ]
  },
  {
   "cell_type": "markdown",
   "metadata": {},
   "source": [
    "Now let's use those selected features to fit a model."
   ]
  },
  {
   "cell_type": "code",
   "execution_count": 79,
   "metadata": {},
   "outputs": [
    {
     "name": "stdout",
     "output_type": "stream",
     "text": [
      "Training Root Mean Squared Error: 55513890.259800956\n",
      "Testing Root Mean Squared Error: 55188742.18546332\n"
     ]
    }
   ],
   "source": [
    "#instantiate a linear regression object\n",
    "lm_rfe = LinearRegression()\n",
    "\n",
    "#fit the linear regression to the data\n",
    "lm_rfe = lm_rfe.fit(X_train[selected_rfe], y_train)\n",
    "\n",
    "y_rfe = lm_rfe.predict(X_train[selected_rfe])\n",
    "\n",
    "\n",
    "trainRFE_rmse = np.sqrt(metrics.mean_squared_error(y_train, y_rfe))\n",
    "\n",
    "\n",
    "print('Training Root Mean Squared Error:' , trainRFE_rmse)\n",
    "\n",
    "y_pred_rfe = lm_rfe.predict(X_test[selected_rfe])\n",
    "\n",
    "testRFE_rmse = np.sqrt(metrics.mean_squared_error(y_test, y_pred_rfe))\n",
    "\n",
    "print('Testing Root Mean Squared Error:' , testRFE_rmse)"
   ]
  },
  {
   "cell_type": "code",
   "execution_count": 93,
   "metadata": {},
   "outputs": [
    {
     "name": "stderr",
     "output_type": "stream",
     "text": [
      "/Users/browz/opt/anaconda3/envs/learn-env/lib/python3.6/site-packages/sklearn/feature_selection/univariate_selection.py:299: RuntimeWarning: invalid value encountered in true_divide\n",
      "  corr /= X_norms\n"
     ]
    },
    {
     "data": {
      "text/plain": [
       "SelectKBest(k=20, score_func=<function f_regression at 0x7fd5fb7bc8c8>)"
      ]
     },
     "execution_count": 93,
     "metadata": {},
     "output_type": "execute_result"
    }
   ],
   "source": [
    "from sklearn.feature_selection import SelectKBest, f_regression,mutual_info_regression\n",
    "\n",
    "selector = SelectKBest(f_regression, k=20)\n",
    "\n",
    "selector.fit(X_train, y_train)"
   ]
  },
  {
   "cell_type": "code",
   "execution_count": 94,
   "metadata": {},
   "outputs": [],
   "source": [
    "selected_columns = X_train.columns[selector.get_support()]\n",
    "removed_columns = X_train.columns[~selector.get_support()]"
   ]
  },
  {
   "cell_type": "code",
   "execution_count": 96,
   "metadata": {},
   "outputs": [
    {
     "name": "stdout",
     "output_type": "stream",
     "text": [
      "Training Error: 36242741.54784677\n",
      "Testing Error: 63749199.056364514\n"
     ]
    },
    {
     "name": "stderr",
     "output_type": "stream",
     "text": [
      "/Users/browz/opt/anaconda3/envs/learn-env/lib/python3.6/site-packages/sklearn/linear_model/coordinate_descent.py:475: ConvergenceWarning: Objective did not converge. You might want to increase the number of iterations. Duality gap: 3.344014513759189e+18, tolerance: 1287379274378923.2\n",
      "  positive)\n"
     ]
    }
   ],
   "source": [
    "## training the model\n",
    "from sklearn.linear_model import Lasso\n",
    "\n",
    "lasso = Lasso(alpha=100, normalize=False)\n",
    "\n",
    "lasso.fit(X_train[selected_columns],y_train)\n",
    "\n",
    "y_train_pred_lasso = lasso.predict(X_train[selected_columns])\n",
    "y_pred_lasso = lasso.predict(X_test[selected_columns])\n",
    "\n",
    "train_rmse_lasso01 = metrics.mean_absolute_error(y_train, y_train_pred_lasso)\n",
    "test_rmse_lasso01 = np.sqrt(metrics.mean_squared_error(y_test, y_pred_lasso))\n",
    "print('Training Error: '+ str(train_rmse_lasso01) )\n",
    "print('Testing Error: '+ str(test_rmse_lasso01) )\n",
    "\n"
   ]
  },
  {
   "cell_type": "code",
   "execution_count": null,
   "metadata": {},
   "outputs": [],
   "source": []
  },
  {
   "cell_type": "code",
   "execution_count": null,
   "metadata": {},
   "outputs": [],
   "source": []
  },
  {
   "cell_type": "code",
   "execution_count": null,
   "metadata": {},
   "outputs": [],
   "source": []
  },
  {
   "cell_type": "code",
   "execution_count": null,
   "metadata": {},
   "outputs": [],
   "source": []
  },
  {
   "cell_type": "code",
   "execution_count": null,
   "metadata": {},
   "outputs": [],
   "source": []
  },
  {
   "cell_type": "code",
   "execution_count": null,
   "metadata": {},
   "outputs": [],
   "source": []
  },
  {
   "cell_type": "code",
   "execution_count": null,
   "metadata": {},
   "outputs": [],
   "source": []
  },
  {
   "cell_type": "code",
   "execution_count": null,
   "metadata": {},
   "outputs": [],
   "source": []
  },
  {
   "cell_type": "code",
   "execution_count": null,
   "metadata": {},
   "outputs": [],
   "source": []
  },
  {
   "cell_type": "code",
   "execution_count": null,
   "metadata": {},
   "outputs": [],
   "source": []
  },
  {
   "cell_type": "code",
   "execution_count": null,
   "metadata": {},
   "outputs": [],
   "source": []
  },
  {
   "cell_type": "code",
   "execution_count": null,
   "metadata": {},
   "outputs": [],
   "source": []
  },
  {
   "cell_type": "code",
   "execution_count": null,
   "metadata": {},
   "outputs": [],
   "source": []
  }
 ],
 "metadata": {
  "kernelspec": {
   "display_name": "Python 3",
   "language": "python",
   "name": "python3"
  },
  "language_info": {
   "codemirror_mode": {
    "name": "ipython",
    "version": 3
   },
   "file_extension": ".py",
   "mimetype": "text/x-python",
   "name": "python",
   "nbconvert_exporter": "python",
   "pygments_lexer": "ipython3",
   "version": "3.6.9"
  },
  "toc": {
   "base_numbering": 1,
   "nav_menu": {},
   "number_sections": true,
   "sideBar": true,
   "skip_h1_title": false,
   "title_cell": "Table of Contents",
   "title_sidebar": "Contents",
   "toc_cell": false,
   "toc_position": {},
   "toc_section_display": true,
   "toc_window_display": false
  }
 },
 "nbformat": 4,
 "nbformat_minor": 2
}
